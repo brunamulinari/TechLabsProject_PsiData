{
  "nbformat": 4,
  "nbformat_minor": 0,
  "metadata": {
    "colab": {
      "name": "suicidios_saudemental_OMS.ipynb",
      "provenance": [],
      "collapsed_sections": [],
      "toc_visible": true,
      "authorship_tag": "ABX9TyM/NMyvTbohj5jO5vz8+7Kw",
      "include_colab_link": true
    },
    "kernelspec": {
      "name": "python3",
      "display_name": "Python 3"
    },
    "language_info": {
      "name": "python"
    }
  },
  "cells": [
    {
      "cell_type": "markdown",
      "metadata": {
        "id": "view-in-github",
        "colab_type": "text"
      },
      "source": [
        "<a href=\"https://colab.research.google.com/github/brunamulinari/TechLabsProject_PsiData/blob/main/suicidios_saudemental_OMS.ipynb\" target=\"_parent\"><img src=\"https://colab.research.google.com/assets/colab-badge.svg\" alt=\"Open In Colab\"/></a>"
      ]
    },
    {
      "cell_type": "markdown",
      "metadata": {
        "id": "EikBSQoFa_q4"
      },
      "source": [
        "**Dados da OMS sobre suicídio por países - de 2000 a 2020**"
      ]
    },
    {
      "cell_type": "markdown",
      "metadata": {
        "id": "oCpLddAgBo-H"
      },
      "source": [
        "# Dados da OMS sobre suicídio por países - de 2000 a 2019\n"
      ]
    },
    {
      "cell_type": "markdown",
      "metadata": {
        "id": "IZZI_TerBs7Z"
      },
      "source": [
        ""
      ]
    },
    {
      "cell_type": "code",
      "metadata": {
        "id": "UWksBV0hbXd8"
      },
      "source": [
        "#Bibliotecas utilizadas\n",
        "import pandas as pd\n",
        "import numpy as np"
      ],
      "execution_count": null,
      "outputs": []
    },
    {
      "cell_type": "code",
      "metadata": {
        "id": "VN3T06J0cl_B"
      },
      "source": [
        "#Importando base de dados .csv da OMS sobre a taxa de suicídios dos países do ano 2000 até 2020 \n",
        "\n",
        "#até aprender a usar a API:\n",
        "  #1 - subir os arquivos na lateral esquerda do google Colab\n",
        "  #2 - ou buscar outra forma de puxar os arquivos, através de um link do google drive\n",
        "\n",
        "suic00_20 = pd.read_csv('OMS-taxas-suicidio-paises-2000_2020.csv', header=1)\n",
        "#df = pd.read_csv('dados.csv', sep=';', names=['nome_completo', 'idade'], header=0)\n"
      ],
      "execution_count": null,
      "outputs": []
    },
    {
      "cell_type": "code",
      "metadata": {
        "colab": {
          "base_uri": "https://localhost:8080/",
          "height": 391
        },
        "id": "yOhi8RTSgHcW",
        "outputId": "6262c396-9464-4d98-d762-84a4f73eae4b"
      },
      "source": [
        "#Exibindo as 5 primeiras linhas\n",
        "\n",
        "suic00_20.head()"
      ],
      "execution_count": null,
      "outputs": [
        {
          "output_type": "execute_result",
          "data": {
            "text/html": [
              "<div>\n",
              "<style scoped>\n",
              "    .dataframe tbody tr th:only-of-type {\n",
              "        vertical-align: middle;\n",
              "    }\n",
              "\n",
              "    .dataframe tbody tr th {\n",
              "        vertical-align: top;\n",
              "    }\n",
              "\n",
              "    .dataframe thead th {\n",
              "        text-align: right;\n",
              "    }\n",
              "</style>\n",
              "<table border=\"1\" class=\"dataframe\">\n",
              "  <thead>\n",
              "    <tr style=\"text-align: right;\">\n",
              "      <th></th>\n",
              "      <th>Country</th>\n",
              "      <th>Sex</th>\n",
              "      <th>2019</th>\n",
              "      <th>2018</th>\n",
              "      <th>2017</th>\n",
              "      <th>2016</th>\n",
              "      <th>2015</th>\n",
              "      <th>2014</th>\n",
              "      <th>2013</th>\n",
              "      <th>2012</th>\n",
              "      <th>2011</th>\n",
              "      <th>2010</th>\n",
              "      <th>2009</th>\n",
              "      <th>2008</th>\n",
              "      <th>2007</th>\n",
              "      <th>2006</th>\n",
              "      <th>2005</th>\n",
              "      <th>2004</th>\n",
              "      <th>2003</th>\n",
              "      <th>2002</th>\n",
              "      <th>2001</th>\n",
              "      <th>2000</th>\n",
              "    </tr>\n",
              "  </thead>\n",
              "  <tbody>\n",
              "    <tr>\n",
              "      <th>0</th>\n",
              "      <td>Afghanistan</td>\n",
              "      <td>Both sexes</td>\n",
              "      <td>4.1 [2.3-7.0]</td>\n",
              "      <td>4.1 [2.3-6.8]</td>\n",
              "      <td>4.1 [2.3-6.8]</td>\n",
              "      <td>4.0 [2.3-6.7]</td>\n",
              "      <td>4.0 [2.3-6.6]</td>\n",
              "      <td>3.9 [2.3-6.6]</td>\n",
              "      <td>4.0 [2.3-6.7]</td>\n",
              "      <td>4.0 [2.3-6.6]</td>\n",
              "      <td>4.1 [2.4-6.8]</td>\n",
              "      <td>4.3 [2.5-7.0]</td>\n",
              "      <td>4.4 [2.6-7.2]</td>\n",
              "      <td>4.6 [2.7-7.6]</td>\n",
              "      <td>4.8 [2.8-7.9]</td>\n",
              "      <td>4.9 [2.8-8.0]</td>\n",
              "      <td>5.0 [2.9-8.1]</td>\n",
              "      <td>5.0 [2.9-8.2]</td>\n",
              "      <td>5.0 [2.8-8.1]</td>\n",
              "      <td>5.0 [2.9-8.2]</td>\n",
              "      <td>5.0 [2.9-8.2]</td>\n",
              "      <td>4.9 [2.8-8.0]</td>\n",
              "    </tr>\n",
              "    <tr>\n",
              "      <th>1</th>\n",
              "      <td>Afghanistan</td>\n",
              "      <td>Male</td>\n",
              "      <td>4.6 [2.6-7.9]</td>\n",
              "      <td>4.6 [2.6-7.8]</td>\n",
              "      <td>4.6 [2.7-7.9]</td>\n",
              "      <td>4.4 [2.6-7.4]</td>\n",
              "      <td>4.3 [2.5-7.3]</td>\n",
              "      <td>4.2 [2.5-7.2]</td>\n",
              "      <td>4.3 [2.5-7.4]</td>\n",
              "      <td>4.3 [2.5-7.3]</td>\n",
              "      <td>4.5 [2.6-7.5]</td>\n",
              "      <td>4.6 [2.7-7.7]</td>\n",
              "      <td>4.8 [2.8-8.0]</td>\n",
              "      <td>5.1 [2.9-8.4]</td>\n",
              "      <td>5.3 [3.0-8.8]</td>\n",
              "      <td>5.4 [3.1-8.8]</td>\n",
              "      <td>5.4 [3.1-8.9]</td>\n",
              "      <td>5.4 [3.1-8.9]</td>\n",
              "      <td>5.3 [3.0-8.7]</td>\n",
              "      <td>5.4 [3.0-8.9]</td>\n",
              "      <td>5.2 [2.9-8.7]</td>\n",
              "      <td>5.0 [2.8-8.3]</td>\n",
              "    </tr>\n",
              "    <tr>\n",
              "      <th>2</th>\n",
              "      <td>Afghanistan</td>\n",
              "      <td>Female</td>\n",
              "      <td>3.6 [2.0-5.9]</td>\n",
              "      <td>3.5 [2.0-5.8]</td>\n",
              "      <td>3.4 [2.0-5.7]</td>\n",
              "      <td>3.6 [2.1-5.9]</td>\n",
              "      <td>3.6 [2.0-5.9]</td>\n",
              "      <td>3.6 [2.1-5.9]</td>\n",
              "      <td>3.7 [2.1-6.0]</td>\n",
              "      <td>3.7 [2.2-6.0]</td>\n",
              "      <td>3.8 [2.2-6.1]</td>\n",
              "      <td>3.9 [2.3-6.2]</td>\n",
              "      <td>4.0 [2.3-6.4]</td>\n",
              "      <td>4.2 [2.4-6.7]</td>\n",
              "      <td>4.3 [2.5-6.9]</td>\n",
              "      <td>4.4 [2.6-7.1]</td>\n",
              "      <td>4.5 [2.6-7.3]</td>\n",
              "      <td>4.6 [2.7-7.5]</td>\n",
              "      <td>4.6 [2.7-7.4]</td>\n",
              "      <td>4.6 [2.7-7.5]</td>\n",
              "      <td>4.8 [2.8-7.8]</td>\n",
              "      <td>4.8 [2.8-7.7]</td>\n",
              "    </tr>\n",
              "    <tr>\n",
              "      <th>3</th>\n",
              "      <td>Albania</td>\n",
              "      <td>Both sexes</td>\n",
              "      <td>4.3 [2.4-6.7]</td>\n",
              "      <td>4.5 [2.5-6.9]</td>\n",
              "      <td>4.7 [2.6-7.1]</td>\n",
              "      <td>4.7 [2.6-7.1]</td>\n",
              "      <td>4.8 [2.6-7.2]</td>\n",
              "      <td>5.0 [2.7-7.4]</td>\n",
              "      <td>5.3 [3.0-7.7]</td>\n",
              "      <td>5.2 [2.9-7.5]</td>\n",
              "      <td>7.9 [4.8-11.1]</td>\n",
              "      <td>7.8 [4.7-10.8]</td>\n",
              "      <td>8.1 [4.9-11.0]</td>\n",
              "      <td>8.2 [5.0-10.9]</td>\n",
              "      <td>8.1 [5.0-10.7]</td>\n",
              "      <td>7.8 [4.9-10.2]</td>\n",
              "      <td>7.5 [4.8-9.7]</td>\n",
              "      <td>4.8 [3.1-6.3]</td>\n",
              "      <td>4.8 [3.2-6.3]</td>\n",
              "      <td>4.6 [3.1-6.0]</td>\n",
              "      <td>4.5 [3.1-5.9]</td>\n",
              "      <td>4.9 [3.4-6.4]</td>\n",
              "    </tr>\n",
              "    <tr>\n",
              "      <th>4</th>\n",
              "      <td>Albania</td>\n",
              "      <td>Male</td>\n",
              "      <td>5.9 [3.1-9.3]</td>\n",
              "      <td>6.2 [3.2-9.6]</td>\n",
              "      <td>6.3 [3.3-9.9]</td>\n",
              "      <td>6.3 [3.2-9.7]</td>\n",
              "      <td>6.3 [3.2-9.6]</td>\n",
              "      <td>6.6 [3.4-10.0]</td>\n",
              "      <td>6.9 [3.5-10.3]</td>\n",
              "      <td>6.9 [3.5-10.1]</td>\n",
              "      <td>7.5 [3.9-10.7]</td>\n",
              "      <td>9.5 [5.0-13.4]</td>\n",
              "      <td>10.2 [5.3-14.0]</td>\n",
              "      <td>10.3 [5.5-14.0]</td>\n",
              "      <td>10.3 [5.6-13.9]</td>\n",
              "      <td>9.8 [5.4-13.0]</td>\n",
              "      <td>9.7 [5.5-12.8]</td>\n",
              "      <td>6.5 [3.8-8.5]</td>\n",
              "      <td>6.4 [3.8-8.3]</td>\n",
              "      <td>6.2 [3.9-8.1]</td>\n",
              "      <td>6.1 [3.9-8.0]</td>\n",
              "      <td>7.0 [4.6-9.2]</td>\n",
              "    </tr>\n",
              "  </tbody>\n",
              "</table>\n",
              "</div>"
            ],
            "text/plain": [
              "       Country         Sex  ...           2001           2000\n",
              "0  Afghanistan  Both sexes  ...  5.0 [2.9-8.2]  4.9 [2.8-8.0]\n",
              "1  Afghanistan        Male  ...  5.2 [2.9-8.7]  5.0 [2.8-8.3]\n",
              "2  Afghanistan      Female  ...  4.8 [2.8-7.8]  4.8 [2.8-7.7]\n",
              "3      Albania  Both sexes  ...  4.5 [3.1-5.9]  4.9 [3.4-6.4]\n",
              "4      Albania        Male  ...  6.1 [3.9-8.0]  7.0 [4.6-9.2]\n",
              "\n",
              "[5 rows x 22 columns]"
            ]
          },
          "metadata": {
            "tags": []
          },
          "execution_count": 15
        }
      ]
    },
    {
      "cell_type": "code",
      "metadata": {
        "colab": {
          "base_uri": "https://localhost:8080/",
          "height": 135
        },
        "id": "28zoWpnM2d_9",
        "outputId": "44bb5a11-b12a-49a2-d221-7948b2b086f4"
      },
      "source": [
        "#tentativa de excluir os dados entre colchetes '[]' das variáveis\n",
        "\n",
        "#result = string.rstrip('/')\n",
        "suic00_20 = 2019.rstrip('[')\n",
        "suic00_20.head()"
      ],
      "execution_count": null,
      "outputs": [
        {
          "output_type": "error",
          "ename": "SyntaxError",
          "evalue": "ignored",
          "traceback": [
            "\u001b[0;36m  File \u001b[0;32m\"<ipython-input-22-6554a65eb723>\"\u001b[0;36m, line \u001b[0;32m4\u001b[0m\n\u001b[0;31m    suic00_20 = 2019.rstrip('[')\u001b[0m\n\u001b[0m                          ^\u001b[0m\n\u001b[0;31mSyntaxError\u001b[0m\u001b[0;31m:\u001b[0m invalid syntax\n"
          ]
        }
      ]
    },
    {
      "cell_type": "code",
      "metadata": {
        "colab": {
          "base_uri": "https://localhost:8080/"
        },
        "id": "8MN3NVaEb70y",
        "outputId": "8adb9479-d06a-4177-968d-33c4a8f61f8a"
      },
      "source": [
        "## Visualizando tamanho total do banco \n",
        "\n",
        "suic00_20.shape"
      ],
      "execution_count": null,
      "outputs": [
        {
          "output_type": "execute_result",
          "data": {
            "text/plain": [
              "(549, 22)"
            ]
          },
          "metadata": {
            "tags": []
          },
          "execution_count": 17
        }
      ]
    },
    {
      "cell_type": "markdown",
      "metadata": {
        "id": "aamdI77qf8Xv"
      },
      "source": [
        "Como mostra o resultado, a base de dados tem 550 linhas e 22 colunas"
      ]
    },
    {
      "cell_type": "markdown",
      "metadata": {
        "id": "GNvZLP_i2Ykr"
      },
      "source": [
        "Breve descrição dos dados\n",
        "// **ainda precisa preencher**"
      ]
    },
    {
      "cell_type": "code",
      "metadata": {
        "colab": {
          "base_uri": "https://localhost:8080/"
        },
        "id": "TFvYwj1PhwRY",
        "outputId": "c638af41-63d2-4f2c-db2c-4228b939f710"
      },
      "source": [
        "#Quantidade de dados em cada coluna, tipo de variável\n",
        "\n",
        "suic00_20.info()"
      ],
      "execution_count": null,
      "outputs": [
        {
          "output_type": "stream",
          "text": [
            "<class 'pandas.core.frame.DataFrame'>\n",
            "RangeIndex: 549 entries, 0 to 548\n",
            "Data columns (total 22 columns):\n",
            " #   Column   Non-Null Count  Dtype \n",
            "---  ------   --------------  ----- \n",
            " 0   Country  549 non-null    object\n",
            " 1   Sex      549 non-null    object\n",
            " 2   2019     549 non-null    object\n",
            " 3   2018     549 non-null    object\n",
            " 4   2017     549 non-null    object\n",
            " 5   2016     549 non-null    object\n",
            " 6   2015     549 non-null    object\n",
            " 7   2014     549 non-null    object\n",
            " 8   2013     549 non-null    object\n",
            " 9   2012     549 non-null    object\n",
            " 10  2011     549 non-null    object\n",
            " 11  2010     549 non-null    object\n",
            " 12  2009     549 non-null    object\n",
            " 13  2008     549 non-null    object\n",
            " 14  2007     549 non-null    object\n",
            " 15  2006     549 non-null    object\n",
            " 16  2005     549 non-null    object\n",
            " 17  2004     549 non-null    object\n",
            " 18  2003     549 non-null    object\n",
            " 19  2002     549 non-null    object\n",
            " 20  2001     549 non-null    object\n",
            " 21  2000     549 non-null    object\n",
            "dtypes: object(22)\n",
            "memory usage: 94.5+ KB\n"
          ],
          "name": "stdout"
        }
      ]
    },
    {
      "cell_type": "code",
      "metadata": {
        "colab": {
          "base_uri": "https://localhost:8080/",
          "height": 278
        },
        "id": "97I0aS21kDrK",
        "outputId": "c0957fe3-79f9-4516-d175-89afe9a4b6b5"
      },
      "source": [
        "#estatísticas básicas sobre a base de dados\n",
        "\n",
        "suic20_20.describe(include=['object'])"
      ],
      "execution_count": null,
      "outputs": [
        {
          "output_type": "execute_result",
          "data": {
            "text/html": [
              "<div>\n",
              "<style scoped>\n",
              "    .dataframe tbody tr th:only-of-type {\n",
              "        vertical-align: middle;\n",
              "    }\n",
              "\n",
              "    .dataframe tbody tr th {\n",
              "        vertical-align: top;\n",
              "    }\n",
              "\n",
              "    .dataframe thead th {\n",
              "        text-align: right;\n",
              "    }\n",
              "</style>\n",
              "<table border=\"1\" class=\"dataframe\">\n",
              "  <thead>\n",
              "    <tr style=\"text-align: right;\">\n",
              "      <th></th>\n",
              "      <th>Unnamed: 0</th>\n",
              "      <th>Unnamed: 1</th>\n",
              "      <th>Crude suicide rates (per 100 000 population)</th>\n",
              "      <th>Crude suicide rates (per 100 000 population).1</th>\n",
              "      <th>Crude suicide rates (per 100 000 population).2</th>\n",
              "      <th>Crude suicide rates (per 100 000 population).3</th>\n",
              "      <th>Crude suicide rates (per 100 000 population).4</th>\n",
              "      <th>Crude suicide rates (per 100 000 population).5</th>\n",
              "      <th>Crude suicide rates (per 100 000 population).6</th>\n",
              "      <th>Crude suicide rates (per 100 000 population).7</th>\n",
              "      <th>Crude suicide rates (per 100 000 population).8</th>\n",
              "      <th>Crude suicide rates (per 100 000 population).9</th>\n",
              "      <th>Crude suicide rates (per 100 000 population).10</th>\n",
              "      <th>Crude suicide rates (per 100 000 population).11</th>\n",
              "      <th>Crude suicide rates (per 100 000 population).12</th>\n",
              "      <th>Crude suicide rates (per 100 000 population).13</th>\n",
              "      <th>Crude suicide rates (per 100 000 population).14</th>\n",
              "      <th>Crude suicide rates (per 100 000 population).15</th>\n",
              "      <th>Crude suicide rates (per 100 000 population).16</th>\n",
              "      <th>Crude suicide rates (per 100 000 population).17</th>\n",
              "      <th>Crude suicide rates (per 100 000 population).18</th>\n",
              "      <th>Crude suicide rates (per 100 000 population).19</th>\n",
              "    </tr>\n",
              "  </thead>\n",
              "  <tbody>\n",
              "    <tr>\n",
              "      <th>count</th>\n",
              "      <td>550</td>\n",
              "      <td>550</td>\n",
              "      <td>550</td>\n",
              "      <td>550</td>\n",
              "      <td>550</td>\n",
              "      <td>550</td>\n",
              "      <td>550</td>\n",
              "      <td>550</td>\n",
              "      <td>550</td>\n",
              "      <td>550</td>\n",
              "      <td>550</td>\n",
              "      <td>550</td>\n",
              "      <td>550</td>\n",
              "      <td>550</td>\n",
              "      <td>550</td>\n",
              "      <td>550</td>\n",
              "      <td>550</td>\n",
              "      <td>550</td>\n",
              "      <td>550</td>\n",
              "      <td>550</td>\n",
              "      <td>550</td>\n",
              "      <td>550</td>\n",
              "    </tr>\n",
              "    <tr>\n",
              "      <th>unique</th>\n",
              "      <td>184</td>\n",
              "      <td>4</td>\n",
              "      <td>538</td>\n",
              "      <td>535</td>\n",
              "      <td>528</td>\n",
              "      <td>534</td>\n",
              "      <td>541</td>\n",
              "      <td>542</td>\n",
              "      <td>542</td>\n",
              "      <td>540</td>\n",
              "      <td>537</td>\n",
              "      <td>537</td>\n",
              "      <td>535</td>\n",
              "      <td>545</td>\n",
              "      <td>547</td>\n",
              "      <td>542</td>\n",
              "      <td>542</td>\n",
              "      <td>542</td>\n",
              "      <td>546</td>\n",
              "      <td>540</td>\n",
              "      <td>538</td>\n",
              "      <td>538</td>\n",
              "    </tr>\n",
              "    <tr>\n",
              "      <th>top</th>\n",
              "      <td>Kiribati</td>\n",
              "      <td>Both sexes</td>\n",
              "      <td>1.7 [1.0-2.8]</td>\n",
              "      <td>0.7 [0.5-1.0]</td>\n",
              "      <td>0.0 [0.0-0.0]</td>\n",
              "      <td>0.7 [0.5-1.0]</td>\n",
              "      <td>2.2 [1.6-2.9]</td>\n",
              "      <td>0.0 [0.0-0.0]</td>\n",
              "      <td>0.0 [0.0-0.0]</td>\n",
              "      <td>0.9 [0.7-1.2]</td>\n",
              "      <td>0.2 [0.1-0.2]</td>\n",
              "      <td>0.6 [0.4-0.8]</td>\n",
              "      <td>0.0 [0.0-0.0]</td>\n",
              "      <td>1.7 [1.2-2.3]</td>\n",
              "      <td>12.6 [10.7-14.7]</td>\n",
              "      <td>1.4 [1.0-1.9]</td>\n",
              "      <td>2.9 [2.2-3.7]</td>\n",
              "      <td>2.7 [2.2-3.3]</td>\n",
              "      <td>1.7 [1.3-2.2]</td>\n",
              "      <td>1.6 [1.1-2.3]</td>\n",
              "      <td>6.4 [5.4-7.5]</td>\n",
              "      <td>1.9 [1.4-2.5]</td>\n",
              "    </tr>\n",
              "    <tr>\n",
              "      <th>freq</th>\n",
              "      <td>3</td>\n",
              "      <td>183</td>\n",
              "      <td>2</td>\n",
              "      <td>3</td>\n",
              "      <td>6</td>\n",
              "      <td>3</td>\n",
              "      <td>2</td>\n",
              "      <td>2</td>\n",
              "      <td>4</td>\n",
              "      <td>3</td>\n",
              "      <td>3</td>\n",
              "      <td>2</td>\n",
              "      <td>4</td>\n",
              "      <td>2</td>\n",
              "      <td>2</td>\n",
              "      <td>3</td>\n",
              "      <td>2</td>\n",
              "      <td>3</td>\n",
              "      <td>2</td>\n",
              "      <td>3</td>\n",
              "      <td>2</td>\n",
              "      <td>3</td>\n",
              "    </tr>\n",
              "  </tbody>\n",
              "</table>\n",
              "</div>"
            ],
            "text/plain": [
              "       Unnamed: 0  ... Crude suicide rates (per 100 000 population).19\n",
              "count         550  ...                                             550\n",
              "unique        184  ...                                             538\n",
              "top      Kiribati  ...                                   1.9 [1.4-2.5]\n",
              "freq            3  ...                                               3\n",
              "\n",
              "[4 rows x 22 columns]"
            ]
          },
          "metadata": {
            "tags": []
          },
          "execution_count": 10
        }
      ]
    },
    {
      "cell_type": "markdown",
      "metadata": {
        "id": "0fOuk09qzc4M"
      },
      "source": [
        "//aqui é necessário continuar a analisar a base de dados com outros comandos"
      ]
    },
    {
      "cell_type": "markdown",
      "metadata": {
        "id": "9d-uny9rB_e-"
      },
      "source": [
        "# Dados da OMS sobre estrutura de atendimento para saúde mental nos países do ano de 2016"
      ]
    },
    {
      "cell_type": "markdown",
      "metadata": {
        "id": "dVSOTTb5y-8-"
      },
      "source": [
        "Iniciando 2ª base de dados - dados da OMS sobre estrutura de atendimento para saúde mental nos países do ano de 2016"
      ]
    },
    {
      "cell_type": "code",
      "metadata": {
        "colab": {
          "base_uri": "https://localhost:8080/"
        },
        "id": "x25u28Ak4Rgs",
        "outputId": "6a199374-21a9-4815-d7b9-03591daf89cc"
      },
      "source": [
        "from google.colab import drive\n",
        "drive.mount('/content/gdrive')"
      ],
      "execution_count": null,
      "outputs": [
        {
          "output_type": "stream",
          "text": [
            "Drive already mounted at /content/gdrive; to attempt to forcibly remount, call drive.mount(\"/content/gdrive\", force_remount=True).\n"
          ],
          "name": "stdout"
        }
      ]
    },
    {
      "cell_type": "code",
      "metadata": {
        "colab": {
          "base_uri": "https://localhost:8080/"
        },
        "id": "N6yHzEg85eGu",
        "outputId": "f1a7be17-99c6-416b-9a8e-45207ea15e4d"
      },
      "source": [
        "%cd /content/gdrive/My Drive/"
      ],
      "execution_count": null,
      "outputs": [
        {
          "output_type": "stream",
          "text": [
            "/content/gdrive/My Drive\n"
          ],
          "name": "stdout"
        }
      ]
    },
    {
      "cell_type": "code",
      "metadata": {
        "id": "xoEIddxEzZKU"
      },
      "source": [
        "\n",
        "\n",
        "df_saudeM2016 = pd.read_csv(\"OMS-estruturas-de-saude-mental-paises_2016.csv\")"
      ],
      "execution_count": null,
      "outputs": []
    },
    {
      "cell_type": "code",
      "metadata": {
        "colab": {
          "base_uri": "https://localhost:8080/",
          "height": 306
        },
        "id": "Qj4r4FWK35wT",
        "outputId": "551a4cfc-89fe-425d-da22-1b49881e48e0"
      },
      "source": [
        "#Exibindo as 5 primeiras linhas \n",
        "df_saudeM2016.head()"
      ],
      "execution_count": null,
      "outputs": [
        {
          "output_type": "execute_result",
          "data": {
            "text/html": [
              "<div>\n",
              "<style scoped>\n",
              "    .dataframe tbody tr th:only-of-type {\n",
              "        vertical-align: middle;\n",
              "    }\n",
              "\n",
              "    .dataframe tbody tr th {\n",
              "        vertical-align: top;\n",
              "    }\n",
              "\n",
              "    .dataframe thead th {\n",
              "        text-align: right;\n",
              "    }\n",
              "</style>\n",
              "<table border=\"1\" class=\"dataframe\">\n",
              "  <thead>\n",
              "    <tr style=\"text-align: right;\">\n",
              "      <th></th>\n",
              "      <th>Country</th>\n",
              "      <th>Year</th>\n",
              "      <th>Mental hospitals (per 100 000 population)</th>\n",
              "      <th>Mental health units in general hospitals (per 100 000 population)</th>\n",
              "      <th>Mental health outpatient facilities (per 100 000 population)</th>\n",
              "      <th>Mental health day treatment facilities (per 100 000 population)</th>\n",
              "      <th>Community residential facilities (per 100 000 population)</th>\n",
              "    </tr>\n",
              "  </thead>\n",
              "  <tbody>\n",
              "    <tr>\n",
              "      <th>0</th>\n",
              "      <td>Afghanistan</td>\n",
              "      <td>2016</td>\n",
              "      <td>0.003</td>\n",
              "      <td>0.012</td>\n",
              "      <td>0.006</td>\n",
              "      <td>NaN</td>\n",
              "      <td>NaN</td>\n",
              "    </tr>\n",
              "    <tr>\n",
              "      <th>1</th>\n",
              "      <td>Albania</td>\n",
              "      <td>2016</td>\n",
              "      <td>0.068</td>\n",
              "      <td>0.068</td>\n",
              "      <td>0.410</td>\n",
              "      <td>NaN</td>\n",
              "      <td>0.445</td>\n",
              "    </tr>\n",
              "    <tr>\n",
              "      <th>2</th>\n",
              "      <td>Algeria</td>\n",
              "      <td>2016</td>\n",
              "      <td>0.048</td>\n",
              "      <td>0.068</td>\n",
              "      <td>0.048</td>\n",
              "      <td>NaN</td>\n",
              "      <td>NaN</td>\n",
              "    </tr>\n",
              "    <tr>\n",
              "      <th>3</th>\n",
              "      <td>Angola</td>\n",
              "      <td>2016</td>\n",
              "      <td>0.011</td>\n",
              "      <td>NaN</td>\n",
              "      <td>NaN</td>\n",
              "      <td>NaN</td>\n",
              "      <td>0.014</td>\n",
              "    </tr>\n",
              "    <tr>\n",
              "      <th>4</th>\n",
              "      <td>Antigua and Barbuda</td>\n",
              "      <td>2016</td>\n",
              "      <td>1.001</td>\n",
              "      <td>NaN</td>\n",
              "      <td>NaN</td>\n",
              "      <td>NaN</td>\n",
              "      <td>NaN</td>\n",
              "    </tr>\n",
              "  </tbody>\n",
              "</table>\n",
              "</div>"
            ],
            "text/plain": [
              "               Country  ...  Community residential facilities (per 100 000 population)\n",
              "0          Afghanistan  ...                                                NaN        \n",
              "1              Albania  ...                                              0.445        \n",
              "2              Algeria  ...                                                NaN        \n",
              "3               Angola  ...                                              0.014        \n",
              "4  Antigua and Barbuda  ...                                                NaN        \n",
              "\n",
              "[5 rows x 7 columns]"
            ]
          },
          "metadata": {
            "tags": []
          },
          "execution_count": 27
        }
      ]
    },
    {
      "cell_type": "code",
      "metadata": {
        "colab": {
          "base_uri": "https://localhost:8080/"
        },
        "id": "4eM2UskXABp7",
        "outputId": "5f506808-6291-4df9-ad6f-9d19693efabd"
      },
      "source": [
        "# Visualizando tamanho total do banco \n",
        "df_saudeM2016.shape"
      ],
      "execution_count": null,
      "outputs": [
        {
          "output_type": "execute_result",
          "data": {
            "text/plain": [
              "(163, 7)"
            ]
          },
          "metadata": {
            "tags": []
          },
          "execution_count": 35
        }
      ]
    },
    {
      "cell_type": "markdown",
      "metadata": {
        "id": "SPlwo25qAl0R"
      },
      "source": [
        "De acordo com o comando executado o banco de dados tem 163 linhas e 7 colunas"
      ]
    },
    {
      "cell_type": "code",
      "metadata": {
        "colab": {
          "base_uri": "https://localhost:8080/"
        },
        "id": "0746XuAq89kA",
        "outputId": "1e89b848-9554-4961-c7f0-733890085bbd"
      },
      "source": [
        "#Quantidade de dados em cada coluna, tipo de variável\n",
        "\n",
        "df_saudeM2016.info()"
      ],
      "execution_count": null,
      "outputs": [
        {
          "output_type": "stream",
          "text": [
            "<class 'pandas.core.frame.DataFrame'>\n",
            "RangeIndex: 163 entries, 0 to 162\n",
            "Data columns (total 7 columns):\n",
            " #   Column                                                             Non-Null Count  Dtype  \n",
            "---  ------                                                             --------------  -----  \n",
            " 0   Country                                                            163 non-null    object \n",
            " 1   Year                                                               163 non-null    int64  \n",
            " 2   Mental hospitals (per 100 000 population)                          131 non-null    float64\n",
            " 3   Mental health units in general hospitals (per 100 000 population)  138 non-null    float64\n",
            " 4   Mental health outpatient facilities (per 100 000 population)       139 non-null    float64\n",
            " 5   Mental health day treatment facilities (per 100 000 population)    74 non-null     float64\n",
            " 6   Community residential facilities (per 100 000 population)          65 non-null     float64\n",
            "dtypes: float64(5), int64(1), object(1)\n",
            "memory usage: 9.0+ KB\n"
          ],
          "name": "stdout"
        }
      ]
    },
    {
      "cell_type": "code",
      "metadata": {
        "colab": {
          "base_uri": "https://localhost:8080/",
          "height": 365
        },
        "id": "Gjh0eIIb9cyL",
        "outputId": "82e7de69-9e0b-4149-bf6c-92ae8a85f9c9"
      },
      "source": [
        "#estatísticas básicas sobre a base de dados\n",
        "\n",
        "df_saudeM2016.describe()"
      ],
      "execution_count": null,
      "outputs": [
        {
          "output_type": "execute_result",
          "data": {
            "text/html": [
              "<div>\n",
              "<style scoped>\n",
              "    .dataframe tbody tr th:only-of-type {\n",
              "        vertical-align: middle;\n",
              "    }\n",
              "\n",
              "    .dataframe tbody tr th {\n",
              "        vertical-align: top;\n",
              "    }\n",
              "\n",
              "    .dataframe thead th {\n",
              "        text-align: right;\n",
              "    }\n",
              "</style>\n",
              "<table border=\"1\" class=\"dataframe\">\n",
              "  <thead>\n",
              "    <tr style=\"text-align: right;\">\n",
              "      <th></th>\n",
              "      <th>Year</th>\n",
              "      <th>Mental hospitals (per 100 000 population)</th>\n",
              "      <th>Mental health units in general hospitals (per 100 000 population)</th>\n",
              "      <th>Mental health outpatient facilities (per 100 000 population)</th>\n",
              "      <th>Mental health day treatment facilities (per 100 000 population)</th>\n",
              "      <th>Community residential facilities (per 100 000 population)</th>\n",
              "    </tr>\n",
              "  </thead>\n",
              "  <tbody>\n",
              "    <tr>\n",
              "      <th>count</th>\n",
              "      <td>163.000000</td>\n",
              "      <td>131.000000</td>\n",
              "      <td>138.000000</td>\n",
              "      <td>139.000000</td>\n",
              "      <td>74.000000</td>\n",
              "      <td>65.000000</td>\n",
              "    </tr>\n",
              "    <tr>\n",
              "      <th>mean</th>\n",
              "      <td>2015.987730</td>\n",
              "      <td>0.219076</td>\n",
              "      <td>0.341935</td>\n",
              "      <td>2.427482</td>\n",
              "      <td>3.063270</td>\n",
              "      <td>0.962062</td>\n",
              "    </tr>\n",
              "    <tr>\n",
              "      <th>std</th>\n",
              "      <td>0.657227</td>\n",
              "      <td>0.763643</td>\n",
              "      <td>0.616612</td>\n",
              "      <td>6.071370</td>\n",
              "      <td>10.485578</td>\n",
              "      <td>1.527842</td>\n",
              "    </tr>\n",
              "    <tr>\n",
              "      <th>min</th>\n",
              "      <td>2013.000000</td>\n",
              "      <td>0.000000</td>\n",
              "      <td>0.006000</td>\n",
              "      <td>0.006000</td>\n",
              "      <td>0.002000</td>\n",
              "      <td>0.006000</td>\n",
              "    </tr>\n",
              "    <tr>\n",
              "      <th>25%</th>\n",
              "      <td>2016.000000</td>\n",
              "      <td>0.019000</td>\n",
              "      <td>0.042750</td>\n",
              "      <td>0.133500</td>\n",
              "      <td>0.046500</td>\n",
              "      <td>0.041000</td>\n",
              "    </tr>\n",
              "    <tr>\n",
              "      <th>50%</th>\n",
              "      <td>2016.000000</td>\n",
              "      <td>0.062000</td>\n",
              "      <td>0.136500</td>\n",
              "      <td>0.718000</td>\n",
              "      <td>0.268000</td>\n",
              "      <td>0.224000</td>\n",
              "    </tr>\n",
              "    <tr>\n",
              "      <th>75%</th>\n",
              "      <td>2016.000000</td>\n",
              "      <td>0.165500</td>\n",
              "      <td>0.405500</td>\n",
              "      <td>2.316000</td>\n",
              "      <td>1.095500</td>\n",
              "      <td>1.171000</td>\n",
              "    </tr>\n",
              "    <tr>\n",
              "      <th>max</th>\n",
              "      <td>2017.000000</td>\n",
              "      <td>8.314000</td>\n",
              "      <td>4.542000</td>\n",
              "      <td>61.387000</td>\n",
              "      <td>61.387000</td>\n",
              "      <td>6.178000</td>\n",
              "    </tr>\n",
              "  </tbody>\n",
              "</table>\n",
              "</div>"
            ],
            "text/plain": [
              "              Year  ...  Community residential facilities (per 100 000 population)\n",
              "count   163.000000  ...                                          65.000000        \n",
              "mean   2015.987730  ...                                           0.962062        \n",
              "std       0.657227  ...                                           1.527842        \n",
              "min    2013.000000  ...                                           0.006000        \n",
              "25%    2016.000000  ...                                           0.041000        \n",
              "50%    2016.000000  ...                                           0.224000        \n",
              "75%    2016.000000  ...                                           1.171000        \n",
              "max    2017.000000  ...                                           6.178000        \n",
              "\n",
              "[8 rows x 6 columns]"
            ]
          },
          "metadata": {
            "tags": []
          },
          "execution_count": 31
        }
      ]
    },
    {
      "cell_type": "markdown",
      "metadata": {
        "id": "6bVsOYKaBJ94"
      },
      "source": [
        "//escrever aqui breve análise observada a partir dos dados"
      ]
    },
    {
      "cell_type": "code",
      "metadata": {
        "colab": {
          "base_uri": "https://localhost:8080/",
          "height": 890
        },
        "id": "-C7kIN09_yOm",
        "outputId": "844e76b6-a60c-45ea-d81a-555169e89854"
      },
      "source": [
        "# Bibliotecas para visualização dos coeficientes:\n",
        "import matplotlib.pyplot as plt\n",
        "import seaborn as sns\n",
        "\n",
        "plt.figure (figsize = (12,10)) \n",
        "cor = df_saudeM2016.corr () \n",
        "sns.heatmap (cor, annot = True, cmap = plt.cm.Reds) \n",
        "plt.show ()"
      ],
      "execution_count": null,
      "outputs": [
        {
          "output_type": "display_data",
          "data": {
            "image/png": "[encoded data removed]",
            "text/plain": [
              "<Figure size 864x720 with 2 Axes>"
            ]
          },
          "metadata": {
            "tags": [],
            "needs_background": "light"
          }
        }
      ]
    },
    {
      "cell_type": "markdown",
      "metadata": {
        "id": "wlzF13LsDoaP"
      },
      "source": [
        "// fazer breve análise acerca dos níveis de correlação observados"
      ]
    },
    {
      "cell_type": "code",
      "metadata": {
        "colab": {
          "base_uri": "https://localhost:8080/"
        },
        "id": "WrASJRoKE22j",
        "outputId": "9d0a0aea-71ad-42b6-a0fb-868fbb1adf75"
      },
      "source": [
        "# Exibindo a correlação das demais variáveis com a quantidade (taxa) de hospitais de saúde mental \n",
        "corr_taxaHospSM = cor[\"Mental hospitals (per 100 000 population)\"]\n",
        "print(corr_taxaHospSM)"
      ],
      "execution_count": null,
      "outputs": [
        {
          "output_type": "stream",
          "text": [
            "Year                                                                -0.039421\n",
            "Mental hospitals (per 100 000 population)                            1.000000\n",
            "Mental health units in general hospitals (per 100 000 population)    0.107866\n",
            "Mental health outpatient facilities (per 100 000 population)         0.230614\n",
            "Mental health day treatment facilities (per 100 000 population)      0.086777\n",
            "Community residential facilities (per 100 000 population)            0.017727\n",
            "Name: Mental hospitals (per 100 000 population), dtype: float64\n"
          ],
          "name": "stdout"
        }
      ]
    },
    {
      "cell_type": "code",
      "metadata": {
        "colab": {
          "base_uri": "https://localhost:8080/"
        },
        "id": "b-uICcUBE3YD",
        "outputId": "a86974e8-d846-4854-eeb9-49a57ee5620d"
      },
      "source": [
        "# Seleção das características altamente correlacionadas, com nível de correlação maior que 0,5\n",
        "corr_altcorr = corr_taxaHospSM[(abs(corr_taxaHospSM) > 0.5)] \n",
        "print(corr_altcorr)\n"
      ],
      "execution_count": null,
      "outputs": [
        {
          "output_type": "stream",
          "text": [
            "Mental hospitals (per 100 000 population)    1.0\n",
            "Name: Mental hospitals (per 100 000 population), dtype: float64\n"
          ],
          "name": "stdout"
        }
      ]
    },
    {
      "cell_type": "markdown",
      "metadata": {
        "id": "IMt35OiQH2pl"
      },
      "source": [
        "--> Ou seja, pelo resultado observado, não houve nenhuma outra variável altamente correlacionada com a taxa de quantiadade de hospitais de saúde mental"
      ]
    },
    {
      "cell_type": "code",
      "metadata": {
        "id": "_9kGS_opIML5"
      },
      "source": [
        "#quantidades de valores de algumas colunas\n",
        "df_cwb['Sexo'].value_counts()"
      ],
      "execution_count": null,
      "outputs": []
    }
  ]
}