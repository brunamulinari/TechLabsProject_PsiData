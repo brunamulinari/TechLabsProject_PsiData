{
  "nbformat": 4,
  "nbformat_minor": 0,
  "metadata": {
    "colab": {
      "name": "suicidios_saudemental_OMS.ipynb",
      "provenance": [],
      "collapsed_sections": [],
      "authorship_tag": "ABX9TyNE+jj09vWSeAR/QKu15Xg0",
      "include_colab_link": true
    },
    "kernelspec": {
      "name": "python3",
      "display_name": "Python 3"
    },
    "language_info": {
      "name": "python"
    }
  },
  "cells": [
    {
      "cell_type": "markdown",
      "metadata": {
        "id": "view-in-github",
        "colab_type": "text"
      },
      "source": [
        "<a href=\"https://colab.research.google.com/github/brunamulinari/TechLabsProject_PsiData/blob/main/suicidios_saudemental_OMS.ipynb\" target=\"_parent\"><img src=\"https://colab.research.google.com/assets/colab-badge.svg\" alt=\"Open In Colab\"/></a>"
      ]
    },
    {
      "cell_type": "markdown",
      "metadata": {
        "id": "EikBSQoFa_q4"
      },
      "source": [
        "**Dados da OMS sobre suicídio por países - de 2000 a 2020**"
      ]
    },
    {
      "cell_type": "markdown",
      "metadata": {
        "id": "oCpLddAgBo-H"
      },
      "source": [
        "# Seleção de dados da OMS sobre suicídio por países da América Latina, para comparação com países ricos (EUA, Alemanha e Japão) - de 2017 a 2019\n"
      ]
    },
    {
      "cell_type": "markdown",
      "metadata": {
        "id": "bmsxYWJxx4v6"
      },
      "source": [
        "A base original tem dados desde os anos 2000 até 2019, no entanto a intenção é utilizar apenas dos anos 2017 até 2019."
      ]
    },
    {
      "cell_type": "markdown",
      "metadata": {
        "id": "IZZI_TerBs7Z"
      },
      "source": [
        "A base também possui dados sobre todos os países, porém a intenção é capturar dados apenas dos países da América Latina e comparar com os dados de alguns outros países de primeiro mundo."
      ]
    },
    {
      "cell_type": "code",
      "metadata": {
        "id": "UWksBV0hbXd8"
      },
      "source": [
        "#Bibliotecas utilizadas\n",
        "import pandas as pd\n",
        "import numpy as np"
      ],
      "execution_count": null,
      "outputs": []
    },
    {
      "cell_type": "code",
      "metadata": {
        "id": "pIJB-HJtPekC"
      },
      "source": [
        "#Importando 1ª base de dados alocada em repositório do Github na pasta principal do projeto\n",
        "#Base de dados .csv da OMS sobre a taxa de suicídios dos países do ano 2000 até 2020 \n",
        "\n",
        "url = 'https://raw.githubusercontent.com/brunamulinari/TechLabsProject_PsiData/main/OMS-taxas-suicidio-paises-2000_2020.csv?token=ATZB42XVXMXOQZHODOCFAI3AUY3X6'\n",
        "dfsuic00_20 = pd.read_csv(url, delimiter=',', header=1)"
      ],
      "execution_count": null,
      "outputs": []
    },
    {
      "cell_type": "code",
      "metadata": {
        "colab": {
          "base_uri": "https://localhost:8080/",
          "height": 374
        },
        "id": "yOhi8RTSgHcW",
        "outputId": "4d2a370c-dd1f-4621-a029-0d969bc757a7"
      },
      "source": [
        "#Exibindo as 5 primeiras linhas\n",
        "\n",
        "dfsuic00_20.head()"
      ],
      "execution_count": null,
      "outputs": [
        {
          "output_type": "execute_result",
          "data": {
            "text/html": [
              "<div>\n",
              "<style scoped>\n",
              "    .dataframe tbody tr th:only-of-type {\n",
              "        vertical-align: middle;\n",
              "    }\n",
              "\n",
              "    .dataframe tbody tr th {\n",
              "        vertical-align: top;\n",
              "    }\n",
              "\n",
              "    .dataframe thead th {\n",
              "        text-align: right;\n",
              "    }\n",
              "</style>\n",
              "<table border=\"1\" class=\"dataframe\">\n",
              "  <thead>\n",
              "    <tr style=\"text-align: right;\">\n",
              "      <th></th>\n",
              "      <th>Country</th>\n",
              "      <th>Sex</th>\n",
              "      <th>2019</th>\n",
              "      <th>2018</th>\n",
              "      <th>2017</th>\n",
              "      <th>2016</th>\n",
              "      <th>2015</th>\n",
              "      <th>2014</th>\n",
              "      <th>2013</th>\n",
              "      <th>2012</th>\n",
              "      <th>2011</th>\n",
              "      <th>2010</th>\n",
              "      <th>2009</th>\n",
              "      <th>2008</th>\n",
              "      <th>2007</th>\n",
              "      <th>2006</th>\n",
              "      <th>2005</th>\n",
              "      <th>2004</th>\n",
              "      <th>2003</th>\n",
              "      <th>2002</th>\n",
              "      <th>2001</th>\n",
              "      <th>2000</th>\n",
              "    </tr>\n",
              "  </thead>\n",
              "  <tbody>\n",
              "    <tr>\n",
              "      <th>0</th>\n",
              "      <td>Afghanistan</td>\n",
              "      <td>Both sexes</td>\n",
              "      <td>4.1 [2.3-7.0]</td>\n",
              "      <td>4.1 [2.3-6.8]</td>\n",
              "      <td>4.1 [2.3-6.8]</td>\n",
              "      <td>4.0 [2.3-6.7]</td>\n",
              "      <td>4.0 [2.3-6.6]</td>\n",
              "      <td>3.9 [2.3-6.6]</td>\n",
              "      <td>4.0 [2.3-6.7]</td>\n",
              "      <td>4.0 [2.3-6.6]</td>\n",
              "      <td>4.1 [2.4-6.8]</td>\n",
              "      <td>4.3 [2.5-7.0]</td>\n",
              "      <td>4.4 [2.6-7.2]</td>\n",
              "      <td>4.6 [2.7-7.6]</td>\n",
              "      <td>4.8 [2.8-7.9]</td>\n",
              "      <td>4.9 [2.8-8.0]</td>\n",
              "      <td>5.0 [2.9-8.1]</td>\n",
              "      <td>5.0 [2.9-8.2]</td>\n",
              "      <td>5.0 [2.8-8.1]</td>\n",
              "      <td>5.0 [2.9-8.2]</td>\n",
              "      <td>5.0 [2.9-8.2]</td>\n",
              "      <td>4.9 [2.8-8.0]</td>\n",
              "    </tr>\n",
              "    <tr>\n",
              "      <th>1</th>\n",
              "      <td>Afghanistan</td>\n",
              "      <td>Male</td>\n",
              "      <td>4.6 [2.6-7.9]</td>\n",
              "      <td>4.6 [2.6-7.8]</td>\n",
              "      <td>4.6 [2.7-7.9]</td>\n",
              "      <td>4.4 [2.6-7.4]</td>\n",
              "      <td>4.3 [2.5-7.3]</td>\n",
              "      <td>4.2 [2.5-7.2]</td>\n",
              "      <td>4.3 [2.5-7.4]</td>\n",
              "      <td>4.3 [2.5-7.3]</td>\n",
              "      <td>4.5 [2.6-7.5]</td>\n",
              "      <td>4.6 [2.7-7.7]</td>\n",
              "      <td>4.8 [2.8-8.0]</td>\n",
              "      <td>5.1 [2.9-8.4]</td>\n",
              "      <td>5.3 [3.0-8.8]</td>\n",
              "      <td>5.4 [3.1-8.8]</td>\n",
              "      <td>5.4 [3.1-8.9]</td>\n",
              "      <td>5.4 [3.1-8.9]</td>\n",
              "      <td>5.3 [3.0-8.7]</td>\n",
              "      <td>5.4 [3.0-8.9]</td>\n",
              "      <td>5.2 [2.9-8.7]</td>\n",
              "      <td>5.0 [2.8-8.3]</td>\n",
              "    </tr>\n",
              "    <tr>\n",
              "      <th>2</th>\n",
              "      <td>Afghanistan</td>\n",
              "      <td>Female</td>\n",
              "      <td>3.6 [2.0-5.9]</td>\n",
              "      <td>3.5 [2.0-5.8]</td>\n",
              "      <td>3.4 [2.0-5.7]</td>\n",
              "      <td>3.6 [2.1-5.9]</td>\n",
              "      <td>3.6 [2.0-5.9]</td>\n",
              "      <td>3.6 [2.1-5.9]</td>\n",
              "      <td>3.7 [2.1-6.0]</td>\n",
              "      <td>3.7 [2.2-6.0]</td>\n",
              "      <td>3.8 [2.2-6.1]</td>\n",
              "      <td>3.9 [2.3-6.2]</td>\n",
              "      <td>4.0 [2.3-6.4]</td>\n",
              "      <td>4.2 [2.4-6.7]</td>\n",
              "      <td>4.3 [2.5-6.9]</td>\n",
              "      <td>4.4 [2.6-7.1]</td>\n",
              "      <td>4.5 [2.6-7.3]</td>\n",
              "      <td>4.6 [2.7-7.5]</td>\n",
              "      <td>4.6 [2.7-7.4]</td>\n",
              "      <td>4.6 [2.7-7.5]</td>\n",
              "      <td>4.8 [2.8-7.8]</td>\n",
              "      <td>4.8 [2.8-7.7]</td>\n",
              "    </tr>\n",
              "    <tr>\n",
              "      <th>3</th>\n",
              "      <td>Albania</td>\n",
              "      <td>Both sexes</td>\n",
              "      <td>4.3 [2.4-6.7]</td>\n",
              "      <td>4.5 [2.5-6.9]</td>\n",
              "      <td>4.7 [2.6-7.1]</td>\n",
              "      <td>4.7 [2.6-7.1]</td>\n",
              "      <td>4.8 [2.6-7.2]</td>\n",
              "      <td>5.0 [2.7-7.4]</td>\n",
              "      <td>5.3 [3.0-7.7]</td>\n",
              "      <td>5.2 [2.9-7.5]</td>\n",
              "      <td>7.9 [4.8-11.1]</td>\n",
              "      <td>7.8 [4.7-10.8]</td>\n",
              "      <td>8.1 [4.9-11.0]</td>\n",
              "      <td>8.2 [5.0-10.9]</td>\n",
              "      <td>8.1 [5.0-10.7]</td>\n",
              "      <td>7.8 [4.9-10.2]</td>\n",
              "      <td>7.5 [4.8-9.7]</td>\n",
              "      <td>4.8 [3.1-6.3]</td>\n",
              "      <td>4.8 [3.2-6.3]</td>\n",
              "      <td>4.6 [3.1-6.0]</td>\n",
              "      <td>4.5 [3.1-5.9]</td>\n",
              "      <td>4.9 [3.4-6.4]</td>\n",
              "    </tr>\n",
              "    <tr>\n",
              "      <th>4</th>\n",
              "      <td>Albania</td>\n",
              "      <td>Male</td>\n",
              "      <td>5.9 [3.1-9.3]</td>\n",
              "      <td>6.2 [3.2-9.6]</td>\n",
              "      <td>6.3 [3.3-9.9]</td>\n",
              "      <td>6.3 [3.2-9.7]</td>\n",
              "      <td>6.3 [3.2-9.6]</td>\n",
              "      <td>6.6 [3.4-10.0]</td>\n",
              "      <td>6.9 [3.5-10.3]</td>\n",
              "      <td>6.9 [3.5-10.1]</td>\n",
              "      <td>7.5 [3.9-10.7]</td>\n",
              "      <td>9.5 [5.0-13.4]</td>\n",
              "      <td>10.2 [5.3-14.0]</td>\n",
              "      <td>10.3 [5.5-14.0]</td>\n",
              "      <td>10.3 [5.6-13.9]</td>\n",
              "      <td>9.8 [5.4-13.0]</td>\n",
              "      <td>9.7 [5.5-12.8]</td>\n",
              "      <td>6.5 [3.8-8.5]</td>\n",
              "      <td>6.4 [3.8-8.3]</td>\n",
              "      <td>6.2 [3.9-8.1]</td>\n",
              "      <td>6.1 [3.9-8.0]</td>\n",
              "      <td>7.0 [4.6-9.2]</td>\n",
              "    </tr>\n",
              "  </tbody>\n",
              "</table>\n",
              "</div>"
            ],
            "text/plain": [
              "       Country         Sex  ...           2001           2000\n",
              "0  Afghanistan  Both sexes  ...  5.0 [2.9-8.2]  4.9 [2.8-8.0]\n",
              "1  Afghanistan        Male  ...  5.2 [2.9-8.7]  5.0 [2.8-8.3]\n",
              "2  Afghanistan      Female  ...  4.8 [2.8-7.8]  4.8 [2.8-7.7]\n",
              "3      Albania  Both sexes  ...  4.5 [3.1-5.9]  4.9 [3.4-6.4]\n",
              "4      Albania        Male  ...  6.1 [3.9-8.0]  7.0 [4.6-9.2]\n",
              "\n",
              "[5 rows x 22 columns]"
            ]
          },
          "metadata": {
            "tags": []
          },
          "execution_count": 12
        }
      ]
    },
    {
      "cell_type": "code",
      "metadata": {
        "colab": {
          "base_uri": "https://localhost:8080/",
          "height": 204
        },
        "id": "8szCjA-JzVT4",
        "outputId": "92703aa9-d1eb-4b79-ca89-54883570d96b"
      },
      "source": [
        "#excluir as colunas dos anos menores que 2017\n",
        "\n",
        "dfsuic00_20 = dfsuic00_20.drop(columns=['2016', '2015', '2014', '2013', '2012', '2011', '2010', '2009', '2008', \n",
        "                                    '2007', '2006', '2005', '2004', '2003', '2002', '2001', '2000'])\n",
        "dfsuic00_20.head()"
      ],
      "execution_count": null,
      "outputs": [
        {
          "output_type": "execute_result",
          "data": {
            "text/html": [
              "<div>\n",
              "<style scoped>\n",
              "    .dataframe tbody tr th:only-of-type {\n",
              "        vertical-align: middle;\n",
              "    }\n",
              "\n",
              "    .dataframe tbody tr th {\n",
              "        vertical-align: top;\n",
              "    }\n",
              "\n",
              "    .dataframe thead th {\n",
              "        text-align: right;\n",
              "    }\n",
              "</style>\n",
              "<table border=\"1\" class=\"dataframe\">\n",
              "  <thead>\n",
              "    <tr style=\"text-align: right;\">\n",
              "      <th></th>\n",
              "      <th>Country</th>\n",
              "      <th>Sex</th>\n",
              "      <th>2019</th>\n",
              "      <th>2018</th>\n",
              "      <th>2017</th>\n",
              "    </tr>\n",
              "  </thead>\n",
              "  <tbody>\n",
              "    <tr>\n",
              "      <th>0</th>\n",
              "      <td>Afghanistan</td>\n",
              "      <td>Both sexes</td>\n",
              "      <td>4.1 [2.3-7.0]</td>\n",
              "      <td>4.1 [2.3-6.8]</td>\n",
              "      <td>4.1 [2.3-6.8]</td>\n",
              "    </tr>\n",
              "    <tr>\n",
              "      <th>1</th>\n",
              "      <td>Afghanistan</td>\n",
              "      <td>Male</td>\n",
              "      <td>4.6 [2.6-7.9]</td>\n",
              "      <td>4.6 [2.6-7.8]</td>\n",
              "      <td>4.6 [2.7-7.9]</td>\n",
              "    </tr>\n",
              "    <tr>\n",
              "      <th>2</th>\n",
              "      <td>Afghanistan</td>\n",
              "      <td>Female</td>\n",
              "      <td>3.6 [2.0-5.9]</td>\n",
              "      <td>3.5 [2.0-5.8]</td>\n",
              "      <td>3.4 [2.0-5.7]</td>\n",
              "    </tr>\n",
              "    <tr>\n",
              "      <th>3</th>\n",
              "      <td>Albania</td>\n",
              "      <td>Both sexes</td>\n",
              "      <td>4.3 [2.4-6.7]</td>\n",
              "      <td>4.5 [2.5-6.9]</td>\n",
              "      <td>4.7 [2.6-7.1]</td>\n",
              "    </tr>\n",
              "    <tr>\n",
              "      <th>4</th>\n",
              "      <td>Albania</td>\n",
              "      <td>Male</td>\n",
              "      <td>5.9 [3.1-9.3]</td>\n",
              "      <td>6.2 [3.2-9.6]</td>\n",
              "      <td>6.3 [3.3-9.9]</td>\n",
              "    </tr>\n",
              "  </tbody>\n",
              "</table>\n",
              "</div>"
            ],
            "text/plain": [
              "       Country         Sex           2019           2018           2017\n",
              "0  Afghanistan  Both sexes  4.1 [2.3-7.0]  4.1 [2.3-6.8]  4.1 [2.3-6.8]\n",
              "1  Afghanistan        Male  4.6 [2.6-7.9]  4.6 [2.6-7.8]  4.6 [2.7-7.9]\n",
              "2  Afghanistan      Female  3.6 [2.0-5.9]  3.5 [2.0-5.8]  3.4 [2.0-5.7]\n",
              "3      Albania  Both sexes  4.3 [2.4-6.7]  4.5 [2.5-6.9]  4.7 [2.6-7.1]\n",
              "4      Albania        Male  5.9 [3.1-9.3]  6.2 [3.2-9.6]  6.3 [3.3-9.9]"
            ]
          },
          "metadata": {
            "tags": []
          },
          "execution_count": 14
        }
      ]
    },
    {
      "cell_type": "code",
      "metadata": {
        "id": "zARhJvHX6-t0"
      },
      "source": [
        "#seleção dos países da América Latina + 3 países ricos (EUA, Alemanha e Japão)\n",
        "\n",
        "lista = list(['Brazil', 'Antigua and Barbuda', 'Argentina', 'Bahamas', 'Barbados', 'Belize',\n",
        "              'Bolivia (Plurinational State of)', 'Chile', 'Colombia', 'Costa Rica', 'Cuba', 'Ecuador',\n",
        "              'El Salvador', 'Grenada', 'Guatemala', 'Guyana', 'Haiti', 'Jamaica', 'Mexico', 'Nicaragua', \n",
        "              'Panama', 'Paraguay', 'Peru', 'Saint Vincent and the Grenadines', 'Saint Lucia',\n",
        "              'Trinidad and Tobago', 'Uruguay', 'Venezuela (Bolivarian Republic of)', 'United States of America', 'Germany', 'Japan'])\n",
        "\n",
        "dfsuic00_20 = dfsuic00_20.loc[dfsuic00_20['Country'].isin(lista)]"
      ],
      "execution_count": null,
      "outputs": []
    },
    {
      "cell_type": "code",
      "metadata": {
        "id": "1rRk2YjHevfK"
      },
      "source": [
        "#renomear os nomes das colunas 'Country' e 'Sex'\n",
        "\n",
        "dfsuic00_20.rename(columns={'Country': 'País'}, inplace = True)\n",
        "dfsuic00_20.rename(columns={'Sex': 'Sexo'}, inplace = True)"
      ],
      "execution_count": null,
      "outputs": []
    },
    {
      "cell_type": "code",
      "metadata": {
        "colab": {
          "base_uri": "https://localhost:8080/",
          "height": 235
        },
        "id": "7pU5svvbZ15K",
        "outputId": "a866557b-e134-4174-9fcd-4ac122cb3d8c"
      },
      "source": [
        "#exibir as mudanças com a seleção específica de dados\n",
        "\n",
        "dfsuic00_20.head(6)"
      ],
      "execution_count": null,
      "outputs": [
        {
          "output_type": "execute_result",
          "data": {
            "text/html": [
              "<div>\n",
              "<style scoped>\n",
              "    .dataframe tbody tr th:only-of-type {\n",
              "        vertical-align: middle;\n",
              "    }\n",
              "\n",
              "    .dataframe tbody tr th {\n",
              "        vertical-align: top;\n",
              "    }\n",
              "\n",
              "    .dataframe thead th {\n",
              "        text-align: right;\n",
              "    }\n",
              "</style>\n",
              "<table border=\"1\" class=\"dataframe\">\n",
              "  <thead>\n",
              "    <tr style=\"text-align: right;\">\n",
              "      <th></th>\n",
              "      <th>País</th>\n",
              "      <th>Sexo</th>\n",
              "      <th>2019</th>\n",
              "      <th>2018</th>\n",
              "      <th>2017</th>\n",
              "    </tr>\n",
              "  </thead>\n",
              "  <tbody>\n",
              "    <tr>\n",
              "      <th>12</th>\n",
              "      <td>Antigua and Barbuda</td>\n",
              "      <td>Both sexes</td>\n",
              "      <td>0.4 [0.3-0.6]</td>\n",
              "      <td>0.4 [0.3-0.5]</td>\n",
              "      <td>0.0 [0.0-0.0]</td>\n",
              "    </tr>\n",
              "    <tr>\n",
              "      <th>13</th>\n",
              "      <td>Antigua and Barbuda</td>\n",
              "      <td>Male</td>\n",
              "      <td>0.0 [0.0-0.0]</td>\n",
              "      <td>0.0 [0.0-0.0]</td>\n",
              "      <td>0.0 [0.0-0.0]</td>\n",
              "    </tr>\n",
              "    <tr>\n",
              "      <th>14</th>\n",
              "      <td>Antigua and Barbuda</td>\n",
              "      <td>Female</td>\n",
              "      <td>0.8 [0.5-1.1]</td>\n",
              "      <td>0.7 [0.5-1.0]</td>\n",
              "      <td>0.0 [0.0-0.0]</td>\n",
              "    </tr>\n",
              "    <tr>\n",
              "      <th>15</th>\n",
              "      <td>Argentina</td>\n",
              "      <td>Both sexes</td>\n",
              "      <td>8.4 [6.7-10.3]</td>\n",
              "      <td>9.2 [7.4-11.2]</td>\n",
              "      <td>8.9 [7.3-10.7]</td>\n",
              "    </tr>\n",
              "    <tr>\n",
              "      <th>16</th>\n",
              "      <td>Argentina</td>\n",
              "      <td>Male</td>\n",
              "      <td>13.7 [10.9-16.8]</td>\n",
              "      <td>15.1 [12.2-18.3]</td>\n",
              "      <td>14.5 [11.9-17.3]</td>\n",
              "    </tr>\n",
              "    <tr>\n",
              "      <th>17</th>\n",
              "      <td>Argentina</td>\n",
              "      <td>Female</td>\n",
              "      <td>3.3 [2.6-4.2]</td>\n",
              "      <td>3.6 [2.8-4.4]</td>\n",
              "      <td>3.5 [2.8-4.3]</td>\n",
              "    </tr>\n",
              "  </tbody>\n",
              "</table>\n",
              "</div>"
            ],
            "text/plain": [
              "                   País        Sexo  ...              2018              2017\n",
              "12  Antigua and Barbuda  Both sexes  ...     0.4 [0.3-0.5]     0.0 [0.0-0.0]\n",
              "13  Antigua and Barbuda        Male  ...     0.0 [0.0-0.0]     0.0 [0.0-0.0]\n",
              "14  Antigua and Barbuda      Female  ...     0.7 [0.5-1.0]     0.0 [0.0-0.0]\n",
              "15            Argentina  Both sexes  ...    9.2 [7.4-11.2]    8.9 [7.3-10.7]\n",
              "16            Argentina        Male  ...  15.1 [12.2-18.3]  14.5 [11.9-17.3]\n",
              "17            Argentina      Female  ...     3.6 [2.8-4.4]     3.5 [2.8-4.3]\n",
              "\n",
              "[6 rows x 5 columns]"
            ]
          },
          "metadata": {
            "tags": []
          },
          "execution_count": 17
        }
      ]
    },
    {
      "cell_type": "code",
      "metadata": {
        "colab": {
          "base_uri": "https://localhost:8080/"
        },
        "id": "8MN3NVaEb70y",
        "outputId": "87b6fde1-9ea4-4614-fdc7-de6e8ea2e36d"
      },
      "source": [
        "## Visualizando novo tamanho total do banco de dados\n",
        "\n",
        "dfsuic00_20.shape"
      ],
      "execution_count": null,
      "outputs": [
        {
          "output_type": "execute_result",
          "data": {
            "text/plain": [
              "(93, 5)"
            ]
          },
          "metadata": {
            "tags": []
          },
          "execution_count": 18
        }
      ]
    },
    {
      "cell_type": "markdown",
      "metadata": {
        "id": "aamdI77qf8Xv"
      },
      "source": [
        "Como mostra o resultado, agora a base de dados tem 93 linhas e 5 colunas"
      ]
    },
    {
      "cell_type": "code",
      "metadata": {
        "colab": {
          "base_uri": "https://localhost:8080/"
        },
        "id": "TFvYwj1PhwRY",
        "outputId": "5ac035e4-731e-4ab6-f0df-bd099b22c67d"
      },
      "source": [
        "#Quantidade de dados em cada coluna, tipo de variável\n",
        "\n",
        "dfsuic00_20.info()"
      ],
      "execution_count": null,
      "outputs": [
        {
          "output_type": "stream",
          "text": [
            "<class 'pandas.core.frame.DataFrame'>\n",
            "Int64Index: 93 entries, 12 to 536\n",
            "Data columns (total 5 columns):\n",
            " #   Column  Non-Null Count  Dtype \n",
            "---  ------  --------------  ----- \n",
            " 0   País    93 non-null     object\n",
            " 1   Sexo    93 non-null     object\n",
            " 2   2019    93 non-null     object\n",
            " 3   2018    93 non-null     object\n",
            " 4   2017    93 non-null     object\n",
            "dtypes: object(5)\n",
            "memory usage: 4.4+ KB\n"
          ],
          "name": "stdout"
        }
      ]
    },
    {
      "cell_type": "markdown",
      "metadata": {
        "id": "SxXOHytjbT_5"
      },
      "source": [
        "Conforme observado, todas as variáveis são do tipo 'string' (object), no entanto, apenas as variáveis da coluna 'Country' precisam ser strings, pois são nomes de países. Agora as variáveis das colunas 'Sex' podem ser alteradas para 'int' uma vez que são categóricas. Nas colunas de anos podem ainda ter outro formato, de preferência numérico, e o melhor nesse caso seria para variáveis do tipo 'float' que comportam número decimais, uma vez que a taxa de homicídios por ano, é um número decimal."
      ]
    },
    {
      "cell_type": "code",
      "metadata": {
        "id": "28zoWpnM2d_9"
      },
      "source": [
        "#Exclusão dos dados entre colchetes '[]' das variáveis e transformação do tipo\n",
        "# de variáveis string das taxas de suicídio em variáveis float\n",
        "Anos = ['2019', '2018', '2017']\n",
        "for col in Anos:\n",
        "  dfsuic00_20[col] = [i[:4] for i in dfsuic00_20[col]]\n",
        "  dfsuic00_20[col] = dfsuic00_20[col].astype(float)\n"
      ],
      "execution_count": null,
      "outputs": []
    },
    {
      "cell_type": "code",
      "metadata": {
        "id": "tOfx39S_kA9P",
        "colab": {
          "base_uri": "https://localhost:8080/"
        },
        "outputId": "2fb975fc-c5c9-43c6-86ed-24bba28a445e"
      },
      "source": [
        "#exibição das variáveis após adequadação dos dados das taxas de suicídio\n",
        "print(dfsuic00_20)\n"
      ],
      "execution_count": null,
      "outputs": [
        {
          "output_type": "stream",
          "text": [
            "                                   País        Sexo  2019  2018  2017\n",
            "12                  Antigua and Barbuda  Both sexes   0.4   0.4   0.0\n",
            "13                  Antigua and Barbuda        Male   0.0   0.0   0.0\n",
            "14                  Antigua and Barbuda      Female   0.8   0.7   0.0\n",
            "15                            Argentina  Both sexes   8.4   9.2   8.9\n",
            "16                            Argentina        Male  13.7  15.1  14.5\n",
            "..                                  ...         ...   ...   ...   ...\n",
            "526                             Uruguay        Male  34.5  34.7  33.8\n",
            "527                             Uruguay      Female   8.9   8.6   8.6\n",
            "534  Venezuela (Bolivarian Republic of)  Both sexes   2.1   2.2   2.2\n",
            "535  Venezuela (Bolivarian Republic of)        Male   3.5   3.6   3.6\n",
            "536  Venezuela (Bolivarian Republic of)      Female   0.7   0.7   0.7\n",
            "\n",
            "[93 rows x 5 columns]\n"
          ],
          "name": "stdout"
        }
      ]
    },
    {
      "cell_type": "code",
      "metadata": {
        "colab": {
          "base_uri": "https://localhost:8080/",
          "height": 297
        },
        "id": "97I0aS21kDrK",
        "outputId": "cfeadae7-dbe4-4872-cc58-2be5db1bae9f"
      },
      "source": [
        "#estatísticas básicas sobre a base de dados\n",
        "\n",
        "dfsuic00_20.describe()"
      ],
      "execution_count": null,
      "outputs": [
        {
          "output_type": "execute_result",
          "data": {
            "text/html": [
              "<div>\n",
              "<style scoped>\n",
              "    .dataframe tbody tr th:only-of-type {\n",
              "        vertical-align: middle;\n",
              "    }\n",
              "\n",
              "    .dataframe tbody tr th {\n",
              "        vertical-align: top;\n",
              "    }\n",
              "\n",
              "    .dataframe thead th {\n",
              "        text-align: right;\n",
              "    }\n",
              "</style>\n",
              "<table border=\"1\" class=\"dataframe\">\n",
              "  <thead>\n",
              "    <tr style=\"text-align: right;\">\n",
              "      <th></th>\n",
              "      <th>2019</th>\n",
              "      <th>2018</th>\n",
              "      <th>2017</th>\n",
              "    </tr>\n",
              "  </thead>\n",
              "  <tbody>\n",
              "    <tr>\n",
              "      <th>count</th>\n",
              "      <td>93.000000</td>\n",
              "      <td>93.000000</td>\n",
              "      <td>93.000000</td>\n",
              "    </tr>\n",
              "    <tr>\n",
              "      <th>mean</th>\n",
              "      <td>8.007527</td>\n",
              "      <td>8.029032</td>\n",
              "      <td>8.027957</td>\n",
              "    </tr>\n",
              "    <tr>\n",
              "      <th>std</th>\n",
              "      <td>9.260614</td>\n",
              "      <td>9.178645</td>\n",
              "      <td>9.069471</td>\n",
              "    </tr>\n",
              "    <tr>\n",
              "      <th>min</th>\n",
              "      <td>0.000000</td>\n",
              "      <td>0.000000</td>\n",
              "      <td>0.000000</td>\n",
              "    </tr>\n",
              "    <tr>\n",
              "      <th>25%</th>\n",
              "      <td>2.100000</td>\n",
              "      <td>2.200000</td>\n",
              "      <td>2.300000</td>\n",
              "    </tr>\n",
              "    <tr>\n",
              "      <th>50%</th>\n",
              "      <td>6.000000</td>\n",
              "      <td>6.000000</td>\n",
              "      <td>6.100000</td>\n",
              "    </tr>\n",
              "    <tr>\n",
              "      <th>75%</th>\n",
              "      <td>9.600000</td>\n",
              "      <td>10.200000</td>\n",
              "      <td>9.900000</td>\n",
              "    </tr>\n",
              "    <tr>\n",
              "      <th>max</th>\n",
              "      <td>63.000000</td>\n",
              "      <td>61.600000</td>\n",
              "      <td>60.100000</td>\n",
              "    </tr>\n",
              "  </tbody>\n",
              "</table>\n",
              "</div>"
            ],
            "text/plain": [
              "            2019       2018       2017\n",
              "count  93.000000  93.000000  93.000000\n",
              "mean    8.007527   8.029032   8.027957\n",
              "std     9.260614   9.178645   9.069471\n",
              "min     0.000000   0.000000   0.000000\n",
              "25%     2.100000   2.200000   2.300000\n",
              "50%     6.000000   6.000000   6.100000\n",
              "75%     9.600000  10.200000   9.900000\n",
              "max    63.000000  61.600000  60.100000"
            ]
          },
          "metadata": {
            "tags": []
          },
          "execution_count": 24
        }
      ]
    },
    {
      "cell_type": "code",
      "metadata": {
        "id": "8xsNbl5mBSrB"
      },
      "source": [
        "#instalação da biblioteca Pandas Profiling\n",
        "\n",
        "!pip install -U pandas-profiling"
      ],
      "execution_count": null,
      "outputs": []
    },
    {
      "cell_type": "code",
      "metadata": {
        "id": "pXUMfy48CXsK"
      },
      "source": [
        "#importando biblioteca Panda Profiling\n",
        "from pandas_profiling import ProfileReport\n",
        "profile = ProfileReport(dfsuic00_20, title='Relatório sobre as taxas de suicídio da América Latina (2017-2019)',html={'style':{'full_width':True}})"
      ],
      "execution_count": null,
      "outputs": []
    },
    {
      "cell_type": "code",
      "metadata": {
        "id": "XURM7rhMAsed"
      },
      "source": [
        "#Análise exploratória de dados através do Pandas Profiling\n",
        "#Verificar se é interessante praticar essa análise ou fazer item por item\n",
        "#, as vezes ela pode ser usada como exemplo de uma estrutura de exposição de análise sobre os dados\n",
        "\n",
        "profile.to_notebook_iframe()\n",
        "\n",
        "#abaixo, código para salvar a análise gerada (opção desativada)\n",
        "#profile.to_file(output_file=\"dataframe_report.html\")"
      ],
      "execution_count": null,
      "outputs": []
    },
    {
      "cell_type": "markdown",
      "metadata": {
        "id": "-PCqqQv6LEqa"
      },
      "source": [
        "## **Visualização de Dados**"
      ]
    },
    {
      "cell_type": "code",
      "metadata": {
        "id": "bCngt2WgK_ku"
      },
      "source": [
        "#importação da MatplotLib e do Seaborn para elaboração de ferramentas\n",
        "# de visualização de dados\n",
        "\n",
        "import matplotlib.pyplot as plt\n",
        "import seaborn as sns"
      ],
      "execution_count": null,
      "outputs": []
    },
    {
      "cell_type": "markdown",
      "metadata": {
        "id": "2dPR3IdtR5tk"
      },
      "source": [
        "###Gráfico de Linha"
      ]
    },
    {
      "cell_type": "code",
      "metadata": {
        "id": "YGbjAU0iR37G"
      },
      "source": [
        "plt.rcParams['figure.figsize'] = (15,10)\n",
        "plt.plot(dfsuic00_20['Sexo'],suic00_20['2019'])\n",
        "plt.show()\n",
        "\n",
        "# aqui tem que melhorar que dados podem ser colocados, com as colunas atuais fica muito ruim"
      ],
      "execution_count": null,
      "outputs": []
    },
    {
      "cell_type": "code",
      "metadata": {
        "id": "gB4_1pRtVKlC"
      },
      "source": [
        "#montar esse gráfico com uma marcação para suicídios de homens e mulheres para o Brasil ao longo dos anos de 2017 a 2019\n",
        "\n",
        "plt.plot(meusDados['mes_labels'],meusDados['temperatura_cwb'], '--g', marker='o', label='Curitiba')\n",
        "plt.plot(meusDados['mes_labels'],meusDados['temperatura_slma'], color= 'm', marker='x',label='São Luís')\n",
        "plt.xlabel('Meses do ano')\n",
        "plt.ylabel('Temperatura')\n",
        "plt.title('Gráfico de temperatura - CWB')\n",
        "plt.legend()\n",
        "plt.grid(True)\n",
        "plt.show()\n",
        "\n"
      ],
      "execution_count": null,
      "outputs": []
    },
    {
      "cell_type": "code",
      "metadata": {
        "id": "tJQM5lhFVmNj"
      },
      "source": [
        ""
      ],
      "execution_count": null,
      "outputs": []
    },
    {
      "cell_type": "markdown",
      "metadata": {
        "id": "GNvZLP_i2Ykr"
      },
      "source": [
        "Breve descrição das estatísticas\n",
        "// **ainda precisa preencher**"
      ]
    },
    {
      "cell_type": "markdown",
      "metadata": {
        "id": "0fOuk09qzc4M"
      },
      "source": [
        "//aqui é necessário continuar a analisar a base de dados com outros comandos"
      ]
    },
    {
      "cell_type": "markdown",
      "metadata": {
        "id": "9d-uny9rB_e-"
      },
      "source": [
        "# Dados da OMS sobre estrutura de atendimento para saúde mental nos países do ano de 2016"
      ]
    },
    {
      "cell_type": "markdown",
      "metadata": {
        "id": "dVSOTTb5y-8-"
      },
      "source": [
        "Iniciando 2ª base de dados - dados da OMS sobre estrutura de atendimento para saúde mental nos países do ano de 2016"
      ]
    },
    {
      "cell_type": "code",
      "metadata": {
        "id": "kwXmhbWhT6sM"
      },
      "source": [
        "#Importando 2ª base de dados alocada em repositório do Github na pasta principal do projeto\n",
        "#Base de dados .csv da OMS sobre as estruturas de saúde mental dos países no ano de 2016 \n",
        "\n",
        "\n",
        "url = 'https://raw.githubusercontent.com/brunamulinari/TechLabsProject_PsiData/main/OMS-estruturas-de-saude-mental-paises_2016.csv?token=ATZB42X3RKKQGZDLHHQUCH3AUY542'\n",
        "df_saudeM2016 = pd.read_csv(url, delimiter=',')\n"
      ],
      "execution_count": null,
      "outputs": []
    },
    {
      "cell_type": "code",
      "metadata": {
        "colab": {
          "base_uri": "https://localhost:8080/",
          "height": 272
        },
        "id": "Qj4r4FWK35wT",
        "outputId": "20a067a7-12bd-4864-e6d4-e958ef737ea1"
      },
      "source": [
        "#Exibindo as 5 primeiras linhas \n",
        "df_saudeM2016.head()"
      ],
      "execution_count": null,
      "outputs": [
        {
          "output_type": "execute_result",
          "data": {
            "text/html": [
              "<div>\n",
              "<style scoped>\n",
              "    .dataframe tbody tr th:only-of-type {\n",
              "        vertical-align: middle;\n",
              "    }\n",
              "\n",
              "    .dataframe tbody tr th {\n",
              "        vertical-align: top;\n",
              "    }\n",
              "\n",
              "    .dataframe thead th {\n",
              "        text-align: right;\n",
              "    }\n",
              "</style>\n",
              "<table border=\"1\" class=\"dataframe\">\n",
              "  <thead>\n",
              "    <tr style=\"text-align: right;\">\n",
              "      <th></th>\n",
              "      <th>Country</th>\n",
              "      <th>Year</th>\n",
              "      <th>Mental hospitals (per 100 000 population)</th>\n",
              "      <th>Mental health units in general hospitals (per 100 000 population)</th>\n",
              "      <th>Mental health outpatient facilities (per 100 000 population)</th>\n",
              "      <th>Mental health day treatment facilities (per 100 000 population)</th>\n",
              "      <th>Community residential facilities (per 100 000 population)</th>\n",
              "    </tr>\n",
              "  </thead>\n",
              "  <tbody>\n",
              "    <tr>\n",
              "      <th>0</th>\n",
              "      <td>Afghanistan</td>\n",
              "      <td>2016</td>\n",
              "      <td>0.003</td>\n",
              "      <td>0.012</td>\n",
              "      <td>0.006</td>\n",
              "      <td>NaN</td>\n",
              "      <td>NaN</td>\n",
              "    </tr>\n",
              "    <tr>\n",
              "      <th>1</th>\n",
              "      <td>Albania</td>\n",
              "      <td>2016</td>\n",
              "      <td>0.068</td>\n",
              "      <td>0.068</td>\n",
              "      <td>0.410</td>\n",
              "      <td>NaN</td>\n",
              "      <td>0.445</td>\n",
              "    </tr>\n",
              "    <tr>\n",
              "      <th>2</th>\n",
              "      <td>Algeria</td>\n",
              "      <td>2016</td>\n",
              "      <td>0.048</td>\n",
              "      <td>0.068</td>\n",
              "      <td>0.048</td>\n",
              "      <td>NaN</td>\n",
              "      <td>NaN</td>\n",
              "    </tr>\n",
              "    <tr>\n",
              "      <th>3</th>\n",
              "      <td>Angola</td>\n",
              "      <td>2016</td>\n",
              "      <td>0.011</td>\n",
              "      <td>NaN</td>\n",
              "      <td>NaN</td>\n",
              "      <td>NaN</td>\n",
              "      <td>0.014</td>\n",
              "    </tr>\n",
              "    <tr>\n",
              "      <th>4</th>\n",
              "      <td>Antigua and Barbuda</td>\n",
              "      <td>2016</td>\n",
              "      <td>1.001</td>\n",
              "      <td>NaN</td>\n",
              "      <td>NaN</td>\n",
              "      <td>NaN</td>\n",
              "      <td>NaN</td>\n",
              "    </tr>\n",
              "  </tbody>\n",
              "</table>\n",
              "</div>"
            ],
            "text/plain": [
              "               Country  ...  Community residential facilities (per 100 000 population)\n",
              "0          Afghanistan  ...                                                NaN        \n",
              "1              Albania  ...                                              0.445        \n",
              "2              Algeria  ...                                                NaN        \n",
              "3               Angola  ...                                              0.014        \n",
              "4  Antigua and Barbuda  ...                                                NaN        \n",
              "\n",
              "[5 rows x 7 columns]"
            ]
          },
          "metadata": {
            "tags": []
          },
          "execution_count": 27
        }
      ]
    },
    {
      "cell_type": "code",
      "metadata": {
        "id": "ngrvvXvRlDhS"
      },
      "source": [
        "#Alterar os nomes de colunas\n",
        "\n",
        "df_saudeM2016.rename(columns={'Country': 'País'}, inplace = True)\n",
        "df_saudeM2016.rename(columns={'Year': 'Ano'}, inplace = True)\n",
        "df_saudeM2016.rename(columns={'Mental hospitals (per 100 000 population)': \n",
        "                              'Taxa de hospitais psiquiátricos'}, inplace = True)\n",
        "df_saudeM2016.rename(columns={'Mental health units in general hospitals (per 100 000 population)': \n",
        "                              'Taxa de unidades psiquiátricas em hospitais'}, inplace = True)\n",
        "df_saudeM2016.rename(columns={'Mental health outpatient facilities (per 100 000 population)': \n",
        "                              'Taxa de ambulatórios psiquiátricos'}, inplace = True)\n",
        "df_saudeM2016.rename(columns={'Mental health day treatment facilities (per 100 000 population)': \n",
        "                              'Taxa de tratamentos psiquiátricos diários'}, inplace = True)\n",
        "df_saudeM2016.rename(columns={'Community residential facilities (per 100 000 population)': \n",
        "                              'Taxa de instalações comunitárias'}, inplace = True)"
      ],
      "execution_count": null,
      "outputs": []
    },
    {
      "cell_type": "code",
      "metadata": {
        "colab": {
          "base_uri": "https://localhost:8080/",
          "height": 100
        },
        "id": "Y2EeFomrqA9O",
        "outputId": "7605539b-0014-4bb8-abc5-4aa436094aee"
      },
      "source": [
        "#visualizar mudanças nos nomes das colunas\n",
        "df_saudeM2016.head(0)"
      ],
      "execution_count": null,
      "outputs": [
        {
          "output_type": "execute_result",
          "data": {
            "text/html": [
              "<div>\n",
              "<style scoped>\n",
              "    .dataframe tbody tr th:only-of-type {\n",
              "        vertical-align: middle;\n",
              "    }\n",
              "\n",
              "    .dataframe tbody tr th {\n",
              "        vertical-align: top;\n",
              "    }\n",
              "\n",
              "    .dataframe thead th {\n",
              "        text-align: right;\n",
              "    }\n",
              "</style>\n",
              "<table border=\"1\" class=\"dataframe\">\n",
              "  <thead>\n",
              "    <tr style=\"text-align: right;\">\n",
              "      <th></th>\n",
              "      <th>País</th>\n",
              "      <th>Ano</th>\n",
              "      <th>Taxa de hospitais psiquiátricos</th>\n",
              "      <th>Taxa de unidades psiquiátricas em hospitais</th>\n",
              "      <th>Taxa de ambulatórios psiquiátricos</th>\n",
              "      <th>Taxa de tratamentos psiquiátricos diários</th>\n",
              "      <th>Taxa de instalações comunitárias</th>\n",
              "    </tr>\n",
              "  </thead>\n",
              "  <tbody>\n",
              "  </tbody>\n",
              "</table>\n",
              "</div>"
            ],
            "text/plain": [
              "Empty DataFrame\n",
              "Columns: [País, Ano, Taxa de hospitais psiquiátricos, Taxa de unidades psiquiátricas em hospitais, Taxa de ambulatórios psiquiátricos, Taxa de tratamentos psiquiátricos diários, Taxa de instalações comunitárias]\n",
              "Index: []"
            ]
          },
          "metadata": {
            "tags": []
          },
          "execution_count": 136
        }
      ]
    },
    {
      "cell_type": "markdown",
      "metadata": {
        "id": "56NH0AXTqSlP"
      },
      "source": [
        "**Todas as taxas são relativas a quantidade por 100 mil habitantes.**"
      ]
    },
    {
      "cell_type": "code",
      "metadata": {
        "colab": {
          "base_uri": "https://localhost:8080/"
        },
        "id": "4eM2UskXABp7",
        "outputId": "8125174a-bdce-4d45-d2c2-f0dacfecd4bc"
      },
      "source": [
        "# Visualizando tamanho total do banco \n",
        "df_saudeM2016.shape"
      ],
      "execution_count": null,
      "outputs": [
        {
          "output_type": "execute_result",
          "data": {
            "text/plain": [
              "(163, 7)"
            ]
          },
          "metadata": {
            "tags": []
          },
          "execution_count": 137
        }
      ]
    },
    {
      "cell_type": "markdown",
      "metadata": {
        "id": "SPlwo25qAl0R"
      },
      "source": [
        "De acordo com o comando executado o banco de dados tem 163 linhas e 7 colunas"
      ]
    },
    {
      "cell_type": "code",
      "metadata": {
        "id": "gj7-bcvuq2Ur"
      },
      "source": [
        "#seleção dos países da América Latina + 3 países ricos (EUA, Alemanha e Japão)\n",
        "\n",
        "lista2 = list(['Brazil', 'Antigua and Barbuda', 'Argentina', 'Bahamas', 'Barbados', 'Belize',\n",
        "              'Bolivia (Plurinational State of)', 'Chile', 'Colombia', 'Costa Rica', 'Cuba', 'Ecuador',\n",
        "              'El Salvador', 'Grenada', 'Guatemala', 'Guyana', 'Haiti', 'Jamaica', 'Mexico', 'Nicaragua', \n",
        "              'Panama', 'Paraguay', 'Peru', 'Saint Vincent and the Grenadines', 'Saint Lucia',\n",
        "              'Trinidad and Tobago', 'Uruguay', 'Venezuela (Bolivarian Republic of)', \n",
        "               'United States of America', 'Germany', 'Japan'])\n",
        "\n",
        "df_saudeM2016 = df_saudeM2016.loc[df_saudeM2016['País'].isin(lista2)]"
      ],
      "execution_count": null,
      "outputs": []
    },
    {
      "cell_type": "code",
      "metadata": {
        "colab": {
          "base_uri": "https://localhost:8080/",
          "height": 427
        },
        "id": "Dp6XhwGEtIc4",
        "outputId": "2e18a14d-bf50-4961-f18f-874a91695ee1"
      },
      "source": [
        "#visualizar mudanças a partir da seleção específica de países\n",
        "df_saudeM2016.head(10)"
      ],
      "execution_count": null,
      "outputs": [
        {
          "output_type": "execute_result",
          "data": {
            "text/html": [
              "<div>\n",
              "<style scoped>\n",
              "    .dataframe tbody tr th:only-of-type {\n",
              "        vertical-align: middle;\n",
              "    }\n",
              "\n",
              "    .dataframe tbody tr th {\n",
              "        vertical-align: top;\n",
              "    }\n",
              "\n",
              "    .dataframe thead th {\n",
              "        text-align: right;\n",
              "    }\n",
              "</style>\n",
              "<table border=\"1\" class=\"dataframe\">\n",
              "  <thead>\n",
              "    <tr style=\"text-align: right;\">\n",
              "      <th></th>\n",
              "      <th>País</th>\n",
              "      <th>Ano</th>\n",
              "      <th>Taxa de hospitais psiquiátricos</th>\n",
              "      <th>Taxa de unidades psiquiátricas em hospitais</th>\n",
              "      <th>Taxa de ambulatórios psiquiátricos</th>\n",
              "      <th>Taxa de tratamentos psiquiátricos diários</th>\n",
              "      <th>Taxa de instalações comunitárias</th>\n",
              "    </tr>\n",
              "  </thead>\n",
              "  <tbody>\n",
              "    <tr>\n",
              "      <th>4</th>\n",
              "      <td>Antigua and Barbuda</td>\n",
              "      <td>2016</td>\n",
              "      <td>1.001</td>\n",
              "      <td>NaN</td>\n",
              "      <td>NaN</td>\n",
              "      <td>NaN</td>\n",
              "      <td>NaN</td>\n",
              "    </tr>\n",
              "    <tr>\n",
              "      <th>5</th>\n",
              "      <td>Argentina</td>\n",
              "      <td>2016</td>\n",
              "      <td>0.937</td>\n",
              "      <td>1.071</td>\n",
              "      <td>1.720</td>\n",
              "      <td>NaN</td>\n",
              "      <td>0.152</td>\n",
              "    </tr>\n",
              "    <tr>\n",
              "      <th>10</th>\n",
              "      <td>Bahamas</td>\n",
              "      <td>2015</td>\n",
              "      <td>0.259</td>\n",
              "      <td>0.259</td>\n",
              "      <td>0.517</td>\n",
              "      <td>0.259</td>\n",
              "      <td>NaN</td>\n",
              "    </tr>\n",
              "    <tr>\n",
              "      <th>13</th>\n",
              "      <td>Barbados</td>\n",
              "      <td>2015</td>\n",
              "      <td>0.352</td>\n",
              "      <td>0.352</td>\n",
              "      <td>4.574</td>\n",
              "      <td>NaN</td>\n",
              "      <td>0.704</td>\n",
              "    </tr>\n",
              "    <tr>\n",
              "      <th>16</th>\n",
              "      <td>Belize</td>\n",
              "      <td>2016</td>\n",
              "      <td>NaN</td>\n",
              "      <td>1.948</td>\n",
              "      <td>2.227</td>\n",
              "      <td>0.278</td>\n",
              "      <td>0.278</td>\n",
              "    </tr>\n",
              "    <tr>\n",
              "      <th>18</th>\n",
              "      <td>Bolivia (Plurinational State of)</td>\n",
              "      <td>2016</td>\n",
              "      <td>0.075</td>\n",
              "      <td>0.009</td>\n",
              "      <td>0.009</td>\n",
              "      <td>NaN</td>\n",
              "      <td>NaN</td>\n",
              "    </tr>\n",
              "    <tr>\n",
              "      <th>21</th>\n",
              "      <td>Brazil</td>\n",
              "      <td>2016</td>\n",
              "      <td>0.069</td>\n",
              "      <td>0.115</td>\n",
              "      <td>1.491</td>\n",
              "      <td>NaN</td>\n",
              "      <td>0.267</td>\n",
              "    </tr>\n",
              "    <tr>\n",
              "      <th>31</th>\n",
              "      <td>Chile</td>\n",
              "      <td>2016</td>\n",
              "      <td>0.023</td>\n",
              "      <td>0.175</td>\n",
              "      <td>0.839</td>\n",
              "      <td>0.315</td>\n",
              "      <td>1.171</td>\n",
              "    </tr>\n",
              "    <tr>\n",
              "      <th>33</th>\n",
              "      <td>Colombia</td>\n",
              "      <td>2016</td>\n",
              "      <td>1.988</td>\n",
              "      <td>0.222</td>\n",
              "      <td>0.292</td>\n",
              "      <td>NaN</td>\n",
              "      <td>NaN</td>\n",
              "    </tr>\n",
              "    <tr>\n",
              "      <th>37</th>\n",
              "      <td>Costa Rica</td>\n",
              "      <td>2016</td>\n",
              "      <td>0.042</td>\n",
              "      <td>0.042</td>\n",
              "      <td>1.706</td>\n",
              "      <td>0.125</td>\n",
              "      <td>0.042</td>\n",
              "    </tr>\n",
              "  </tbody>\n",
              "</table>\n",
              "</div>"
            ],
            "text/plain": [
              "                                País  ...  Taxa de instalações comunitárias\n",
              "4                Antigua and Barbuda  ...                               NaN\n",
              "5                          Argentina  ...                             0.152\n",
              "10                           Bahamas  ...                               NaN\n",
              "13                          Barbados  ...                             0.704\n",
              "16                            Belize  ...                             0.278\n",
              "18  Bolivia (Plurinational State of)  ...                               NaN\n",
              "21                            Brazil  ...                             0.267\n",
              "31                             Chile  ...                             1.171\n",
              "33                          Colombia  ...                               NaN\n",
              "37                        Costa Rica  ...                             0.042\n",
              "\n",
              "[10 rows x 7 columns]"
            ]
          },
          "metadata": {
            "tags": []
          },
          "execution_count": 139
        }
      ]
    },
    {
      "cell_type": "code",
      "metadata": {
        "colab": {
          "base_uri": "https://localhost:8080/"
        },
        "id": "GZU6RmjdtVXU",
        "outputId": "4d0c1dcc-b32d-4603-b5c4-4953c20a0fda"
      },
      "source": [
        "# Visualizando mudanças no tamanho total do banco \n",
        "df_saudeM2016.shape"
      ],
      "execution_count": null,
      "outputs": [
        {
          "output_type": "execute_result",
          "data": {
            "text/plain": [
              "(30, 7)"
            ]
          },
          "metadata": {
            "tags": []
          },
          "execution_count": 140
        }
      ]
    },
    {
      "cell_type": "markdown",
      "metadata": {
        "id": "Qr2dTSaNtbSh"
      },
      "source": [
        "Conforme se observa, após a seleção específica de países da América Latina e de três países ricos (EUA, Alemanha e Japão), o número de linhas diminuiu para 30."
      ]
    },
    {
      "cell_type": "code",
      "metadata": {
        "id": "o_W-_L9eC7O1"
      },
      "source": [
        "#Transformar as variáveis da coluna 'Ano' que são do tipo inteiro para o \n",
        "#tipo string. Assim evita-se criar estatísticas a partir do numeral do ano\n",
        "\n",
        "df_saudeM2016['Ano'] = df_saudeM2016['Ano'].astype(str)"
      ],
      "execution_count": null,
      "outputs": []
    },
    {
      "cell_type": "code",
      "metadata": {
        "colab": {
          "base_uri": "https://localhost:8080/"
        },
        "id": "0746XuAq89kA",
        "outputId": "42e0568e-c939-446d-e445-9acad4311582"
      },
      "source": [
        "#Quantidade de dados em cada coluna, tipo de variável\n",
        "\n",
        "df_saudeM2016.info()"
      ],
      "execution_count": null,
      "outputs": [
        {
          "output_type": "stream",
          "text": [
            "<class 'pandas.core.frame.DataFrame'>\n",
            "Int64Index: 30 entries, 4 to 156\n",
            "Data columns (total 7 columns):\n",
            " #   Column                                       Non-Null Count  Dtype  \n",
            "---  ------                                       --------------  -----  \n",
            " 0   País                                         30 non-null     object \n",
            " 1   Ano                                          30 non-null     object \n",
            " 2   Taxa de hospitais psiquiátricos              29 non-null     float64\n",
            " 3   Taxa de unidades psiquiátricas em hospitais  26 non-null     float64\n",
            " 4   Taxa de ambulatórios psiquiátricos           28 non-null     float64\n",
            " 5   Taxa de tratamentos psiquiátricos diários    15 non-null     float64\n",
            " 6   Taxa de instalações comunitárias             15 non-null     float64\n",
            "dtypes: float64(5), object(2)\n",
            "memory usage: 1.9+ KB\n"
          ],
          "name": "stdout"
        }
      ]
    },
    {
      "cell_type": "code",
      "metadata": {
        "colab": {
          "base_uri": "https://localhost:8080/",
          "height": 331
        },
        "id": "Gjh0eIIb9cyL",
        "outputId": "a9ab64da-dc48-4b61-dd30-f760b112d46b"
      },
      "source": [
        "#estatísticas básicas sobre a base de dados\n",
        "\n",
        "df_saudeM2016.describe()"
      ],
      "execution_count": null,
      "outputs": [
        {
          "output_type": "execute_result",
          "data": {
            "text/html": [
              "<div>\n",
              "<style scoped>\n",
              "    .dataframe tbody tr th:only-of-type {\n",
              "        vertical-align: middle;\n",
              "    }\n",
              "\n",
              "    .dataframe tbody tr th {\n",
              "        vertical-align: top;\n",
              "    }\n",
              "\n",
              "    .dataframe thead th {\n",
              "        text-align: right;\n",
              "    }\n",
              "</style>\n",
              "<table border=\"1\" class=\"dataframe\">\n",
              "  <thead>\n",
              "    <tr style=\"text-align: right;\">\n",
              "      <th></th>\n",
              "      <th>Taxa de hospitais psiquiátricos</th>\n",
              "      <th>Taxa de unidades psiquiátricas em hospitais</th>\n",
              "      <th>Taxa de ambulatórios psiquiátricos</th>\n",
              "      <th>Taxa de tratamentos psiquiátricos diários</th>\n",
              "      <th>Taxa de instalações comunitárias</th>\n",
              "    </tr>\n",
              "  </thead>\n",
              "  <tbody>\n",
              "    <tr>\n",
              "      <th>count</th>\n",
              "      <td>29.000000</td>\n",
              "      <td>26.000000</td>\n",
              "      <td>28.000000</td>\n",
              "      <td>15.000000</td>\n",
              "      <td>15.000000</td>\n",
              "    </tr>\n",
              "    <tr>\n",
              "      <th>mean</th>\n",
              "      <td>0.583310</td>\n",
              "      <td>0.318962</td>\n",
              "      <td>2.583143</td>\n",
              "      <td>2.987800</td>\n",
              "      <td>0.594667</td>\n",
              "    </tr>\n",
              "    <tr>\n",
              "      <th>std</th>\n",
              "      <td>1.554114</td>\n",
              "      <td>0.435043</td>\n",
              "      <td>4.166354</td>\n",
              "      <td>9.101527</td>\n",
              "      <td>0.835805</td>\n",
              "    </tr>\n",
              "    <tr>\n",
              "      <th>min</th>\n",
              "      <td>0.006000</td>\n",
              "      <td>0.006000</td>\n",
              "      <td>0.009000</td>\n",
              "      <td>0.015000</td>\n",
              "      <td>0.006000</td>\n",
              "    </tr>\n",
              "    <tr>\n",
              "      <th>25%</th>\n",
              "      <td>0.029000</td>\n",
              "      <td>0.045750</td>\n",
              "      <td>0.284000</td>\n",
              "      <td>0.076500</td>\n",
              "      <td>0.037500</td>\n",
              "    </tr>\n",
              "    <tr>\n",
              "      <th>50%</th>\n",
              "      <td>0.075000</td>\n",
              "      <td>0.174000</td>\n",
              "      <td>1.127500</td>\n",
              "      <td>0.259000</td>\n",
              "      <td>0.267000</td>\n",
              "    </tr>\n",
              "    <tr>\n",
              "      <th>75%</th>\n",
              "      <td>0.352000</td>\n",
              "      <td>0.351250</td>\n",
              "      <td>2.755000</td>\n",
              "      <td>0.528500</td>\n",
              "      <td>0.937500</td>\n",
              "    </tr>\n",
              "    <tr>\n",
              "      <th>max</th>\n",
              "      <td>8.314000</td>\n",
              "      <td>1.948000</td>\n",
              "      <td>19.751000</td>\n",
              "      <td>35.631000</td>\n",
              "      <td>2.994000</td>\n",
              "    </tr>\n",
              "  </tbody>\n",
              "</table>\n",
              "</div>"
            ],
            "text/plain": [
              "       Taxa de hospitais psiquiátricos  ...  Taxa de instalações comunitárias\n",
              "count                        29.000000  ...                         15.000000\n",
              "mean                          0.583310  ...                          0.594667\n",
              "std                           1.554114  ...                          0.835805\n",
              "min                           0.006000  ...                          0.006000\n",
              "25%                           0.029000  ...                          0.037500\n",
              "50%                           0.075000  ...                          0.267000\n",
              "75%                           0.352000  ...                          0.937500\n",
              "max                           8.314000  ...                          2.994000\n",
              "\n",
              "[8 rows x 5 columns]"
            ]
          },
          "metadata": {
            "tags": []
          },
          "execution_count": 74
        }
      ]
    },
    {
      "cell_type": "markdown",
      "metadata": {
        "id": "6bVsOYKaBJ94"
      },
      "source": [
        "//escrever aqui breve análise observada a partir dos dados"
      ]
    },
    {
      "cell_type": "code",
      "metadata": {
        "colab": {
          "base_uri": "https://localhost:8080/"
        },
        "id": "AXcWa8e_DSb3",
        "outputId": "bd54145c-bcde-417b-be61-5adcfa922dbe"
      },
      "source": [
        "#inserção de mais uma coluna, agora com a taxa de suicídios dos países selecionados para o ano 2016\n",
        "#desta forma é possível observar correlações entre a quantidade de instalações\n",
        "#de saúde mental e a quantidade de suicídios em cada país no ano de 2016 \n",
        "\n",
        "Taxa_suicidios = [0.5, 8.3, 3.6, 0.6, 5.8, 6.6, 6.0, 10.0, 4.2, 7.7, 13.4, 9.0, \n",
        "                  9.6, 13.0, 1.0, 5.7, 37.9, 9.8, 3.4, 17.5, 5.6, 4.4, 3.3, 5.3, \n",
        "                  2.6, 7.4, 0.7, 9.8, 15.1, 21.1]\n",
        "df_saudeM2016['Taxa de suicídios (2016)'] = Taxa_suicidios\n",
        "print(df_saudeM2016)\n",
        "\n"
      ],
      "execution_count": null,
      "outputs": [
        {
          "output_type": "stream",
          "text": [
            "                                 País  ... Taxa de suicídios (2016)\n",
            "4                 Antigua and Barbuda  ...                      0.5\n",
            "5                           Argentina  ...                      8.3\n",
            "10                            Bahamas  ...                      3.6\n",
            "13                           Barbados  ...                      0.6\n",
            "16                             Belize  ...                      5.8\n",
            "18   Bolivia (Plurinational State of)  ...                      6.6\n",
            "21                             Brazil  ...                      6.0\n",
            "31                              Chile  ...                     10.0\n",
            "33                           Colombia  ...                      4.2\n",
            "37                         Costa Rica  ...                      7.7\n",
            "40                               Cuba  ...                     13.4\n",
            "44                            Ecuador  ...                      9.0\n",
            "46                        El Salvador  ...                      9.6\n",
            "56                            Germany  ...                     13.0\n",
            "59                            Grenada  ...                      1.0\n",
            "60                          Guatemala  ...                      5.7\n",
            "63                             Guyana  ...                     37.9\n",
            "64                              Haiti  ...                      9.8\n",
            "75                            Jamaica  ...                      3.4\n",
            "76                              Japan  ...                     17.5\n",
            "94                             Mexico  ...                      5.6\n",
            "106                         Nicaragua  ...                      4.4\n",
            "111                            Panama  ...                      3.3\n",
            "112                          Paraguay  ...                      5.3\n",
            "113                              Peru  ...                      2.6\n",
            "125                       Saint Lucia  ...                      7.4\n",
            "126  Saint Vincent and the Grenadines  ...                      0.7\n",
            "148               Trinidad and Tobago  ...                      9.8\n",
            "155          United States of America  ...                     15.1\n",
            "156                           Uruguay  ...                     21.1\n",
            "\n",
            "[30 rows x 8 columns]\n"
          ],
          "name": "stdout"
        }
      ]
    },
    {
      "cell_type": "code",
      "metadata": {
        "colab": {
          "base_uri": "https://localhost:8080/",
          "height": 561
        },
        "id": "y7rVrGq1Hg6j",
        "outputId": "f130a886-00f6-4478-83aa-928cc5666621"
      },
      "source": [
        "#exibindo resultados para EUA, Alemanha e Japão, afim de comparar diferenças\n",
        "print(df_saudeM2016['Japan'])"
      ],
      "execution_count": null,
      "outputs": [
        {
          "output_type": "error",
          "ename": "KeyError",
          "evalue": "ignored",
          "traceback": [
            "\u001b[0;31m---------------------------------------------------------------------------\u001b[0m",
            "\u001b[0;31mKeyError\u001b[0m                                  Traceback (most recent call last)",
            "\u001b[0;32m/usr/local/lib/python3.7/dist-packages/pandas/core/indexes/base.py\u001b[0m in \u001b[0;36mget_loc\u001b[0;34m(self, key, method, tolerance)\u001b[0m\n\u001b[1;32m   2897\u001b[0m             \u001b[0;32mtry\u001b[0m\u001b[0;34m:\u001b[0m\u001b[0;34m\u001b[0m\u001b[0;34m\u001b[0m\u001b[0m\n\u001b[0;32m-> 2898\u001b[0;31m                 \u001b[0;32mreturn\u001b[0m \u001b[0mself\u001b[0m\u001b[0;34m.\u001b[0m\u001b[0m_engine\u001b[0m\u001b[0;34m.\u001b[0m\u001b[0mget_loc\u001b[0m\u001b[0;34m(\u001b[0m\u001b[0mcasted_key\u001b[0m\u001b[0;34m)\u001b[0m\u001b[0;34m\u001b[0m\u001b[0;34m\u001b[0m\u001b[0m\n\u001b[0m\u001b[1;32m   2899\u001b[0m             \u001b[0;32mexcept\u001b[0m \u001b[0mKeyError\u001b[0m \u001b[0;32mas\u001b[0m \u001b[0merr\u001b[0m\u001b[0;34m:\u001b[0m\u001b[0;34m\u001b[0m\u001b[0;34m\u001b[0m\u001b[0m\n",
            "\u001b[0;32mpandas/_libs/index.pyx\u001b[0m in \u001b[0;36mpandas._libs.index.IndexEngine.get_loc\u001b[0;34m()\u001b[0m\n",
            "\u001b[0;32mpandas/_libs/index.pyx\u001b[0m in \u001b[0;36mpandas._libs.index.IndexEngine.get_loc\u001b[0;34m()\u001b[0m\n",
            "\u001b[0;32mpandas/_libs/hashtable_class_helper.pxi\u001b[0m in \u001b[0;36mpandas._libs.hashtable.PyObjectHashTable.get_item\u001b[0;34m()\u001b[0m\n",
            "\u001b[0;32mpandas/_libs/hashtable_class_helper.pxi\u001b[0m in \u001b[0;36mpandas._libs.hashtable.PyObjectHashTable.get_item\u001b[0;34m()\u001b[0m\n",
            "\u001b[0;31mKeyError\u001b[0m: 'Japan'",
            "\nThe above exception was the direct cause of the following exception:\n",
            "\u001b[0;31mKeyError\u001b[0m                                  Traceback (most recent call last)",
            "\u001b[0;32m<ipython-input-82-cb9c8b3d732d>\u001b[0m in \u001b[0;36m<module>\u001b[0;34m()\u001b[0m\n\u001b[1;32m      1\u001b[0m \u001b[0;31m#exibindo resultados para EUA, Alemanha e Japão, afim de comparar diferenças\u001b[0m\u001b[0;34m\u001b[0m\u001b[0;34m\u001b[0m\u001b[0;34m\u001b[0m\u001b[0m\n\u001b[0;32m----> 2\u001b[0;31m \u001b[0mprint\u001b[0m\u001b[0;34m(\u001b[0m\u001b[0mdf_saudeM2016\u001b[0m\u001b[0;34m[\u001b[0m\u001b[0;34m'Japan'\u001b[0m\u001b[0;34m]\u001b[0m\u001b[0;34m)\u001b[0m\u001b[0;34m\u001b[0m\u001b[0;34m\u001b[0m\u001b[0m\n\u001b[0m",
            "\u001b[0;32m/usr/local/lib/python3.7/dist-packages/pandas/core/frame.py\u001b[0m in \u001b[0;36m__getitem__\u001b[0;34m(self, key)\u001b[0m\n\u001b[1;32m   2904\u001b[0m             \u001b[0;32mif\u001b[0m \u001b[0mself\u001b[0m\u001b[0;34m.\u001b[0m\u001b[0mcolumns\u001b[0m\u001b[0;34m.\u001b[0m\u001b[0mnlevels\u001b[0m \u001b[0;34m>\u001b[0m \u001b[0;36m1\u001b[0m\u001b[0;34m:\u001b[0m\u001b[0;34m\u001b[0m\u001b[0;34m\u001b[0m\u001b[0m\n\u001b[1;32m   2905\u001b[0m                 \u001b[0;32mreturn\u001b[0m \u001b[0mself\u001b[0m\u001b[0;34m.\u001b[0m\u001b[0m_getitem_multilevel\u001b[0m\u001b[0;34m(\u001b[0m\u001b[0mkey\u001b[0m\u001b[0;34m)\u001b[0m\u001b[0;34m\u001b[0m\u001b[0;34m\u001b[0m\u001b[0m\n\u001b[0;32m-> 2906\u001b[0;31m             \u001b[0mindexer\u001b[0m \u001b[0;34m=\u001b[0m \u001b[0mself\u001b[0m\u001b[0;34m.\u001b[0m\u001b[0mcolumns\u001b[0m\u001b[0;34m.\u001b[0m\u001b[0mget_loc\u001b[0m\u001b[0;34m(\u001b[0m\u001b[0mkey\u001b[0m\u001b[0;34m)\u001b[0m\u001b[0;34m\u001b[0m\u001b[0;34m\u001b[0m\u001b[0m\n\u001b[0m\u001b[1;32m   2907\u001b[0m             \u001b[0;32mif\u001b[0m \u001b[0mis_integer\u001b[0m\u001b[0;34m(\u001b[0m\u001b[0mindexer\u001b[0m\u001b[0;34m)\u001b[0m\u001b[0;34m:\u001b[0m\u001b[0;34m\u001b[0m\u001b[0;34m\u001b[0m\u001b[0m\n\u001b[1;32m   2908\u001b[0m                 \u001b[0mindexer\u001b[0m \u001b[0;34m=\u001b[0m \u001b[0;34m[\u001b[0m\u001b[0mindexer\u001b[0m\u001b[0;34m]\u001b[0m\u001b[0;34m\u001b[0m\u001b[0;34m\u001b[0m\u001b[0m\n",
            "\u001b[0;32m/usr/local/lib/python3.7/dist-packages/pandas/core/indexes/base.py\u001b[0m in \u001b[0;36mget_loc\u001b[0;34m(self, key, method, tolerance)\u001b[0m\n\u001b[1;32m   2898\u001b[0m                 \u001b[0;32mreturn\u001b[0m \u001b[0mself\u001b[0m\u001b[0;34m.\u001b[0m\u001b[0m_engine\u001b[0m\u001b[0;34m.\u001b[0m\u001b[0mget_loc\u001b[0m\u001b[0;34m(\u001b[0m\u001b[0mcasted_key\u001b[0m\u001b[0;34m)\u001b[0m\u001b[0;34m\u001b[0m\u001b[0;34m\u001b[0m\u001b[0m\n\u001b[1;32m   2899\u001b[0m             \u001b[0;32mexcept\u001b[0m \u001b[0mKeyError\u001b[0m \u001b[0;32mas\u001b[0m \u001b[0merr\u001b[0m\u001b[0;34m:\u001b[0m\u001b[0;34m\u001b[0m\u001b[0;34m\u001b[0m\u001b[0m\n\u001b[0;32m-> 2900\u001b[0;31m                 \u001b[0;32mraise\u001b[0m \u001b[0mKeyError\u001b[0m\u001b[0;34m(\u001b[0m\u001b[0mkey\u001b[0m\u001b[0;34m)\u001b[0m \u001b[0;32mfrom\u001b[0m \u001b[0merr\u001b[0m\u001b[0;34m\u001b[0m\u001b[0;34m\u001b[0m\u001b[0m\n\u001b[0m\u001b[1;32m   2901\u001b[0m \u001b[0;34m\u001b[0m\u001b[0m\n\u001b[1;32m   2902\u001b[0m         \u001b[0;32mif\u001b[0m \u001b[0mtolerance\u001b[0m \u001b[0;32mis\u001b[0m \u001b[0;32mnot\u001b[0m \u001b[0;32mNone\u001b[0m\u001b[0;34m:\u001b[0m\u001b[0;34m\u001b[0m\u001b[0;34m\u001b[0m\u001b[0m\n",
            "\u001b[0;31mKeyError\u001b[0m: 'Japan'"
          ]
        }
      ]
    },
    {
      "cell_type": "code",
      "metadata": {
        "id": "iwEFmI-d_HiF"
      },
      "source": [
        "# Importar bibliotecas necessárias para visualização dos dados\n",
        "import matplotlib.pyplot as plt\n",
        "import seaborn as sns"
      ],
      "execution_count": null,
      "outputs": []
    },
    {
      "cell_type": "code",
      "metadata": {
        "id": "keyyCqmLIsyD"
      },
      "source": [
        ""
      ],
      "execution_count": null,
      "outputs": []
    },
    {
      "cell_type": "code",
      "metadata": {
        "colab": {
          "base_uri": "https://localhost:8080/",
          "height": 535
        },
        "id": "-C7kIN09_yOm",
        "outputId": "82097171-8314-4b10-f16c-a3872d566759"
      },
      "source": [
        "#exibição de um gráfico de correlação entre variáveis\n",
        "\n",
        "plt.figure (figsize = (6,5)) \n",
        "cor = df_saudeM2016.corr () \n",
        "sns.heatmap (cor, annot = True, cmap = plt.cm.Reds) \n",
        "plt.show ()"
      ],
      "execution_count": null,
      "outputs": [
        {
          "output_type": "display_data",
          "data": {
            "image/png": "[encoded data removed]",
            "text/plain": [
              "<Figure size 432x360 with 2 Axes>"
            ]
          },
          "metadata": {
            "tags": [],
            "needs_background": "light"
          }
        }
      ]
    },
    {
      "cell_type": "markdown",
      "metadata": {
        "id": "wlzF13LsDoaP"
      },
      "source": [
        "// fazer breve análise acerca dos níveis de correlação observados"
      ]
    },
    {
      "cell_type": "code",
      "metadata": {
        "colab": {
          "base_uri": "https://localhost:8080/"
        },
        "id": "WrASJRoKE22j",
        "outputId": "e07997d2-7064-420e-8973-b9bbecfa475c"
      },
      "source": [
        "# Exibindo a correlação das demais variáveis com a quantidade (taxa) de hospitais de saúde mental \n",
        "corr_taxaHospSM = cor['Taxa de hospitais psiquiátricos']\n",
        "print(corr_taxaHospSM)"
      ],
      "execution_count": null,
      "outputs": [
        {
          "output_type": "stream",
          "text": [
            "Taxa de hospitais psiquiátricos                1.000000\n",
            "Taxa de unidades psiquiátricas em hospitais    0.273249\n",
            "Taxa de ambulatórios psiquiátricos             0.274971\n",
            "Taxa de tratamentos psiquiátricos diários      0.117629\n",
            "Taxa de instalações comunitárias              -0.084582\n",
            "Name: Taxa de hospitais psiquiátricos, dtype: float64\n"
          ],
          "name": "stdout"
        }
      ]
    },
    {
      "cell_type": "code",
      "metadata": {
        "colab": {
          "base_uri": "https://localhost:8080/"
        },
        "id": "b-uICcUBE3YD",
        "outputId": "d53d2a68-b85f-4734-a4c6-af9434f7db58"
      },
      "source": [
        "# Seleção das características altamente correlacionadas, com nível de correlação maior que 0,5\n",
        "alta_corr = corr_taxaHospSM[(abs(corr_taxaHospSM) > 0.5)] \n",
        "print(alta_corr)\n"
      ],
      "execution_count": null,
      "outputs": [
        {
          "output_type": "stream",
          "text": [
            "Taxa de hospitais psiquiátricos    1.0\n",
            "Name: Taxa de hospitais psiquiátricos, dtype: float64\n"
          ],
          "name": "stdout"
        }
      ]
    },
    {
      "cell_type": "markdown",
      "metadata": {
        "id": "IMt35OiQH2pl"
      },
      "source": [
        "--> Ou seja, pelo resultado observado, não houve nenhuma outra variável altamente correlacionada com a taxa de quantiadade de hospitais de saúde mental"
      ]
    },
    {
      "cell_type": "code",
      "metadata": {
        "id": "_9kGS_opIML5"
      },
      "source": [
        "#quantidades de valores de algumas colunas\n",
        "df_cwb['Sexo'].value_counts()"
      ],
      "execution_count": null,
      "outputs": []
    }
  ]
}