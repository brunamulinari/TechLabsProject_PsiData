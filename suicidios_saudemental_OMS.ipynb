{
  "nbformat": 4,
  "nbformat_minor": 0,
  "metadata": {
    "colab": {
      "name": "suicidios_saudemental_OMS.ipynb",
      "provenance": [],
      "collapsed_sections": [
        "pZcUlqrdFbAW",
        "bi_cHluiFhdM",
        "HauVR4IQcaBt",
        "h4ywvEuOUjDR",
        "EkzYyhjdZqXx",
        "UBHXyVHpbCYy",
        "i29Z08NSbyZv",
        "p6ou2kEAu8GI",
        "t9L9HxB2vp6D",
        "MID9q-9SSpJm"
      ],
      "authorship_tag": "ABX9TyOAJSReUlh2Syk0KIDgshTo",
      "include_colab_link": true
    },
    "kernelspec": {
      "display_name": "Python 3",
      "name": "python3"
    },
    "language_info": {
      "name": "python"
    }
  },
  "cells": [
    {
      "cell_type": "markdown",
      "metadata": {
        "id": "view-in-github",
        "colab_type": "text"
      },
      "source": [
        "<a href=\"https://colab.research.google.com/github/brunamulinari/TechLabsProject_PsiData/blob/main/suicidios_saudemental_OMS.ipynb\" target=\"_parent\"><img src=\"https://colab.research.google.com/assets/colab-badge.svg\" alt=\"Open In Colab\"/></a>"
      ]
    },
    {
      "cell_type": "markdown",
      "metadata": {
        "id": "oCpLddAgBo-H"
      },
      "source": [
        "# Dados da OMS sobre suicídio por países da América Latina, para comparação com amostra de países ricos - de 2017 a 2019\n"
      ]
    },
    {
      "cell_type": "markdown",
      "metadata": {
        "id": "lAX8LXznDuCz"
      },
      "source": [
        "## Seleção e tratamento de dados"
      ]
    },
    {
      "cell_type": "markdown",
      "metadata": {
        "id": "bmsxYWJxx4v6"
      },
      "source": [
        "A base original tem dados desde os anos 2000 até 2019, no entanto a intenção é utilizar apenas dos anos 2017 até 2019."
      ]
    },
    {
      "cell_type": "markdown",
      "metadata": {
        "id": "IZZI_TerBs7Z"
      },
      "source": [
        "A base também possui dados sobre todos os países, porém a intenção é capturar dados apenas dos países da América Latina e comparar com os dados de alguns outros países com alta renda per capita.\n"
      ]
    },
    {
      "cell_type": "code",
      "metadata": {
        "id": "UWksBV0hbXd8"
      },
      "source": [
        "#Bibliotecas utilizadas\n",
        "import pandas as pd\n",
        "import numpy as np"
      ],
      "execution_count": null,
      "outputs": []
    },
    {
      "cell_type": "code",
      "metadata": {
        "id": "pIJB-HJtPekC"
      },
      "source": [
        "#Importando 1ª base de dados alocada em repositório do Github na pasta principal do projeto\n",
        "#Base de dados .csv da OMS sobre a taxa de suicídios dos países do ano 2000 até 2020\n",
        "\n",
        "#O link url deve ser puxado através de um link raw novo toda vez através do repositório do \n",
        "# Github, há um erro que não permite um link permanente \n",
        "url = 'https://raw.githubusercontent.com/brunamulinari/TechLabsProject_PsiData/main/OMS-taxas-suicidio-paises-2000_2020.csv?token=ATZB42WGOFNSLUWY7SEPAUDAZJWPW'\n",
        "dfsuic00_20 = pd.read_csv(url, delimiter=',', header=1)"
      ],
      "execution_count": null,
      "outputs": []
    },
    {
      "cell_type": "code",
      "metadata": {
        "colab": {
          "base_uri": "https://localhost:8080/",
          "height": 374
        },
        "id": "yOhi8RTSgHcW",
        "outputId": "cf7f3b53-0175-4db6-b462-05b14dfb22b1"
      },
      "source": [
        "#Exibindo as 5 primeiras linhas\n",
        "\n",
        "dfsuic00_20.head()"
      ],
      "execution_count": null,
      "outputs": [
        {
          "output_type": "execute_result",
          "data": {
            "text/html": [
              "<div>\n",
              "<style scoped>\n",
              "    .dataframe tbody tr th:only-of-type {\n",
              "        vertical-align: middle;\n",
              "    }\n",
              "\n",
              "    .dataframe tbody tr th {\n",
              "        vertical-align: top;\n",
              "    }\n",
              "\n",
              "    .dataframe thead th {\n",
              "        text-align: right;\n",
              "    }\n",
              "</style>\n",
              "<table border=\"1\" class=\"dataframe\">\n",
              "  <thead>\n",
              "    <tr style=\"text-align: right;\">\n",
              "      <th></th>\n",
              "      <th>Country</th>\n",
              "      <th>Sex</th>\n",
              "      <th>2019</th>\n",
              "      <th>2018</th>\n",
              "      <th>2017</th>\n",
              "      <th>2016</th>\n",
              "      <th>2015</th>\n",
              "      <th>2014</th>\n",
              "      <th>2013</th>\n",
              "      <th>2012</th>\n",
              "      <th>2011</th>\n",
              "      <th>2010</th>\n",
              "      <th>2009</th>\n",
              "      <th>2008</th>\n",
              "      <th>2007</th>\n",
              "      <th>2006</th>\n",
              "      <th>2005</th>\n",
              "      <th>2004</th>\n",
              "      <th>2003</th>\n",
              "      <th>2002</th>\n",
              "      <th>2001</th>\n",
              "      <th>2000</th>\n",
              "    </tr>\n",
              "  </thead>\n",
              "  <tbody>\n",
              "    <tr>\n",
              "      <th>0</th>\n",
              "      <td>Afghanistan</td>\n",
              "      <td>Both sexes</td>\n",
              "      <td>4.1 [2.3-7.0]</td>\n",
              "      <td>4.1 [2.3-6.8]</td>\n",
              "      <td>4.1 [2.3-6.8]</td>\n",
              "      <td>4.0 [2.3-6.7]</td>\n",
              "      <td>4.0 [2.3-6.6]</td>\n",
              "      <td>3.9 [2.3-6.6]</td>\n",
              "      <td>4.0 [2.3-6.7]</td>\n",
              "      <td>4.0 [2.3-6.6]</td>\n",
              "      <td>4.1 [2.4-6.8]</td>\n",
              "      <td>4.3 [2.5-7.0]</td>\n",
              "      <td>4.4 [2.6-7.2]</td>\n",
              "      <td>4.6 [2.7-7.6]</td>\n",
              "      <td>4.8 [2.8-7.9]</td>\n",
              "      <td>4.9 [2.8-8.0]</td>\n",
              "      <td>5.0 [2.9-8.1]</td>\n",
              "      <td>5.0 [2.9-8.2]</td>\n",
              "      <td>5.0 [2.8-8.1]</td>\n",
              "      <td>5.0 [2.9-8.2]</td>\n",
              "      <td>5.0 [2.9-8.2]</td>\n",
              "      <td>4.9 [2.8-8.0]</td>\n",
              "    </tr>\n",
              "    <tr>\n",
              "      <th>1</th>\n",
              "      <td>Afghanistan</td>\n",
              "      <td>Male</td>\n",
              "      <td>4.6 [2.6-7.9]</td>\n",
              "      <td>4.6 [2.6-7.8]</td>\n",
              "      <td>4.6 [2.7-7.9]</td>\n",
              "      <td>4.4 [2.6-7.4]</td>\n",
              "      <td>4.3 [2.5-7.3]</td>\n",
              "      <td>4.2 [2.5-7.2]</td>\n",
              "      <td>4.3 [2.5-7.4]</td>\n",
              "      <td>4.3 [2.5-7.3]</td>\n",
              "      <td>4.5 [2.6-7.5]</td>\n",
              "      <td>4.6 [2.7-7.7]</td>\n",
              "      <td>4.8 [2.8-8.0]</td>\n",
              "      <td>5.1 [2.9-8.4]</td>\n",
              "      <td>5.3 [3.0-8.8]</td>\n",
              "      <td>5.4 [3.1-8.8]</td>\n",
              "      <td>5.4 [3.1-8.9]</td>\n",
              "      <td>5.4 [3.1-8.9]</td>\n",
              "      <td>5.3 [3.0-8.7]</td>\n",
              "      <td>5.4 [3.0-8.9]</td>\n",
              "      <td>5.2 [2.9-8.7]</td>\n",
              "      <td>5.0 [2.8-8.3]</td>\n",
              "    </tr>\n",
              "    <tr>\n",
              "      <th>2</th>\n",
              "      <td>Afghanistan</td>\n",
              "      <td>Female</td>\n",
              "      <td>3.6 [2.0-5.9]</td>\n",
              "      <td>3.5 [2.0-5.8]</td>\n",
              "      <td>3.4 [2.0-5.7]</td>\n",
              "      <td>3.6 [2.1-5.9]</td>\n",
              "      <td>3.6 [2.0-5.9]</td>\n",
              "      <td>3.6 [2.1-5.9]</td>\n",
              "      <td>3.7 [2.1-6.0]</td>\n",
              "      <td>3.7 [2.2-6.0]</td>\n",
              "      <td>3.8 [2.2-6.1]</td>\n",
              "      <td>3.9 [2.3-6.2]</td>\n",
              "      <td>4.0 [2.3-6.4]</td>\n",
              "      <td>4.2 [2.4-6.7]</td>\n",
              "      <td>4.3 [2.5-6.9]</td>\n",
              "      <td>4.4 [2.6-7.1]</td>\n",
              "      <td>4.5 [2.6-7.3]</td>\n",
              "      <td>4.6 [2.7-7.5]</td>\n",
              "      <td>4.6 [2.7-7.4]</td>\n",
              "      <td>4.6 [2.7-7.5]</td>\n",
              "      <td>4.8 [2.8-7.8]</td>\n",
              "      <td>4.8 [2.8-7.7]</td>\n",
              "    </tr>\n",
              "    <tr>\n",
              "      <th>3</th>\n",
              "      <td>Albania</td>\n",
              "      <td>Both sexes</td>\n",
              "      <td>4.3 [2.4-6.7]</td>\n",
              "      <td>4.5 [2.5-6.9]</td>\n",
              "      <td>4.7 [2.6-7.1]</td>\n",
              "      <td>4.7 [2.6-7.1]</td>\n",
              "      <td>4.8 [2.6-7.2]</td>\n",
              "      <td>5.0 [2.7-7.4]</td>\n",
              "      <td>5.3 [3.0-7.7]</td>\n",
              "      <td>5.2 [2.9-7.5]</td>\n",
              "      <td>7.9 [4.8-11.1]</td>\n",
              "      <td>7.8 [4.7-10.8]</td>\n",
              "      <td>8.1 [4.9-11.0]</td>\n",
              "      <td>8.2 [5.0-10.9]</td>\n",
              "      <td>8.1 [5.0-10.7]</td>\n",
              "      <td>7.8 [4.9-10.2]</td>\n",
              "      <td>7.5 [4.8-9.7]</td>\n",
              "      <td>4.8 [3.1-6.3]</td>\n",
              "      <td>4.8 [3.2-6.3]</td>\n",
              "      <td>4.6 [3.1-6.0]</td>\n",
              "      <td>4.5 [3.1-5.9]</td>\n",
              "      <td>4.9 [3.4-6.4]</td>\n",
              "    </tr>\n",
              "    <tr>\n",
              "      <th>4</th>\n",
              "      <td>Albania</td>\n",
              "      <td>Male</td>\n",
              "      <td>5.9 [3.1-9.3]</td>\n",
              "      <td>6.2 [3.2-9.6]</td>\n",
              "      <td>6.3 [3.3-9.9]</td>\n",
              "      <td>6.3 [3.2-9.7]</td>\n",
              "      <td>6.3 [3.2-9.6]</td>\n",
              "      <td>6.6 [3.4-10.0]</td>\n",
              "      <td>6.9 [3.5-10.3]</td>\n",
              "      <td>6.9 [3.5-10.1]</td>\n",
              "      <td>7.5 [3.9-10.7]</td>\n",
              "      <td>9.5 [5.0-13.4]</td>\n",
              "      <td>10.2 [5.3-14.0]</td>\n",
              "      <td>10.3 [5.5-14.0]</td>\n",
              "      <td>10.3 [5.6-13.9]</td>\n",
              "      <td>9.8 [5.4-13.0]</td>\n",
              "      <td>9.7 [5.5-12.8]</td>\n",
              "      <td>6.5 [3.8-8.5]</td>\n",
              "      <td>6.4 [3.8-8.3]</td>\n",
              "      <td>6.2 [3.9-8.1]</td>\n",
              "      <td>6.1 [3.9-8.0]</td>\n",
              "      <td>7.0 [4.6-9.2]</td>\n",
              "    </tr>\n",
              "  </tbody>\n",
              "</table>\n",
              "</div>"
            ],
            "text/plain": [
              "       Country         Sex  ...           2001           2000\n",
              "0  Afghanistan  Both sexes  ...  5.0 [2.9-8.2]  4.9 [2.8-8.0]\n",
              "1  Afghanistan        Male  ...  5.2 [2.9-8.7]  5.0 [2.8-8.3]\n",
              "2  Afghanistan      Female  ...  4.8 [2.8-7.8]  4.8 [2.8-7.7]\n",
              "3      Albania  Both sexes  ...  4.5 [3.1-5.9]  4.9 [3.4-6.4]\n",
              "4      Albania        Male  ...  6.1 [3.9-8.0]  7.0 [4.6-9.2]\n",
              "\n",
              "[5 rows x 22 columns]"
            ]
          },
          "metadata": {
            "tags": []
          },
          "execution_count": 3
        }
      ]
    },
    {
      "cell_type": "markdown",
      "metadata": {
        "id": "nWbB3gWmVw4y"
      },
      "source": [
        "**As taxas de sucídio são relativas a quantidade suicídios por 100 mil habitantes, por país, para cada ano, para ambos os sexos e para homens e mulheres.*"
      ]
    },
    {
      "cell_type": "code",
      "metadata": {
        "colab": {
          "base_uri": "https://localhost:8080/",
          "height": 204
        },
        "id": "8szCjA-JzVT4",
        "outputId": "a74a2a7a-e036-4e20-cf72-f3d70f02fda7"
      },
      "source": [
        "#excluir as colunas dos anos menores que 2017\n",
        "\n",
        "dfsuic00_20 = dfsuic00_20.drop(columns=['2016', '2015', '2014', '2013', '2012', '2011', '2010', '2009', '2008', \n",
        "                                        '2007', '2006', '2005', '2004', '2003', '2002', '2001', '2000'])\n",
        "dfsuic00_20.head()"
      ],
      "execution_count": null,
      "outputs": [
        {
          "output_type": "execute_result",
          "data": {
            "text/html": [
              "<div>\n",
              "<style scoped>\n",
              "    .dataframe tbody tr th:only-of-type {\n",
              "        vertical-align: middle;\n",
              "    }\n",
              "\n",
              "    .dataframe tbody tr th {\n",
              "        vertical-align: top;\n",
              "    }\n",
              "\n",
              "    .dataframe thead th {\n",
              "        text-align: right;\n",
              "    }\n",
              "</style>\n",
              "<table border=\"1\" class=\"dataframe\">\n",
              "  <thead>\n",
              "    <tr style=\"text-align: right;\">\n",
              "      <th></th>\n",
              "      <th>Country</th>\n",
              "      <th>Sex</th>\n",
              "      <th>2019</th>\n",
              "      <th>2018</th>\n",
              "      <th>2017</th>\n",
              "    </tr>\n",
              "  </thead>\n",
              "  <tbody>\n",
              "    <tr>\n",
              "      <th>0</th>\n",
              "      <td>Afghanistan</td>\n",
              "      <td>Both sexes</td>\n",
              "      <td>4.1 [2.3-7.0]</td>\n",
              "      <td>4.1 [2.3-6.8]</td>\n",
              "      <td>4.1 [2.3-6.8]</td>\n",
              "    </tr>\n",
              "    <tr>\n",
              "      <th>1</th>\n",
              "      <td>Afghanistan</td>\n",
              "      <td>Male</td>\n",
              "      <td>4.6 [2.6-7.9]</td>\n",
              "      <td>4.6 [2.6-7.8]</td>\n",
              "      <td>4.6 [2.7-7.9]</td>\n",
              "    </tr>\n",
              "    <tr>\n",
              "      <th>2</th>\n",
              "      <td>Afghanistan</td>\n",
              "      <td>Female</td>\n",
              "      <td>3.6 [2.0-5.9]</td>\n",
              "      <td>3.5 [2.0-5.8]</td>\n",
              "      <td>3.4 [2.0-5.7]</td>\n",
              "    </tr>\n",
              "    <tr>\n",
              "      <th>3</th>\n",
              "      <td>Albania</td>\n",
              "      <td>Both sexes</td>\n",
              "      <td>4.3 [2.4-6.7]</td>\n",
              "      <td>4.5 [2.5-6.9]</td>\n",
              "      <td>4.7 [2.6-7.1]</td>\n",
              "    </tr>\n",
              "    <tr>\n",
              "      <th>4</th>\n",
              "      <td>Albania</td>\n",
              "      <td>Male</td>\n",
              "      <td>5.9 [3.1-9.3]</td>\n",
              "      <td>6.2 [3.2-9.6]</td>\n",
              "      <td>6.3 [3.3-9.9]</td>\n",
              "    </tr>\n",
              "  </tbody>\n",
              "</table>\n",
              "</div>"
            ],
            "text/plain": [
              "       Country         Sex           2019           2018           2017\n",
              "0  Afghanistan  Both sexes  4.1 [2.3-7.0]  4.1 [2.3-6.8]  4.1 [2.3-6.8]\n",
              "1  Afghanistan        Male  4.6 [2.6-7.9]  4.6 [2.6-7.8]  4.6 [2.7-7.9]\n",
              "2  Afghanistan      Female  3.6 [2.0-5.9]  3.5 [2.0-5.8]  3.4 [2.0-5.7]\n",
              "3      Albania  Both sexes  4.3 [2.4-6.7]  4.5 [2.5-6.9]  4.7 [2.6-7.1]\n",
              "4      Albania        Male  5.9 [3.1-9.3]  6.2 [3.2-9.6]  6.3 [3.3-9.9]"
            ]
          },
          "metadata": {
            "tags": []
          },
          "execution_count": 4
        }
      ]
    },
    {
      "cell_type": "code",
      "metadata": {
        "id": "zARhJvHX6-t0"
      },
      "source": [
        "#seleção dos países da América Latina + países ricos selecionados\n",
        "\n",
        "lista = list(['Brazil', 'Antigua and Barbuda', 'Argentina', 'Bahamas', 'Barbados', 'Belize',\n",
        "              'Bolivia (Plurinational State of)', 'Chile', 'Colombia', 'Costa Rica', 'Cuba', 'Ecuador',\n",
        "              'El Salvador', 'Grenada', 'Guatemala', 'Guyana', 'Haiti', 'Jamaica', 'Mexico', 'Nicaragua', \n",
        "              'Panama', 'Paraguay', 'Peru', 'Saint Vincent and the Grenadines', 'Saint Lucia',\n",
        "              'Trinidad and Tobago', 'Uruguay', 'Venezuela (Bolivarian Republic of)', 'Switzerland', \n",
        "              'Norway', 'United States of America', 'Singapore', 'Germany', 'Japan', 'United Arab Emirates'])\n",
        "\n",
        "\n",
        "\n",
        "dfsuic00_20 = dfsuic00_20.loc[dfsuic00_20['Country'].isin(lista)]\n",
        "\n",
        "#sobre os países ricos, eles foram selecionados pelo alto PIB per \n",
        "#capita (de acordo com estimativas do FMI para 2021) link:\n",
        "#https://en.wikipedia.org/wiki/List_of_countries_by_GDP_(nominal)_per_capita\n",
        "#\n",
        "#A partir disto, buscou-se priorizar a diversidade da amostra:\n",
        "#País       Ranking PPC 2021*       Característica diversa             Continente/região\n",
        "#Suíça            2°                                                        Europa\n",
        "#Noruega          3°                      país nórdico              Europa/países nórdicos\n",
        "#EUA              7°                país mais rico do mundo            América do norte\n",
        "#Cingapura        8°             cidade-Estado e tigre asiático           Ásia/oriente\n",
        "#Alemanha        16°                                                         Europa\n",
        "#Japão           25°                                                      Ásia/oriente\n",
        "#Emirados Árabes 26°                      país árabe                   Ásia/Oriente Médio\n",
        "#\n",
        "# *estimativas\n"
      ],
      "execution_count": null,
      "outputs": []
    },
    {
      "cell_type": "code",
      "metadata": {
        "colab": {
          "base_uri": "https://localhost:8080/"
        },
        "id": "8MN3NVaEb70y",
        "outputId": "07dadd68-f698-4fdb-9ce7-23979ba57fac"
      },
      "source": [
        "## Visualizando novo tamanho total do banco de dados\n",
        "\n",
        "dfsuic00_20.shape"
      ],
      "execution_count": null,
      "outputs": [
        {
          "output_type": "execute_result",
          "data": {
            "text/plain": [
              "(105, 5)"
            ]
          },
          "metadata": {
            "tags": []
          },
          "execution_count": 6
        }
      ]
    },
    {
      "cell_type": "markdown",
      "metadata": {
        "id": "aamdI77qf8Xv"
      },
      "source": [
        "Como mostra o resultado, agora a base de dados tem 105 linhas e 5 colunas"
      ]
    },
    {
      "cell_type": "code",
      "metadata": {
        "id": "1rRk2YjHevfK"
      },
      "source": [
        "#renomear os nomes das colunas 'Country' e 'Sex'\n",
        "#após erro em chamar as colunas em anos numerais para os gráficos, os nomes dessas \n",
        "# colunas foram iniciados com uma letra 'y' o que resolveu o problema\n",
        "\n",
        "dfsuic00_20.rename(columns={'Country': 'País'}, inplace = True)\n",
        "dfsuic00_20.rename(columns={'Sex': 'Sexo'}, inplace = True)\n",
        "dfsuic00_20.rename(columns={'2017': 'y2017'}, inplace = True)\n",
        "dfsuic00_20.rename(columns={'2018': 'y2018'}, inplace = True)\n",
        "dfsuic00_20.rename(columns={'2019': 'y2019'}, inplace = True)"
      ],
      "execution_count": null,
      "outputs": []
    },
    {
      "cell_type": "code",
      "metadata": {
        "colab": {
          "base_uri": "https://localhost:8080/",
          "height": 235
        },
        "id": "7pU5svvbZ15K",
        "outputId": "04fbe482-e7e1-42c1-f660-48603064c28c"
      },
      "source": [
        "#exibir as mudanças com a seleção específica de dados\n",
        "\n",
        "dfsuic00_20.head(6)"
      ],
      "execution_count": null,
      "outputs": [
        {
          "output_type": "execute_result",
          "data": {
            "text/html": [
              "<div>\n",
              "<style scoped>\n",
              "    .dataframe tbody tr th:only-of-type {\n",
              "        vertical-align: middle;\n",
              "    }\n",
              "\n",
              "    .dataframe tbody tr th {\n",
              "        vertical-align: top;\n",
              "    }\n",
              "\n",
              "    .dataframe thead th {\n",
              "        text-align: right;\n",
              "    }\n",
              "</style>\n",
              "<table border=\"1\" class=\"dataframe\">\n",
              "  <thead>\n",
              "    <tr style=\"text-align: right;\">\n",
              "      <th></th>\n",
              "      <th>País</th>\n",
              "      <th>Sexo</th>\n",
              "      <th>y2019</th>\n",
              "      <th>y2018</th>\n",
              "      <th>y2017</th>\n",
              "    </tr>\n",
              "  </thead>\n",
              "  <tbody>\n",
              "    <tr>\n",
              "      <th>12</th>\n",
              "      <td>Antigua and Barbuda</td>\n",
              "      <td>Both sexes</td>\n",
              "      <td>0.4 [0.3-0.6]</td>\n",
              "      <td>0.4 [0.3-0.5]</td>\n",
              "      <td>0.0 [0.0-0.0]</td>\n",
              "    </tr>\n",
              "    <tr>\n",
              "      <th>13</th>\n",
              "      <td>Antigua and Barbuda</td>\n",
              "      <td>Male</td>\n",
              "      <td>0.0 [0.0-0.0]</td>\n",
              "      <td>0.0 [0.0-0.0]</td>\n",
              "      <td>0.0 [0.0-0.0]</td>\n",
              "    </tr>\n",
              "    <tr>\n",
              "      <th>14</th>\n",
              "      <td>Antigua and Barbuda</td>\n",
              "      <td>Female</td>\n",
              "      <td>0.8 [0.5-1.1]</td>\n",
              "      <td>0.7 [0.5-1.0]</td>\n",
              "      <td>0.0 [0.0-0.0]</td>\n",
              "    </tr>\n",
              "    <tr>\n",
              "      <th>15</th>\n",
              "      <td>Argentina</td>\n",
              "      <td>Both sexes</td>\n",
              "      <td>8.4 [6.7-10.3]</td>\n",
              "      <td>9.2 [7.4-11.2]</td>\n",
              "      <td>8.9 [7.3-10.7]</td>\n",
              "    </tr>\n",
              "    <tr>\n",
              "      <th>16</th>\n",
              "      <td>Argentina</td>\n",
              "      <td>Male</td>\n",
              "      <td>13.7 [10.9-16.8]</td>\n",
              "      <td>15.1 [12.2-18.3]</td>\n",
              "      <td>14.5 [11.9-17.3]</td>\n",
              "    </tr>\n",
              "    <tr>\n",
              "      <th>17</th>\n",
              "      <td>Argentina</td>\n",
              "      <td>Female</td>\n",
              "      <td>3.3 [2.6-4.2]</td>\n",
              "      <td>3.6 [2.8-4.4]</td>\n",
              "      <td>3.5 [2.8-4.3]</td>\n",
              "    </tr>\n",
              "  </tbody>\n",
              "</table>\n",
              "</div>"
            ],
            "text/plain": [
              "                   País        Sexo  ...             y2018             y2017\n",
              "12  Antigua and Barbuda  Both sexes  ...     0.4 [0.3-0.5]     0.0 [0.0-0.0]\n",
              "13  Antigua and Barbuda        Male  ...     0.0 [0.0-0.0]     0.0 [0.0-0.0]\n",
              "14  Antigua and Barbuda      Female  ...     0.7 [0.5-1.0]     0.0 [0.0-0.0]\n",
              "15            Argentina  Both sexes  ...    9.2 [7.4-11.2]    8.9 [7.3-10.7]\n",
              "16            Argentina        Male  ...  15.1 [12.2-18.3]  14.5 [11.9-17.3]\n",
              "17            Argentina      Female  ...     3.6 [2.8-4.4]     3.5 [2.8-4.3]\n",
              "\n",
              "[6 rows x 5 columns]"
            ]
          },
          "metadata": {
            "tags": []
          },
          "execution_count": 8
        }
      ]
    },
    {
      "cell_type": "code",
      "metadata": {
        "colab": {
          "base_uri": "https://localhost:8080/"
        },
        "id": "TFvYwj1PhwRY",
        "outputId": "7beb4931-3ca3-4220-cb4b-e4a568f0d432"
      },
      "source": [
        "#Quantidade de dados em cada coluna, tipo de variável\n",
        "\n",
        "dfsuic00_20.info()"
      ],
      "execution_count": null,
      "outputs": [
        {
          "output_type": "stream",
          "text": [
            "<class 'pandas.core.frame.DataFrame'>\n",
            "Int64Index: 105 entries, 12 to 536\n",
            "Data columns (total 5 columns):\n",
            " #   Column  Non-Null Count  Dtype \n",
            "---  ------  --------------  ----- \n",
            " 0   País    105 non-null    object\n",
            " 1   Sexo    105 non-null    object\n",
            " 2   y2019   105 non-null    object\n",
            " 3   y2018   105 non-null    object\n",
            " 4   y2017   105 non-null    object\n",
            "dtypes: object(5)\n",
            "memory usage: 4.9+ KB\n"
          ],
          "name": "stdout"
        }
      ]
    },
    {
      "cell_type": "markdown",
      "metadata": {
        "id": "SxXOHytjbT_5"
      },
      "source": [
        "Conforme observado, todas as variáveis são do tipo 'string' (object), no entanto, apenas as variáveis da coluna 'País' precisam ser strings, pois são nomes de países. As variáveis das colunas 'Sexo' podem ser alteradas para outro formato, uma vez que são categóricas. Nas colunas de anos podem ainda ter outro formato, de preferência numérico, e o melhor nesse caso seria para variáveis do tipo 'float' que comportam números decimais, uma vez que a taxa de homicídios por ano, é um número decimal."
      ]
    },
    {
      "cell_type": "code",
      "metadata": {
        "id": "28zoWpnM2d_9"
      },
      "source": [
        "#Exclusão dos dados entre colchetes '[]' das taxas de suicídio e transformação \n",
        "#das variáveis string em variáveis float\n",
        "\n",
        "Anos = ['y2019', 'y2018', 'y2017']\n",
        "for col in Anos:\n",
        "  dfsuic00_20[col] = [i[:4] for i in dfsuic00_20[col]]\n",
        "  dfsuic00_20[col] = dfsuic00_20[col].astype(float)"
      ],
      "execution_count": null,
      "outputs": []
    },
    {
      "cell_type": "code",
      "metadata": {
        "colab": {
          "base_uri": "https://localhost:8080/"
        },
        "id": "tOfx39S_kA9P",
        "outputId": "51762c0a-9b59-4d31-eae3-a0dffef4377c"
      },
      "source": [
        "#exibição das variáveis após adequadação dos dados das taxas de suicídio\n",
        "print(dfsuic00_20)\n"
      ],
      "execution_count": null,
      "outputs": [
        {
          "output_type": "stream",
          "text": [
            "                                   País        Sexo  y2019  y2018  y2017\n",
            "12                  Antigua and Barbuda  Both sexes    0.4    0.4    0.0\n",
            "13                  Antigua and Barbuda        Male    0.0    0.0    0.0\n",
            "14                  Antigua and Barbuda      Female    0.8    0.7    0.0\n",
            "15                            Argentina  Both sexes    8.4    9.2    8.9\n",
            "16                            Argentina        Male   13.7   15.1   14.5\n",
            "..                                  ...         ...    ...    ...    ...\n",
            "526                             Uruguay        Male   34.5   34.7   33.8\n",
            "527                             Uruguay      Female    8.9    8.6    8.6\n",
            "534  Venezuela (Bolivarian Republic of)  Both sexes    2.1    2.2    2.2\n",
            "535  Venezuela (Bolivarian Republic of)        Male    3.5    3.6    3.6\n",
            "536  Venezuela (Bolivarian Republic of)      Female    0.7    0.7    0.7\n",
            "\n",
            "[105 rows x 5 columns]\n"
          ],
          "name": "stdout"
        }
      ]
    },
    {
      "cell_type": "markdown",
      "metadata": {
        "id": "iI_rW_5yT0NU"
      },
      "source": [
        "Após a adequação das variáveis, é possível separar alguns grupos para melhor visualização de seus dados. A princípio, podemos criar 3 novos data frames, que farão o papel de grupo e podem permitir uma comparação entre: 1) os países da América Latina; 2) os países ricos selecionados; e 3) o próprio Brasil"
      ]
    },
    {
      "cell_type": "code",
      "metadata": {
        "id": "k0YYB7PVTzJH"
      },
      "source": [
        "#lista_AL se refere a lista de países da América Latina\n",
        "lista_AL = list(['Brazil', 'Antigua and Barbuda', 'Argentina', 'Bahamas', 'Barbados', 'Belize',\n",
        "              'Bolivia (Plurinational State of)', 'Chile', 'Colombia', 'Costa Rica', 'Cuba', 'Ecuador',\n",
        "              'El Salvador', 'Grenada', 'Guatemala', 'Guyana', 'Haiti', 'Jamaica', 'Mexico', 'Nicaragua', \n",
        "              'Panama', 'Paraguay', 'Peru', 'Saint Vincent and the Grenadines', 'Saint Lucia',\n",
        "              'Trinidad and Tobago', 'Uruguay', 'Venezuela (Bolivarian Republic of)'])\n",
        "\n",
        "#lista_PPC se refere a lista de países ricos selecionados\n",
        "lista_PR = list(['Switzerland','Norway', 'United States of America', 'Singapore',\n",
        "                 'Germany','Japan', 'United Arab Emirates'])\n",
        "\n",
        "#lista_BR se refere apenas ao Brasil\n",
        "lista_BR = list(['Brazil'])\n",
        "\n",
        "#criação de um dataframe para cada grupo\n",
        "dfsuic_AL = dfsuic00_20.loc[dfsuic00_20['País'].isin(lista_AL)]\n",
        "dfsuic_PPC = dfsuic00_20.loc[dfsuic00_20['País'].isin(lista_PR)]\n",
        "dfsuic_BR = dfsuic00_20.loc[dfsuic00_20['País'].isin(lista_BR)]"
      ],
      "execution_count": null,
      "outputs": []
    },
    {
      "cell_type": "markdown",
      "metadata": {
        "id": "HKzmjcBlF3ui"
      },
      "source": [
        "Separação das taxas de suicídio para os grupos, por sexo"
      ]
    },
    {
      "cell_type": "code",
      "metadata": {
        "id": "3ovTVGegF7Tr"
      },
      "source": [
        "#separando por sexo para os países da América Latina\n",
        "\n",
        "female_dfAL = dfsuic_AL[dfsuic_AL['Sexo'] == 'Female']\n",
        "male_dfAL = dfsuic_AL[dfsuic_AL['Sexo'] == 'Male']\n",
        "both_dfAL = dfsuic_AL[dfsuic_AL['Sexo'] == 'Both sexes']\n",
        "\n",
        "#separando por sexo para os países ricos selecionados\n",
        "\n",
        "female_dfPPC = dfsuic_PPC[dfsuic_PPC['Sexo'] == 'Female']\n",
        "male_dfPPC = dfsuic_PPC[dfsuic_PPC['Sexo'] == 'Male']\n",
        "both_dfPPC = dfsuic_PPC[dfsuic_PPC['Sexo'] == 'Both sexes']\n",
        "\n",
        "#separando por sexo para executar os gráficos de coluna e pizza\n",
        "#América Latina, países ricos e Brasil\n",
        "\n",
        "df_sexAL = dfsuic_AL.loc[(dfsuic_AL['Sexo'].isin(['Female','Male']))]\n",
        "df_sexPPC = dfsuic_PPC.loc[dfsuic_PPC['Sexo'].isin(['Female','Male'])]\n",
        "df_sexBR = dfsuic_BR.loc[dfsuic_BR['Sexo'].isin(['Female','Male'])]"
      ],
      "execution_count": null,
      "outputs": []
    },
    {
      "cell_type": "code",
      "metadata": {
        "id": "ZPjEI-KoGKoZ"
      },
      "source": [
        "#retirando o sexo para manter apenas a taxa de suicídios média para toda a população\n",
        "df_nosexAL = dfsuic_AL.loc[(dfsuic_AL['Sexo'].isin(['Both sexes']))] \n",
        "df_nosexPPC = dfsuic_PPC.loc[(dfsuic_PPC['Sexo'].isin(['Both sexes']))]"
      ],
      "execution_count": null,
      "outputs": []
    },
    {
      "cell_type": "code",
      "metadata": {
        "id": "PP7RddP6GMun"
      },
      "source": [
        "#exclusão da coluna 'Sexo' nestes dataframes, para utilizar somente a taxa de suicídios por país\n",
        "\n",
        "df_nosexAL = df_nosexAL.drop(columns=['Sexo'])\n",
        "df_nosexPPC = df_nosexPPC.drop(columns=['Sexo'])\n",
        "df_nosexBR = dfsuic_BR.loc[(dfsuic_BR['Sexo'].isin(['Both sexes']))]\n",
        "df_nosexBR = df_nosexBR.drop(columns=['Sexo'])"
      ],
      "execution_count": null,
      "outputs": []
    },
    {
      "cell_type": "markdown",
      "metadata": {
        "id": "u9KtLOrjHA5v"
      },
      "source": [
        "Elaboração de médias de taxa de suicídio por sexo para cada grupo e ano, afim de disponibilizar elementos para criação de gráficos."
      ]
    },
    {
      "cell_type": "code",
      "metadata": {
        "id": "hZEjTZHJGwRL"
      },
      "source": [
        "#médias de suicídio por sexo para cada ano nos países da América Latina\n",
        "fm17AL = female_dfAL['y2017'].mean()\n",
        "fm18AL = female_dfAL['y2018'].mean()\n",
        "fm19AL = female_dfAL['y2019'].mean()\n",
        "\n",
        "ml17AL = male_dfAL['y2017'].mean()\n",
        "ml18AL = male_dfAL['y2018'].mean()\n",
        "ml19AL = male_dfAL['y2019'].mean()\n",
        "\n",
        "#médias de suicídio por sexo para cada ano nos países ricos selecionados\n",
        "fm17PPC = female_dfPPC['y2017'].mean()\n",
        "fm18PPC = female_dfPPC['y2018'].mean()\n",
        "fm19PPC = female_dfPPC['y2019'].mean()\n",
        "\n",
        "ml17PPC = male_dfPPC['y2017'].mean()\n",
        "ml18PPC = male_dfPPC['y2018'].mean()\n",
        "ml19PPC = male_dfPPC['y2019'].mean()"
      ],
      "execution_count": null,
      "outputs": []
    },
    {
      "cell_type": "markdown",
      "metadata": {
        "id": "yseCvywgEB64"
      },
      "source": [
        "## Visualização estatística, gráfica e breves análises a partir dos dados\n"
      ]
    },
    {
      "cell_type": "markdown",
      "metadata": {
        "id": "pZcUlqrdFbAW"
      },
      "source": [
        "###Estatísticas"
      ]
    },
    {
      "cell_type": "code",
      "metadata": {
        "colab": {
          "base_uri": "https://localhost:8080/"
        },
        "id": "sDMlWNtNWX3w",
        "outputId": "22f76a71-3311-4d59-b6d5-50e2c172c2a6"
      },
      "source": [
        "#estatísticas básicas sobre a taxa de suicídios dos países da América Latina\n",
        "dfsuic_AL.describe()"
      ],
      "execution_count": null,
      "outputs": [
        {
          "output_type": "execute_result",
          "data": {
            "text/html": [
              "<div>\n",
              "<style scoped>\n",
              "    .dataframe tbody tr th:only-of-type {\n",
              "        vertical-align: middle;\n",
              "    }\n",
              "\n",
              "    .dataframe tbody tr th {\n",
              "        vertical-align: top;\n",
              "    }\n",
              "\n",
              "    .dataframe thead th {\n",
              "        text-align: right;\n",
              "    }\n",
              "</style>\n",
              "<table border=\"1\" class=\"dataframe\">\n",
              "  <thead>\n",
              "    <tr style=\"text-align: right;\">\n",
              "      <th></th>\n",
              "      <th>y2019</th>\n",
              "      <th>y2018</th>\n",
              "      <th>y2017</th>\n",
              "    </tr>\n",
              "  </thead>\n",
              "  <tbody>\n",
              "    <tr>\n",
              "      <th>count</th>\n",
              "      <td>84.000000</td>\n",
              "      <td>84.000000</td>\n",
              "      <td>84.000000</td>\n",
              "    </tr>\n",
              "    <tr>\n",
              "      <th>mean</th>\n",
              "      <td>7.294048</td>\n",
              "      <td>7.264286</td>\n",
              "      <td>7.254762</td>\n",
              "    </tr>\n",
              "    <tr>\n",
              "      <th>std</th>\n",
              "      <td>9.257916</td>\n",
              "      <td>9.123050</td>\n",
              "      <td>8.974172</td>\n",
              "    </tr>\n",
              "    <tr>\n",
              "      <th>min</th>\n",
              "      <td>0.000000</td>\n",
              "      <td>0.000000</td>\n",
              "      <td>0.000000</td>\n",
              "    </tr>\n",
              "    <tr>\n",
              "      <th>25%</th>\n",
              "      <td>1.975000</td>\n",
              "      <td>2.200000</td>\n",
              "      <td>2.175000</td>\n",
              "    </tr>\n",
              "    <tr>\n",
              "      <th>50%</th>\n",
              "      <td>4.550000</td>\n",
              "      <td>4.650000</td>\n",
              "      <td>5.050000</td>\n",
              "    </tr>\n",
              "    <tr>\n",
              "      <th>75%</th>\n",
              "      <td>8.750000</td>\n",
              "      <td>8.850000</td>\n",
              "      <td>9.225000</td>\n",
              "    </tr>\n",
              "    <tr>\n",
              "      <th>max</th>\n",
              "      <td>63.000000</td>\n",
              "      <td>61.600000</td>\n",
              "      <td>60.100000</td>\n",
              "    </tr>\n",
              "  </tbody>\n",
              "</table>\n",
              "</div>"
            ],
            "text/plain": [
              "           y2019      y2018      y2017\n",
              "count  84.000000  84.000000  84.000000\n",
              "mean    7.294048   7.264286   7.254762\n",
              "std     9.257916   9.123050   8.974172\n",
              "min     0.000000   0.000000   0.000000\n",
              "25%     1.975000   2.200000   2.175000\n",
              "50%     4.550000   4.650000   5.050000\n",
              "75%     8.750000   8.850000   9.225000\n",
              "max    63.000000  61.600000  60.100000"
            ]
          },
          "metadata": {
            "tags": []
          },
          "execution_count": 18
        }
      ]
    },
    {
      "cell_type": "code",
      "metadata": {
        "colab": {
          "base_uri": "https://localhost:8080/"
        },
        "id": "26SpsE5QdgEe",
        "outputId": "e14f8fd3-6c43-47ee-a1cc-e7c016e3688a"
      },
      "source": [
        "#estatísticas básicas sobre a taxa de suicídios dos países ricos selecionados\n",
        "dfsuic_PPC.describe()"
      ],
      "execution_count": null,
      "outputs": [
        {
          "output_type": "execute_result",
          "data": {
            "text/html": [
              "<div>\n",
              "<style scoped>\n",
              "    .dataframe tbody tr th:only-of-type {\n",
              "        vertical-align: middle;\n",
              "    }\n",
              "\n",
              "    .dataframe tbody tr th {\n",
              "        vertical-align: top;\n",
              "    }\n",
              "\n",
              "    .dataframe thead th {\n",
              "        text-align: right;\n",
              "    }\n",
              "</style>\n",
              "<table border=\"1\" class=\"dataframe\">\n",
              "  <thead>\n",
              "    <tr style=\"text-align: right;\">\n",
              "      <th></th>\n",
              "      <th>y2019</th>\n",
              "      <th>y2018</th>\n",
              "      <th>y2017</th>\n",
              "    </tr>\n",
              "  </thead>\n",
              "  <tbody>\n",
              "    <tr>\n",
              "      <th>count</th>\n",
              "      <td>21.000000</td>\n",
              "      <td>21.000000</td>\n",
              "      <td>21.000000</td>\n",
              "    </tr>\n",
              "    <tr>\n",
              "      <th>mean</th>\n",
              "      <td>12.461905</td>\n",
              "      <td>12.390476</td>\n",
              "      <td>12.357143</td>\n",
              "    </tr>\n",
              "    <tr>\n",
              "      <th>std</th>\n",
              "      <td>5.792709</td>\n",
              "      <td>5.998659</td>\n",
              "      <td>6.224192</td>\n",
              "    </tr>\n",
              "    <tr>\n",
              "      <th>min</th>\n",
              "      <td>3.000000</td>\n",
              "      <td>2.900000</td>\n",
              "      <td>2.800000</td>\n",
              "    </tr>\n",
              "    <tr>\n",
              "      <th>25%</th>\n",
              "      <td>7.700000</td>\n",
              "      <td>7.400000</td>\n",
              "      <td>7.100000</td>\n",
              "    </tr>\n",
              "    <tr>\n",
              "      <th>50%</th>\n",
              "      <td>11.800000</td>\n",
              "      <td>12.000000</td>\n",
              "      <td>11.500000</td>\n",
              "    </tr>\n",
              "    <tr>\n",
              "      <th>75%</th>\n",
              "      <td>15.800000</td>\n",
              "      <td>16.000000</td>\n",
              "      <td>16.300000</td>\n",
              "    </tr>\n",
              "    <tr>\n",
              "      <th>max</th>\n",
              "      <td>25.000000</td>\n",
              "      <td>24.300000</td>\n",
              "      <td>24.900000</td>\n",
              "    </tr>\n",
              "  </tbody>\n",
              "</table>\n",
              "</div>"
            ],
            "text/plain": [
              "           y2019      y2018      y2017\n",
              "count  21.000000  21.000000  21.000000\n",
              "mean   12.461905  12.390476  12.357143\n",
              "std     5.792709   5.998659   6.224192\n",
              "min     3.000000   2.900000   2.800000\n",
              "25%     7.700000   7.400000   7.100000\n",
              "50%    11.800000  12.000000  11.500000\n",
              "75%    15.800000  16.000000  16.300000\n",
              "max    25.000000  24.300000  24.900000"
            ]
          },
          "metadata": {
            "tags": []
          },
          "execution_count": 19
        }
      ]
    },
    {
      "cell_type": "markdown",
      "metadata": {
        "id": "8KdSU89pd9E4"
      },
      "source": [
        "Num primeiro momento, nota-se que para todos os anos, a taxa de suicídios média, é menor para a América Latina que para os países ricos, o que primeiramente causa uma surpresa. Afinal, dinheiro (ou riqueza) traz felicidade?\n",
        "Ou melhor, países com elevado PIB per capita, não deveriam ter uma população com maior satisfação por ter mais recursos, ou ao menos ter estruturas médico-hospitalares capazes de promover tratamentos que proporcionassem uma saúde mental de qualidade a seus habitantes? \n",
        "\n",
        "Deste modo, mesmo a América Latina (AL) sendo mais pobre, possui menores registros de suicídio. Há países na AL inclusive com nenhum suicídio nos últimos três anos (2017 a 2019), enquanto que nos países ricos, o valor mínimo verificado foi de 2,8 (2017) e no 1º quartil (25% da amostra), o valor máximo encontrado já era de 7,1 nos países ricos.\n",
        "\n",
        "Um ponto de destaque é que um país da América Latina (AL), a Guiana, detém uma taxa de suicídios altíssima, (63,0 para homens para 2019) que destoa bastante do grupo, até porque até o quartil 3, (75% da amostra), o valor mais alto é de 8,75. Pode-se afirmar que a Guiana, é um ponto fora da curva, e cabe questionar que peculiaridade faz o índice de suicídios ser tão elevado neste país.\n",
        "\n"
      ]
    },
    {
      "cell_type": "code",
      "metadata": {
        "colab": {
          "base_uri": "https://localhost:8080/"
        },
        "id": "OI4b83zydga6",
        "outputId": "ab417fd9-5ecd-4003-a3b9-4fdbbb284ff7"
      },
      "source": [
        "#dados sobre a taxa de suicídios do Brasil\n",
        "dfsuic_BR"
      ],
      "execution_count": null,
      "outputs": [
        {
          "output_type": "execute_result",
          "data": {
            "text/html": [
              "<div>\n",
              "<style scoped>\n",
              "    .dataframe tbody tr th:only-of-type {\n",
              "        vertical-align: middle;\n",
              "    }\n",
              "\n",
              "    .dataframe tbody tr th {\n",
              "        vertical-align: top;\n",
              "    }\n",
              "\n",
              "    .dataframe thead th {\n",
              "        text-align: right;\n",
              "    }\n",
              "</style>\n",
              "<table border=\"1\" class=\"dataframe\">\n",
              "  <thead>\n",
              "    <tr style=\"text-align: right;\">\n",
              "      <th></th>\n",
              "      <th>País</th>\n",
              "      <th>Sexo</th>\n",
              "      <th>y2019</th>\n",
              "      <th>y2018</th>\n",
              "      <th>y2017</th>\n",
              "    </tr>\n",
              "  </thead>\n",
              "  <tbody>\n",
              "    <tr>\n",
              "      <th>66</th>\n",
              "      <td>Brazil</td>\n",
              "      <td>Both sexes</td>\n",
              "      <td>6.9</td>\n",
              "      <td>7.0</td>\n",
              "      <td>6.6</td>\n",
              "    </tr>\n",
              "    <tr>\n",
              "      <th>67</th>\n",
              "      <td>Brazil</td>\n",
              "      <td>Male</td>\n",
              "      <td>10.9</td>\n",
              "      <td>10.9</td>\n",
              "      <td>10.3</td>\n",
              "    </tr>\n",
              "    <tr>\n",
              "      <th>68</th>\n",
              "      <td>Brazil</td>\n",
              "      <td>Female</td>\n",
              "      <td>3.0</td>\n",
              "      <td>3.1</td>\n",
              "      <td>3.0</td>\n",
              "    </tr>\n",
              "  </tbody>\n",
              "</table>\n",
              "</div>"
            ],
            "text/plain": [
              "      País        Sexo  y2019  y2018  y2017\n",
              "66  Brazil  Both sexes    6.9    7.0    6.6\n",
              "67  Brazil        Male   10.9   10.9   10.3\n",
              "68  Brazil      Female    3.0    3.1    3.0"
            ]
          },
          "metadata": {
            "tags": []
          },
          "execution_count": 20
        }
      ]
    },
    {
      "cell_type": "markdown",
      "metadata": {
        "id": "E6V59xwQeB3h"
      },
      "source": [
        "A taxa de suicídios média entre os brasileiros (ambos os sexos), está próxima de 7,0. De 2017 a 2018 houve um aumento de 0,4 e de 2018 a 2019, houve uma pequena queda de 0,1 pontos. O ponto positivo é que a taxa para o Brasil se manteve abaixo da taxa da América Latina.\n",
        "\n",
        "Nota-se que para todo o período, a taxa de suicídios de homens é mais que o triplo da taxa de suicídios das mulheres. Deste modo, nota-se que em 2019, os homens brasileiros, são vitimados, na média, mais que os latino-americanos no geral (7,29), porém, menos que os habitantes dos países ricos (12,46)."
      ]
    },
    {
      "cell_type": "markdown",
      "metadata": {
        "id": "bi_cHluiFhdM"
      },
      "source": [
        "###Utilização das bibliotecas Matplotlib e Seaborn para visualização de dados"
      ]
    },
    {
      "cell_type": "code",
      "metadata": {
        "id": "JdO0VhYBT0l2"
      },
      "source": [
        "#chamada de bibliotecas adicionais que permitem a visualização de dados\n",
        "import warnings\n",
        "warnings.filterwarnings('ignore')\n",
        "\n",
        "import matplotlib.pyplot as plt\n",
        "import seaborn as sns\n"
      ],
      "execution_count": null,
      "outputs": []
    },
    {
      "cell_type": "code",
      "metadata": {
        "colab": {
          "base_uri": "https://localhost:8080/"
        },
        "id": "js1VQ-uwUUaw",
        "outputId": "2f4e1c64-79f0-4914-f9be-e25f559ee464"
      },
      "source": [
        "#Gráfico de colunas relativas a quantidade encontrada das taxas de suicídio para\n",
        "# os anos de 2017, 2018 e 2019 dos países da América Latina\n",
        "sns.displot(dfsuic_AL.y2017, bins=12)\n",
        "sns.displot(dfsuic_AL.y2018, bins=12)\n",
        "sns.displot(dfsuic_AL.y2019, bins=12)"
      ],
      "execution_count": null,
      "outputs": [
        {
          "output_type": "execute_result",
          "data": {
            "text/plain": [
              "<seaborn.axisgrid.FacetGrid at 0x7efef4807790>"
            ]
          },
          "metadata": {
            "tags": []
          },
          "execution_count": 22
        },
        {
          "output_type": "display_data",
          "data": {
            "image/png": "[encoded data removed]",
            "text/plain": [
              "<Figure size 360x360 with 1 Axes>"
            ]
          },
          "metadata": {
            "tags": [],
            "needs_background": "light"
          }
        },
        {
          "output_type": "display_data",
          "data": {
            "image/png": "[encoded data removed]",
            "text/plain": [
              "<Figure size 360x360 with 1 Axes>"
            ]
          },
          "metadata": {
            "tags": [],
            "needs_background": "light"
          }
        },
        {
          "output_type": "display_data",
          "data": {
            "image/png": "[encoded data removed]",
            "text/plain": [
              "<Figure size 360x360 with 1 Axes>"
            ]
          },
          "metadata": {
            "tags": [],
            "needs_background": "light"
          }
        }
      ]
    },
    {
      "cell_type": "markdown",
      "metadata": {
        "id": "QsT2FQF7jkdn"
      },
      "source": [
        "Se observa que para os três anos selecionados, a concentração da taxa de suicídios para os países da América Latina ficou concetrada em indíces abaixo de 15 suicídios por 100 mil habitantes, sendo que a maior concentração de índices está abaixo de 5, o que reflete o baixo nível de suicídios na maioria dos países latinos. "
      ]
    },
    {
      "cell_type": "code",
      "metadata": {
        "colab": {
          "base_uri": "https://localhost:8080/"
        },
        "id": "VtfpJdDkYi_e",
        "outputId": "58def5e4-c010-4571-ab7e-b169dcde8b9f"
      },
      "source": [
        "#Coluna relativa a quantidade encontrada das taxas de suicídio para os anos de \n",
        "# 2017, 2018 e 2019 dos países ricos selecionados\n",
        "sns.displot(dfsuic_PPC.y2017, bins=8)\n",
        "sns.displot(dfsuic_PPC.y2018, bins=8)\n",
        "sns.displot(dfsuic_PPC.y2019, bins=8)"
      ],
      "execution_count": null,
      "outputs": [
        {
          "output_type": "execute_result",
          "data": {
            "text/plain": [
              "<seaborn.axisgrid.FacetGrid at 0x7efef4222fd0>"
            ]
          },
          "metadata": {
            "tags": []
          },
          "execution_count": 23
        },
        {
          "output_type": "display_data",
          "data": {
            "image/png": "[encoded data removed]",
            "text/plain": [
              "<Figure size 360x360 with 1 Axes>"
            ]
          },
          "metadata": {
            "tags": [],
            "needs_background": "light"
          }
        },
        {
          "output_type": "display_data",
          "data": {
            "image/png": "[encoded data removed]",
            "text/plain": [
              "<Figure size 360x360 with 1 Axes>"
            ]
          },
          "metadata": {
            "tags": [],
            "needs_background": "light"
          }
        },
        {
          "output_type": "display_data",
          "data": {
            "image/png": "[encoded data removed]",
            "text/plain": [
              "<Figure size 360x360 with 1 Axes>"
            ]
          },
          "metadata": {
            "tags": [],
            "needs_background": "light"
          }
        }
      ]
    },
    {
      "cell_type": "markdown",
      "metadata": {
        "id": "X9Hz-TIKjBLo"
      },
      "source": [
        "Já o que nota-se nos países ricos selecionados é uma taxa de suicídios mais elevada, em grande maioria superior a 5 e com um destaque considerável entre 10 e 20 mortes por 100 mil habitantes, com aparente agravamento do indicador em 2019."
      ]
    },
    {
      "cell_type": "code",
      "metadata": {
        "colab": {
          "base_uri": "https://localhost:8080/"
        },
        "id": "A7NlgutpZy-2",
        "outputId": "f938cf07-0128-4f49-f8d7-61bc26f1f6d9"
      },
      "source": [
        "#histograma comparando a distribuição das taxas de suicídios entre \n",
        "# os países da América Latina e os países ricos selecionados no ano de 2017\n",
        "fig, ax = plt.subplots(1, 2, figsize=(15, 5))\n",
        "sns.distplot(dfsuic_AL.y2017, bins=12, ax=ax[0])\n",
        "sns.distplot(dfsuic_PPC.y2017, bins=8, ax=ax[1])"
      ],
      "execution_count": null,
      "outputs": [
        {
          "output_type": "execute_result",
          "data": {
            "text/plain": [
              "<matplotlib.axes._subplots.AxesSubplot at 0x7efef4846110>"
            ]
          },
          "metadata": {
            "tags": []
          },
          "execution_count": 24
        },
        {
          "output_type": "display_data",
          "data": {
            "image/png": "[encoded data removed]",
            "text/plain": [
              "<Figure size 1080x360 with 2 Axes>"
            ]
          },
          "metadata": {
            "tags": [],
            "needs_background": "light"
          }
        }
      ]
    },
    {
      "cell_type": "code",
      "metadata": {
        "colab": {
          "base_uri": "https://localhost:8080/"
        },
        "id": "5euuBCJYiRrN",
        "outputId": "2f286797-fe90-40f3-b901-6f1054edae58"
      },
      "source": [
        "#histograma comparando a distribuição das taxas de suicídios entre \n",
        "# os países da América Latina e os países ricos selecionados no ano de 2018\n",
        "fig, ax = plt.subplots(1, 2, figsize=(15, 5))\n",
        "sns.distplot(dfsuic_AL.y2018, bins=12, ax=ax[0])\n",
        "sns.distplot(dfsuic_PPC.y2018, bins=8, ax=ax[1])"
      ],
      "execution_count": null,
      "outputs": [
        {
          "output_type": "execute_result",
          "data": {
            "text/plain": [
              "<matplotlib.axes._subplots.AxesSubplot at 0x7efef46f6310>"
            ]
          },
          "metadata": {
            "tags": []
          },
          "execution_count": 25
        },
        {
          "output_type": "display_data",
          "data": {
            "image/png": "[encoded data removed]",
            "text/plain": [
              "<Figure size 1080x360 with 2 Axes>"
            ]
          },
          "metadata": {
            "tags": [],
            "needs_background": "light"
          }
        }
      ]
    },
    {
      "cell_type": "code",
      "metadata": {
        "colab": {
          "base_uri": "https://localhost:8080/"
        },
        "id": "UMqSxgyBiVWh",
        "outputId": "5efb7c45-ad25-4196-af9f-f35e38924287"
      },
      "source": [
        "#histograma comparando a distribuição das taxas de suicídios entre \n",
        "# os países da América Latina e os países ricos selecionados no ano de 2019\n",
        "fig, ax = plt.subplots(1, 2, figsize=(15, 5))\n",
        "sns.distplot(dfsuic_AL.y2019, bins=12, ax=ax[0])\n",
        "sns.distplot(dfsuic_PPC.y2019, bins=8, ax=ax[1])"
      ],
      "execution_count": null,
      "outputs": [
        {
          "output_type": "execute_result",
          "data": {
            "text/plain": [
              "<matplotlib.axes._subplots.AxesSubplot at 0x7efef20223d0>"
            ]
          },
          "metadata": {
            "tags": []
          },
          "execution_count": 26
        },
        {
          "output_type": "display_data",
          "data": {
            "image/png": "[encoded data removed]",
            "text/plain": [
              "<Figure size 1080x360 with 2 Axes>"
            ]
          },
          "metadata": {
            "tags": [],
            "needs_background": "light"
          }
        }
      ]
    },
    {
      "cell_type": "markdown",
      "metadata": {
        "id": "b3igFRmRi7Is"
      },
      "source": [
        "Através dos histogramas gerados, observa-se onde está o pico de concentração das taxas de suicídio para cada grupo, sendo que os países ricos tem um achatamento da sua linha, indicando um número mais robusto nos índices mais altos de mortes, enquanto que a América Latina apresenta nos anos selecionados, um pico acentuado em níveis baixos."
      ]
    },
    {
      "cell_type": "code",
      "metadata": {
        "colab": {
          "base_uri": "https://localhost:8080/"
        },
        "id": "tgptj0z9jFRF",
        "outputId": "0277bebe-3c83-4ce6-fec9-835f5fdd3d09"
      },
      "source": [
        "#Comparando densidades das taxas de suicídio observadas do ano de 2019 para \n",
        "# Brasil, Argentina e Estado Unidos\n",
        "sns.distplot(dfsuic_AL.loc[dfsuic_AL.País == 'Brazil', 'y2019'], color='green', label='Brasil')\n",
        "sns.distplot(dfsuic_AL.loc[dfsuic_AL.País == 'Argentina', 'y2019'], color='blue', label='Argentina')\n",
        "sns.distplot(dfsuic_PPC.loc[dfsuic_PPC.País == 'United States of America', 'y2019'], color='red', label='EUA')\n",
        "plt.legend()"
      ],
      "execution_count": null,
      "outputs": [
        {
          "output_type": "execute_result",
          "data": {
            "text/plain": [
              "<matplotlib.legend.Legend at 0x7efef1f0cc50>"
            ]
          },
          "metadata": {
            "tags": []
          },
          "execution_count": 27
        },
        {
          "output_type": "display_data",
          "data": {
            "image/png": "[encoded data removed]",
            "text/plain": [
              "<Figure size 432x288 with 1 Axes>"
            ]
          },
          "metadata": {
            "tags": [],
            "needs_background": "light"
          }
        }
      ]
    },
    {
      "cell_type": "code",
      "metadata": {
        "id": "ySV02cKSaZ3z"
      },
      "source": [
        "#preparação para o gráfico de linha\n",
        "\n",
        "meusDados = {'fmAL': [fm19AL, fm18AL, fm17AL],\n",
        "             'mlAL': [ml19AL, ml18AL, ml17AL],\n",
        "             'fmPPC': [fm19PPC, fm18PPC,fm17PPC],\n",
        "             'mlPPC': [ml19PPC, ml18PPC, ml17PPC],\n",
        "             'mes_num':[2019,2018,2017],\n",
        "             'Anos':['2019', '2018', '2017']}"
      ],
      "execution_count": null,
      "outputs": []
    },
    {
      "cell_type": "code",
      "metadata": {
        "colab": {
          "base_uri": "https://localhost:8080/"
        },
        "id": "OqoWFhwvPUwW",
        "outputId": "0cd7a370-943a-49a2-a6cb-b88aef59b4e0"
      },
      "source": [
        "#execução do gráfico de linha\n",
        "\n",
        "fig1 = plt.figure(figsize=(12,5), dpi=75)\n",
        "plt.plot(meusDados['Anos'],meusDados['fmAL'], '--y', marker='o', label='Mulheres América Latina')\n",
        "plt.plot(meusDados['Anos'],meusDados['mlAL'], '--b', marker='o', label='Homens América Latina')\n",
        "plt.plot(meusDados['Anos'],meusDados['fmPPC'], color= 'm', marker='x',label='Mulheres países ricos')\n",
        "plt.plot(meusDados['Anos'],meusDados['mlPPC'], color= 'black', marker='x',label='Homens países ricos')\n",
        "plt.xlabel('Anos')\n",
        "plt.ylabel('Média da taxa de suicídios')\n",
        "plt.title('Taxa média de suicídios por sexo, na América Latina e países ricos selecionados')\n",
        "plt.legend()\n",
        "plt.grid(True)\n",
        "plt.show()"
      ],
      "execution_count": null,
      "outputs": [
        {
          "output_type": "display_data",
          "data": {
            "image/png": "[encoded data removed]",
            "text/plain": [
              "<Figure size 900x375 with 1 Axes>"
            ]
          },
          "metadata": {
            "tags": [],
            "needs_background": "light"
          }
        }
      ]
    },
    {
      "cell_type": "code",
      "metadata": {
        "colab": {
          "base_uri": "https://localhost:8080/"
        },
        "id": "oHeXpsQ6og9C",
        "outputId": "44cfb2f3-2386-4cba-e14f-b573be10caaa"
      },
      "source": [
        "#barras relativas as taxas de suicídio por sexo, dos países da América Latina, ano 2019\n",
        "sns.barplot(x='Sexo', y='y2019', data=df_sexAL)"
      ],
      "execution_count": null,
      "outputs": [
        {
          "output_type": "execute_result",
          "data": {
            "text/plain": [
              "<matplotlib.axes._subplots.AxesSubplot at 0x7efef1ef5d50>"
            ]
          },
          "metadata": {
            "tags": []
          },
          "execution_count": 30
        },
        {
          "output_type": "display_data",
          "data": {
            "image/png": "[encoded data removed]",
            "text/plain": [
              "<Figure size 432x288 with 1 Axes>"
            ]
          },
          "metadata": {
            "tags": [],
            "needs_background": "light"
          }
        }
      ]
    },
    {
      "cell_type": "code",
      "metadata": {
        "colab": {
          "base_uri": "https://localhost:8080/"
        },
        "id": "4gyhR6alFjlj",
        "outputId": "b4e3caaf-d262-443e-e4ca-e59f9c9f3457"
      },
      "source": [
        "#barras relativas as taxas de suicídio por sexo, dos países ricos selecionados, ano 2019\n",
        "sns.barplot(x='Sexo', y='y2019', data=df_sexPPC)"
      ],
      "execution_count": null,
      "outputs": [
        {
          "output_type": "execute_result",
          "data": {
            "text/plain": [
              "<matplotlib.axes._subplots.AxesSubplot at 0x7efef1daa950>"
            ]
          },
          "metadata": {
            "tags": []
          },
          "execution_count": 31
        },
        {
          "output_type": "display_data",
          "data": {
            "image/png": "[encoded data removed]",
            "text/plain": [
              "<Figure size 432x288 with 1 Axes>"
            ]
          },
          "metadata": {
            "tags": [],
            "needs_background": "light"
          }
        }
      ]
    },
    {
      "cell_type": "code",
      "metadata": {
        "colab": {
          "base_uri": "https://localhost:8080/"
        },
        "id": "aCZCOYFzMgb6",
        "outputId": "4b914c82-c8f2-4fa5-9cc2-0f582d18da3b"
      },
      "source": [
        "#barras relativas as taxas de suicídio por sexo, para o Brasil, ano 2019\n",
        "sns.barplot(x='Sexo', y='y2019', data=df_sexBR)"
      ],
      "execution_count": null,
      "outputs": [
        {
          "output_type": "execute_result",
          "data": {
            "text/plain": [
              "<matplotlib.axes._subplots.AxesSubplot at 0x7efef1cfbcd0>"
            ]
          },
          "metadata": {
            "tags": []
          },
          "execution_count": 32
        },
        {
          "output_type": "display_data",
          "data": {
            "image/png": "[encoded data removed]",
            "text/plain": [
              "<Figure size 432x288 with 1 Axes>"
            ]
          },
          "metadata": {
            "tags": [],
            "needs_background": "light"
          }
        }
      ]
    },
    {
      "cell_type": "code",
      "metadata": {
        "colab": {
          "base_uri": "https://localhost:8080/"
        },
        "id": "j3p1cuKbFy4r",
        "outputId": "9c05ff1a-42e3-4dab-a85a-3bb65e6fa3bf"
      },
      "source": [
        "#Gráficos de pizza com o percentual de taxas de suicídio por sexo no ano de 2019\n",
        "#Para os países da América Latina\n",
        "df_sexAL.y2019.groupby(df_sexAL.Sexo).sum().plot(kind='pie', autopct='%1.1f%%', colors=['orange','yellow'], explode=(0.05,0))\n",
        "plt.axis('equal')\n",
        "plt.title('América Latina')\n",
        "plt.show()\n",
        "\n",
        "#Para os países ricos selecionados\n",
        "df_sexPPC.y2019.groupby(df_sexPPC.Sexo).sum().plot(kind='pie', autopct='%1.1f%%', colors=['orange','yellow'], explode=(0.05,0))\n",
        "plt.axis('equal')\n",
        "plt.title('Países ricos selecionados')\n",
        "plt.show()\n",
        "\n",
        "#Para o Brasil\n",
        "df_sexBR.y2019.groupby(df_sexBR.Sexo).sum().plot(kind='pie', autopct='%1.1f%%', colors=['orange','yellow'], explode=(0.05,0))\n",
        "plt.axis('equal')\n",
        "plt.title('Brasil')\n",
        "plt.show()\n"
      ],
      "execution_count": null,
      "outputs": [
        {
          "output_type": "display_data",
          "data": {
            "image/png": "[encoded data removed]",
            "text/plain": [
              "<Figure size 432x288 with 1 Axes>"
            ]
          },
          "metadata": {
            "tags": []
          }
        },
        {
          "output_type": "display_data",
          "data": {
            "image/png": "[encoded data removed]",
            "text/plain": [
              "<Figure size 432x288 with 1 Axes>"
            ]
          },
          "metadata": {
            "tags": []
          }
        },
        {
          "output_type": "display_data",
          "data": {
            "image/png": "[encoded data removed]",
            "text/plain": [
              "<Figure size 432x288 with 1 Axes>"
            ]
          },
          "metadata": {
            "tags": []
          }
        }
      ]
    },
    {
      "cell_type": "markdown",
      "metadata": {
        "id": "ER5ZvkODGigu"
      },
      "source": [
        "Observa-se que homens morrem mais por suicídio tanto nos países pobres como nos países ricos.\n",
        "\n",
        "Diante deste fato levantam-se várias questões. Porque seriam os homens as maiores vítimas de suicídio? Esta tendência pode ser observada em praticamente todos os países da amostra, deste modo, é uma tendência que ultrapassa fronteiras, está nos países latinos, vai da Europa à Ásia, está tanto nos países mais pobres quanto mais ricos.\n",
        "\n",
        "Seriam os homens sócio-culturalmente submetidos a situações de pressão insuportáveis em vida que os levam as últimas consequências dando fim a própria vida? Os homens procuram menos tratamento psicológico que as mulheres? O fracasso simbólico ou material para os homens é um fardo impossível de sustentar na atual sociedade? Por vezes, tomadas de decisões mais radicais por parte dos homens em vida podem colocá-los em situações extremamente arriscadas e prejudiciais a sua vida e isso é refletido nas taxas de suicídio elevadas? A sociedade está preparada para atender, aceitar e \"ressocializar\" homens que desistiram de viver?\n",
        "\n",
        "Essas questões são levantadas mas não podem aqui ser respondidas devido as limitações da pesquisa que tem ênfase na seleção, tratamento e apresentação dos dados. Cabe agora aos especialistas das ciências humanas e sociais, após a provocação buscar explicar o fenômeno da diferença entre as taxas de suicídio por sexo nos países observados."
      ]
    },
    {
      "cell_type": "markdown",
      "metadata": {
        "id": "KZeq-rtAi_x2"
      },
      "source": [
        "###Utilização da biblioteca Plotly para visualização de dados\n"
      ]
    },
    {
      "cell_type": "code",
      "metadata": {
        "colab": {
          "base_uri": "https://localhost:8080/"
        },
        "id": "HK11JYgS0Z_T",
        "outputId": "f3a4f226-f610-409c-c139-4841a07852d6"
      },
      "source": [
        "#instalando a biblioteca Plotly\n",
        "!pip install plotly"
      ],
      "execution_count": null,
      "outputs": [
        {
          "output_type": "stream",
          "text": [
            "Requirement already satisfied: plotly in /usr/local/lib/python3.7/dist-packages (4.4.1)\n",
            "Requirement already satisfied: retrying>=1.3.3 in /usr/local/lib/python3.7/dist-packages (from plotly) (1.3.3)\n",
            "Requirement already satisfied: six in /usr/local/lib/python3.7/dist-packages (from plotly) (1.15.0)\n"
          ],
          "name": "stdout"
        }
      ]
    },
    {
      "cell_type": "code",
      "metadata": {
        "id": "vo46Wqrx0xzm"
      },
      "source": [
        "#importando o pacote offline da biblioteca\n",
        "from plotly.offline import iplot\n",
        "import plotly.graph_objs as go"
      ],
      "execution_count": null,
      "outputs": []
    },
    {
      "cell_type": "markdown",
      "metadata": {
        "id": "-KLahfix2Yf2"
      },
      "source": [
        "- Gráfico de barra"
      ]
    },
    {
      "cell_type": "code",
      "metadata": {
        "colab": {
          "base_uri": "https://localhost:8080/",
          "height": 542
        },
        "id": "ueERiq8X2ZG9",
        "outputId": "2ddf1fdb-611e-4ee3-bc45-a7e9f2bb9012"
      },
      "source": [
        "graf4 = go.Bar(x = df_nosexAL['País'],\n",
        "               y = df_nosexAL['y2019'],\n",
        "               marker = dict(color= ['#55D6BE', '#55D6BE',  '#55D6BE', '#55D6BE', '#55D6BE', '#55D6BE', '#ED07CB',\n",
        "                              '#55D6BE', '#55D6BE',  '#55D6BE', '#55D6BE', '#55D6BE', '#55D6BE', '#55D6BE', \n",
        "                              '#55D6BE', '#55D6BE',  '#55D6BE', '#55D6BE', '#55D6BE', '#55D6BE', '#55D6BE', \n",
        "                              '#55D6BE', '#55D6BE',  '#55D6BE', '#55D6BE', '#55D6BE', '#55D6BE', '#55D6BE'\n",
        "                              ]),\n",
        "               name='América Latina'\n",
        "               )\n",
        "#cadetblue é o nome da melhor cor para os países da América Latina\n",
        "#green é uma boa cor para o Brasil\n",
        "\n",
        "layout = go.Layout(title={\n",
        "                  'text': \"Taxas de suicídio para países da América Latina em 2019\",\n",
        "                  'y':0.9,\n",
        "                  'x':0.5,\n",
        "                  'xanchor': 'center',\n",
        "                  'yanchor': 'top'},\n",
        "                   yaxis={'title':'Taxa de Suicídios'},\n",
        "                   xaxis={'titlefont': {'size':12},\n",
        "                          'tickangle': 35},\n",
        "                   font={\n",
        "                  'family':\"Arial, monospace\",\n",
        "                  'size': 12,\n",
        "                  'color':\"#525252\"}\n",
        " )\n",
        "\n",
        "data = [graf4]\n",
        "\n",
        "fig = go.Figure(data=data, layout=layout)\n",
        "\n",
        "iplot(fig)"
      ],
      "execution_count": null,
      "outputs": [
        {
          "output_type": "display_data",
          "data": {
            "text/html": [
              "<html>\n",
              "<head><meta charset=\"utf-8\" /></head>\n",
              "<body>\n",
              "    <div>\n",
              "            <script src=\"https://cdnjs.cloudflare.com/ajax/libs/mathjax/2.7.5/MathJax.js?config=TeX-AMS-MML_SVG\"></script><script type=\"text/javascript\">if (window.MathJax) {MathJax.Hub.Config({SVG: {font: \"STIX-Web\"}});}</script>\n",
              "                <script type=\"text/javascript\">window.PlotlyConfig = {MathJaxConfig: 'local'};</script>\n",
              "        <script src=\"https://cdn.plot.ly/plotly-latest.min.js\"></script>    \n",
              "            <div id=\"38a71ea6-3f17-4ded-951d-ad6983bccff1\" class=\"plotly-graph-div\" style=\"height:525px; width:100%;\"></div>\n",
              "            <script type=\"text/javascript\">\n",
              "                \n",
              "                    window.PLOTLYENV=window.PLOTLYENV || {};\n",
              "                    \n",
              "                if (document.getElementById(\"38a71ea6-3f17-4ded-951d-ad6983bccff1\")) {\n",
              "                    Plotly.newPlot(\n",
              "                        '38a71ea6-3f17-4ded-951d-ad6983bccff1',\n",
              "                        [{\"marker\": {\"color\": [\"#55D6BE\", \"#55D6BE\", \"#55D6BE\", \"#55D6BE\", \"#55D6BE\", \"#55D6BE\", \"#ED07CB\", \"#55D6BE\", \"#55D6BE\", \"#55D6BE\", \"#55D6BE\", \"#55D6BE\", \"#55D6BE\", \"#55D6BE\", \"#55D6BE\", \"#55D6BE\", \"#55D6BE\", \"#55D6BE\", \"#55D6BE\", \"#55D6BE\", \"#55D6BE\", \"#55D6BE\", \"#55D6BE\", \"#55D6BE\", \"#55D6BE\", \"#55D6BE\", \"#55D6BE\", \"#55D6BE\"]}, \"name\": \"Am\\u00e9rica Latina\", \"type\": \"bar\", \"x\": [\"Antigua and Barbuda\", \"Argentina\", \"Bahamas\", \"Barbados\", \"Belize\", \"Bolivia (Plurinational State of)\", \"Brazil\", \"Chile\", \"Colombia\", \"Costa Rica\", \"Cuba\", \"Ecuador\", \"El Salvador\", \"Grenada\", \"Guatemala\", \"Guyana\", \"Haiti\", \"Jamaica\", \"Mexico\", \"Nicaragua\", \"Panama\", \"Paraguay\", \"Peru\", \"Saint Lucia\", \"Saint Vincent and the Grenadines\", \"Trinidad and Tobago\", \"Uruguay\", \"Venezuela (Bolivarian Republic of)\"], \"y\": [0.4, 8.4, 3.5, 0.6, 7.1, 6.2, 6.9, 9.0, 3.9, 8.1, 14.5, 7.6, 6.1, 0.7, 5.9, 40.3, 9.6, 2.4, 5.3, 4.4, 2.9, 6.0, 2.8, 7.9, 1.0, 8.7, 21.2, 2.1]}],\n",
              "                        {\"font\": {\"color\": \"#525252\", \"family\": \"Arial, monospace\", \"size\": 12}, \"template\": {\"data\": {\"bar\": [{\"error_x\": {\"color\": \"#2a3f5f\"}, \"error_y\": {\"color\": \"#2a3f5f\"}, \"marker\": {\"line\": {\"color\": \"#E5ECF6\", \"width\": 0.5}}, \"type\": \"bar\"}], \"barpolar\": [{\"marker\": {\"line\": {\"color\": \"#E5ECF6\", \"width\": 0.5}}, \"type\": \"barpolar\"}], \"carpet\": [{\"aaxis\": {\"endlinecolor\": \"#2a3f5f\", \"gridcolor\": \"white\", \"linecolor\": \"white\", \"minorgridcolor\": \"white\", \"startlinecolor\": \"#2a3f5f\"}, \"baxis\": {\"endlinecolor\": \"#2a3f5f\", \"gridcolor\": \"white\", \"linecolor\": \"white\", \"minorgridcolor\": \"white\", \"startlinecolor\": \"#2a3f5f\"}, \"type\": \"carpet\"}], \"choropleth\": [{\"colorbar\": {\"outlinewidth\": 0, \"ticks\": \"\"}, \"type\": \"choropleth\"}], \"contour\": [{\"colorbar\": {\"outlinewidth\": 0, \"ticks\": \"\"}, \"colorscale\": [[0.0, \"#0d0887\"], [0.1111111111111111, \"#46039f\"], [0.2222222222222222, \"#7201a8\"], [0.3333333333333333, \"#9c179e\"], [0.4444444444444444, \"#bd3786\"], [0.5555555555555556, \"#d8576b\"], [0.6666666666666666, \"#ed7953\"], [0.7777777777777778, \"#fb9f3a\"], [0.8888888888888888, \"#fdca26\"], [1.0, \"#f0f921\"]], \"type\": \"contour\"}], \"contourcarpet\": [{\"colorbar\": {\"outlinewidth\": 0, \"ticks\": \"\"}, \"type\": \"contourcarpet\"}], \"heatmap\": [{\"colorbar\": {\"outlinewidth\": 0, \"ticks\": \"\"}, \"colorscale\": [[0.0, \"#0d0887\"], [0.1111111111111111, \"#46039f\"], [0.2222222222222222, \"#7201a8\"], [0.3333333333333333, \"#9c179e\"], [0.4444444444444444, \"#bd3786\"], [0.5555555555555556, \"#d8576b\"], [0.6666666666666666, \"#ed7953\"], [0.7777777777777778, \"#fb9f3a\"], [0.8888888888888888, \"#fdca26\"], [1.0, \"#f0f921\"]], \"type\": \"heatmap\"}], \"heatmapgl\": [{\"colorbar\": {\"outlinewidth\": 0, \"ticks\": \"\"}, \"colorscale\": [[0.0, \"#0d0887\"], [0.1111111111111111, \"#46039f\"], [0.2222222222222222, \"#7201a8\"], [0.3333333333333333, \"#9c179e\"], [0.4444444444444444, \"#bd3786\"], [0.5555555555555556, \"#d8576b\"], [0.6666666666666666, \"#ed7953\"], [0.7777777777777778, \"#fb9f3a\"], [0.8888888888888888, \"#fdca26\"], [1.0, \"#f0f921\"]], \"type\": \"heatmapgl\"}], \"histogram\": [{\"marker\": {\"colorbar\": {\"outlinewidth\": 0, \"ticks\": \"\"}}, \"type\": \"histogram\"}], \"histogram2d\": [{\"colorbar\": {\"outlinewidth\": 0, \"ticks\": \"\"}, \"colorscale\": [[0.0, \"#0d0887\"], [0.1111111111111111, \"#46039f\"], [0.2222222222222222, \"#7201a8\"], [0.3333333333333333, \"#9c179e\"], [0.4444444444444444, \"#bd3786\"], [0.5555555555555556, \"#d8576b\"], [0.6666666666666666, \"#ed7953\"], [0.7777777777777778, \"#fb9f3a\"], [0.8888888888888888, \"#fdca26\"], [1.0, \"#f0f921\"]], \"type\": \"histogram2d\"}], \"histogram2dcontour\": [{\"colorbar\": {\"outlinewidth\": 0, \"ticks\": \"\"}, \"colorscale\": [[0.0, \"#0d0887\"], [0.1111111111111111, \"#46039f\"], [0.2222222222222222, \"#7201a8\"], [0.3333333333333333, \"#9c179e\"], [0.4444444444444444, \"#bd3786\"], [0.5555555555555556, \"#d8576b\"], [0.6666666666666666, \"#ed7953\"], [0.7777777777777778, \"#fb9f3a\"], [0.8888888888888888, \"#fdca26\"], [1.0, \"#f0f921\"]], \"type\": \"histogram2dcontour\"}], \"mesh3d\": [{\"colorbar\": {\"outlinewidth\": 0, \"ticks\": \"\"}, \"type\": \"mesh3d\"}], \"parcoords\": [{\"line\": {\"colorbar\": {\"outlinewidth\": 0, \"ticks\": \"\"}}, \"type\": \"parcoords\"}], \"pie\": [{\"automargin\": true, \"type\": \"pie\"}], \"scatter\": [{\"marker\": {\"colorbar\": {\"outlinewidth\": 0, \"ticks\": \"\"}}, \"type\": \"scatter\"}], \"scatter3d\": [{\"line\": {\"colorbar\": {\"outlinewidth\": 0, \"ticks\": \"\"}}, \"marker\": {\"colorbar\": {\"outlinewidth\": 0, \"ticks\": \"\"}}, \"type\": \"scatter3d\"}], \"scattercarpet\": [{\"marker\": {\"colorbar\": {\"outlinewidth\": 0, \"ticks\": \"\"}}, \"type\": \"scattercarpet\"}], \"scattergeo\": [{\"marker\": {\"colorbar\": {\"outlinewidth\": 0, \"ticks\": \"\"}}, \"type\": \"scattergeo\"}], \"scattergl\": [{\"marker\": {\"colorbar\": {\"outlinewidth\": 0, \"ticks\": \"\"}}, \"type\": \"scattergl\"}], \"scattermapbox\": [{\"marker\": {\"colorbar\": {\"outlinewidth\": 0, \"ticks\": \"\"}}, \"type\": \"scattermapbox\"}], \"scatterpolar\": [{\"marker\": {\"colorbar\": {\"outlinewidth\": 0, \"ticks\": \"\"}}, \"type\": \"scatterpolar\"}], \"scatterpolargl\": [{\"marker\": {\"colorbar\": {\"outlinewidth\": 0, \"ticks\": \"\"}}, \"type\": \"scatterpolargl\"}], \"scatterternary\": [{\"marker\": {\"colorbar\": {\"outlinewidth\": 0, \"ticks\": \"\"}}, \"type\": \"scatterternary\"}], \"surface\": [{\"colorbar\": {\"outlinewidth\": 0, \"ticks\": \"\"}, \"colorscale\": [[0.0, \"#0d0887\"], [0.1111111111111111, \"#46039f\"], [0.2222222222222222, \"#7201a8\"], [0.3333333333333333, \"#9c179e\"], [0.4444444444444444, \"#bd3786\"], [0.5555555555555556, \"#d8576b\"], [0.6666666666666666, \"#ed7953\"], [0.7777777777777778, \"#fb9f3a\"], [0.8888888888888888, \"#fdca26\"], [1.0, \"#f0f921\"]], \"type\": \"surface\"}], \"table\": [{\"cells\": {\"fill\": {\"color\": \"#EBF0F8\"}, \"line\": {\"color\": \"white\"}}, \"header\": {\"fill\": {\"color\": \"#C8D4E3\"}, \"line\": {\"color\": \"white\"}}, \"type\": \"table\"}]}, \"layout\": {\"annotationdefaults\": {\"arrowcolor\": \"#2a3f5f\", \"arrowhead\": 0, \"arrowwidth\": 1}, \"coloraxis\": {\"colorbar\": {\"outlinewidth\": 0, \"ticks\": \"\"}}, \"colorscale\": {\"diverging\": [[0, \"#8e0152\"], [0.1, \"#c51b7d\"], [0.2, \"#de77ae\"], [0.3, \"#f1b6da\"], [0.4, \"#fde0ef\"], [0.5, \"#f7f7f7\"], [0.6, \"#e6f5d0\"], [0.7, \"#b8e186\"], [0.8, \"#7fbc41\"], [0.9, \"#4d9221\"], [1, \"#276419\"]], \"sequential\": [[0.0, \"#0d0887\"], [0.1111111111111111, \"#46039f\"], [0.2222222222222222, \"#7201a8\"], [0.3333333333333333, \"#9c179e\"], [0.4444444444444444, \"#bd3786\"], [0.5555555555555556, \"#d8576b\"], [0.6666666666666666, \"#ed7953\"], [0.7777777777777778, \"#fb9f3a\"], [0.8888888888888888, \"#fdca26\"], [1.0, \"#f0f921\"]], \"sequentialminus\": [[0.0, \"#0d0887\"], [0.1111111111111111, \"#46039f\"], [0.2222222222222222, \"#7201a8\"], [0.3333333333333333, \"#9c179e\"], [0.4444444444444444, \"#bd3786\"], [0.5555555555555556, \"#d8576b\"], [0.6666666666666666, \"#ed7953\"], [0.7777777777777778, \"#fb9f3a\"], [0.8888888888888888, \"#fdca26\"], [1.0, \"#f0f921\"]]}, \"colorway\": [\"#636efa\", \"#EF553B\", \"#00cc96\", \"#ab63fa\", \"#FFA15A\", \"#19d3f3\", \"#FF6692\", \"#B6E880\", \"#FF97FF\", \"#FECB52\"], \"font\": {\"color\": \"#2a3f5f\"}, \"geo\": {\"bgcolor\": \"white\", \"lakecolor\": \"white\", \"landcolor\": \"#E5ECF6\", \"showlakes\": true, \"showland\": true, \"subunitcolor\": \"white\"}, \"hoverlabel\": {\"align\": \"left\"}, \"hovermode\": \"closest\", \"mapbox\": {\"style\": \"light\"}, \"paper_bgcolor\": \"white\", \"plot_bgcolor\": \"#E5ECF6\", \"polar\": {\"angularaxis\": {\"gridcolor\": \"white\", \"linecolor\": \"white\", \"ticks\": \"\"}, \"bgcolor\": \"#E5ECF6\", \"radialaxis\": {\"gridcolor\": \"white\", \"linecolor\": \"white\", \"ticks\": \"\"}}, \"scene\": {\"xaxis\": {\"backgroundcolor\": \"#E5ECF6\", \"gridcolor\": \"white\", \"gridwidth\": 2, \"linecolor\": \"white\", \"showbackground\": true, \"ticks\": \"\", \"zerolinecolor\": \"white\"}, \"yaxis\": {\"backgroundcolor\": \"#E5ECF6\", \"gridcolor\": \"white\", \"gridwidth\": 2, \"linecolor\": \"white\", \"showbackground\": true, \"ticks\": \"\", \"zerolinecolor\": \"white\"}, \"zaxis\": {\"backgroundcolor\": \"#E5ECF6\", \"gridcolor\": \"white\", \"gridwidth\": 2, \"linecolor\": \"white\", \"showbackground\": true, \"ticks\": \"\", \"zerolinecolor\": \"white\"}}, \"shapedefaults\": {\"line\": {\"color\": \"#2a3f5f\"}}, \"ternary\": {\"aaxis\": {\"gridcolor\": \"white\", \"linecolor\": \"white\", \"ticks\": \"\"}, \"baxis\": {\"gridcolor\": \"white\", \"linecolor\": \"white\", \"ticks\": \"\"}, \"bgcolor\": \"#E5ECF6\", \"caxis\": {\"gridcolor\": \"white\", \"linecolor\": \"white\", \"ticks\": \"\"}}, \"title\": {\"x\": 0.05}, \"xaxis\": {\"automargin\": true, \"gridcolor\": \"white\", \"linecolor\": \"white\", \"ticks\": \"\", \"title\": {\"standoff\": 15}, \"zerolinecolor\": \"white\", \"zerolinewidth\": 2}, \"yaxis\": {\"automargin\": true, \"gridcolor\": \"white\", \"linecolor\": \"white\", \"ticks\": \"\", \"title\": {\"standoff\": 15}, \"zerolinecolor\": \"white\", \"zerolinewidth\": 2}}}, \"title\": {\"text\": \"Taxas de suic\\u00eddio para pa\\u00edses da Am\\u00e9rica Latina em 2019\", \"x\": 0.5, \"xanchor\": \"center\", \"y\": 0.9, \"yanchor\": \"top\"}, \"xaxis\": {\"tickangle\": 35, \"title\": {\"font\": {\"size\": 12}}}, \"yaxis\": {\"title\": {\"text\": \"Taxa de Suic\\u00eddios\"}}},\n",
              "                        {\"responsive\": true}\n",
              "                    ).then(function(){\n",
              "                            \n",
              "var gd = document.getElementById('38a71ea6-3f17-4ded-951d-ad6983bccff1');\n",
              "var x = new MutationObserver(function (mutations, observer) {{\n",
              "        var display = window.getComputedStyle(gd).display;\n",
              "        if (!display || display === 'none') {{\n",
              "            console.log([gd, 'removed!']);\n",
              "            Plotly.purge(gd);\n",
              "            observer.disconnect();\n",
              "        }}\n",
              "}});\n",
              "\n",
              "// Listen for the removal of the full notebook cells\n",
              "var notebookContainer = gd.closest('#notebook-container');\n",
              "if (notebookContainer) {{\n",
              "    x.observe(notebookContainer, {childList: true});\n",
              "}}\n",
              "\n",
              "// Listen for the clearing of the current output cell\n",
              "var outputEl = gd.closest('.output');\n",
              "if (outputEl) {{\n",
              "    x.observe(outputEl, {childList: true});\n",
              "}}\n",
              "\n",
              "                        })\n",
              "                };\n",
              "                \n",
              "            </script>\n",
              "        </div>\n",
              "</body>\n",
              "</html>"
            ]
          },
          "metadata": {
            "tags": []
          }
        }
      ]
    },
    {
      "cell_type": "code",
      "metadata": {
        "colab": {
          "base_uri": "https://localhost:8080/",
          "height": 542
        },
        "id": "7QA0qaQJ20sp",
        "outputId": "d38d0722-2059-4b9b-a183-6ebd0561f8bf"
      },
      "source": [
        "graf5 = go.Bar(x = df_nosexPPC['País'],\n",
        "               y = df_nosexPPC['y2019'],\n",
        "               marker = dict(color= '#6D32EC'),\n",
        "               name = 'países ricos selecionados'\n",
        "               )\n",
        "\n",
        "layout = go.Layout(title={\n",
        "                  'text': \"Taxas de suicídio para os países ricos selecionados em 2019\",\n",
        "                  'y':0.9,\n",
        "                  'x':0.5,\n",
        "                  'xanchor': 'center',\n",
        "                  'yanchor': 'top'},\n",
        "                   yaxis={'title':'Taxa de Suicídios'},\n",
        "                   xaxis={'titlefont': {'size':12},\n",
        "                          'tickangle': 35},\n",
        "                   font={\n",
        "                  'family':\"Arial, monospace\",\n",
        "                  'size': 16,\n",
        "                  'color':\"#525252\"}\n",
        " )\n",
        "\n",
        "data = [graf5]\n",
        "\n",
        "fig = go.Figure(data=data, layout=layout)\n",
        "\n",
        "iplot(fig)"
      ],
      "execution_count": null,
      "outputs": [
        {
          "output_type": "display_data",
          "data": {
            "text/html": [
              "<html>\n",
              "<head><meta charset=\"utf-8\" /></head>\n",
              "<body>\n",
              "    <div>\n",
              "            <script src=\"https://cdnjs.cloudflare.com/ajax/libs/mathjax/2.7.5/MathJax.js?config=TeX-AMS-MML_SVG\"></script><script type=\"text/javascript\">if (window.MathJax) {MathJax.Hub.Config({SVG: {font: \"STIX-Web\"}});}</script>\n",
              "                <script type=\"text/javascript\">window.PlotlyConfig = {MathJaxConfig: 'local'};</script>\n",
              "        <script src=\"https://cdn.plot.ly/plotly-latest.min.js\"></script>    \n",
              "            <div id=\"ab12e470-a5a4-4050-9d66-316a4d5399ca\" class=\"plotly-graph-div\" style=\"height:525px; width:100%;\"></div>\n",
              "            <script type=\"text/javascript\">\n",
              "                \n",
              "                    window.PLOTLYENV=window.PLOTLYENV || {};\n",
              "                    \n",
              "                if (document.getElementById(\"ab12e470-a5a4-4050-9d66-316a4d5399ca\")) {\n",
              "                    Plotly.newPlot(\n",
              "                        'ab12e470-a5a4-4050-9d66-316a4d5399ca',\n",
              "                        [{\"marker\": {\"color\": \"#6D32EC\"}, \"name\": \"pa\\u00edses ricos selecionados\", \"type\": \"bar\", \"x\": [\"Germany\", \"Japan\", \"Norway\", \"Singapore\", \"Switzerland\", \"United Arab Emirates\", \"United States of America\"], \"y\": [12.3, 15.3, 11.8, 11.2, 14.5, 6.4, 16.1]}],\n",
              "                        {\"font\": {\"color\": \"#525252\", \"family\": \"Arial, monospace\", \"size\": 16}, \"template\": {\"data\": {\"bar\": [{\"error_x\": {\"color\": \"#2a3f5f\"}, \"error_y\": {\"color\": \"#2a3f5f\"}, \"marker\": {\"line\": {\"color\": \"#E5ECF6\", \"width\": 0.5}}, \"type\": \"bar\"}], \"barpolar\": [{\"marker\": {\"line\": {\"color\": \"#E5ECF6\", \"width\": 0.5}}, \"type\": \"barpolar\"}], \"carpet\": [{\"aaxis\": {\"endlinecolor\": \"#2a3f5f\", \"gridcolor\": \"white\", \"linecolor\": \"white\", \"minorgridcolor\": \"white\", \"startlinecolor\": \"#2a3f5f\"}, \"baxis\": {\"endlinecolor\": \"#2a3f5f\", \"gridcolor\": \"white\", \"linecolor\": \"white\", \"minorgridcolor\": \"white\", \"startlinecolor\": \"#2a3f5f\"}, \"type\": \"carpet\"}], \"choropleth\": [{\"colorbar\": {\"outlinewidth\": 0, \"ticks\": \"\"}, \"type\": \"choropleth\"}], \"contour\": [{\"colorbar\": {\"outlinewidth\": 0, \"ticks\": \"\"}, \"colorscale\": [[0.0, \"#0d0887\"], [0.1111111111111111, \"#46039f\"], [0.2222222222222222, \"#7201a8\"], [0.3333333333333333, \"#9c179e\"], [0.4444444444444444, \"#bd3786\"], [0.5555555555555556, \"#d8576b\"], [0.6666666666666666, \"#ed7953\"], [0.7777777777777778, \"#fb9f3a\"], [0.8888888888888888, \"#fdca26\"], [1.0, \"#f0f921\"]], \"type\": \"contour\"}], \"contourcarpet\": [{\"colorbar\": {\"outlinewidth\": 0, \"ticks\": \"\"}, \"type\": \"contourcarpet\"}], \"heatmap\": [{\"colorbar\": {\"outlinewidth\": 0, \"ticks\": \"\"}, \"colorscale\": [[0.0, \"#0d0887\"], [0.1111111111111111, \"#46039f\"], [0.2222222222222222, \"#7201a8\"], [0.3333333333333333, \"#9c179e\"], [0.4444444444444444, \"#bd3786\"], [0.5555555555555556, \"#d8576b\"], [0.6666666666666666, \"#ed7953\"], [0.7777777777777778, \"#fb9f3a\"], [0.8888888888888888, \"#fdca26\"], [1.0, \"#f0f921\"]], \"type\": \"heatmap\"}], \"heatmapgl\": [{\"colorbar\": {\"outlinewidth\": 0, \"ticks\": \"\"}, \"colorscale\": [[0.0, \"#0d0887\"], [0.1111111111111111, \"#46039f\"], [0.2222222222222222, \"#7201a8\"], [0.3333333333333333, \"#9c179e\"], [0.4444444444444444, \"#bd3786\"], [0.5555555555555556, \"#d8576b\"], [0.6666666666666666, \"#ed7953\"], [0.7777777777777778, \"#fb9f3a\"], [0.8888888888888888, \"#fdca26\"], [1.0, \"#f0f921\"]], \"type\": \"heatmapgl\"}], \"histogram\": [{\"marker\": {\"colorbar\": {\"outlinewidth\": 0, \"ticks\": \"\"}}, \"type\": \"histogram\"}], \"histogram2d\": [{\"colorbar\": {\"outlinewidth\": 0, \"ticks\": \"\"}, \"colorscale\": [[0.0, \"#0d0887\"], [0.1111111111111111, \"#46039f\"], [0.2222222222222222, \"#7201a8\"], [0.3333333333333333, \"#9c179e\"], [0.4444444444444444, \"#bd3786\"], [0.5555555555555556, \"#d8576b\"], [0.6666666666666666, \"#ed7953\"], [0.7777777777777778, \"#fb9f3a\"], [0.8888888888888888, \"#fdca26\"], [1.0, \"#f0f921\"]], \"type\": \"histogram2d\"}], \"histogram2dcontour\": [{\"colorbar\": {\"outlinewidth\": 0, \"ticks\": \"\"}, \"colorscale\": [[0.0, \"#0d0887\"], [0.1111111111111111, \"#46039f\"], [0.2222222222222222, \"#7201a8\"], [0.3333333333333333, \"#9c179e\"], [0.4444444444444444, \"#bd3786\"], [0.5555555555555556, \"#d8576b\"], [0.6666666666666666, \"#ed7953\"], [0.7777777777777778, \"#fb9f3a\"], [0.8888888888888888, \"#fdca26\"], [1.0, \"#f0f921\"]], \"type\": \"histogram2dcontour\"}], \"mesh3d\": [{\"colorbar\": {\"outlinewidth\": 0, \"ticks\": \"\"}, \"type\": \"mesh3d\"}], \"parcoords\": [{\"line\": {\"colorbar\": {\"outlinewidth\": 0, \"ticks\": \"\"}}, \"type\": \"parcoords\"}], \"pie\": [{\"automargin\": true, \"type\": \"pie\"}], \"scatter\": [{\"marker\": {\"colorbar\": {\"outlinewidth\": 0, \"ticks\": \"\"}}, \"type\": \"scatter\"}], \"scatter3d\": [{\"line\": {\"colorbar\": {\"outlinewidth\": 0, \"ticks\": \"\"}}, \"marker\": {\"colorbar\": {\"outlinewidth\": 0, \"ticks\": \"\"}}, \"type\": \"scatter3d\"}], \"scattercarpet\": [{\"marker\": {\"colorbar\": {\"outlinewidth\": 0, \"ticks\": \"\"}}, \"type\": \"scattercarpet\"}], \"scattergeo\": [{\"marker\": {\"colorbar\": {\"outlinewidth\": 0, \"ticks\": \"\"}}, \"type\": \"scattergeo\"}], \"scattergl\": [{\"marker\": {\"colorbar\": {\"outlinewidth\": 0, \"ticks\": \"\"}}, \"type\": \"scattergl\"}], \"scattermapbox\": [{\"marker\": {\"colorbar\": {\"outlinewidth\": 0, \"ticks\": \"\"}}, \"type\": \"scattermapbox\"}], \"scatterpolar\": [{\"marker\": {\"colorbar\": {\"outlinewidth\": 0, \"ticks\": \"\"}}, \"type\": \"scatterpolar\"}], \"scatterpolargl\": [{\"marker\": {\"colorbar\": {\"outlinewidth\": 0, \"ticks\": \"\"}}, \"type\": \"scatterpolargl\"}], \"scatterternary\": [{\"marker\": {\"colorbar\": {\"outlinewidth\": 0, \"ticks\": \"\"}}, \"type\": \"scatterternary\"}], \"surface\": [{\"colorbar\": {\"outlinewidth\": 0, \"ticks\": \"\"}, \"colorscale\": [[0.0, \"#0d0887\"], [0.1111111111111111, \"#46039f\"], [0.2222222222222222, \"#7201a8\"], [0.3333333333333333, \"#9c179e\"], [0.4444444444444444, \"#bd3786\"], [0.5555555555555556, \"#d8576b\"], [0.6666666666666666, \"#ed7953\"], [0.7777777777777778, \"#fb9f3a\"], [0.8888888888888888, \"#fdca26\"], [1.0, \"#f0f921\"]], \"type\": \"surface\"}], \"table\": [{\"cells\": {\"fill\": {\"color\": \"#EBF0F8\"}, \"line\": {\"color\": \"white\"}}, \"header\": {\"fill\": {\"color\": \"#C8D4E3\"}, \"line\": {\"color\": \"white\"}}, \"type\": \"table\"}]}, \"layout\": {\"annotationdefaults\": {\"arrowcolor\": \"#2a3f5f\", \"arrowhead\": 0, \"arrowwidth\": 1}, \"coloraxis\": {\"colorbar\": {\"outlinewidth\": 0, \"ticks\": \"\"}}, \"colorscale\": {\"diverging\": [[0, \"#8e0152\"], [0.1, \"#c51b7d\"], [0.2, \"#de77ae\"], [0.3, \"#f1b6da\"], [0.4, \"#fde0ef\"], [0.5, \"#f7f7f7\"], [0.6, \"#e6f5d0\"], [0.7, \"#b8e186\"], [0.8, \"#7fbc41\"], [0.9, \"#4d9221\"], [1, \"#276419\"]], \"sequential\": [[0.0, \"#0d0887\"], [0.1111111111111111, \"#46039f\"], [0.2222222222222222, \"#7201a8\"], [0.3333333333333333, \"#9c179e\"], [0.4444444444444444, \"#bd3786\"], [0.5555555555555556, \"#d8576b\"], [0.6666666666666666, \"#ed7953\"], [0.7777777777777778, \"#fb9f3a\"], [0.8888888888888888, \"#fdca26\"], [1.0, \"#f0f921\"]], \"sequentialminus\": [[0.0, \"#0d0887\"], [0.1111111111111111, \"#46039f\"], [0.2222222222222222, \"#7201a8\"], [0.3333333333333333, \"#9c179e\"], [0.4444444444444444, \"#bd3786\"], [0.5555555555555556, \"#d8576b\"], [0.6666666666666666, \"#ed7953\"], [0.7777777777777778, \"#fb9f3a\"], [0.8888888888888888, \"#fdca26\"], [1.0, \"#f0f921\"]]}, \"colorway\": [\"#636efa\", \"#EF553B\", \"#00cc96\", \"#ab63fa\", \"#FFA15A\", \"#19d3f3\", \"#FF6692\", \"#B6E880\", \"#FF97FF\", \"#FECB52\"], \"font\": {\"color\": \"#2a3f5f\"}, \"geo\": {\"bgcolor\": \"white\", \"lakecolor\": \"white\", \"landcolor\": \"#E5ECF6\", \"showlakes\": true, \"showland\": true, \"subunitcolor\": \"white\"}, \"hoverlabel\": {\"align\": \"left\"}, \"hovermode\": \"closest\", \"mapbox\": {\"style\": \"light\"}, \"paper_bgcolor\": \"white\", \"plot_bgcolor\": \"#E5ECF6\", \"polar\": {\"angularaxis\": {\"gridcolor\": \"white\", \"linecolor\": \"white\", \"ticks\": \"\"}, \"bgcolor\": \"#E5ECF6\", \"radialaxis\": {\"gridcolor\": \"white\", \"linecolor\": \"white\", \"ticks\": \"\"}}, \"scene\": {\"xaxis\": {\"backgroundcolor\": \"#E5ECF6\", \"gridcolor\": \"white\", \"gridwidth\": 2, \"linecolor\": \"white\", \"showbackground\": true, \"ticks\": \"\", \"zerolinecolor\": \"white\"}, \"yaxis\": {\"backgroundcolor\": \"#E5ECF6\", \"gridcolor\": \"white\", \"gridwidth\": 2, \"linecolor\": \"white\", \"showbackground\": true, \"ticks\": \"\", \"zerolinecolor\": \"white\"}, \"zaxis\": {\"backgroundcolor\": \"#E5ECF6\", \"gridcolor\": \"white\", \"gridwidth\": 2, \"linecolor\": \"white\", \"showbackground\": true, \"ticks\": \"\", \"zerolinecolor\": \"white\"}}, \"shapedefaults\": {\"line\": {\"color\": \"#2a3f5f\"}}, \"ternary\": {\"aaxis\": {\"gridcolor\": \"white\", \"linecolor\": \"white\", \"ticks\": \"\"}, \"baxis\": {\"gridcolor\": \"white\", \"linecolor\": \"white\", \"ticks\": \"\"}, \"bgcolor\": \"#E5ECF6\", \"caxis\": {\"gridcolor\": \"white\", \"linecolor\": \"white\", \"ticks\": \"\"}}, \"title\": {\"x\": 0.05}, \"xaxis\": {\"automargin\": true, \"gridcolor\": \"white\", \"linecolor\": \"white\", \"ticks\": \"\", \"title\": {\"standoff\": 15}, \"zerolinecolor\": \"white\", \"zerolinewidth\": 2}, \"yaxis\": {\"automargin\": true, \"gridcolor\": \"white\", \"linecolor\": \"white\", \"ticks\": \"\", \"title\": {\"standoff\": 15}, \"zerolinecolor\": \"white\", \"zerolinewidth\": 2}}}, \"title\": {\"text\": \"Taxas de suic\\u00eddio para os pa\\u00edses ricos selecionados em 2019\", \"x\": 0.5, \"xanchor\": \"center\", \"y\": 0.9, \"yanchor\": \"top\"}, \"xaxis\": {\"tickangle\": 35, \"title\": {\"font\": {\"size\": 12}}}, \"yaxis\": {\"title\": {\"text\": \"Taxa de Suic\\u00eddios\"}}},\n",
              "                        {\"responsive\": true}\n",
              "                    ).then(function(){\n",
              "                            \n",
              "var gd = document.getElementById('ab12e470-a5a4-4050-9d66-316a4d5399ca');\n",
              "var x = new MutationObserver(function (mutations, observer) {{\n",
              "        var display = window.getComputedStyle(gd).display;\n",
              "        if (!display || display === 'none') {{\n",
              "            console.log([gd, 'removed!']);\n",
              "            Plotly.purge(gd);\n",
              "            observer.disconnect();\n",
              "        }}\n",
              "}});\n",
              "\n",
              "// Listen for the removal of the full notebook cells\n",
              "var notebookContainer = gd.closest('#notebook-container');\n",
              "if (notebookContainer) {{\n",
              "    x.observe(notebookContainer, {childList: true});\n",
              "}}\n",
              "\n",
              "// Listen for the clearing of the current output cell\n",
              "var outputEl = gd.closest('.output');\n",
              "if (outputEl) {{\n",
              "    x.observe(outputEl, {childList: true});\n",
              "}}\n",
              "\n",
              "                        })\n",
              "                };\n",
              "                \n",
              "            </script>\n",
              "        </div>\n",
              "</body>\n",
              "</html>"
            ]
          },
          "metadata": {
            "tags": []
          }
        }
      ]
    },
    {
      "cell_type": "code",
      "metadata": {
        "colab": {
          "base_uri": "https://localhost:8080/",
          "height": 542
        },
        "id": "RxosJXgC25KC",
        "outputId": "f0f06f97-7326-4e9a-dea6-e00be6e9ac5d"
      },
      "source": [
        "#gráfico 6 unindo gráfico da América Latina e gráfico dos países ricos\n",
        "\n",
        "graf4 = go.Bar(x = df_nosexAL['País'],\n",
        "               y = df_nosexAL['y2019'],\n",
        "               marker = dict(color= ['#55D6BE', '#55D6BE',  '#55D6BE', '#55D6BE', '#55D6BE', '#55D6BE', '#ED07CB',\n",
        "                              '#55D6BE', '#55D6BE',  '#55D6BE', '#55D6BE', '#55D6BE', '#55D6BE', '#55D6BE', \n",
        "                              '#55D6BE', '#55D6BE',  '#55D6BE', '#55D6BE', '#55D6BE', '#55D6BE', '#55D6BE', \n",
        "                              '#55D6BE', '#55D6BE',  '#55D6BE', '#55D6BE', '#55D6BE', '#55D6BE', '#55D6BE'\n",
        "                              ]),\n",
        "               name='América Latina'\n",
        "               )\n",
        "\n",
        "graf5 = go.Bar(x = df_nosexPPC['País'],\n",
        "               y = df_nosexPPC['y2019'],\n",
        "               marker = dict(color= '#6D32EC'),\n",
        "               name = 'países ricos selecionados'\n",
        "               )\n",
        "\n",
        "layout = go.Layout(title={\n",
        "                  'text': \"Taxas de suicídio por países em 2019\",\n",
        "                  'y':0.9,\n",
        "                  'x':0.5,\n",
        "                  'xanchor': 'center',\n",
        "                  'yanchor': 'top'},\n",
        "                   yaxis={'title':'Taxa de Suicídios'},\n",
        "                   xaxis={'titlefont': {'size':16},\n",
        "                          'tickangle': 40},\n",
        "                   font={\n",
        "                  'family':\"Arial, monospace\",\n",
        "                  'size': 12,\n",
        "                  'color':\"#525252\"}\n",
        " )\n",
        "\n",
        "data = [graf4, graf5]\n",
        "\n",
        "fig = go.Figure(data=data, layout=layout)\n",
        "\n",
        "iplot(fig)"
      ],
      "execution_count": null,
      "outputs": [
        {
          "output_type": "display_data",
          "data": {
            "text/html": [
              "<html>\n",
              "<head><meta charset=\"utf-8\" /></head>\n",
              "<body>\n",
              "    <div>\n",
              "            <script src=\"https://cdnjs.cloudflare.com/ajax/libs/mathjax/2.7.5/MathJax.js?config=TeX-AMS-MML_SVG\"></script><script type=\"text/javascript\">if (window.MathJax) {MathJax.Hub.Config({SVG: {font: \"STIX-Web\"}});}</script>\n",
              "                <script type=\"text/javascript\">window.PlotlyConfig = {MathJaxConfig: 'local'};</script>\n",
              "        <script src=\"https://cdn.plot.ly/plotly-latest.min.js\"></script>    \n",
              "            <div id=\"9b9dce0b-a483-4bb5-8aa6-e57be419b78e\" class=\"plotly-graph-div\" style=\"height:525px; width:100%;\"></div>\n",
              "            <script type=\"text/javascript\">\n",
              "                \n",
              "                    window.PLOTLYENV=window.PLOTLYENV || {};\n",
              "                    \n",
              "                if (document.getElementById(\"9b9dce0b-a483-4bb5-8aa6-e57be419b78e\")) {\n",
              "                    Plotly.newPlot(\n",
              "                        '9b9dce0b-a483-4bb5-8aa6-e57be419b78e',\n",
              "                        [{\"marker\": {\"color\": [\"#55D6BE\", \"#55D6BE\", \"#55D6BE\", \"#55D6BE\", \"#55D6BE\", \"#55D6BE\", \"#ED07CB\", \"#55D6BE\", \"#55D6BE\", \"#55D6BE\", \"#55D6BE\", \"#55D6BE\", \"#55D6BE\", \"#55D6BE\", \"#55D6BE\", \"#55D6BE\", \"#55D6BE\", \"#55D6BE\", \"#55D6BE\", \"#55D6BE\", \"#55D6BE\", \"#55D6BE\", \"#55D6BE\", \"#55D6BE\", \"#55D6BE\", \"#55D6BE\", \"#55D6BE\", \"#55D6BE\"]}, \"name\": \"Am\\u00e9rica Latina\", \"type\": \"bar\", \"x\": [\"Antigua and Barbuda\", \"Argentina\", \"Bahamas\", \"Barbados\", \"Belize\", \"Bolivia (Plurinational State of)\", \"Brazil\", \"Chile\", \"Colombia\", \"Costa Rica\", \"Cuba\", \"Ecuador\", \"El Salvador\", \"Grenada\", \"Guatemala\", \"Guyana\", \"Haiti\", \"Jamaica\", \"Mexico\", \"Nicaragua\", \"Panama\", \"Paraguay\", \"Peru\", \"Saint Lucia\", \"Saint Vincent and the Grenadines\", \"Trinidad and Tobago\", \"Uruguay\", \"Venezuela (Bolivarian Republic of)\"], \"y\": [0.4, 8.4, 3.5, 0.6, 7.1, 6.2, 6.9, 9.0, 3.9, 8.1, 14.5, 7.6, 6.1, 0.7, 5.9, 40.3, 9.6, 2.4, 5.3, 4.4, 2.9, 6.0, 2.8, 7.9, 1.0, 8.7, 21.2, 2.1]}, {\"marker\": {\"color\": \"#6D32EC\"}, \"name\": \"pa\\u00edses ricos selecionados\", \"type\": \"bar\", \"x\": [\"Germany\", \"Japan\", \"Norway\", \"Singapore\", \"Switzerland\", \"United Arab Emirates\", \"United States of America\"], \"y\": [12.3, 15.3, 11.8, 11.2, 14.5, 6.4, 16.1]}],\n",
              "                        {\"font\": {\"color\": \"#525252\", \"family\": \"Arial, monospace\", \"size\": 12}, \"template\": {\"data\": {\"bar\": [{\"error_x\": {\"color\": \"#2a3f5f\"}, \"error_y\": {\"color\": \"#2a3f5f\"}, \"marker\": {\"line\": {\"color\": \"#E5ECF6\", \"width\": 0.5}}, \"type\": \"bar\"}], \"barpolar\": [{\"marker\": {\"line\": {\"color\": \"#E5ECF6\", \"width\": 0.5}}, \"type\": \"barpolar\"}], \"carpet\": [{\"aaxis\": {\"endlinecolor\": \"#2a3f5f\", \"gridcolor\": \"white\", \"linecolor\": \"white\", \"minorgridcolor\": \"white\", \"startlinecolor\": \"#2a3f5f\"}, \"baxis\": {\"endlinecolor\": \"#2a3f5f\", \"gridcolor\": \"white\", \"linecolor\": \"white\", \"minorgridcolor\": \"white\", \"startlinecolor\": \"#2a3f5f\"}, \"type\": \"carpet\"}], \"choropleth\": [{\"colorbar\": {\"outlinewidth\": 0, \"ticks\": \"\"}, \"type\": \"choropleth\"}], \"contour\": [{\"colorbar\": {\"outlinewidth\": 0, \"ticks\": \"\"}, \"colorscale\": [[0.0, \"#0d0887\"], [0.1111111111111111, \"#46039f\"], [0.2222222222222222, \"#7201a8\"], [0.3333333333333333, \"#9c179e\"], [0.4444444444444444, \"#bd3786\"], [0.5555555555555556, \"#d8576b\"], [0.6666666666666666, \"#ed7953\"], [0.7777777777777778, \"#fb9f3a\"], [0.8888888888888888, \"#fdca26\"], [1.0, \"#f0f921\"]], \"type\": \"contour\"}], \"contourcarpet\": [{\"colorbar\": {\"outlinewidth\": 0, \"ticks\": \"\"}, \"type\": \"contourcarpet\"}], \"heatmap\": [{\"colorbar\": {\"outlinewidth\": 0, \"ticks\": \"\"}, \"colorscale\": [[0.0, \"#0d0887\"], [0.1111111111111111, \"#46039f\"], [0.2222222222222222, \"#7201a8\"], [0.3333333333333333, \"#9c179e\"], [0.4444444444444444, \"#bd3786\"], [0.5555555555555556, \"#d8576b\"], [0.6666666666666666, \"#ed7953\"], [0.7777777777777778, \"#fb9f3a\"], [0.8888888888888888, \"#fdca26\"], [1.0, \"#f0f921\"]], \"type\": \"heatmap\"}], \"heatmapgl\": [{\"colorbar\": {\"outlinewidth\": 0, \"ticks\": \"\"}, \"colorscale\": [[0.0, \"#0d0887\"], [0.1111111111111111, \"#46039f\"], [0.2222222222222222, \"#7201a8\"], [0.3333333333333333, \"#9c179e\"], [0.4444444444444444, \"#bd3786\"], [0.5555555555555556, \"#d8576b\"], [0.6666666666666666, \"#ed7953\"], [0.7777777777777778, \"#fb9f3a\"], [0.8888888888888888, \"#fdca26\"], [1.0, \"#f0f921\"]], \"type\": \"heatmapgl\"}], \"histogram\": [{\"marker\": {\"colorbar\": {\"outlinewidth\": 0, \"ticks\": \"\"}}, \"type\": \"histogram\"}], \"histogram2d\": [{\"colorbar\": {\"outlinewidth\": 0, \"ticks\": \"\"}, \"colorscale\": [[0.0, \"#0d0887\"], [0.1111111111111111, \"#46039f\"], [0.2222222222222222, \"#7201a8\"], [0.3333333333333333, \"#9c179e\"], [0.4444444444444444, \"#bd3786\"], [0.5555555555555556, \"#d8576b\"], [0.6666666666666666, \"#ed7953\"], [0.7777777777777778, \"#fb9f3a\"], [0.8888888888888888, \"#fdca26\"], [1.0, \"#f0f921\"]], \"type\": \"histogram2d\"}], \"histogram2dcontour\": [{\"colorbar\": {\"outlinewidth\": 0, \"ticks\": \"\"}, \"colorscale\": [[0.0, \"#0d0887\"], [0.1111111111111111, \"#46039f\"], [0.2222222222222222, \"#7201a8\"], [0.3333333333333333, \"#9c179e\"], [0.4444444444444444, \"#bd3786\"], [0.5555555555555556, \"#d8576b\"], [0.6666666666666666, \"#ed7953\"], [0.7777777777777778, \"#fb9f3a\"], [0.8888888888888888, \"#fdca26\"], [1.0, \"#f0f921\"]], \"type\": \"histogram2dcontour\"}], \"mesh3d\": [{\"colorbar\": {\"outlinewidth\": 0, \"ticks\": \"\"}, \"type\": \"mesh3d\"}], \"parcoords\": [{\"line\": {\"colorbar\": {\"outlinewidth\": 0, \"ticks\": \"\"}}, \"type\": \"parcoords\"}], \"pie\": [{\"automargin\": true, \"type\": \"pie\"}], \"scatter\": [{\"marker\": {\"colorbar\": {\"outlinewidth\": 0, \"ticks\": \"\"}}, \"type\": \"scatter\"}], \"scatter3d\": [{\"line\": {\"colorbar\": {\"outlinewidth\": 0, \"ticks\": \"\"}}, \"marker\": {\"colorbar\": {\"outlinewidth\": 0, \"ticks\": \"\"}}, \"type\": \"scatter3d\"}], \"scattercarpet\": [{\"marker\": {\"colorbar\": {\"outlinewidth\": 0, \"ticks\": \"\"}}, \"type\": \"scattercarpet\"}], \"scattergeo\": [{\"marker\": {\"colorbar\": {\"outlinewidth\": 0, \"ticks\": \"\"}}, \"type\": \"scattergeo\"}], \"scattergl\": [{\"marker\": {\"colorbar\": {\"outlinewidth\": 0, \"ticks\": \"\"}}, \"type\": \"scattergl\"}], \"scattermapbox\": [{\"marker\": {\"colorbar\": {\"outlinewidth\": 0, \"ticks\": \"\"}}, \"type\": \"scattermapbox\"}], \"scatterpolar\": [{\"marker\": {\"colorbar\": {\"outlinewidth\": 0, \"ticks\": \"\"}}, \"type\": \"scatterpolar\"}], \"scatterpolargl\": [{\"marker\": {\"colorbar\": {\"outlinewidth\": 0, \"ticks\": \"\"}}, \"type\": \"scatterpolargl\"}], \"scatterternary\": [{\"marker\": {\"colorbar\": {\"outlinewidth\": 0, \"ticks\": \"\"}}, \"type\": \"scatterternary\"}], \"surface\": [{\"colorbar\": {\"outlinewidth\": 0, \"ticks\": \"\"}, \"colorscale\": [[0.0, \"#0d0887\"], [0.1111111111111111, \"#46039f\"], [0.2222222222222222, \"#7201a8\"], [0.3333333333333333, \"#9c179e\"], [0.4444444444444444, \"#bd3786\"], [0.5555555555555556, \"#d8576b\"], [0.6666666666666666, \"#ed7953\"], [0.7777777777777778, \"#fb9f3a\"], [0.8888888888888888, \"#fdca26\"], [1.0, \"#f0f921\"]], \"type\": \"surface\"}], \"table\": [{\"cells\": {\"fill\": {\"color\": \"#EBF0F8\"}, \"line\": {\"color\": \"white\"}}, \"header\": {\"fill\": {\"color\": \"#C8D4E3\"}, \"line\": {\"color\": \"white\"}}, \"type\": \"table\"}]}, \"layout\": {\"annotationdefaults\": {\"arrowcolor\": \"#2a3f5f\", \"arrowhead\": 0, \"arrowwidth\": 1}, \"coloraxis\": {\"colorbar\": {\"outlinewidth\": 0, \"ticks\": \"\"}}, \"colorscale\": {\"diverging\": [[0, \"#8e0152\"], [0.1, \"#c51b7d\"], [0.2, \"#de77ae\"], [0.3, \"#f1b6da\"], [0.4, \"#fde0ef\"], [0.5, \"#f7f7f7\"], [0.6, \"#e6f5d0\"], [0.7, \"#b8e186\"], [0.8, \"#7fbc41\"], [0.9, \"#4d9221\"], [1, \"#276419\"]], \"sequential\": [[0.0, \"#0d0887\"], [0.1111111111111111, \"#46039f\"], [0.2222222222222222, \"#7201a8\"], [0.3333333333333333, \"#9c179e\"], [0.4444444444444444, \"#bd3786\"], [0.5555555555555556, \"#d8576b\"], [0.6666666666666666, \"#ed7953\"], [0.7777777777777778, \"#fb9f3a\"], [0.8888888888888888, \"#fdca26\"], [1.0, \"#f0f921\"]], \"sequentialminus\": [[0.0, \"#0d0887\"], [0.1111111111111111, \"#46039f\"], [0.2222222222222222, \"#7201a8\"], [0.3333333333333333, \"#9c179e\"], [0.4444444444444444, \"#bd3786\"], [0.5555555555555556, \"#d8576b\"], [0.6666666666666666, \"#ed7953\"], [0.7777777777777778, \"#fb9f3a\"], [0.8888888888888888, \"#fdca26\"], [1.0, \"#f0f921\"]]}, \"colorway\": [\"#636efa\", \"#EF553B\", \"#00cc96\", \"#ab63fa\", \"#FFA15A\", \"#19d3f3\", \"#FF6692\", \"#B6E880\", \"#FF97FF\", \"#FECB52\"], \"font\": {\"color\": \"#2a3f5f\"}, \"geo\": {\"bgcolor\": \"white\", \"lakecolor\": \"white\", \"landcolor\": \"#E5ECF6\", \"showlakes\": true, \"showland\": true, \"subunitcolor\": \"white\"}, \"hoverlabel\": {\"align\": \"left\"}, \"hovermode\": \"closest\", \"mapbox\": {\"style\": \"light\"}, \"paper_bgcolor\": \"white\", \"plot_bgcolor\": \"#E5ECF6\", \"polar\": {\"angularaxis\": {\"gridcolor\": \"white\", \"linecolor\": \"white\", \"ticks\": \"\"}, \"bgcolor\": \"#E5ECF6\", \"radialaxis\": {\"gridcolor\": \"white\", \"linecolor\": \"white\", \"ticks\": \"\"}}, \"scene\": {\"xaxis\": {\"backgroundcolor\": \"#E5ECF6\", \"gridcolor\": \"white\", \"gridwidth\": 2, \"linecolor\": \"white\", \"showbackground\": true, \"ticks\": \"\", \"zerolinecolor\": \"white\"}, \"yaxis\": {\"backgroundcolor\": \"#E5ECF6\", \"gridcolor\": \"white\", \"gridwidth\": 2, \"linecolor\": \"white\", \"showbackground\": true, \"ticks\": \"\", \"zerolinecolor\": \"white\"}, \"zaxis\": {\"backgroundcolor\": \"#E5ECF6\", \"gridcolor\": \"white\", \"gridwidth\": 2, \"linecolor\": \"white\", \"showbackground\": true, \"ticks\": \"\", \"zerolinecolor\": \"white\"}}, \"shapedefaults\": {\"line\": {\"color\": \"#2a3f5f\"}}, \"ternary\": {\"aaxis\": {\"gridcolor\": \"white\", \"linecolor\": \"white\", \"ticks\": \"\"}, \"baxis\": {\"gridcolor\": \"white\", \"linecolor\": \"white\", \"ticks\": \"\"}, \"bgcolor\": \"#E5ECF6\", \"caxis\": {\"gridcolor\": \"white\", \"linecolor\": \"white\", \"ticks\": \"\"}}, \"title\": {\"x\": 0.05}, \"xaxis\": {\"automargin\": true, \"gridcolor\": \"white\", \"linecolor\": \"white\", \"ticks\": \"\", \"title\": {\"standoff\": 15}, \"zerolinecolor\": \"white\", \"zerolinewidth\": 2}, \"yaxis\": {\"automargin\": true, \"gridcolor\": \"white\", \"linecolor\": \"white\", \"ticks\": \"\", \"title\": {\"standoff\": 15}, \"zerolinecolor\": \"white\", \"zerolinewidth\": 2}}}, \"title\": {\"text\": \"Taxas de suic\\u00eddio por pa\\u00edses em 2019\", \"x\": 0.5, \"xanchor\": \"center\", \"y\": 0.9, \"yanchor\": \"top\"}, \"xaxis\": {\"tickangle\": 40, \"title\": {\"font\": {\"size\": 16}}}, \"yaxis\": {\"title\": {\"text\": \"Taxa de Suic\\u00eddios\"}}},\n",
              "                        {\"responsive\": true}\n",
              "                    ).then(function(){\n",
              "                            \n",
              "var gd = document.getElementById('9b9dce0b-a483-4bb5-8aa6-e57be419b78e');\n",
              "var x = new MutationObserver(function (mutations, observer) {{\n",
              "        var display = window.getComputedStyle(gd).display;\n",
              "        if (!display || display === 'none') {{\n",
              "            console.log([gd, 'removed!']);\n",
              "            Plotly.purge(gd);\n",
              "            observer.disconnect();\n",
              "        }}\n",
              "}});\n",
              "\n",
              "// Listen for the removal of the full notebook cells\n",
              "var notebookContainer = gd.closest('#notebook-container');\n",
              "if (notebookContainer) {{\n",
              "    x.observe(notebookContainer, {childList: true});\n",
              "}}\n",
              "\n",
              "// Listen for the clearing of the current output cell\n",
              "var outputEl = gd.closest('.output');\n",
              "if (outputEl) {{\n",
              "    x.observe(outputEl, {childList: true});\n",
              "}}\n",
              "\n",
              "                        })\n",
              "                };\n",
              "                \n",
              "            </script>\n",
              "        </div>\n",
              "</body>\n",
              "</html>"
            ]
          },
          "metadata": {
            "tags": []
          }
        }
      ]
    },
    {
      "cell_type": "markdown",
      "metadata": {
        "id": "AG-IR33W3pOP"
      },
      "source": [
        "- Gráfico de pizza"
      ]
    },
    {
      "cell_type": "code",
      "metadata": {
        "id": "I4CXMsuV-LU5"
      },
      "source": [
        "#importando subplots para colocar mais de um gráfico na mesma figura\n",
        "from plotly.subplots import make_subplots"
      ],
      "execution_count": null,
      "outputs": []
    },
    {
      "cell_type": "code",
      "metadata": {
        "colab": {
          "base_uri": "https://localhost:8080/",
          "height": 542
        },
        "id": "H8irC5Of-3Cz",
        "outputId": "87fb6bb1-f464-49eb-d548-6e840259f02d"
      },
      "source": [
        "#gráfico 7\n",
        "labels = df_sexAL['Sexo']\n",
        "colors = ['#6D32EC', '#ED07CB']\n",
        "\n",
        "# Create subplots: use 'domain' type for Pie subplot\n",
        "fig = make_subplots(rows=1, cols=3, specs=[[{'type':'domain'}, {'type':'domain'}, {'type':'domain'}]])\n",
        "fig.add_trace(go.Pie(labels=labels, values= df_sexAL['y2019'], pull=[0.05, 0], name=\"América Latina\"),\n",
        "              1, 1)\n",
        "fig.add_trace(go.Pie(labels=labels, values= df_sexBR['y2019'], pull=[0.05, 0], name=\"Brasil\"),\n",
        "              1, 2)\n",
        "fig.add_trace(go.Pie(labels=labels, values= df_sexPPC['y2019'], pull=[0.05, 0], name=\"Países Ricos\"),\n",
        "              1, 3)\n",
        "\n",
        "# Use `hole` to create a donut-like pie chart\n",
        "fig.update_traces(hoverinfo=\"label+percent+name\", marker=dict(colors=colors))\n",
        "\n",
        "fig.update_layout(\n",
        "    title_text=\"Taxa de suicídio por sexo, para a América Latina, Brasil e para os países ricos, em 2019\",\n",
        "    # Add annotations in the center of the donut pies.\n",
        "    annotations=[dict(text='América Latina', x=0.08, y=-0.05, font_size=18, showarrow=False),\n",
        "                 dict(text='Brasil', x=0.5, y=-0.05, font_size=20, showarrow=False),\n",
        "                 dict(text='Países Ricos', x=0.92, y=-0.05, font_size=20, showarrow=False)])\n",
        "fig.show()"
      ],
      "execution_count": null,
      "outputs": [
        {
          "output_type": "display_data",
          "data": {
            "text/html": [
              "<html>\n",
              "<head><meta charset=\"utf-8\" /></head>\n",
              "<body>\n",
              "    <div>\n",
              "            <script src=\"https://cdnjs.cloudflare.com/ajax/libs/mathjax/2.7.5/MathJax.js?config=TeX-AMS-MML_SVG\"></script><script type=\"text/javascript\">if (window.MathJax) {MathJax.Hub.Config({SVG: {font: \"STIX-Web\"}});}</script>\n",
              "                <script type=\"text/javascript\">window.PlotlyConfig = {MathJaxConfig: 'local'};</script>\n",
              "        <script src=\"https://cdn.plot.ly/plotly-latest.min.js\"></script>    \n",
              "            <div id=\"cdbe1011-82e1-4e32-bb43-3bca4add1a7e\" class=\"plotly-graph-div\" style=\"height:525px; width:100%;\"></div>\n",
              "            <script type=\"text/javascript\">\n",
              "                \n",
              "                    window.PLOTLYENV=window.PLOTLYENV || {};\n",
              "                    \n",
              "                if (document.getElementById(\"cdbe1011-82e1-4e32-bb43-3bca4add1a7e\")) {\n",
              "                    Plotly.newPlot(\n",
              "                        'cdbe1011-82e1-4e32-bb43-3bca4add1a7e',\n",
              "                        [{\"domain\": {\"x\": [0.0, 0.2888888888888889], \"y\": [0.0, 1.0]}, \"hoverinfo\": \"label+percent+name\", \"labels\": [\"Male\", \"Female\", \"Male\", \"Female\", \"Male\", \"Female\", \"Male\", \"Female\", \"Male\", \"Female\", \"Male\", \"Female\", \"Male\", \"Female\", \"Male\", \"Female\", \"Male\", \"Female\", \"Male\", \"Female\", \"Male\", \"Female\", \"Male\", \"Female\", \"Male\", \"Female\", \"Male\", \"Female\", \"Male\", \"Female\", \"Male\", \"Female\", \"Male\", \"Female\", \"Male\", \"Female\", \"Male\", \"Female\", \"Male\", \"Female\", \"Male\", \"Female\", \"Male\", \"Female\", \"Male\", \"Female\", \"Male\", \"Female\", \"Male\", \"Female\", \"Male\", \"Female\", \"Male\", \"Female\", \"Male\", \"Female\"], \"marker\": {\"colors\": [\"#6D32EC\", \"#ED07CB\"]}, \"name\": \"Am\\u00e9rica Latina\", \"pull\": [0.05, 0], \"type\": \"pie\", \"values\": [0.0, 0.8, 13.7, 3.3, 5.9, 1.3, 0.9, 0.3, 12.5, 1.7, 8.4, 4.1, 10.9, 3.0, 14.9, 3.2, 6.1, 1.8, 14.1, 2.0, 23.0, 6.0, 11.6, 3.6, 10.5, 2.1, 0.6, 0.7, 9.3, 2.6, 63.0, 17.4, 11.8, 7.6, 3.7, 1.1, 8.5, 2.2, 6.9, 1.9, 4.7, 1.0, 8.7, 3.2, 4.2, 1.4, 14.3, 1.7, 1.3, 0.6, 13.9, 3.6, 34.5, 8.9, 3.5, 0.7]}, {\"domain\": {\"x\": [0.35555555555555557, 0.6444444444444445], \"y\": [0.0, 1.0]}, \"hoverinfo\": \"label+percent+name\", \"labels\": [\"Male\", \"Female\", \"Male\", \"Female\", \"Male\", \"Female\", \"Male\", \"Female\", \"Male\", \"Female\", \"Male\", \"Female\", \"Male\", \"Female\", \"Male\", \"Female\", \"Male\", \"Female\", \"Male\", \"Female\", \"Male\", \"Female\", \"Male\", \"Female\", \"Male\", \"Female\", \"Male\", \"Female\", \"Male\", \"Female\", \"Male\", \"Female\", \"Male\", \"Female\", \"Male\", \"Female\", \"Male\", \"Female\", \"Male\", \"Female\", \"Male\", \"Female\", \"Male\", \"Female\", \"Male\", \"Female\", \"Male\", \"Female\", \"Male\", \"Female\", \"Male\", \"Female\", \"Male\", \"Female\", \"Male\", \"Female\"], \"marker\": {\"colors\": [\"#6D32EC\", \"#ED07CB\"]}, \"name\": \"Brasil\", \"pull\": [0.05, 0], \"type\": \"pie\", \"values\": [10.9, 3.0]}, {\"domain\": {\"x\": [0.7111111111111111, 1.0], \"y\": [0.0, 1.0]}, \"hoverinfo\": \"label+percent+name\", \"labels\": [\"Male\", \"Female\", \"Male\", \"Female\", \"Male\", \"Female\", \"Male\", \"Female\", \"Male\", \"Female\", \"Male\", \"Female\", \"Male\", \"Female\", \"Male\", \"Female\", \"Male\", \"Female\", \"Male\", \"Female\", \"Male\", \"Female\", \"Male\", \"Female\", \"Male\", \"Female\", \"Male\", \"Female\", \"Male\", \"Female\", \"Male\", \"Female\", \"Male\", \"Female\", \"Male\", \"Female\", \"Male\", \"Female\", \"Male\", \"Female\", \"Male\", \"Female\", \"Male\", \"Female\", \"Male\", \"Female\", \"Male\", \"Female\", \"Male\", \"Female\", \"Male\", \"Female\", \"Male\", \"Female\", \"Male\", \"Female\"], \"marker\": {\"colors\": [\"#6D32EC\", \"#ED07CB\"]}, \"name\": \"Pa\\u00edses Ricos\", \"pull\": [0.05, 0], \"type\": \"pie\", \"values\": [18.6, 6.2, 21.8, 9.2, 15.8, 7.7, 15.0, 7.1, 20.2, 9.0, 8.0, 3.0, 25.0, 7.5]}],\n",
              "                        {\"annotations\": [{\"font\": {\"size\": 18}, \"showarrow\": false, \"text\": \"Am\\u00e9rica Latina\", \"x\": 0.08, \"y\": -0.05}, {\"font\": {\"size\": 20}, \"showarrow\": false, \"text\": \"Brasil\", \"x\": 0.5, \"y\": -0.05}, {\"font\": {\"size\": 20}, \"showarrow\": false, \"text\": \"Pa\\u00edses Ricos\", \"x\": 0.92, \"y\": -0.05}], \"template\": {\"data\": {\"bar\": [{\"error_x\": {\"color\": \"#2a3f5f\"}, \"error_y\": {\"color\": \"#2a3f5f\"}, \"marker\": {\"line\": {\"color\": \"#E5ECF6\", \"width\": 0.5}}, \"type\": \"bar\"}], \"barpolar\": [{\"marker\": {\"line\": {\"color\": \"#E5ECF6\", \"width\": 0.5}}, \"type\": \"barpolar\"}], \"carpet\": [{\"aaxis\": {\"endlinecolor\": \"#2a3f5f\", \"gridcolor\": \"white\", \"linecolor\": \"white\", \"minorgridcolor\": \"white\", \"startlinecolor\": \"#2a3f5f\"}, \"baxis\": {\"endlinecolor\": \"#2a3f5f\", \"gridcolor\": \"white\", \"linecolor\": \"white\", \"minorgridcolor\": \"white\", \"startlinecolor\": \"#2a3f5f\"}, \"type\": \"carpet\"}], \"choropleth\": [{\"colorbar\": {\"outlinewidth\": 0, \"ticks\": \"\"}, \"type\": \"choropleth\"}], \"contour\": [{\"colorbar\": {\"outlinewidth\": 0, \"ticks\": \"\"}, \"colorscale\": [[0.0, \"#0d0887\"], [0.1111111111111111, \"#46039f\"], [0.2222222222222222, \"#7201a8\"], [0.3333333333333333, \"#9c179e\"], [0.4444444444444444, \"#bd3786\"], [0.5555555555555556, \"#d8576b\"], [0.6666666666666666, \"#ed7953\"], [0.7777777777777778, \"#fb9f3a\"], [0.8888888888888888, \"#fdca26\"], [1.0, \"#f0f921\"]], \"type\": \"contour\"}], \"contourcarpet\": [{\"colorbar\": {\"outlinewidth\": 0, \"ticks\": \"\"}, \"type\": \"contourcarpet\"}], \"heatmap\": [{\"colorbar\": {\"outlinewidth\": 0, \"ticks\": \"\"}, \"colorscale\": [[0.0, \"#0d0887\"], [0.1111111111111111, \"#46039f\"], [0.2222222222222222, \"#7201a8\"], [0.3333333333333333, \"#9c179e\"], [0.4444444444444444, \"#bd3786\"], [0.5555555555555556, \"#d8576b\"], [0.6666666666666666, \"#ed7953\"], [0.7777777777777778, \"#fb9f3a\"], [0.8888888888888888, \"#fdca26\"], [1.0, \"#f0f921\"]], \"type\": \"heatmap\"}], \"heatmapgl\": [{\"colorbar\": {\"outlinewidth\": 0, \"ticks\": \"\"}, \"colorscale\": [[0.0, \"#0d0887\"], [0.1111111111111111, \"#46039f\"], [0.2222222222222222, \"#7201a8\"], [0.3333333333333333, \"#9c179e\"], [0.4444444444444444, \"#bd3786\"], [0.5555555555555556, \"#d8576b\"], [0.6666666666666666, \"#ed7953\"], [0.7777777777777778, \"#fb9f3a\"], [0.8888888888888888, \"#fdca26\"], [1.0, \"#f0f921\"]], \"type\": \"heatmapgl\"}], \"histogram\": [{\"marker\": {\"colorbar\": {\"outlinewidth\": 0, \"ticks\": \"\"}}, \"type\": \"histogram\"}], \"histogram2d\": [{\"colorbar\": {\"outlinewidth\": 0, \"ticks\": \"\"}, \"colorscale\": [[0.0, \"#0d0887\"], [0.1111111111111111, \"#46039f\"], [0.2222222222222222, \"#7201a8\"], [0.3333333333333333, \"#9c179e\"], [0.4444444444444444, \"#bd3786\"], [0.5555555555555556, \"#d8576b\"], [0.6666666666666666, \"#ed7953\"], [0.7777777777777778, \"#fb9f3a\"], [0.8888888888888888, \"#fdca26\"], [1.0, \"#f0f921\"]], \"type\": \"histogram2d\"}], \"histogram2dcontour\": [{\"colorbar\": {\"outlinewidth\": 0, \"ticks\": \"\"}, \"colorscale\": [[0.0, \"#0d0887\"], [0.1111111111111111, \"#46039f\"], [0.2222222222222222, \"#7201a8\"], [0.3333333333333333, \"#9c179e\"], [0.4444444444444444, \"#bd3786\"], [0.5555555555555556, \"#d8576b\"], [0.6666666666666666, \"#ed7953\"], [0.7777777777777778, \"#fb9f3a\"], [0.8888888888888888, \"#fdca26\"], [1.0, \"#f0f921\"]], \"type\": \"histogram2dcontour\"}], \"mesh3d\": [{\"colorbar\": {\"outlinewidth\": 0, \"ticks\": \"\"}, \"type\": \"mesh3d\"}], \"parcoords\": [{\"line\": {\"colorbar\": {\"outlinewidth\": 0, \"ticks\": \"\"}}, \"type\": \"parcoords\"}], \"pie\": [{\"automargin\": true, \"type\": \"pie\"}], \"scatter\": [{\"marker\": {\"colorbar\": {\"outlinewidth\": 0, \"ticks\": \"\"}}, \"type\": \"scatter\"}], \"scatter3d\": [{\"line\": {\"colorbar\": {\"outlinewidth\": 0, \"ticks\": \"\"}}, \"marker\": {\"colorbar\": {\"outlinewidth\": 0, \"ticks\": \"\"}}, \"type\": \"scatter3d\"}], \"scattercarpet\": [{\"marker\": {\"colorbar\": {\"outlinewidth\": 0, \"ticks\": \"\"}}, \"type\": \"scattercarpet\"}], \"scattergeo\": [{\"marker\": {\"colorbar\": {\"outlinewidth\": 0, \"ticks\": \"\"}}, \"type\": \"scattergeo\"}], \"scattergl\": [{\"marker\": {\"colorbar\": {\"outlinewidth\": 0, \"ticks\": \"\"}}, \"type\": \"scattergl\"}], \"scattermapbox\": [{\"marker\": {\"colorbar\": {\"outlinewidth\": 0, \"ticks\": \"\"}}, \"type\": \"scattermapbox\"}], \"scatterpolar\": [{\"marker\": {\"colorbar\": {\"outlinewidth\": 0, \"ticks\": \"\"}}, \"type\": \"scatterpolar\"}], \"scatterpolargl\": [{\"marker\": {\"colorbar\": {\"outlinewidth\": 0, \"ticks\": \"\"}}, \"type\": \"scatterpolargl\"}], \"scatterternary\": [{\"marker\": {\"colorbar\": {\"outlinewidth\": 0, \"ticks\": \"\"}}, \"type\": \"scatterternary\"}], \"surface\": [{\"colorbar\": {\"outlinewidth\": 0, \"ticks\": \"\"}, \"colorscale\": [[0.0, \"#0d0887\"], [0.1111111111111111, \"#46039f\"], [0.2222222222222222, \"#7201a8\"], [0.3333333333333333, \"#9c179e\"], [0.4444444444444444, \"#bd3786\"], [0.5555555555555556, \"#d8576b\"], [0.6666666666666666, \"#ed7953\"], [0.7777777777777778, \"#fb9f3a\"], [0.8888888888888888, \"#fdca26\"], [1.0, \"#f0f921\"]], \"type\": \"surface\"}], \"table\": [{\"cells\": {\"fill\": {\"color\": \"#EBF0F8\"}, \"line\": {\"color\": \"white\"}}, \"header\": {\"fill\": {\"color\": \"#C8D4E3\"}, \"line\": {\"color\": \"white\"}}, \"type\": \"table\"}]}, \"layout\": {\"annotationdefaults\": {\"arrowcolor\": \"#2a3f5f\", \"arrowhead\": 0, \"arrowwidth\": 1}, \"coloraxis\": {\"colorbar\": {\"outlinewidth\": 0, \"ticks\": \"\"}}, \"colorscale\": {\"diverging\": [[0, \"#8e0152\"], [0.1, \"#c51b7d\"], [0.2, \"#de77ae\"], [0.3, \"#f1b6da\"], [0.4, \"#fde0ef\"], [0.5, \"#f7f7f7\"], [0.6, \"#e6f5d0\"], [0.7, \"#b8e186\"], [0.8, \"#7fbc41\"], [0.9, \"#4d9221\"], [1, \"#276419\"]], \"sequential\": [[0.0, \"#0d0887\"], [0.1111111111111111, \"#46039f\"], [0.2222222222222222, \"#7201a8\"], [0.3333333333333333, \"#9c179e\"], [0.4444444444444444, \"#bd3786\"], [0.5555555555555556, \"#d8576b\"], [0.6666666666666666, \"#ed7953\"], [0.7777777777777778, \"#fb9f3a\"], [0.8888888888888888, \"#fdca26\"], [1.0, \"#f0f921\"]], \"sequentialminus\": [[0.0, \"#0d0887\"], [0.1111111111111111, \"#46039f\"], [0.2222222222222222, \"#7201a8\"], [0.3333333333333333, \"#9c179e\"], [0.4444444444444444, \"#bd3786\"], [0.5555555555555556, \"#d8576b\"], [0.6666666666666666, \"#ed7953\"], [0.7777777777777778, \"#fb9f3a\"], [0.8888888888888888, \"#fdca26\"], [1.0, \"#f0f921\"]]}, \"colorway\": [\"#636efa\", \"#EF553B\", \"#00cc96\", \"#ab63fa\", \"#FFA15A\", \"#19d3f3\", \"#FF6692\", \"#B6E880\", \"#FF97FF\", \"#FECB52\"], \"font\": {\"color\": \"#2a3f5f\"}, \"geo\": {\"bgcolor\": \"white\", \"lakecolor\": \"white\", \"landcolor\": \"#E5ECF6\", \"showlakes\": true, \"showland\": true, \"subunitcolor\": \"white\"}, \"hoverlabel\": {\"align\": \"left\"}, \"hovermode\": \"closest\", \"mapbox\": {\"style\": \"light\"}, \"paper_bgcolor\": \"white\", \"plot_bgcolor\": \"#E5ECF6\", \"polar\": {\"angularaxis\": {\"gridcolor\": \"white\", \"linecolor\": \"white\", \"ticks\": \"\"}, \"bgcolor\": \"#E5ECF6\", \"radialaxis\": {\"gridcolor\": \"white\", \"linecolor\": \"white\", \"ticks\": \"\"}}, \"scene\": {\"xaxis\": {\"backgroundcolor\": \"#E5ECF6\", \"gridcolor\": \"white\", \"gridwidth\": 2, \"linecolor\": \"white\", \"showbackground\": true, \"ticks\": \"\", \"zerolinecolor\": \"white\"}, \"yaxis\": {\"backgroundcolor\": \"#E5ECF6\", \"gridcolor\": \"white\", \"gridwidth\": 2, \"linecolor\": \"white\", \"showbackground\": true, \"ticks\": \"\", \"zerolinecolor\": \"white\"}, \"zaxis\": {\"backgroundcolor\": \"#E5ECF6\", \"gridcolor\": \"white\", \"gridwidth\": 2, \"linecolor\": \"white\", \"showbackground\": true, \"ticks\": \"\", \"zerolinecolor\": \"white\"}}, \"shapedefaults\": {\"line\": {\"color\": \"#2a3f5f\"}}, \"ternary\": {\"aaxis\": {\"gridcolor\": \"white\", \"linecolor\": \"white\", \"ticks\": \"\"}, \"baxis\": {\"gridcolor\": \"white\", \"linecolor\": \"white\", \"ticks\": \"\"}, \"bgcolor\": \"#E5ECF6\", \"caxis\": {\"gridcolor\": \"white\", \"linecolor\": \"white\", \"ticks\": \"\"}}, \"title\": {\"x\": 0.05}, \"xaxis\": {\"automargin\": true, \"gridcolor\": \"white\", \"linecolor\": \"white\", \"ticks\": \"\", \"title\": {\"standoff\": 15}, \"zerolinecolor\": \"white\", \"zerolinewidth\": 2}, \"yaxis\": {\"automargin\": true, \"gridcolor\": \"white\", \"linecolor\": \"white\", \"ticks\": \"\", \"title\": {\"standoff\": 15}, \"zerolinecolor\": \"white\", \"zerolinewidth\": 2}}}, \"title\": {\"text\": \"Taxa de suic\\u00eddio por sexo, para a Am\\u00e9rica Latina, Brasil e para os pa\\u00edses ricos, em 2019\"}},\n",
              "                        {\"responsive\": true}\n",
              "                    ).then(function(){\n",
              "                            \n",
              "var gd = document.getElementById('cdbe1011-82e1-4e32-bb43-3bca4add1a7e');\n",
              "var x = new MutationObserver(function (mutations, observer) {{\n",
              "        var display = window.getComputedStyle(gd).display;\n",
              "        if (!display || display === 'none') {{\n",
              "            console.log([gd, 'removed!']);\n",
              "            Plotly.purge(gd);\n",
              "            observer.disconnect();\n",
              "        }}\n",
              "}});\n",
              "\n",
              "// Listen for the removal of the full notebook cells\n",
              "var notebookContainer = gd.closest('#notebook-container');\n",
              "if (notebookContainer) {{\n",
              "    x.observe(notebookContainer, {childList: true});\n",
              "}}\n",
              "\n",
              "// Listen for the clearing of the current output cell\n",
              "var outputEl = gd.closest('.output');\n",
              "if (outputEl) {{\n",
              "    x.observe(outputEl, {childList: true});\n",
              "}}\n",
              "\n",
              "                        })\n",
              "                };\n",
              "                \n",
              "            </script>\n",
              "        </div>\n",
              "</body>\n",
              "</html>"
            ]
          },
          "metadata": {
            "tags": []
          }
        }
      ]
    },
    {
      "cell_type": "markdown",
      "metadata": {
        "id": "HauVR4IQcaBt"
      },
      "source": [
        "###Utilização de gráficos Plotly e envio em nuvem para edição no Chart Studio"
      ]
    },
    {
      "cell_type": "code",
      "metadata": {
        "colab": {
          "base_uri": "https://localhost:8080/"
        },
        "id": "9pfuO-bztW6c",
        "outputId": "b102eb30-a0af-4295-da82-4506917edf21"
      },
      "source": [
        "#instalando o chart studio\n",
        "!pip install chart_studio"
      ],
      "execution_count": null,
      "outputs": [
        {
          "output_type": "stream",
          "text": [
            "Collecting chart_studio\n",
            "\u001b[?25l  Downloading https://files.pythonhosted.org/packages/ca/ce/330794a6b6ca4b9182c38fc69dd2a9cbff60fd49421cb8648ee5fee352dc/chart_studio-1.1.0-py3-none-any.whl (64kB)\n",
            "\u001b[K     |████████████████████████████████| 71kB 2.5MB/s \n",
            "\u001b[?25hRequirement already satisfied: requests in /usr/local/lib/python3.7/dist-packages (from chart_studio) (2.23.0)\n",
            "Requirement already satisfied: six in /usr/local/lib/python3.7/dist-packages (from chart_studio) (1.15.0)\n",
            "Requirement already satisfied: retrying>=1.3.3 in /usr/local/lib/python3.7/dist-packages (from chart_studio) (1.3.3)\n",
            "Requirement already satisfied: plotly in /usr/local/lib/python3.7/dist-packages (from chart_studio) (4.4.1)\n",
            "Requirement already satisfied: idna<3,>=2.5 in /usr/local/lib/python3.7/dist-packages (from requests->chart_studio) (2.10)\n",
            "Requirement already satisfied: urllib3!=1.25.0,!=1.25.1,<1.26,>=1.21.1 in /usr/local/lib/python3.7/dist-packages (from requests->chart_studio) (1.24.3)\n",
            "Requirement already satisfied: certifi>=2017.4.17 in /usr/local/lib/python3.7/dist-packages (from requests->chart_studio) (2021.5.30)\n",
            "Requirement already satisfied: chardet<4,>=3.0.2 in /usr/local/lib/python3.7/dist-packages (from requests->chart_studio) (3.0.4)\n",
            "Installing collected packages: chart-studio\n",
            "Successfully installed chart-studio-1.1.0\n"
          ],
          "name": "stdout"
        }
      ]
    },
    {
      "cell_type": "code",
      "metadata": {
        "id": "SiLIiLVcqCWC"
      },
      "source": [
        "#importando o módulo do chart studio para exportar gráficos para nuvem\n",
        "import chart_studio\n",
        "import chart_studio.plotly as pyo\n",
        "import plotly.graph_objs as go"
      ],
      "execution_count": null,
      "outputs": []
    },
    {
      "cell_type": "code",
      "metadata": {
        "id": "F-wGPmxAx5Il"
      },
      "source": [
        "#configurando as credenciais da API\n",
        "chart_studio.tools.set_credentials_file(username='psidata', api_key='72kkrLMfetmrXIPW6JnI')"
      ],
      "execution_count": null,
      "outputs": []
    },
    {
      "cell_type": "code",
      "metadata": {
        "colab": {
          "base_uri": "https://localhost:8080/",
          "height": 35
        },
        "id": "pv3h7ALV0PcF",
        "outputId": "b65106a2-b002-4026-adee-a0582c563429"
      },
      "source": [
        "graf4 = go.Bar(x = df_nosexAL['País'],\n",
        "               y = df_nosexAL['y2019'],\n",
        "               marker = dict(color= ['#55D6BE', '#55D6BE',  '#55D6BE', '#55D6BE', '#55D6BE', '#55D6BE', '#ED07CB',\n",
        "                              '#55D6BE', '#55D6BE',  '#55D6BE', '#55D6BE', '#55D6BE', '#55D6BE', '#55D6BE', \n",
        "                              '#55D6BE', '#55D6BE',  '#55D6BE', '#55D6BE', '#55D6BE', '#55D6BE', '#55D6BE', \n",
        "                              '#55D6BE', '#55D6BE',  '#55D6BE', '#55D6BE', '#55D6BE', '#55D6BE', '#55D6BE'\n",
        "                              ]),\n",
        "               name='América Latina'\n",
        "               )\n",
        "\n",
        "graf5 = go.Bar(x = df_nosexPPC['País'],\n",
        "               y = df_nosexPPC['y2019'],\n",
        "               marker = dict(color= '#6D32EC'),\n",
        "               name = 'países ricos selecionados'\n",
        "               )\n",
        "\n",
        "layout = go.Layout(title={\n",
        "                  'text': \"Taxas de suicídio por países em 2019\",\n",
        "                  'y':0.9,\n",
        "                  'x':0.5,\n",
        "                  'xanchor': 'center',\n",
        "                  'yanchor': 'top'},\n",
        "                   yaxis={'title':'Taxa de Suicídios'},\n",
        "                   xaxis={'titlefont': {'size':16},\n",
        "                          'tickangle': 40},\n",
        "                   font={\n",
        "                  'family':\"Arial, monospace\",\n",
        "                  'size': 12,\n",
        "                  'color':\"#525252\"}\n",
        " )\n",
        "\n",
        "data = [graf4, graf5]\n",
        "\n",
        "fig = go.Figure(data=data, layout=layout)\n",
        "\n",
        "pyo.plot(fig)"
      ],
      "execution_count": null,
      "outputs": [
        {
          "output_type": "execute_result",
          "data": {
            "application/vnd.google.colaboratory.intrinsic+json": {
              "type": "string"
            },
            "text/plain": [
              "'https://plotly.com/~psidata/28/'"
            ]
          },
          "metadata": {
            "tags": []
          },
          "execution_count": 105
        }
      ]
    },
    {
      "cell_type": "code",
      "metadata": {
        "colab": {
          "base_uri": "https://localhost:8080/",
          "height": 35
        },
        "id": "UMeEhZxMu14t",
        "outputId": "aac9e3c3-4b65-466f-846e-9e858baa4794"
      },
      "source": [
        "#gráfico 7\n",
        "labels = df_sexAL['Sexo']\n",
        "colors = ['#6D32EC', '#ED07CB']\n",
        "\n",
        "# Create subplots: use 'domain' type for Pie subplot\n",
        "fig = make_subplots(rows=1, cols=3, specs=[[{'type':'domain'}, {'type':'domain'}, {'type':'domain'}]])\n",
        "fig.add_trace(go.Pie(labels=labels, values= df_sexAL['y2019'], pull=[0.05, 0], name=\"América Latina\"),\n",
        "              1, 1)\n",
        "fig.add_trace(go.Pie(labels=labels, values= df_sexBR['y2019'], pull=[0.05, 0], name=\"Brasil\"),\n",
        "              1, 2)\n",
        "fig.add_trace(go.Pie(labels=labels, values= df_sexPPC['y2019'], pull=[0.05, 0], name=\"Países Ricos\"),\n",
        "              1, 3)\n",
        "\n",
        "# Use `hole` to create a donut-like pie chart\n",
        "fig.update_traces(hoverinfo=\"label+percent+name\", marker=dict(colors=colors))\n",
        "\n",
        "fig.update_layout(\n",
        "    title_text=\"Taxa de suicídio por sexo, para a América Latina, Brasil e para os países ricos, em 2019\",\n",
        "    # Add annotations in the center of the donut pies.\n",
        "    annotations=[dict(text='América Latina', x=0.08, y=-0.05, font_size=18, showarrow=False),\n",
        "                 dict(text='Brasil', x=0.5, y=-0.05, font_size=20, showarrow=False),\n",
        "                 dict(text='Países Ricos', x=0.92, y=-0.05, font_size=20, showarrow=False)])\n",
        "\n",
        "pyo.plot(fig)"
      ],
      "execution_count": null,
      "outputs": [
        {
          "output_type": "execute_result",
          "data": {
            "application/vnd.google.colaboratory.intrinsic+json": {
              "type": "string"
            },
            "text/plain": [
              "'https://plotly.com/~psidata/39/'"
            ]
          },
          "metadata": {
            "tags": []
          },
          "execution_count": 46
        }
      ]
    },
    {
      "cell_type": "markdown",
      "metadata": {
        "id": "UrvOeV9jUV1q"
      },
      "source": [
        "# Dados da OMS sobre suicídio por países da América Latina, para comparação com amostra de países ricos - de 2000, 2010 e 2019"
      ]
    },
    {
      "cell_type": "markdown",
      "metadata": {
        "id": "h4ywvEuOUjDR"
      },
      "source": [
        "## Seleção e tratamento de dados"
      ]
    },
    {
      "cell_type": "markdown",
      "metadata": {
        "id": "uKtr6lUW-1OC"
      },
      "source": [
        "Novamente abertura da 1ª base de dados, mas agora a partir de um novo período, com invervalo de cerca de 1 década entre os  anos observados.\n",
        "\n",
        "A base original tem dados desde os anos 2000 até 2019, no entanto a intenção é utilizar apenas dos anos 2000, 2010 e 2019."
      ]
    },
    {
      "cell_type": "code",
      "metadata": {
        "id": "DsP4V8hdVGvR"
      },
      "source": [
        "#Importando 1ª base de dados alocada em repositório do Github na pasta principal do projeto\n",
        "#Base de dados .csv da OMS sobre a taxa de suicídios dos países do ano 2000 até 2019\n",
        "\n",
        "url = 'https://raw.githubusercontent.com/brunamulinari/TechLabsProject_PsiData/main/OMS-taxas-suicidio-paises-2000_2020.csv?token=ATZB42WGOFNSLUWY7SEPAUDAZJWPW'\n",
        "dfsuic00_20b = pd.read_csv(url, delimiter=',', header=1)"
      ],
      "execution_count": null,
      "outputs": []
    },
    {
      "cell_type": "markdown",
      "metadata": {
        "id": "VKCHBlwUVU2m"
      },
      "source": [
        "**As taxas de sucídio são relativas a quantidade suicídios por 100 mil habitantes, por país, para cada ano, para ambos os sexos e para homens e mulheres.*"
      ]
    },
    {
      "cell_type": "code",
      "metadata": {
        "id": "11Luvgn-VYRY"
      },
      "source": [
        "#excluir as colunas dos anos que não são 2000, 2010 ou 2019\n",
        "\n",
        "dfsuic00_20b = dfsuic00_20b.drop(columns=['2018', '2017', '2016', '2015', '2014', '2013', '2012', '2011', '2009', '2008', \n",
        "                                        '2007', '2006', '2005', '2004', '2003', '2002', '2001'])"
      ],
      "execution_count": null,
      "outputs": []
    },
    {
      "cell_type": "code",
      "metadata": {
        "id": "F6YyfkJbWJ8r"
      },
      "source": [
        "#seleção dos países da América Latina + países ricos selecionados\n",
        "\n",
        "dfsuic00_20b = dfsuic00_20b.loc[dfsuic00_20b['Country'].isin(lista)]"
      ],
      "execution_count": null,
      "outputs": []
    },
    {
      "cell_type": "code",
      "metadata": {
        "id": "aNz8xC6pWpqO"
      },
      "source": [
        "#renomear os nomes das colunas 'Country' e 'Sex' e dos anos selecionados\n",
        "\n",
        "dfsuic00_20b.rename(columns={'Country': 'País'}, inplace = True)\n",
        "dfsuic00_20b.rename(columns={'Sex': 'Sexo'}, inplace = True)\n",
        "dfsuic00_20b.rename(columns={'2000': 'y2000'}, inplace = True)\n",
        "dfsuic00_20b.rename(columns={'2010': 'y2010'}, inplace = True)\n",
        "dfsuic00_20b.rename(columns={'2019': 'y2019'}, inplace = True)"
      ],
      "execution_count": null,
      "outputs": []
    },
    {
      "cell_type": "code",
      "metadata": {
        "colab": {
          "base_uri": "https://localhost:8080/",
          "height": 235
        },
        "id": "90ZbphXuW0wY",
        "outputId": "df43f8d4-3f3c-4ef5-b0b5-4e854ebb63cf"
      },
      "source": [
        "#exibir as mudanças com a seleção específica de dados\n",
        "\n",
        "dfsuic00_20b.head(6)"
      ],
      "execution_count": null,
      "outputs": [
        {
          "output_type": "execute_result",
          "data": {
            "text/html": [
              "<div>\n",
              "<style scoped>\n",
              "    .dataframe tbody tr th:only-of-type {\n",
              "        vertical-align: middle;\n",
              "    }\n",
              "\n",
              "    .dataframe tbody tr th {\n",
              "        vertical-align: top;\n",
              "    }\n",
              "\n",
              "    .dataframe thead th {\n",
              "        text-align: right;\n",
              "    }\n",
              "</style>\n",
              "<table border=\"1\" class=\"dataframe\">\n",
              "  <thead>\n",
              "    <tr style=\"text-align: right;\">\n",
              "      <th></th>\n",
              "      <th>País</th>\n",
              "      <th>Sexo</th>\n",
              "      <th>y2019</th>\n",
              "      <th>y2010</th>\n",
              "      <th>y2000</th>\n",
              "    </tr>\n",
              "  </thead>\n",
              "  <tbody>\n",
              "    <tr>\n",
              "      <th>12</th>\n",
              "      <td>Antigua and Barbuda</td>\n",
              "      <td>Both sexes</td>\n",
              "      <td>0.4 [0.3-0.6]</td>\n",
              "      <td>0.2 [0.1-0.2]</td>\n",
              "      <td>1.9 [1.3-2.7]</td>\n",
              "    </tr>\n",
              "    <tr>\n",
              "      <th>13</th>\n",
              "      <td>Antigua and Barbuda</td>\n",
              "      <td>Male</td>\n",
              "      <td>0.0 [0.0-0.0]</td>\n",
              "      <td>0.3 [0.2-0.4]</td>\n",
              "      <td>4.1 [2.9-5.7]</td>\n",
              "    </tr>\n",
              "    <tr>\n",
              "      <th>14</th>\n",
              "      <td>Antigua and Barbuda</td>\n",
              "      <td>Female</td>\n",
              "      <td>0.8 [0.5-1.1]</td>\n",
              "      <td>0.0 [0.0-0.0]</td>\n",
              "      <td>0.0 [0.0-0.0]</td>\n",
              "    </tr>\n",
              "    <tr>\n",
              "      <th>15</th>\n",
              "      <td>Argentina</td>\n",
              "      <td>Both sexes</td>\n",
              "      <td>8.4 [6.7-10.3]</td>\n",
              "      <td>8.6 [7.4-14.7]</td>\n",
              "      <td>9.1 [7.8-10.5]</td>\n",
              "    </tr>\n",
              "    <tr>\n",
              "      <th>16</th>\n",
              "      <td>Argentina</td>\n",
              "      <td>Male</td>\n",
              "      <td>13.7 [10.9-16.8]</td>\n",
              "      <td>14.2 [12.3-26.4]</td>\n",
              "      <td>15.2 [13.1-17.5]</td>\n",
              "    </tr>\n",
              "    <tr>\n",
              "      <th>17</th>\n",
              "      <td>Argentina</td>\n",
              "      <td>Female</td>\n",
              "      <td>3.3 [2.6-4.2]</td>\n",
              "      <td>3.2 [2.7-3.7]</td>\n",
              "      <td>3.4 [2.9-4.0]</td>\n",
              "    </tr>\n",
              "  </tbody>\n",
              "</table>\n",
              "</div>"
            ],
            "text/plain": [
              "                   País        Sexo  ...             y2010             y2000\n",
              "12  Antigua and Barbuda  Both sexes  ...     0.2 [0.1-0.2]     1.9 [1.3-2.7]\n",
              "13  Antigua and Barbuda        Male  ...     0.3 [0.2-0.4]     4.1 [2.9-5.7]\n",
              "14  Antigua and Barbuda      Female  ...     0.0 [0.0-0.0]     0.0 [0.0-0.0]\n",
              "15            Argentina  Both sexes  ...    8.6 [7.4-14.7]    9.1 [7.8-10.5]\n",
              "16            Argentina        Male  ...  14.2 [12.3-26.4]  15.2 [13.1-17.5]\n",
              "17            Argentina      Female  ...     3.2 [2.7-3.7]     3.4 [2.9-4.0]\n",
              "\n",
              "[6 rows x 5 columns]"
            ]
          },
          "metadata": {
            "tags": []
          },
          "execution_count": 50
        }
      ]
    },
    {
      "cell_type": "code",
      "metadata": {
        "colab": {
          "base_uri": "https://localhost:8080/"
        },
        "id": "ASFWfUukW5Rp",
        "outputId": "7665e154-d676-472e-d212-b086c6278b6f"
      },
      "source": [
        "## Visualizando novo tamanho total do banco de dados\n",
        "\n",
        "dfsuic00_20b.shape"
      ],
      "execution_count": null,
      "outputs": [
        {
          "output_type": "execute_result",
          "data": {
            "text/plain": [
              "(105, 5)"
            ]
          },
          "metadata": {
            "tags": []
          },
          "execution_count": 51
        }
      ]
    },
    {
      "cell_type": "markdown",
      "metadata": {
        "id": "z0jwmSaMXLRA"
      },
      "source": [
        "Como mostra o resultado, agora a base de dados tem 105 linhas e 5 colunas"
      ]
    },
    {
      "cell_type": "code",
      "metadata": {
        "colab": {
          "base_uri": "https://localhost:8080/"
        },
        "id": "-qDyDxzBXjZe",
        "outputId": "c37dac1f-1afb-4ff6-d54a-86bdc064a238"
      },
      "source": [
        "#Quantidade de dados em cada coluna, tipo de variável\n",
        "\n",
        "dfsuic00_20b.info()"
      ],
      "execution_count": null,
      "outputs": [
        {
          "output_type": "stream",
          "text": [
            "<class 'pandas.core.frame.DataFrame'>\n",
            "Int64Index: 105 entries, 12 to 536\n",
            "Data columns (total 5 columns):\n",
            " #   Column  Non-Null Count  Dtype \n",
            "---  ------  --------------  ----- \n",
            " 0   País    105 non-null    object\n",
            " 1   Sexo    105 non-null    object\n",
            " 2   y2019   105 non-null    object\n",
            " 3   y2010   105 non-null    object\n",
            " 4   y2000   105 non-null    object\n",
            "dtypes: object(5)\n",
            "memory usage: 4.9+ KB\n"
          ],
          "name": "stdout"
        }
      ]
    },
    {
      "cell_type": "code",
      "metadata": {
        "id": "5qHcR-QDXvBu"
      },
      "source": [
        "#Exclusão dos dados entre colchetes '[]' das taxas de suicídio e transformação \n",
        "#das variáveis string em variáveis float\n",
        "Anos = ['y2019', 'y2010', 'y2000']\n",
        "for col in Anos:\n",
        "  dfsuic00_20b[col] = [i[:4] for i in dfsuic00_20b[col]]\n",
        "  dfsuic00_20b[col] = dfsuic00_20b[col].astype(float)"
      ],
      "execution_count": null,
      "outputs": []
    },
    {
      "cell_type": "code",
      "metadata": {
        "colab": {
          "base_uri": "https://localhost:8080/"
        },
        "id": "ZOEqyNfRXx03",
        "outputId": "e516ce0f-cfab-4cd2-b074-f2581dd89274"
      },
      "source": [
        "#exibição das variáveis após adequadação dos dados das taxas de suicídio\n",
        "print(dfsuic00_20b)"
      ],
      "execution_count": null,
      "outputs": [
        {
          "output_type": "stream",
          "text": [
            "                                   País        Sexo  y2019  y2010  y2000\n",
            "12                  Antigua and Barbuda  Both sexes    0.4    0.2    1.9\n",
            "13                  Antigua and Barbuda        Male    0.0    0.3    4.1\n",
            "14                  Antigua and Barbuda      Female    0.8    0.0    0.0\n",
            "15                            Argentina  Both sexes    8.4    8.6    9.1\n",
            "16                            Argentina        Male   13.7   14.2   15.2\n",
            "..                                  ...         ...    ...    ...    ...\n",
            "526                             Uruguay        Male   34.5   25.4   27.1\n",
            "527                             Uruguay      Female    8.9    7.2    5.6\n",
            "534  Venezuela (Bolivarian Republic of)  Both sexes    2.1    3.4    5.4\n",
            "535  Venezuela (Bolivarian Republic of)        Male    3.5    5.8    9.4\n",
            "536  Venezuela (Bolivarian Republic of)      Female    0.7    1.0    1.5\n",
            "\n",
            "[105 rows x 5 columns]\n"
          ],
          "name": "stdout"
        }
      ]
    },
    {
      "cell_type": "code",
      "metadata": {
        "id": "Aa0ppPfIYFRV"
      },
      "source": [
        "#criação de um dataframe para cada grupo\n",
        "dfsuic_ALb = dfsuic00_20b.loc[dfsuic00_20b['País'].isin(lista_AL)]\n",
        "dfsuic_PPCb = dfsuic00_20b.loc[dfsuic00_20b['País'].isin(lista_PR)]\n",
        "dfsuic_BRb = dfsuic00_20b.loc[dfsuic00_20b['País'].isin(lista_BR)]"
      ],
      "execution_count": null,
      "outputs": []
    },
    {
      "cell_type": "markdown",
      "metadata": {
        "id": "WWHyhclsYMG8"
      },
      "source": [
        "Separação das taxas de suicídio para os grupos, por sexo"
      ]
    },
    {
      "cell_type": "code",
      "metadata": {
        "id": "AoEn6Sq9YK9n"
      },
      "source": [
        "#separando por sexo para os países da América Latina\n",
        "female_dfALb = dfsuic_ALb[dfsuic_ALb['Sexo'] == 'Female']\n",
        "male_dfALb = dfsuic_ALb[dfsuic_ALb['Sexo'] == 'Male']\n",
        "\n",
        "#separando por sexo para os países ricos selecionados\n",
        "female_dfPPCb = dfsuic_PPCb[dfsuic_PPCb['Sexo'] == 'Female']\n",
        "male_dfPPCb = dfsuic_PPCb[dfsuic_PPCb['Sexo'] == 'Male']\n",
        "\n",
        "#separando por sexo para o Brasil\n",
        "female_dfBRb = dfsuic_BRb[dfsuic_BRb['Sexo'] == 'Female']\n",
        "male_dfBRb = dfsuic_BRb[dfsuic_BRb['Sexo'] == 'Male']\n",
        "\n",
        "#separando por sexo para executar os gráficos de coluna e pizza\n",
        "#América Latina, países ricos e Brasil\n",
        "\n",
        "df_sexALb = dfsuic_ALb.loc[(dfsuic_ALb['Sexo'].isin(['Female','Male']))]\n",
        "df_sexPPCb = dfsuic_PPCb.loc[dfsuic_PPCb['Sexo'].isin(['Female','Male'])]\n",
        "df_sexBRb = dfsuic_BRb.loc[dfsuic_BRb['Sexo'].isin(['Female','Male'])]"
      ],
      "execution_count": null,
      "outputs": []
    },
    {
      "cell_type": "code",
      "metadata": {
        "id": "j9_TyD8lYSOk"
      },
      "source": [
        "#retirando o sexo para manter apenas a taxa de suicídios de toda a população\n",
        "df_nosexALb = dfsuic_ALb.loc[(dfsuic_ALb['Sexo'].isin(['Both sexes']))] \n",
        "df_nosexPPCb = dfsuic_PPCb.loc[(dfsuic_PPCb['Sexo'].isin(['Both sexes']))]"
      ],
      "execution_count": null,
      "outputs": []
    },
    {
      "cell_type": "code",
      "metadata": {
        "id": "Lc3OEtzOZC5b"
      },
      "source": [
        "#exclusão da coluna 'Sexo' nestes dataframes, para utilizar somente a taxa de suicídios de toda a população\n",
        "\n",
        "df_nosexALb = df_nosexALb.drop(columns=['Sexo'])\n",
        "df_nosexPPCb = df_nosexPPCb.drop(columns=['Sexo'])\n",
        "df_nosexBRb = dfsuic_BRb.loc[(dfsuic_BRb['Sexo'].isin(['Both sexes']))]\n",
        "df_nosexBRb = df_nosexBRb.drop(columns=['Sexo'])"
      ],
      "execution_count": null,
      "outputs": []
    },
    {
      "cell_type": "markdown",
      "metadata": {
        "id": "L1ENrKjmZIIO"
      },
      "source": [
        "Elaboração de médias de taxa de suicídio por sexo para cada grupo e ano, afim de disponibilizar elementos para criação de gráficos."
      ]
    },
    {
      "cell_type": "code",
      "metadata": {
        "id": "Jq1tIMK7ZZLI"
      },
      "source": [
        "#médias de suicídio por sexo para cada ano nos países da América Latina\n",
        "fm00AL = female_dfALb['y2000'].mean()\n",
        "fm10AL = female_dfALb['y2010'].mean()\n",
        "#fm19AL = female_dfAL['y2019'].mean()\n",
        "\n",
        "ml00AL = male_dfALb['y2000'].mean()\n",
        "ml10AL = male_dfALb['y2010'].mean()\n",
        "#ml19AL = male_dfAL['y2019'].mean()\n",
        "\n",
        "#médias de suicídio por sexo para cada ano nos países ricos selecionados\n",
        "fm00PPC = female_dfPPCb['y2000'].mean()\n",
        "fm10PPC = female_dfPPCb['y2010'].mean()\n",
        "#fm19PPC = female_dfPPC['y2019'].mean()\n",
        "\n",
        "ml00PPC = male_dfPPCb['y2000'].mean()\n",
        "ml10PPC = male_dfPPCb['y2010'].mean()\n",
        "#ml19PPC = male_dfPPC['y2019'].mean()\n",
        "\n",
        "#médias de suicídio por sexo para cada ano no Brasil\n",
        "fm00BR = female_dfBRb['y2000'].mean()\n",
        "fm10BR = female_dfBRb['y2010'].mean()\n",
        "fm19BR = female_dfBRb['y2019'].mean()\n",
        "\n",
        "ml00BR = male_dfBRb['y2000'].mean()\n",
        "ml10BR = male_dfBRb['y2010'].mean()\n",
        "ml19BR = male_dfBRb['y2019'].mean()"
      ],
      "execution_count": null,
      "outputs": []
    },
    {
      "cell_type": "code",
      "metadata": {
        "id": "kDU8O-CBKxQs"
      },
      "source": [
        "#médias de suicídio geral para os grupos de países, nos anos de 2000, 2010 e 2019\n",
        "#América Latina\n",
        "nsAL00 = df_nosexALb['y2000'].mean()\n",
        "nsAL10 = df_nosexALb['y2010'].mean()\n",
        "nsAL19 = df_nosexALb['y2019'].mean()\n",
        "\n",
        "#Países ricos\n",
        "nsPPC00 = df_nosexPPCb['y2000'].mean()\n",
        "nsPPC10 = df_nosexPPCb['y2010'].mean()\n",
        "nsPPC19 = df_nosexPPCb['y2019'].mean()\n",
        "\n",
        "#Brasil\n",
        "nsBR00 = df_nosexBRb['y2000'].mean()\n",
        "nsBR10 = df_nosexBRb['y2010'].mean()\n",
        "nsBR19 = df_nosexBRb['y2019'].mean()"
      ],
      "execution_count": null,
      "outputs": []
    },
    {
      "cell_type": "markdown",
      "metadata": {
        "id": "4BNceTNtUj44"
      },
      "source": [
        "## Visualização estatística, gráfica e breves análises a partir dos dados"
      ]
    },
    {
      "cell_type": "markdown",
      "metadata": {
        "id": "EkzYyhjdZqXx"
      },
      "source": [
        "###Estatísticas"
      ]
    },
    {
      "cell_type": "code",
      "metadata": {
        "colab": {
          "base_uri": "https://localhost:8080/"
        },
        "id": "XiRKDwbPZpVx",
        "outputId": "9afd9218-98d2-4dd7-b604-0b24e4941b04"
      },
      "source": [
        "#estatísticas básicas sobre a taxa de suicídios dos países da América Latina\n",
        "dfsuic_ALb.describe()"
      ],
      "execution_count": null,
      "outputs": [
        {
          "output_type": "execute_result",
          "data": {
            "text/html": [
              "<div>\n",
              "<style scoped>\n",
              "    .dataframe tbody tr th:only-of-type {\n",
              "        vertical-align: middle;\n",
              "    }\n",
              "\n",
              "    .dataframe tbody tr th {\n",
              "        vertical-align: top;\n",
              "    }\n",
              "\n",
              "    .dataframe thead th {\n",
              "        text-align: right;\n",
              "    }\n",
              "</style>\n",
              "<table border=\"1\" class=\"dataframe\">\n",
              "  <thead>\n",
              "    <tr style=\"text-align: right;\">\n",
              "      <th></th>\n",
              "      <th>y2019</th>\n",
              "      <th>y2010</th>\n",
              "      <th>y2000</th>\n",
              "    </tr>\n",
              "  </thead>\n",
              "  <tbody>\n",
              "    <tr>\n",
              "      <th>count</th>\n",
              "      <td>84.000000</td>\n",
              "      <td>84.000000</td>\n",
              "      <td>84.000000</td>\n",
              "    </tr>\n",
              "    <tr>\n",
              "      <th>mean</th>\n",
              "      <td>7.294048</td>\n",
              "      <td>7.219048</td>\n",
              "      <td>7.607143</td>\n",
              "    </tr>\n",
              "    <tr>\n",
              "      <th>std</th>\n",
              "      <td>9.257916</td>\n",
              "      <td>7.816965</td>\n",
              "      <td>7.800553</td>\n",
              "    </tr>\n",
              "    <tr>\n",
              "      <th>min</th>\n",
              "      <td>0.000000</td>\n",
              "      <td>0.000000</td>\n",
              "      <td>0.000000</td>\n",
              "    </tr>\n",
              "    <tr>\n",
              "      <th>25%</th>\n",
              "      <td>1.975000</td>\n",
              "      <td>2.200000</td>\n",
              "      <td>2.825000</td>\n",
              "    </tr>\n",
              "    <tr>\n",
              "      <th>50%</th>\n",
              "      <td>4.550000</td>\n",
              "      <td>5.000000</td>\n",
              "      <td>5.450000</td>\n",
              "    </tr>\n",
              "    <tr>\n",
              "      <th>75%</th>\n",
              "      <td>8.750000</td>\n",
              "      <td>9.950000</td>\n",
              "      <td>9.700000</td>\n",
              "    </tr>\n",
              "    <tr>\n",
              "      <th>max</th>\n",
              "      <td>63.000000</td>\n",
              "      <td>51.700000</td>\n",
              "      <td>49.100000</td>\n",
              "    </tr>\n",
              "  </tbody>\n",
              "</table>\n",
              "</div>"
            ],
            "text/plain": [
              "           y2019      y2010      y2000\n",
              "count  84.000000  84.000000  84.000000\n",
              "mean    7.294048   7.219048   7.607143\n",
              "std     9.257916   7.816965   7.800553\n",
              "min     0.000000   0.000000   0.000000\n",
              "25%     1.975000   2.200000   2.825000\n",
              "50%     4.550000   5.000000   5.450000\n",
              "75%     8.750000   9.950000   9.700000\n",
              "max    63.000000  51.700000  49.100000"
            ]
          },
          "metadata": {
            "tags": []
          },
          "execution_count": 61
        }
      ]
    },
    {
      "cell_type": "code",
      "metadata": {
        "colab": {
          "base_uri": "https://localhost:8080/"
        },
        "id": "oxig00l8ZxBB",
        "outputId": "0df068e9-fe55-42bb-ac72-33f60d462811"
      },
      "source": [
        "#estatísticas básicas sobre a taxa de suicídios dos países ricos selecionados\n",
        "dfsuic_PPCb.describe()"
      ],
      "execution_count": null,
      "outputs": [
        {
          "output_type": "execute_result",
          "data": {
            "text/html": [
              "<div>\n",
              "<style scoped>\n",
              "    .dataframe tbody tr th:only-of-type {\n",
              "        vertical-align: middle;\n",
              "    }\n",
              "\n",
              "    .dataframe tbody tr th {\n",
              "        vertical-align: top;\n",
              "    }\n",
              "\n",
              "    .dataframe thead th {\n",
              "        text-align: right;\n",
              "    }\n",
              "</style>\n",
              "<table border=\"1\" class=\"dataframe\">\n",
              "  <thead>\n",
              "    <tr style=\"text-align: right;\">\n",
              "      <th></th>\n",
              "      <th>y2019</th>\n",
              "      <th>y2010</th>\n",
              "      <th>y2000</th>\n",
              "    </tr>\n",
              "  </thead>\n",
              "  <tbody>\n",
              "    <tr>\n",
              "      <th>count</th>\n",
              "      <td>21.000000</td>\n",
              "      <td>21.000000</td>\n",
              "      <td>21.000000</td>\n",
              "    </tr>\n",
              "    <tr>\n",
              "      <th>mean</th>\n",
              "      <td>12.461905</td>\n",
              "      <td>13.528571</td>\n",
              "      <td>14.866667</td>\n",
              "    </tr>\n",
              "    <tr>\n",
              "      <th>std</th>\n",
              "      <td>5.792709</td>\n",
              "      <td>7.312738</td>\n",
              "      <td>7.903944</td>\n",
              "    </tr>\n",
              "    <tr>\n",
              "      <th>min</th>\n",
              "      <td>3.000000</td>\n",
              "      <td>3.300000</td>\n",
              "      <td>3.900000</td>\n",
              "    </tr>\n",
              "    <tr>\n",
              "      <th>25%</th>\n",
              "      <td>7.700000</td>\n",
              "      <td>8.400000</td>\n",
              "      <td>8.600000</td>\n",
              "    </tr>\n",
              "    <tr>\n",
              "      <th>50%</th>\n",
              "      <td>11.800000</td>\n",
              "      <td>12.800000</td>\n",
              "      <td>13.600000</td>\n",
              "    </tr>\n",
              "    <tr>\n",
              "      <th>75%</th>\n",
              "      <td>15.800000</td>\n",
              "      <td>16.700000</td>\n",
              "      <td>20.200000</td>\n",
              "    </tr>\n",
              "    <tr>\n",
              "      <th>max</th>\n",
              "      <td>25.000000</td>\n",
              "      <td>34.900000</td>\n",
              "      <td>34.600000</td>\n",
              "    </tr>\n",
              "  </tbody>\n",
              "</table>\n",
              "</div>"
            ],
            "text/plain": [
              "           y2019      y2010      y2000\n",
              "count  21.000000  21.000000  21.000000\n",
              "mean   12.461905  13.528571  14.866667\n",
              "std     5.792709   7.312738   7.903944\n",
              "min     3.000000   3.300000   3.900000\n",
              "25%     7.700000   8.400000   8.600000\n",
              "50%    11.800000  12.800000  13.600000\n",
              "75%    15.800000  16.700000  20.200000\n",
              "max    25.000000  34.900000  34.600000"
            ]
          },
          "metadata": {
            "tags": []
          },
          "execution_count": 62
        }
      ]
    },
    {
      "cell_type": "markdown",
      "metadata": {
        "id": "QGgw2B6NaSQe"
      },
      "source": [
        "A partir da análise descritiva dos dados é constatado que enquanto a América Latina manteve números relativamente estáveis de sua taxa média de suicídios, os países ricos ao longo deste intervalo de anos, de 2000 até 2019, vem apresentando uma redução de sua taxa média, bem como expressiva redução no seu valor máximo verificado, que em 2000 era de 34,6 e em 2019 foi de 25. \n",
        "\n",
        "Enquanto isso, a América Latina viu sua taxa máxima verificada aumentar ao longo dos anos, de 49,1 em 2000 para 63 em 2019. No entanto, ao que tudo indica, esse valor máximo parece se tratar de um ponto fora da curva, uma vez que no 3º quartil (75% da amostra), o valor máximo verificado é de 8,75 em 2019, cerca de metade do valor máximo do 3º quartil dos países ricos."
      ]
    },
    {
      "cell_type": "code",
      "metadata": {
        "colab": {
          "base_uri": "https://localhost:8080/"
        },
        "id": "eh86xL6gaeAo",
        "outputId": "99514c05-dbd0-4806-8389-4743f26146ac"
      },
      "source": [
        "#dados sobre a taxa de suicídios do Brasil\n",
        "dfsuic_BRb"
      ],
      "execution_count": null,
      "outputs": [
        {
          "output_type": "execute_result",
          "data": {
            "text/html": [
              "<div>\n",
              "<style scoped>\n",
              "    .dataframe tbody tr th:only-of-type {\n",
              "        vertical-align: middle;\n",
              "    }\n",
              "\n",
              "    .dataframe tbody tr th {\n",
              "        vertical-align: top;\n",
              "    }\n",
              "\n",
              "    .dataframe thead th {\n",
              "        text-align: right;\n",
              "    }\n",
              "</style>\n",
              "<table border=\"1\" class=\"dataframe\">\n",
              "  <thead>\n",
              "    <tr style=\"text-align: right;\">\n",
              "      <th></th>\n",
              "      <th>País</th>\n",
              "      <th>Sexo</th>\n",
              "      <th>y2019</th>\n",
              "      <th>y2010</th>\n",
              "      <th>y2000</th>\n",
              "    </tr>\n",
              "  </thead>\n",
              "  <tbody>\n",
              "    <tr>\n",
              "      <th>66</th>\n",
              "      <td>Brazil</td>\n",
              "      <td>Both sexes</td>\n",
              "      <td>6.9</td>\n",
              "      <td>5.0</td>\n",
              "      <td>4.0</td>\n",
              "    </tr>\n",
              "    <tr>\n",
              "      <th>67</th>\n",
              "      <td>Brazil</td>\n",
              "      <td>Male</td>\n",
              "      <td>10.9</td>\n",
              "      <td>7.6</td>\n",
              "      <td>6.3</td>\n",
              "    </tr>\n",
              "    <tr>\n",
              "      <th>68</th>\n",
              "      <td>Brazil</td>\n",
              "      <td>Female</td>\n",
              "      <td>3.0</td>\n",
              "      <td>2.5</td>\n",
              "      <td>1.7</td>\n",
              "    </tr>\n",
              "  </tbody>\n",
              "</table>\n",
              "</div>"
            ],
            "text/plain": [
              "      País        Sexo  y2019  y2010  y2000\n",
              "66  Brazil  Both sexes    6.9    5.0    4.0\n",
              "67  Brazil        Male   10.9    7.6    6.3\n",
              "68  Brazil      Female    3.0    2.5    1.7"
            ]
          },
          "metadata": {
            "tags": []
          },
          "execution_count": 63
        }
      ]
    },
    {
      "cell_type": "markdown",
      "metadata": {
        "id": "dtgsB0cUafND"
      },
      "source": [
        "A nível de Brasil, o que se observa é um aumento geral da taxa média de suicídios, com crescimentos em proporção, elevados para homens e mulheres, como poderá ser observado de forma mais clara nos gráficos que seguem."
      ]
    },
    {
      "cell_type": "markdown",
      "metadata": {
        "id": "UBHXyVHpbCYy"
      },
      "source": [
        "###Utilização da biblioteca Plotly para visualização de dados"
      ]
    },
    {
      "cell_type": "markdown",
      "metadata": {
        "id": "9_1O0rgIbSAE"
      },
      "source": [
        "- Gráfico de linhas"
      ]
    },
    {
      "cell_type": "code",
      "metadata": {
        "id": "saDeWiLWRckm"
      },
      "source": [
        "#preparação para o gráfico de linha\n",
        "\n",
        "meusDados2 = {'fmAL': [fm00AL, fm10AL, fm19AL],\n",
        "             'mlAL': [ml00AL, ml10AL, ml19AL],\n",
        "             'fmPPC': [fm00PPC, fm10PPC,fm19PPC],\n",
        "             'mlPPC': [ml00PPC, ml10PPC, ml19PPC],\n",
        "             'fmBR':[fm00BR, fm10BR, fm19BR],\n",
        "             'mlBR':[ml00BR, ml10BR, ml19BR],\n",
        "             'nsAL':[nsAL00, nsAL10, nsAL19],\n",
        "             'nsPPC':[nsPPC00, nsPPC10, nsPPC19],\n",
        "             'nsBR':[nsBR00, nsBR10, nsBR19],\n",
        "             'mes_num':[2000,2010,2019],\n",
        "             'Anos':['2000', '2010', '2019']}"
      ],
      "execution_count": null,
      "outputs": []
    },
    {
      "cell_type": "code",
      "metadata": {
        "colab": {
          "base_uri": "https://localhost:8080/"
        },
        "id": "1shg0EqZbWnM",
        "outputId": "ac9fe862-f7f7-4416-f95b-f7a76beb532d"
      },
      "source": [
        "# Traço para mulheres, América Latina\n",
        "trace1 = go.Scatter(x = meusDados2['Anos'],\n",
        "                    y = meusDados2['fmAL'],\n",
        "                    mode = 'markers+lines',\n",
        "                    name = 'Mulheres - América Latina',\n",
        "                    line = {'color': 'darkorchid'})\n",
        "\n",
        "# Traço para homens, América Latina\n",
        "trace2 = go.Scatter(x = meusDados2['Anos'],\n",
        "                    y = meusDados2['mlAL'],\n",
        "                    mode = 'markers+lines',\n",
        "                    name = 'Homens - América Latina',\n",
        "                    line = {'color': 'blue'})\n",
        "\n",
        "# Traço para mulheres, países ricos\n",
        "trace3 = go.Scatter(x = meusDados2['Anos'],\n",
        "                    y = meusDados2['fmPPC'],\n",
        "                    mode = 'markers+lines',\n",
        "                    name = 'Mulheres - países ricos',\n",
        "                    line = {'color': '#ED07CB',\n",
        "                            'dash': 'dash',\n",
        "                            'width': 2})\n",
        "\n",
        "# Traço para homens, países ricos\n",
        "trace4 = go.Scatter(x = meusDados2['Anos'],\n",
        "                    y = meusDados2['mlPPC'],\n",
        "                    mode = 'markers+lines',\n",
        "                    name = 'Homens - países ricos',\n",
        "                    line = {'color': 'darkblue',\n",
        "                            'dash': 'dash',\n",
        "                            'width': 2})\n",
        "\n",
        "# Traço para mulheres, Brasil\n",
        "trace5 = go.Scatter(x = meusDados2['Anos'],\n",
        "                    y = meusDados2['fmBR'],\n",
        "                    mode = 'markers+lines',\n",
        "                    name = 'Mulheres - Brasil',\n",
        "                    line = {'color': '#55D6BE',\n",
        "                            'width': 2.5})\n",
        "\n",
        "# Traço para homens, Brasil\n",
        "trace6 = go.Scatter(x = meusDados2['Anos'],\n",
        "                    y = meusDados2['mlBR'],\n",
        "                    mode = 'markers+lines',\n",
        "                    name = 'Homens - Brasil',\n",
        "                    line = {'color': 'green',\n",
        "                            'width': 2.5})\n",
        "\n",
        "\n",
        "data = [trace1, trace2, trace3, trace4, trace5, trace6]\n",
        "\n",
        "layout = go.Layout(title={\n",
        "                  'text': \"Taxa de suicídios por sexo, para os países latinos, países ricos e para o Brasil, de 2000, 2010, até 2019\",\n",
        "                  'y':0.9,\n",
        "                  'x':0.5,\n",
        "                  'xanchor': 'center',\n",
        "                  'yanchor': 'top'},\n",
        "                   yaxis={'title':'Taxa de suicídio por 100 mil habitantes'},\n",
        "                   xaxis={'title': 'Anos'},\n",
        "                   font={\n",
        "                   'family':\"Arial, monospace\",\n",
        "                   'size': 16,\n",
        "                   'color':\"#525252\"}\n",
        ")\n",
        "\n",
        "fig = go.Figure(data=data, layout=layout)\n",
        "\n",
        "iplot(fig)"
      ],
      "execution_count": null,
      "outputs": [
        {
          "output_type": "display_data",
          "data": {
            "text/html": [
              "<html>\n",
              "<head><meta charset=\"utf-8\" /></head>\n",
              "<body>\n",
              "    <div>\n",
              "            <script src=\"https://cdnjs.cloudflare.com/ajax/libs/mathjax/2.7.5/MathJax.js?config=TeX-AMS-MML_SVG\"></script><script type=\"text/javascript\">if (window.MathJax) {MathJax.Hub.Config({SVG: {font: \"STIX-Web\"}});}</script>\n",
              "                <script type=\"text/javascript\">window.PlotlyConfig = {MathJaxConfig: 'local'};</script>\n",
              "        <script src=\"https://cdn.plot.ly/plotly-latest.min.js\"></script>    \n",
              "            <div id=\"a4de0e6f-3930-4261-a2ef-48a6fb9b8c90\" class=\"plotly-graph-div\" style=\"height:525px; width:100%;\"></div>\n",
              "            <script type=\"text/javascript\">\n",
              "                \n",
              "                    window.PLOTLYENV=window.PLOTLYENV || {};\n",
              "                    \n",
              "                if (document.getElementById(\"a4de0e6f-3930-4261-a2ef-48a6fb9b8c90\")) {\n",
              "                    Plotly.newPlot(\n",
              "                        'a4de0e6f-3930-4261-a2ef-48a6fb9b8c90',\n",
              "                        [{\"line\": {\"color\": \"darkorchid\"}, \"mode\": \"markers+lines\", \"name\": \"Mulheres - Am\\u00e9rica Latina\", \"type\": \"scatter\", \"x\": [\"2000\", \"2010\", \"2019\"], \"y\": [3.3392857142857144, 3.1964285714285716, 3.1357142857142866]}, {\"line\": {\"color\": \"blue\"}, \"mode\": \"markers+lines\", \"name\": \"Homens - Am\\u00e9rica Latina\", \"type\": \"scatter\", \"x\": [\"2000\", \"2010\", \"2019\"], \"y\": [11.910714285714286, 11.282142857142858, 11.478571428571428]}, {\"line\": {\"color\": \"#ED07CB\", \"dash\": \"dash\", \"width\": 2}, \"mode\": \"markers+lines\", \"name\": \"Mulheres - pa\\u00edses ricos\", \"type\": \"scatter\", \"x\": [\"2000\", \"2010\", \"2019\"], \"y\": [8.185714285714285, 7.657142857142857, 7.1]}, {\"line\": {\"color\": \"darkblue\", \"dash\": \"dash\", \"width\": 2}, \"mode\": \"markers+lines\", \"name\": \"Homens - pa\\u00edses ricos\", \"type\": \"scatter\", \"x\": [\"2000\", \"2010\", \"2019\"], \"y\": [21.485714285714288, 19.27142857142857, 17.771428571428572]}, {\"line\": {\"color\": \"#55D6BE\", \"width\": 2.5}, \"mode\": \"markers+lines\", \"name\": \"Mulheres - Brasil\", \"type\": \"scatter\", \"x\": [\"2000\", \"2010\", \"2019\"], \"y\": [1.7, 2.5, 3.0]}, {\"line\": {\"color\": \"green\", \"width\": 2.5}, \"mode\": \"markers+lines\", \"name\": \"Homens - Brasil\", \"type\": \"scatter\", \"x\": [\"2000\", \"2010\", \"2019\"], \"y\": [6.3, 7.6, 10.9]}],\n",
              "                        {\"font\": {\"color\": \"#525252\", \"family\": \"Arial, monospace\", \"size\": 16}, \"template\": {\"data\": {\"bar\": [{\"error_x\": {\"color\": \"#2a3f5f\"}, \"error_y\": {\"color\": \"#2a3f5f\"}, \"marker\": {\"line\": {\"color\": \"#E5ECF6\", \"width\": 0.5}}, \"type\": \"bar\"}], \"barpolar\": [{\"marker\": {\"line\": {\"color\": \"#E5ECF6\", \"width\": 0.5}}, \"type\": \"barpolar\"}], \"carpet\": [{\"aaxis\": {\"endlinecolor\": \"#2a3f5f\", \"gridcolor\": \"white\", \"linecolor\": \"white\", \"minorgridcolor\": \"white\", \"startlinecolor\": \"#2a3f5f\"}, \"baxis\": {\"endlinecolor\": \"#2a3f5f\", \"gridcolor\": \"white\", \"linecolor\": \"white\", \"minorgridcolor\": \"white\", \"startlinecolor\": \"#2a3f5f\"}, \"type\": \"carpet\"}], \"choropleth\": [{\"colorbar\": {\"outlinewidth\": 0, \"ticks\": \"\"}, \"type\": \"choropleth\"}], \"contour\": [{\"colorbar\": {\"outlinewidth\": 0, \"ticks\": \"\"}, \"colorscale\": [[0.0, \"#0d0887\"], [0.1111111111111111, \"#46039f\"], [0.2222222222222222, \"#7201a8\"], [0.3333333333333333, \"#9c179e\"], [0.4444444444444444, \"#bd3786\"], [0.5555555555555556, \"#d8576b\"], [0.6666666666666666, \"#ed7953\"], [0.7777777777777778, \"#fb9f3a\"], [0.8888888888888888, \"#fdca26\"], [1.0, \"#f0f921\"]], \"type\": \"contour\"}], \"contourcarpet\": [{\"colorbar\": {\"outlinewidth\": 0, \"ticks\": \"\"}, \"type\": \"contourcarpet\"}], \"heatmap\": [{\"colorbar\": {\"outlinewidth\": 0, \"ticks\": \"\"}, \"colorscale\": [[0.0, \"#0d0887\"], [0.1111111111111111, \"#46039f\"], [0.2222222222222222, \"#7201a8\"], [0.3333333333333333, \"#9c179e\"], [0.4444444444444444, \"#bd3786\"], [0.5555555555555556, \"#d8576b\"], [0.6666666666666666, \"#ed7953\"], [0.7777777777777778, \"#fb9f3a\"], [0.8888888888888888, \"#fdca26\"], [1.0, \"#f0f921\"]], \"type\": \"heatmap\"}], \"heatmapgl\": [{\"colorbar\": {\"outlinewidth\": 0, \"ticks\": \"\"}, \"colorscale\": [[0.0, \"#0d0887\"], [0.1111111111111111, \"#46039f\"], [0.2222222222222222, \"#7201a8\"], [0.3333333333333333, \"#9c179e\"], [0.4444444444444444, \"#bd3786\"], [0.5555555555555556, \"#d8576b\"], [0.6666666666666666, \"#ed7953\"], [0.7777777777777778, \"#fb9f3a\"], [0.8888888888888888, \"#fdca26\"], [1.0, \"#f0f921\"]], \"type\": \"heatmapgl\"}], \"histogram\": [{\"marker\": {\"colorbar\": {\"outlinewidth\": 0, \"ticks\": \"\"}}, \"type\": \"histogram\"}], \"histogram2d\": [{\"colorbar\": {\"outlinewidth\": 0, \"ticks\": \"\"}, \"colorscale\": [[0.0, \"#0d0887\"], [0.1111111111111111, \"#46039f\"], [0.2222222222222222, \"#7201a8\"], [0.3333333333333333, \"#9c179e\"], [0.4444444444444444, \"#bd3786\"], [0.5555555555555556, \"#d8576b\"], [0.6666666666666666, \"#ed7953\"], [0.7777777777777778, \"#fb9f3a\"], [0.8888888888888888, \"#fdca26\"], [1.0, \"#f0f921\"]], \"type\": \"histogram2d\"}], \"histogram2dcontour\": [{\"colorbar\": {\"outlinewidth\": 0, \"ticks\": \"\"}, \"colorscale\": [[0.0, \"#0d0887\"], [0.1111111111111111, \"#46039f\"], [0.2222222222222222, \"#7201a8\"], [0.3333333333333333, \"#9c179e\"], [0.4444444444444444, \"#bd3786\"], [0.5555555555555556, \"#d8576b\"], [0.6666666666666666, \"#ed7953\"], [0.7777777777777778, \"#fb9f3a\"], [0.8888888888888888, \"#fdca26\"], [1.0, \"#f0f921\"]], \"type\": \"histogram2dcontour\"}], \"mesh3d\": [{\"colorbar\": {\"outlinewidth\": 0, \"ticks\": \"\"}, \"type\": \"mesh3d\"}], \"parcoords\": [{\"line\": {\"colorbar\": {\"outlinewidth\": 0, \"ticks\": \"\"}}, \"type\": \"parcoords\"}], \"pie\": [{\"automargin\": true, \"type\": \"pie\"}], \"scatter\": [{\"marker\": {\"colorbar\": {\"outlinewidth\": 0, \"ticks\": \"\"}}, \"type\": \"scatter\"}], \"scatter3d\": [{\"line\": {\"colorbar\": {\"outlinewidth\": 0, \"ticks\": \"\"}}, \"marker\": {\"colorbar\": {\"outlinewidth\": 0, \"ticks\": \"\"}}, \"type\": \"scatter3d\"}], \"scattercarpet\": [{\"marker\": {\"colorbar\": {\"outlinewidth\": 0, \"ticks\": \"\"}}, \"type\": \"scattercarpet\"}], \"scattergeo\": [{\"marker\": {\"colorbar\": {\"outlinewidth\": 0, \"ticks\": \"\"}}, \"type\": \"scattergeo\"}], \"scattergl\": [{\"marker\": {\"colorbar\": {\"outlinewidth\": 0, \"ticks\": \"\"}}, \"type\": \"scattergl\"}], \"scattermapbox\": [{\"marker\": {\"colorbar\": {\"outlinewidth\": 0, \"ticks\": \"\"}}, \"type\": \"scattermapbox\"}], \"scatterpolar\": [{\"marker\": {\"colorbar\": {\"outlinewidth\": 0, \"ticks\": \"\"}}, \"type\": \"scatterpolar\"}], \"scatterpolargl\": [{\"marker\": {\"colorbar\": {\"outlinewidth\": 0, \"ticks\": \"\"}}, \"type\": \"scatterpolargl\"}], \"scatterternary\": [{\"marker\": {\"colorbar\": {\"outlinewidth\": 0, \"ticks\": \"\"}}, \"type\": \"scatterternary\"}], \"surface\": [{\"colorbar\": {\"outlinewidth\": 0, \"ticks\": \"\"}, \"colorscale\": [[0.0, \"#0d0887\"], [0.1111111111111111, \"#46039f\"], [0.2222222222222222, \"#7201a8\"], [0.3333333333333333, \"#9c179e\"], [0.4444444444444444, \"#bd3786\"], [0.5555555555555556, \"#d8576b\"], [0.6666666666666666, \"#ed7953\"], [0.7777777777777778, \"#fb9f3a\"], [0.8888888888888888, \"#fdca26\"], [1.0, \"#f0f921\"]], \"type\": \"surface\"}], \"table\": [{\"cells\": {\"fill\": {\"color\": \"#EBF0F8\"}, \"line\": {\"color\": \"white\"}}, \"header\": {\"fill\": {\"color\": \"#C8D4E3\"}, \"line\": {\"color\": \"white\"}}, \"type\": \"table\"}]}, \"layout\": {\"annotationdefaults\": {\"arrowcolor\": \"#2a3f5f\", \"arrowhead\": 0, \"arrowwidth\": 1}, \"coloraxis\": {\"colorbar\": {\"outlinewidth\": 0, \"ticks\": \"\"}}, \"colorscale\": {\"diverging\": [[0, \"#8e0152\"], [0.1, \"#c51b7d\"], [0.2, \"#de77ae\"], [0.3, \"#f1b6da\"], [0.4, \"#fde0ef\"], [0.5, \"#f7f7f7\"], [0.6, \"#e6f5d0\"], [0.7, \"#b8e186\"], [0.8, \"#7fbc41\"], [0.9, \"#4d9221\"], [1, \"#276419\"]], \"sequential\": [[0.0, \"#0d0887\"], [0.1111111111111111, \"#46039f\"], [0.2222222222222222, \"#7201a8\"], [0.3333333333333333, \"#9c179e\"], [0.4444444444444444, \"#bd3786\"], [0.5555555555555556, \"#d8576b\"], [0.6666666666666666, \"#ed7953\"], [0.7777777777777778, \"#fb9f3a\"], [0.8888888888888888, \"#fdca26\"], [1.0, \"#f0f921\"]], \"sequentialminus\": [[0.0, \"#0d0887\"], [0.1111111111111111, \"#46039f\"], [0.2222222222222222, \"#7201a8\"], [0.3333333333333333, \"#9c179e\"], [0.4444444444444444, \"#bd3786\"], [0.5555555555555556, \"#d8576b\"], [0.6666666666666666, \"#ed7953\"], [0.7777777777777778, \"#fb9f3a\"], [0.8888888888888888, \"#fdca26\"], [1.0, \"#f0f921\"]]}, \"colorway\": [\"#636efa\", \"#EF553B\", \"#00cc96\", \"#ab63fa\", \"#FFA15A\", \"#19d3f3\", \"#FF6692\", \"#B6E880\", \"#FF97FF\", \"#FECB52\"], \"font\": {\"color\": \"#2a3f5f\"}, \"geo\": {\"bgcolor\": \"white\", \"lakecolor\": \"white\", \"landcolor\": \"#E5ECF6\", \"showlakes\": true, \"showland\": true, \"subunitcolor\": \"white\"}, \"hoverlabel\": {\"align\": \"left\"}, \"hovermode\": \"closest\", \"mapbox\": {\"style\": \"light\"}, \"paper_bgcolor\": \"white\", \"plot_bgcolor\": \"#E5ECF6\", \"polar\": {\"angularaxis\": {\"gridcolor\": \"white\", \"linecolor\": \"white\", \"ticks\": \"\"}, \"bgcolor\": \"#E5ECF6\", \"radialaxis\": {\"gridcolor\": \"white\", \"linecolor\": \"white\", \"ticks\": \"\"}}, \"scene\": {\"xaxis\": {\"backgroundcolor\": \"#E5ECF6\", \"gridcolor\": \"white\", \"gridwidth\": 2, \"linecolor\": \"white\", \"showbackground\": true, \"ticks\": \"\", \"zerolinecolor\": \"white\"}, \"yaxis\": {\"backgroundcolor\": \"#E5ECF6\", \"gridcolor\": \"white\", \"gridwidth\": 2, \"linecolor\": \"white\", \"showbackground\": true, \"ticks\": \"\", \"zerolinecolor\": \"white\"}, \"zaxis\": {\"backgroundcolor\": \"#E5ECF6\", \"gridcolor\": \"white\", \"gridwidth\": 2, \"linecolor\": \"white\", \"showbackground\": true, \"ticks\": \"\", \"zerolinecolor\": \"white\"}}, \"shapedefaults\": {\"line\": {\"color\": \"#2a3f5f\"}}, \"ternary\": {\"aaxis\": {\"gridcolor\": \"white\", \"linecolor\": \"white\", \"ticks\": \"\"}, \"baxis\": {\"gridcolor\": \"white\", \"linecolor\": \"white\", \"ticks\": \"\"}, \"bgcolor\": \"#E5ECF6\", \"caxis\": {\"gridcolor\": \"white\", \"linecolor\": \"white\", \"ticks\": \"\"}}, \"title\": {\"x\": 0.05}, \"xaxis\": {\"automargin\": true, \"gridcolor\": \"white\", \"linecolor\": \"white\", \"ticks\": \"\", \"title\": {\"standoff\": 15}, \"zerolinecolor\": \"white\", \"zerolinewidth\": 2}, \"yaxis\": {\"automargin\": true, \"gridcolor\": \"white\", \"linecolor\": \"white\", \"ticks\": \"\", \"title\": {\"standoff\": 15}, \"zerolinecolor\": \"white\", \"zerolinewidth\": 2}}}, \"title\": {\"text\": \"Taxa de suic\\u00eddios por sexo, para os pa\\u00edses latinos, pa\\u00edses ricos e para o Brasil, de 2000, 2010, at\\u00e9 2019\", \"x\": 0.5, \"xanchor\": \"center\", \"y\": 0.9, \"yanchor\": \"top\"}, \"xaxis\": {\"title\": {\"text\": \"Anos\"}}, \"yaxis\": {\"title\": {\"text\": \"Taxa de suic\\u00eddio por 100 mil habitantes\"}}},\n",
              "                        {\"responsive\": true}\n",
              "                    ).then(function(){\n",
              "                            \n",
              "var gd = document.getElementById('a4de0e6f-3930-4261-a2ef-48a6fb9b8c90');\n",
              "var x = new MutationObserver(function (mutations, observer) {{\n",
              "        var display = window.getComputedStyle(gd).display;\n",
              "        if (!display || display === 'none') {{\n",
              "            console.log([gd, 'removed!']);\n",
              "            Plotly.purge(gd);\n",
              "            observer.disconnect();\n",
              "        }}\n",
              "}});\n",
              "\n",
              "// Listen for the removal of the full notebook cells\n",
              "var notebookContainer = gd.closest('#notebook-container');\n",
              "if (notebookContainer) {{\n",
              "    x.observe(notebookContainer, {childList: true});\n",
              "}}\n",
              "\n",
              "// Listen for the clearing of the current output cell\n",
              "var outputEl = gd.closest('.output');\n",
              "if (outputEl) {{\n",
              "    x.observe(outputEl, {childList: true});\n",
              "}}\n",
              "\n",
              "                        })\n",
              "                };\n",
              "                \n",
              "            </script>\n",
              "        </div>\n",
              "</body>\n",
              "</html>"
            ]
          },
          "metadata": {
            "tags": []
          }
        }
      ]
    },
    {
      "cell_type": "markdown",
      "metadata": {
        "id": "WcEUXMA6bgXD"
      },
      "source": [
        "- Tabela"
      ]
    },
    {
      "cell_type": "code",
      "metadata": {
        "id": "sQbZsSq4booq"
      },
      "source": [
        "#criar tabela com dados sobre o crescimento da taxa de suicídios ao longo dos anos de 2000, 2010 e 2019"
      ],
      "execution_count": null,
      "outputs": []
    },
    {
      "cell_type": "markdown",
      "metadata": {
        "id": "LiykinkrMBG1"
      },
      "source": [
        "- Gráfico de barras"
      ]
    },
    {
      "cell_type": "code",
      "metadata": {
        "colab": {
          "base_uri": "https://localhost:8080/"
        },
        "id": "POYzuI8fTfMf",
        "outputId": "4fd19413-2473-4a8b-9902-5068379a0225"
      },
      "source": [
        "#inserir o mesmo gráfico anterior mas com barras e sem divisão por sexo\n",
        "\n",
        "\n",
        "data=[\n",
        "    go.Bar(name='América Latina', x=meusDados2['Anos'], y=meusDados2['nsAL'], marker_color= '#55D6BE'),\n",
        "    go.Bar(name='Brasil', x=meusDados2['Anos'], y=meusDados2['nsBR'], marker_color= '#ED07CB'),\n",
        "    go.Bar(name='Países ricos', x=meusDados2['Anos'], y=meusDados2['nsPPC'], marker_color= '#6D32EC'),\n",
        "    go.Scatter(x = meusDados2['Anos'],\n",
        "                    y = meusDados2['nsBR'],\n",
        "                    mode = 'markers+lines',\n",
        "                    name = 'Crescimento suicídios Brasil',\n",
        "                    line = {'color': '#525252',\n",
        "                            'dash': 'dash',\n",
        "                            'width': 1.5})\n",
        "]\n",
        "\n",
        "\n",
        "layout = go.Layout(title={\n",
        "                  'text': \"Taxa de suicídios para a América Latina, Brasil e países ricos de 2000, 2010 e 2019\",\n",
        "                  'y':0.9,\n",
        "                  'x':0.5,\n",
        "                  'xanchor': 'center',\n",
        "                  'yanchor': 'top'},\n",
        "                   yaxis={'title':'Taxa de suicídio por 100 mil habitantes'},\n",
        "                   xaxis={'title': 'Anos'},\n",
        "                   font={\n",
        "                   'family':\"Arial, monospace\",\n",
        "                   'size': 16,\n",
        "                   'color':\"#525252\"},\n",
        ")\n",
        "\n",
        "\n",
        "fig = go.Figure(data=data, layout=layout)\n",
        "\n",
        "iplot(fig)\n"
      ],
      "execution_count": null,
      "outputs": [
        {
          "output_type": "display_data",
          "data": {
            "text/html": [
              "<html>\n",
              "<head><meta charset=\"utf-8\" /></head>\n",
              "<body>\n",
              "    <div>\n",
              "            <script src=\"https://cdnjs.cloudflare.com/ajax/libs/mathjax/2.7.5/MathJax.js?config=TeX-AMS-MML_SVG\"></script><script type=\"text/javascript\">if (window.MathJax) {MathJax.Hub.Config({SVG: {font: \"STIX-Web\"}});}</script>\n",
              "                <script type=\"text/javascript\">window.PlotlyConfig = {MathJaxConfig: 'local'};</script>\n",
              "        <script src=\"https://cdn.plot.ly/plotly-latest.min.js\"></script>    \n",
              "            <div id=\"b6ed0af6-c8c7-423f-aa58-97480a440059\" class=\"plotly-graph-div\" style=\"height:525px; width:100%;\"></div>\n",
              "            <script type=\"text/javascript\">\n",
              "                \n",
              "                    window.PLOTLYENV=window.PLOTLYENV || {};\n",
              "                    \n",
              "                if (document.getElementById(\"b6ed0af6-c8c7-423f-aa58-97480a440059\")) {\n",
              "                    Plotly.newPlot(\n",
              "                        'b6ed0af6-c8c7-423f-aa58-97480a440059',\n",
              "                        [{\"marker\": {\"color\": \"#55D6BE\"}, \"name\": \"Am\\u00e9rica Latina\", \"type\": \"bar\", \"x\": [\"2000\", \"2010\", \"2019\"], \"y\": [7.571428571428571, 7.17857142857143, 7.267857142857143]}, {\"marker\": {\"color\": \"#ED07CB\"}, \"name\": \"Brasil\", \"type\": \"bar\", \"x\": [\"2000\", \"2010\", \"2019\"], \"y\": [4.0, 5.0, 6.9]}, {\"marker\": {\"color\": \"#6D32EC\"}, \"name\": \"Pa\\u00edses ricos\", \"type\": \"bar\", \"x\": [\"2000\", \"2010\", \"2019\"], \"y\": [14.928571428571429, 13.657142857142857, 12.514285714285718]}, {\"line\": {\"color\": \"#525252\", \"dash\": \"dash\", \"width\": 1.5}, \"mode\": \"markers+lines\", \"name\": \"Crescimento suic\\u00eddios Brasil\", \"type\": \"scatter\", \"x\": [\"2000\", \"2010\", \"2019\"], \"y\": [4.0, 5.0, 6.9]}],\n",
              "                        {\"font\": {\"color\": \"#525252\", \"family\": \"Arial, monospace\", \"size\": 16}, \"template\": {\"data\": {\"bar\": [{\"error_x\": {\"color\": \"#2a3f5f\"}, \"error_y\": {\"color\": \"#2a3f5f\"}, \"marker\": {\"line\": {\"color\": \"#E5ECF6\", \"width\": 0.5}}, \"type\": \"bar\"}], \"barpolar\": [{\"marker\": {\"line\": {\"color\": \"#E5ECF6\", \"width\": 0.5}}, \"type\": \"barpolar\"}], \"carpet\": [{\"aaxis\": {\"endlinecolor\": \"#2a3f5f\", \"gridcolor\": \"white\", \"linecolor\": \"white\", \"minorgridcolor\": \"white\", \"startlinecolor\": \"#2a3f5f\"}, \"baxis\": {\"endlinecolor\": \"#2a3f5f\", \"gridcolor\": \"white\", \"linecolor\": \"white\", \"minorgridcolor\": \"white\", \"startlinecolor\": \"#2a3f5f\"}, \"type\": \"carpet\"}], \"choropleth\": [{\"colorbar\": {\"outlinewidth\": 0, \"ticks\": \"\"}, \"type\": \"choropleth\"}], \"contour\": [{\"colorbar\": {\"outlinewidth\": 0, \"ticks\": \"\"}, \"colorscale\": [[0.0, \"#0d0887\"], [0.1111111111111111, \"#46039f\"], [0.2222222222222222, \"#7201a8\"], [0.3333333333333333, \"#9c179e\"], [0.4444444444444444, \"#bd3786\"], [0.5555555555555556, \"#d8576b\"], [0.6666666666666666, \"#ed7953\"], [0.7777777777777778, \"#fb9f3a\"], [0.8888888888888888, \"#fdca26\"], [1.0, \"#f0f921\"]], \"type\": \"contour\"}], \"contourcarpet\": [{\"colorbar\": {\"outlinewidth\": 0, \"ticks\": \"\"}, \"type\": \"contourcarpet\"}], \"heatmap\": [{\"colorbar\": {\"outlinewidth\": 0, \"ticks\": \"\"}, \"colorscale\": [[0.0, \"#0d0887\"], [0.1111111111111111, \"#46039f\"], [0.2222222222222222, \"#7201a8\"], [0.3333333333333333, \"#9c179e\"], [0.4444444444444444, \"#bd3786\"], [0.5555555555555556, \"#d8576b\"], [0.6666666666666666, \"#ed7953\"], [0.7777777777777778, \"#fb9f3a\"], [0.8888888888888888, \"#fdca26\"], [1.0, \"#f0f921\"]], \"type\": \"heatmap\"}], \"heatmapgl\": [{\"colorbar\": {\"outlinewidth\": 0, \"ticks\": \"\"}, \"colorscale\": [[0.0, \"#0d0887\"], [0.1111111111111111, \"#46039f\"], [0.2222222222222222, \"#7201a8\"], [0.3333333333333333, \"#9c179e\"], [0.4444444444444444, \"#bd3786\"], [0.5555555555555556, \"#d8576b\"], [0.6666666666666666, \"#ed7953\"], [0.7777777777777778, \"#fb9f3a\"], [0.8888888888888888, \"#fdca26\"], [1.0, \"#f0f921\"]], \"type\": \"heatmapgl\"}], \"histogram\": [{\"marker\": {\"colorbar\": {\"outlinewidth\": 0, \"ticks\": \"\"}}, \"type\": \"histogram\"}], \"histogram2d\": [{\"colorbar\": {\"outlinewidth\": 0, \"ticks\": \"\"}, \"colorscale\": [[0.0, \"#0d0887\"], [0.1111111111111111, \"#46039f\"], [0.2222222222222222, \"#7201a8\"], [0.3333333333333333, \"#9c179e\"], [0.4444444444444444, \"#bd3786\"], [0.5555555555555556, \"#d8576b\"], [0.6666666666666666, \"#ed7953\"], [0.7777777777777778, \"#fb9f3a\"], [0.8888888888888888, \"#fdca26\"], [1.0, \"#f0f921\"]], \"type\": \"histogram2d\"}], \"histogram2dcontour\": [{\"colorbar\": {\"outlinewidth\": 0, \"ticks\": \"\"}, \"colorscale\": [[0.0, \"#0d0887\"], [0.1111111111111111, \"#46039f\"], [0.2222222222222222, \"#7201a8\"], [0.3333333333333333, \"#9c179e\"], [0.4444444444444444, \"#bd3786\"], [0.5555555555555556, \"#d8576b\"], [0.6666666666666666, \"#ed7953\"], [0.7777777777777778, \"#fb9f3a\"], [0.8888888888888888, \"#fdca26\"], [1.0, \"#f0f921\"]], \"type\": \"histogram2dcontour\"}], \"mesh3d\": [{\"colorbar\": {\"outlinewidth\": 0, \"ticks\": \"\"}, \"type\": \"mesh3d\"}], \"parcoords\": [{\"line\": {\"colorbar\": {\"outlinewidth\": 0, \"ticks\": \"\"}}, \"type\": \"parcoords\"}], \"pie\": [{\"automargin\": true, \"type\": \"pie\"}], \"scatter\": [{\"marker\": {\"colorbar\": {\"outlinewidth\": 0, \"ticks\": \"\"}}, \"type\": \"scatter\"}], \"scatter3d\": [{\"line\": {\"colorbar\": {\"outlinewidth\": 0, \"ticks\": \"\"}}, \"marker\": {\"colorbar\": {\"outlinewidth\": 0, \"ticks\": \"\"}}, \"type\": \"scatter3d\"}], \"scattercarpet\": [{\"marker\": {\"colorbar\": {\"outlinewidth\": 0, \"ticks\": \"\"}}, \"type\": \"scattercarpet\"}], \"scattergeo\": [{\"marker\": {\"colorbar\": {\"outlinewidth\": 0, \"ticks\": \"\"}}, \"type\": \"scattergeo\"}], \"scattergl\": [{\"marker\": {\"colorbar\": {\"outlinewidth\": 0, \"ticks\": \"\"}}, \"type\": \"scattergl\"}], \"scattermapbox\": [{\"marker\": {\"colorbar\": {\"outlinewidth\": 0, \"ticks\": \"\"}}, \"type\": \"scattermapbox\"}], \"scatterpolar\": [{\"marker\": {\"colorbar\": {\"outlinewidth\": 0, \"ticks\": \"\"}}, \"type\": \"scatterpolar\"}], \"scatterpolargl\": [{\"marker\": {\"colorbar\": {\"outlinewidth\": 0, \"ticks\": \"\"}}, \"type\": \"scatterpolargl\"}], \"scatterternary\": [{\"marker\": {\"colorbar\": {\"outlinewidth\": 0, \"ticks\": \"\"}}, \"type\": \"scatterternary\"}], \"surface\": [{\"colorbar\": {\"outlinewidth\": 0, \"ticks\": \"\"}, \"colorscale\": [[0.0, \"#0d0887\"], [0.1111111111111111, \"#46039f\"], [0.2222222222222222, \"#7201a8\"], [0.3333333333333333, \"#9c179e\"], [0.4444444444444444, \"#bd3786\"], [0.5555555555555556, \"#d8576b\"], [0.6666666666666666, \"#ed7953\"], [0.7777777777777778, \"#fb9f3a\"], [0.8888888888888888, \"#fdca26\"], [1.0, \"#f0f921\"]], \"type\": \"surface\"}], \"table\": [{\"cells\": {\"fill\": {\"color\": \"#EBF0F8\"}, \"line\": {\"color\": \"white\"}}, \"header\": {\"fill\": {\"color\": \"#C8D4E3\"}, \"line\": {\"color\": \"white\"}}, \"type\": \"table\"}]}, \"layout\": {\"annotationdefaults\": {\"arrowcolor\": \"#2a3f5f\", \"arrowhead\": 0, \"arrowwidth\": 1}, \"coloraxis\": {\"colorbar\": {\"outlinewidth\": 0, \"ticks\": \"\"}}, \"colorscale\": {\"diverging\": [[0, \"#8e0152\"], [0.1, \"#c51b7d\"], [0.2, \"#de77ae\"], [0.3, \"#f1b6da\"], [0.4, \"#fde0ef\"], [0.5, \"#f7f7f7\"], [0.6, \"#e6f5d0\"], [0.7, \"#b8e186\"], [0.8, \"#7fbc41\"], [0.9, \"#4d9221\"], [1, \"#276419\"]], \"sequential\": [[0.0, \"#0d0887\"], [0.1111111111111111, \"#46039f\"], [0.2222222222222222, \"#7201a8\"], [0.3333333333333333, \"#9c179e\"], [0.4444444444444444, \"#bd3786\"], [0.5555555555555556, \"#d8576b\"], [0.6666666666666666, \"#ed7953\"], [0.7777777777777778, \"#fb9f3a\"], [0.8888888888888888, \"#fdca26\"], [1.0, \"#f0f921\"]], \"sequentialminus\": [[0.0, \"#0d0887\"], [0.1111111111111111, \"#46039f\"], [0.2222222222222222, \"#7201a8\"], [0.3333333333333333, \"#9c179e\"], [0.4444444444444444, \"#bd3786\"], [0.5555555555555556, \"#d8576b\"], [0.6666666666666666, \"#ed7953\"], [0.7777777777777778, \"#fb9f3a\"], [0.8888888888888888, \"#fdca26\"], [1.0, \"#f0f921\"]]}, \"colorway\": [\"#636efa\", \"#EF553B\", \"#00cc96\", \"#ab63fa\", \"#FFA15A\", \"#19d3f3\", \"#FF6692\", \"#B6E880\", \"#FF97FF\", \"#FECB52\"], \"font\": {\"color\": \"#2a3f5f\"}, \"geo\": {\"bgcolor\": \"white\", \"lakecolor\": \"white\", \"landcolor\": \"#E5ECF6\", \"showlakes\": true, \"showland\": true, \"subunitcolor\": \"white\"}, \"hoverlabel\": {\"align\": \"left\"}, \"hovermode\": \"closest\", \"mapbox\": {\"style\": \"light\"}, \"paper_bgcolor\": \"white\", \"plot_bgcolor\": \"#E5ECF6\", \"polar\": {\"angularaxis\": {\"gridcolor\": \"white\", \"linecolor\": \"white\", \"ticks\": \"\"}, \"bgcolor\": \"#E5ECF6\", \"radialaxis\": {\"gridcolor\": \"white\", \"linecolor\": \"white\", \"ticks\": \"\"}}, \"scene\": {\"xaxis\": {\"backgroundcolor\": \"#E5ECF6\", \"gridcolor\": \"white\", \"gridwidth\": 2, \"linecolor\": \"white\", \"showbackground\": true, \"ticks\": \"\", \"zerolinecolor\": \"white\"}, \"yaxis\": {\"backgroundcolor\": \"#E5ECF6\", \"gridcolor\": \"white\", \"gridwidth\": 2, \"linecolor\": \"white\", \"showbackground\": true, \"ticks\": \"\", \"zerolinecolor\": \"white\"}, \"zaxis\": {\"backgroundcolor\": \"#E5ECF6\", \"gridcolor\": \"white\", \"gridwidth\": 2, \"linecolor\": \"white\", \"showbackground\": true, \"ticks\": \"\", \"zerolinecolor\": \"white\"}}, \"shapedefaults\": {\"line\": {\"color\": \"#2a3f5f\"}}, \"ternary\": {\"aaxis\": {\"gridcolor\": \"white\", \"linecolor\": \"white\", \"ticks\": \"\"}, \"baxis\": {\"gridcolor\": \"white\", \"linecolor\": \"white\", \"ticks\": \"\"}, \"bgcolor\": \"#E5ECF6\", \"caxis\": {\"gridcolor\": \"white\", \"linecolor\": \"white\", \"ticks\": \"\"}}, \"title\": {\"x\": 0.05}, \"xaxis\": {\"automargin\": true, \"gridcolor\": \"white\", \"linecolor\": \"white\", \"ticks\": \"\", \"title\": {\"standoff\": 15}, \"zerolinecolor\": \"white\", \"zerolinewidth\": 2}, \"yaxis\": {\"automargin\": true, \"gridcolor\": \"white\", \"linecolor\": \"white\", \"ticks\": \"\", \"title\": {\"standoff\": 15}, \"zerolinecolor\": \"white\", \"zerolinewidth\": 2}}}, \"title\": {\"text\": \"Taxa de suic\\u00eddios para a Am\\u00e9rica Latina, Brasil e pa\\u00edses ricos de 2000, 2010 e 2019\", \"x\": 0.5, \"xanchor\": \"center\", \"y\": 0.9, \"yanchor\": \"top\"}, \"xaxis\": {\"title\": {\"text\": \"Anos\"}}, \"yaxis\": {\"title\": {\"text\": \"Taxa de suic\\u00eddio por 100 mil habitantes\"}}},\n",
              "                        {\"responsive\": true}\n",
              "                    ).then(function(){\n",
              "                            \n",
              "var gd = document.getElementById('b6ed0af6-c8c7-423f-aa58-97480a440059');\n",
              "var x = new MutationObserver(function (mutations, observer) {{\n",
              "        var display = window.getComputedStyle(gd).display;\n",
              "        if (!display || display === 'none') {{\n",
              "            console.log([gd, 'removed!']);\n",
              "            Plotly.purge(gd);\n",
              "            observer.disconnect();\n",
              "        }}\n",
              "}});\n",
              "\n",
              "// Listen for the removal of the full notebook cells\n",
              "var notebookContainer = gd.closest('#notebook-container');\n",
              "if (notebookContainer) {{\n",
              "    x.observe(notebookContainer, {childList: true});\n",
              "}}\n",
              "\n",
              "// Listen for the clearing of the current output cell\n",
              "var outputEl = gd.closest('.output');\n",
              "if (outputEl) {{\n",
              "    x.observe(outputEl, {childList: true});\n",
              "}}\n",
              "\n",
              "                        })\n",
              "                };\n",
              "                \n",
              "            </script>\n",
              "        </div>\n",
              "</body>\n",
              "</html>"
            ]
          },
          "metadata": {
            "tags": []
          }
        }
      ]
    },
    {
      "cell_type": "markdown",
      "metadata": {
        "id": "i29Z08NSbyZv"
      },
      "source": [
        "###Utilização de gráficos Plotly e envio em nuvem para edição no Chart Studio"
      ]
    },
    {
      "cell_type": "code",
      "metadata": {
        "id": "xJub7W_pbC7V",
        "colab": {
          "base_uri": "https://localhost:8080/",
          "height": 35
        },
        "outputId": "ace6df75-310b-4daf-a032-7ca204f46418"
      },
      "source": [
        "data=[\n",
        "    go.Bar(name='América Latina', x=meusDados2['Anos'], y=meusDados2['nsAL'], marker_color= '#55D6BE'),\n",
        "    go.Bar(name='Brasil', x=meusDados2['Anos'], y=meusDados2['nsBR'], marker_color= '#ED07CB'),\n",
        "    go.Bar(name='Países ricos', x=meusDados2['Anos'], y=meusDados2['nsPPC'], marker_color= '#6D32EC'),\n",
        "    go.Scatter(x = meusDados2['Anos'],\n",
        "                    y = meusDados2['nsBR'],\n",
        "                    mode = 'markers+lines',\n",
        "                    name = 'Crescimento suicídios Brasil',\n",
        "                    line = {'color': '#525252',\n",
        "                            'dash': 'dash',\n",
        "                            'width': 1.5})\n",
        "]\n",
        "\n",
        "\n",
        "layout = go.Layout(title={\n",
        "                  'text': \"Taxa de suicídios para a América Latina, Brasil e países ricos de 2000, 2010 e 2019\",\n",
        "                  'y':0.9,\n",
        "                  'x':0.5,\n",
        "                  'xanchor': 'center',\n",
        "                  'yanchor': 'top'},\n",
        "                   yaxis={'title':'Taxa de suicídio por 100 mil habitantes'},\n",
        "                   xaxis={'title': 'Anos'},\n",
        "                   font={\n",
        "                   'family':\"Arial, monospace\",\n",
        "                   'size': 16,\n",
        "                   'color':\"#525252\"},\n",
        ")\n",
        "\n",
        "\n",
        "fig = go.Figure(data=data, layout=layout)\n",
        "\n",
        "pyo.plot(fig)"
      ],
      "execution_count": null,
      "outputs": [
        {
          "output_type": "execute_result",
          "data": {
            "application/vnd.google.colaboratory.intrinsic+json": {
              "type": "string"
            },
            "text/plain": [
              "'https://plotly.com/~psidata/30/'"
            ]
          },
          "metadata": {
            "tags": []
          },
          "execution_count": 106
        }
      ]
    },
    {
      "cell_type": "markdown",
      "metadata": {
        "id": "9d-uny9rB_e-"
      },
      "source": [
        "# Dados da OMS sobre estrutura de atendimento para saúde mental nos países do ano de 2016"
      ]
    },
    {
      "cell_type": "markdown",
      "metadata": {
        "id": "HhgcPLkS4uOo"
      },
      "source": [
        "## Seleção e tratamento de dados"
      ]
    },
    {
      "cell_type": "markdown",
      "metadata": {
        "id": "dVSOTTb5y-8-"
      },
      "source": [
        "Iniciando 2ª base de dados - dados da OMS sobre estrutura de atendimento para saúde mental nos países do ano de 2016"
      ]
    },
    {
      "cell_type": "code",
      "metadata": {
        "id": "kwXmhbWhT6sM"
      },
      "source": [
        "#Importando 2ª base de dados alocada em repositório do Github na pasta principal do projeto\n",
        "#Base de dados .csv da OMS sobre as estruturas de saúde mental dos países no ano de 2016 \n",
        "\n",
        "#O link url deve ser puxado através de um link raw novo toda vez através do repositório do \n",
        "# Github, há um erro que não permite um link permanente \n",
        "url = 'https://raw.githubusercontent.com/brunamulinari/TechLabsProject_PsiData/main/OMS-estruturas-de-saude-mental-paises_2016.csv?token=ATZB42W3XJMKEUY6ZRIHNIDAZJYWM'\n",
        "df_saudeM2016 = pd.read_csv(url, delimiter=',')\n"
      ],
      "execution_count": null,
      "outputs": []
    },
    {
      "cell_type": "code",
      "metadata": {
        "colab": {
          "base_uri": "https://localhost:8080/",
          "height": 255
        },
        "id": "Qj4r4FWK35wT",
        "outputId": "d22b21a6-fd05-4ba3-e4ea-e56a51fc3579"
      },
      "source": [
        "#Exibindo as 5 primeiras linhas \n",
        "df_saudeM2016.head()"
      ],
      "execution_count": null,
      "outputs": [
        {
          "output_type": "execute_result",
          "data": {
            "text/html": [
              "<div>\n",
              "<style scoped>\n",
              "    .dataframe tbody tr th:only-of-type {\n",
              "        vertical-align: middle;\n",
              "    }\n",
              "\n",
              "    .dataframe tbody tr th {\n",
              "        vertical-align: top;\n",
              "    }\n",
              "\n",
              "    .dataframe thead th {\n",
              "        text-align: right;\n",
              "    }\n",
              "</style>\n",
              "<table border=\"1\" class=\"dataframe\">\n",
              "  <thead>\n",
              "    <tr style=\"text-align: right;\">\n",
              "      <th></th>\n",
              "      <th>Country</th>\n",
              "      <th>Year</th>\n",
              "      <th>Mental hospitals (per 100 000 population)</th>\n",
              "      <th>Mental health units in general hospitals (per 100 000 population)</th>\n",
              "      <th>Mental health outpatient facilities (per 100 000 population)</th>\n",
              "      <th>Mental health day treatment facilities (per 100 000 population)</th>\n",
              "      <th>Community residential facilities (per 100 000 population)</th>\n",
              "    </tr>\n",
              "  </thead>\n",
              "  <tbody>\n",
              "    <tr>\n",
              "      <th>0</th>\n",
              "      <td>Afghanistan</td>\n",
              "      <td>2016</td>\n",
              "      <td>0.003</td>\n",
              "      <td>0.012</td>\n",
              "      <td>0.006</td>\n",
              "      <td>NaN</td>\n",
              "      <td>NaN</td>\n",
              "    </tr>\n",
              "    <tr>\n",
              "      <th>1</th>\n",
              "      <td>Albania</td>\n",
              "      <td>2016</td>\n",
              "      <td>0.068</td>\n",
              "      <td>0.068</td>\n",
              "      <td>0.410</td>\n",
              "      <td>NaN</td>\n",
              "      <td>0.445</td>\n",
              "    </tr>\n",
              "    <tr>\n",
              "      <th>2</th>\n",
              "      <td>Algeria</td>\n",
              "      <td>2016</td>\n",
              "      <td>0.048</td>\n",
              "      <td>0.068</td>\n",
              "      <td>0.048</td>\n",
              "      <td>NaN</td>\n",
              "      <td>NaN</td>\n",
              "    </tr>\n",
              "    <tr>\n",
              "      <th>3</th>\n",
              "      <td>Angola</td>\n",
              "      <td>2016</td>\n",
              "      <td>0.011</td>\n",
              "      <td>NaN</td>\n",
              "      <td>NaN</td>\n",
              "      <td>NaN</td>\n",
              "      <td>0.014</td>\n",
              "    </tr>\n",
              "    <tr>\n",
              "      <th>4</th>\n",
              "      <td>Antigua and Barbuda</td>\n",
              "      <td>2016</td>\n",
              "      <td>1.001</td>\n",
              "      <td>NaN</td>\n",
              "      <td>NaN</td>\n",
              "      <td>NaN</td>\n",
              "      <td>NaN</td>\n",
              "    </tr>\n",
              "  </tbody>\n",
              "</table>\n",
              "</div>"
            ],
            "text/plain": [
              "               Country  ...  Community residential facilities (per 100 000 population)\n",
              "0          Afghanistan  ...                                                NaN        \n",
              "1              Albania  ...                                              0.445        \n",
              "2              Algeria  ...                                                NaN        \n",
              "3               Angola  ...                                              0.014        \n",
              "4  Antigua and Barbuda  ...                                                NaN        \n",
              "\n",
              "[5 rows x 7 columns]"
            ]
          },
          "metadata": {
            "tags": []
          },
          "execution_count": 66
        }
      ]
    },
    {
      "cell_type": "code",
      "metadata": {
        "id": "ngrvvXvRlDhS"
      },
      "source": [
        "#Alterar os nomes de colunas\n",
        "\n",
        "df_saudeM2016.rename(columns={'Country': 'País'}, inplace = True)\n",
        "df_saudeM2016.rename(columns={'Year': 'Ano'}, inplace = True)\n",
        "df_saudeM2016.rename(columns={'Mental hospitals (per 100 000 population)': \n",
        "                              'Taxa de hospitais psiquiátricos'}, inplace = True)\n",
        "df_saudeM2016.rename(columns={'Mental health units in general hospitals (per 100 000 population)': \n",
        "                              'Taxa de unidades psiquiátricas em hospitais'}, inplace = True)\n",
        "df_saudeM2016.rename(columns={'Mental health outpatient facilities (per 100 000 population)': \n",
        "                              'Taxa de ambulatórios psiquiátricos'}, inplace = True)\n",
        "df_saudeM2016.rename(columns={'Mental health day treatment facilities (per 100 000 population)': \n",
        "                              'Taxa de tratamentos psiquiátricos diários'}, inplace = True)\n",
        "df_saudeM2016.rename(columns={'Community residential facilities (per 100 000 population)': \n",
        "                              'Taxa de instalações comunitárias'}, inplace = True)"
      ],
      "execution_count": null,
      "outputs": []
    },
    {
      "cell_type": "code",
      "metadata": {
        "colab": {
          "base_uri": "https://localhost:8080/",
          "height": 66
        },
        "id": "Y2EeFomrqA9O",
        "outputId": "60ebcf1c-e032-4e7b-ae28-be4dfd5fc546"
      },
      "source": [
        "#visualizar mudanças nos nomes das colunas\n",
        "df_saudeM2016.head(0)"
      ],
      "execution_count": null,
      "outputs": [
        {
          "output_type": "execute_result",
          "data": {
            "text/html": [
              "<div>\n",
              "<style scoped>\n",
              "    .dataframe tbody tr th:only-of-type {\n",
              "        vertical-align: middle;\n",
              "    }\n",
              "\n",
              "    .dataframe tbody tr th {\n",
              "        vertical-align: top;\n",
              "    }\n",
              "\n",
              "    .dataframe thead th {\n",
              "        text-align: right;\n",
              "    }\n",
              "</style>\n",
              "<table border=\"1\" class=\"dataframe\">\n",
              "  <thead>\n",
              "    <tr style=\"text-align: right;\">\n",
              "      <th></th>\n",
              "      <th>País</th>\n",
              "      <th>Ano</th>\n",
              "      <th>Taxa de hospitais psiquiátricos</th>\n",
              "      <th>Taxa de unidades psiquiátricas em hospitais</th>\n",
              "      <th>Taxa de ambulatórios psiquiátricos</th>\n",
              "      <th>Taxa de tratamentos psiquiátricos diários</th>\n",
              "      <th>Taxa de instalações comunitárias</th>\n",
              "    </tr>\n",
              "  </thead>\n",
              "  <tbody>\n",
              "  </tbody>\n",
              "</table>\n",
              "</div>"
            ],
            "text/plain": [
              "Empty DataFrame\n",
              "Columns: [País, Ano, Taxa de hospitais psiquiátricos, Taxa de unidades psiquiátricas em hospitais, Taxa de ambulatórios psiquiátricos, Taxa de tratamentos psiquiátricos diários, Taxa de instalações comunitárias]\n",
              "Index: []"
            ]
          },
          "metadata": {
            "tags": []
          },
          "execution_count": 68
        }
      ]
    },
    {
      "cell_type": "markdown",
      "metadata": {
        "id": "56NH0AXTqSlP"
      },
      "source": [
        "**Todas as taxas são relativas a quantidade por 100 mil habitantes.**"
      ]
    },
    {
      "cell_type": "code",
      "metadata": {
        "colab": {
          "base_uri": "https://localhost:8080/"
        },
        "id": "4eM2UskXABp7",
        "outputId": "5db46167-934c-49a2-9da8-83450b94758d"
      },
      "source": [
        "# Visualizando tamanho total do banco \n",
        "df_saudeM2016.shape"
      ],
      "execution_count": null,
      "outputs": [
        {
          "output_type": "execute_result",
          "data": {
            "text/plain": [
              "(163, 7)"
            ]
          },
          "metadata": {
            "tags": []
          },
          "execution_count": 69
        }
      ]
    },
    {
      "cell_type": "markdown",
      "metadata": {
        "id": "SPlwo25qAl0R"
      },
      "source": [
        "De acordo com o comando executado o banco de dados tem 163 linhas e 7 colunas"
      ]
    },
    {
      "cell_type": "code",
      "metadata": {
        "id": "gj7-bcvuq2Ur"
      },
      "source": [
        "#seleção dos países da América Latina + países ricos selecionados\n",
        "#lembrando que a lista com países já foi criada utilizando a base de dados \n",
        "# anterior\n",
        "\n",
        "df_saudeM2016 = df_saudeM2016.loc[df_saudeM2016['País'].isin(lista)]"
      ],
      "execution_count": null,
      "outputs": []
    },
    {
      "cell_type": "code",
      "metadata": {
        "colab": {
          "base_uri": "https://localhost:8080/",
          "height": 176
        },
        "id": "Dp6XhwGEtIc4",
        "outputId": "79d4a12f-6f21-42af-dc0c-b42b31999548"
      },
      "source": [
        "#visualizar mudanças a partir da seleção específica de países\n",
        "df_saudeM2016.head(3)"
      ],
      "execution_count": null,
      "outputs": [
        {
          "output_type": "execute_result",
          "data": {
            "text/html": [
              "<div>\n",
              "<style scoped>\n",
              "    .dataframe tbody tr th:only-of-type {\n",
              "        vertical-align: middle;\n",
              "    }\n",
              "\n",
              "    .dataframe tbody tr th {\n",
              "        vertical-align: top;\n",
              "    }\n",
              "\n",
              "    .dataframe thead th {\n",
              "        text-align: right;\n",
              "    }\n",
              "</style>\n",
              "<table border=\"1\" class=\"dataframe\">\n",
              "  <thead>\n",
              "    <tr style=\"text-align: right;\">\n",
              "      <th></th>\n",
              "      <th>País</th>\n",
              "      <th>Ano</th>\n",
              "      <th>Taxa de hospitais psiquiátricos</th>\n",
              "      <th>Taxa de unidades psiquiátricas em hospitais</th>\n",
              "      <th>Taxa de ambulatórios psiquiátricos</th>\n",
              "      <th>Taxa de tratamentos psiquiátricos diários</th>\n",
              "      <th>Taxa de instalações comunitárias</th>\n",
              "    </tr>\n",
              "  </thead>\n",
              "  <tbody>\n",
              "    <tr>\n",
              "      <th>4</th>\n",
              "      <td>Antigua and Barbuda</td>\n",
              "      <td>2016</td>\n",
              "      <td>1.001</td>\n",
              "      <td>NaN</td>\n",
              "      <td>NaN</td>\n",
              "      <td>NaN</td>\n",
              "      <td>NaN</td>\n",
              "    </tr>\n",
              "    <tr>\n",
              "      <th>5</th>\n",
              "      <td>Argentina</td>\n",
              "      <td>2016</td>\n",
              "      <td>0.937</td>\n",
              "      <td>1.071</td>\n",
              "      <td>1.720</td>\n",
              "      <td>NaN</td>\n",
              "      <td>0.152</td>\n",
              "    </tr>\n",
              "    <tr>\n",
              "      <th>10</th>\n",
              "      <td>Bahamas</td>\n",
              "      <td>2015</td>\n",
              "      <td>0.259</td>\n",
              "      <td>0.259</td>\n",
              "      <td>0.517</td>\n",
              "      <td>0.259</td>\n",
              "      <td>NaN</td>\n",
              "    </tr>\n",
              "  </tbody>\n",
              "</table>\n",
              "</div>"
            ],
            "text/plain": [
              "                   País  ...  Taxa de instalações comunitárias\n",
              "4   Antigua and Barbuda  ...                               NaN\n",
              "5             Argentina  ...                             0.152\n",
              "10              Bahamas  ...                               NaN\n",
              "\n",
              "[3 rows x 7 columns]"
            ]
          },
          "metadata": {
            "tags": []
          },
          "execution_count": 71
        }
      ]
    },
    {
      "cell_type": "code",
      "metadata": {
        "colab": {
          "base_uri": "https://localhost:8080/"
        },
        "id": "GZU6RmjdtVXU",
        "outputId": "8bcf7f26-cf2c-440d-bd4b-8bdbb0bb0b39"
      },
      "source": [
        "# Visualizando mudanças no tamanho total do banco \n",
        "df_saudeM2016.shape"
      ],
      "execution_count": null,
      "outputs": [
        {
          "output_type": "execute_result",
          "data": {
            "text/plain": [
              "(34, 7)"
            ]
          },
          "metadata": {
            "tags": []
          },
          "execution_count": 72
        }
      ]
    },
    {
      "cell_type": "markdown",
      "metadata": {
        "id": "Qr2dTSaNtbSh"
      },
      "source": [
        "Conforme se observa, após a seleção específica de países da América Latina e dos países ricos, o número de linhas diminuiu para 34."
      ]
    },
    {
      "cell_type": "code",
      "metadata": {
        "id": "o_W-_L9eC7O1"
      },
      "source": [
        "#Transformar as variáveis da coluna 'Ano' que são do tipo inteiro para o \n",
        "#tipo string. Assim evita-se criar estatísticas a partir do numeral do ano\n",
        "\n",
        "df_saudeM2016['Ano'] = df_saudeM2016['Ano'].astype(str)"
      ],
      "execution_count": null,
      "outputs": []
    },
    {
      "cell_type": "code",
      "metadata": {
        "colab": {
          "base_uri": "https://localhost:8080/"
        },
        "id": "0746XuAq89kA",
        "outputId": "f56cd918-8ae1-4810-b99b-0804944734c4"
      },
      "source": [
        "#Quantidade de dados em cada coluna, tipo de variável\n",
        "\n",
        "df_saudeM2016.info()"
      ],
      "execution_count": null,
      "outputs": [
        {
          "output_type": "stream",
          "text": [
            "<class 'pandas.core.frame.DataFrame'>\n",
            "Int64Index: 34 entries, 4 to 156\n",
            "Data columns (total 7 columns):\n",
            " #   Column                                       Non-Null Count  Dtype  \n",
            "---  ------                                       --------------  -----  \n",
            " 0   País                                         34 non-null     object \n",
            " 1   Ano                                          34 non-null     object \n",
            " 2   Taxa de hospitais psiquiátricos              33 non-null     float64\n",
            " 3   Taxa de unidades psiquiátricas em hospitais  30 non-null     float64\n",
            " 4   Taxa de ambulatórios psiquiátricos           31 non-null     float64\n",
            " 5   Taxa de tratamentos psiquiátricos diários    17 non-null     float64\n",
            " 6   Taxa de instalações comunitárias             18 non-null     float64\n",
            "dtypes: float64(5), object(2)\n",
            "memory usage: 2.1+ KB\n"
          ],
          "name": "stdout"
        }
      ]
    },
    {
      "cell_type": "code",
      "metadata": {
        "colab": {
          "base_uri": "https://localhost:8080/"
        },
        "id": "iLXryXcJpEWh",
        "outputId": "5499866d-8712-4e70-adb1-deff309d589f"
      },
      "source": [
        "#Verificação da quantidade de valores nulos\n",
        "df_saudeM2016.isnull().sum()\n"
      ],
      "execution_count": null,
      "outputs": [
        {
          "output_type": "execute_result",
          "data": {
            "text/plain": [
              "País                                            0\n",
              "Ano                                             0\n",
              "Taxa de hospitais psiquiátricos                 1\n",
              "Taxa de unidades psiquiátricas em hospitais     4\n",
              "Taxa de ambulatórios psiquiátricos              3\n",
              "Taxa de tratamentos psiquiátricos diários      17\n",
              "Taxa de instalações comunitárias               16\n",
              "dtype: int64"
            ]
          },
          "metadata": {
            "tags": []
          },
          "execution_count": 75
        }
      ]
    },
    {
      "cell_type": "markdown",
      "metadata": {
        "id": "kUnluxM8VkDa"
      },
      "source": [
        "Observa-se que a taxa de tratamentos psiquiátricos diários e a taxa de instalações comunitárias são as colunas com mais valores nulos."
      ]
    },
    {
      "cell_type": "code",
      "metadata": {
        "colab": {
          "base_uri": "https://localhost:8080/"
        },
        "id": "AXcWa8e_DSb3",
        "outputId": "b7b8475d-d25c-4f29-f1ce-42b9d335eeca"
      },
      "source": [
        "#inserção de mais uma coluna, agora com a taxa de suicídios dos países selecionados para o ano 2016\n",
        "#desta forma é possível observar correlações entre a quantidade de instalações\n",
        "#de saúde mental e a quantidade de suicídios em cada país no ano de 2016 \n",
        "\n",
        "Taxa_suicidios = [0.5, 8.3, 3.6, 0.6, 5.8, 6.6, 6.0, 10.0, 4.2, 7.7, 13.4, 9.0, \n",
        "                  5.7, 13.0, 1.0, 5.7, 37.9, 9.8, 2.2, 17.5, 5.6, 4.4, 12.6, 3.3, 5.3, \n",
        "                  2.6, 7.4, 0.7, 9.1, 14.1, 9.8, 6.0, 15.1, 21.1]\n",
        "df_saudeM2016['Taxa de suicídios (2016)'] = Taxa_suicidios\n",
        "print(df_saudeM2016)\n",
        "\n"
      ],
      "execution_count": null,
      "outputs": [
        {
          "output_type": "stream",
          "text": [
            "                                 País  ... Taxa de suicídios (2016)\n",
            "4                 Antigua and Barbuda  ...                      0.5\n",
            "5                           Argentina  ...                      8.3\n",
            "10                            Bahamas  ...                      3.6\n",
            "13                           Barbados  ...                      0.6\n",
            "16                             Belize  ...                      5.8\n",
            "18   Bolivia (Plurinational State of)  ...                      6.6\n",
            "21                             Brazil  ...                      6.0\n",
            "31                              Chile  ...                     10.0\n",
            "33                           Colombia  ...                      4.2\n",
            "37                         Costa Rica  ...                      7.7\n",
            "40                               Cuba  ...                     13.4\n",
            "44                            Ecuador  ...                      9.0\n",
            "46                        El Salvador  ...                      5.7\n",
            "56                            Germany  ...                     13.0\n",
            "59                            Grenada  ...                      1.0\n",
            "60                          Guatemala  ...                      5.7\n",
            "63                             Guyana  ...                     37.9\n",
            "64                              Haiti  ...                      9.8\n",
            "75                            Jamaica  ...                      2.2\n",
            "76                              Japan  ...                     17.5\n",
            "94                             Mexico  ...                      5.6\n",
            "106                         Nicaragua  ...                      4.4\n",
            "109                            Norway  ...                     12.6\n",
            "111                            Panama  ...                      3.3\n",
            "112                          Paraguay  ...                      5.3\n",
            "113                              Peru  ...                      2.6\n",
            "125                       Saint Lucia  ...                      7.4\n",
            "126  Saint Vincent and the Grenadines  ...                      0.7\n",
            "134                         Singapore  ...                      9.1\n",
            "141                       Switzerland  ...                     14.1\n",
            "148               Trinidad and Tobago  ...                      9.8\n",
            "153              United Arab Emirates  ...                      6.0\n",
            "155          United States of America  ...                     15.1\n",
            "156                           Uruguay  ...                     21.1\n",
            "\n",
            "[34 rows x 8 columns]\n"
          ],
          "name": "stdout"
        }
      ]
    },
    {
      "cell_type": "code",
      "metadata": {
        "id": "NIK2vUlL3ipL"
      },
      "source": [
        "#criação de um dataframe para cada grupo de países\n",
        "dfSM_AL = df_saudeM2016.loc[df_saudeM2016['País'].isin(lista_AL)]\n",
        "dfSM_PPC = df_saudeM2016.loc[df_saudeM2016['País'].isin(lista_PR)]\n",
        "dfSM_BR = df_saudeM2016.loc[df_saudeM2016['País'].isin(lista_BR)]"
      ],
      "execution_count": null,
      "outputs": []
    },
    {
      "cell_type": "markdown",
      "metadata": {
        "id": "mr5y6-v85QvO"
      },
      "source": [
        "Elaboração de médias das taxa para cada grupo de países, afim de disponibilizar elementos para criação de gráficos."
      ]
    },
    {
      "cell_type": "code",
      "metadata": {
        "id": "jLGttH064a6l"
      },
      "source": [
        "#médias das taxas de estruturas de atendimento em saúde mental, nos países da América Latina\n",
        "SM_AL = dfSM_AL.mean()\n",
        "\n",
        "#médias das taxas de estruturas de atendimento em saúde mental, nos países ricos selecionados\n",
        "SM_PPC = dfSM_PPC.mean()\n",
        "\n",
        "#médias das taxas de estruturas de atendimento em saúde mental, no Brasil\n",
        "SM_BR = dfSM_BR.mean()"
      ],
      "execution_count": null,
      "outputs": []
    },
    {
      "cell_type": "markdown",
      "metadata": {
        "id": "FjDJaaFw5c4m"
      },
      "source": [
        "## Visualização estatística, gráfica e breves análises a partir dos dados"
      ]
    },
    {
      "cell_type": "markdown",
      "metadata": {
        "id": "p6ou2kEAu8GI"
      },
      "source": [
        "###Estatísticas"
      ]
    },
    {
      "cell_type": "code",
      "metadata": {
        "id": "h5E_gf8DsXr9"
      },
      "source": [
        "#criação de um dataframe para cada grupo\n",
        "#1) América Latina; 2) Países ricos selecionados 3) Brasil\n",
        "\n",
        "dfSM_AL = df_saudeM2016.loc[df_saudeM2016['País'].isin(lista_AL)]\n",
        "dfSM_PPC = df_saudeM2016.loc[df_saudeM2016['País'].isin(lista_PR)]\n",
        "dfSM_BR = df_saudeM2016.loc[df_saudeM2016['País'].isin(lista_BR)]"
      ],
      "execution_count": null,
      "outputs": []
    },
    {
      "cell_type": "code",
      "metadata": {
        "colab": {
          "base_uri": "https://localhost:8080/"
        },
        "id": "kJlaQ1_81nHI",
        "outputId": "e9cb1fd3-fbb4-401e-8eef-03db5c8fca24"
      },
      "source": [
        "#estatísticas básicas dos países da América Latina\n",
        "dfSM_AL.describe()"
      ],
      "execution_count": null,
      "outputs": [
        {
          "output_type": "execute_result",
          "data": {
            "text/html": [
              "<div>\n",
              "<style scoped>\n",
              "    .dataframe tbody tr th:only-of-type {\n",
              "        vertical-align: middle;\n",
              "    }\n",
              "\n",
              "    .dataframe tbody tr th {\n",
              "        vertical-align: top;\n",
              "    }\n",
              "\n",
              "    .dataframe thead th {\n",
              "        text-align: right;\n",
              "    }\n",
              "</style>\n",
              "<table border=\"1\" class=\"dataframe\">\n",
              "  <thead>\n",
              "    <tr style=\"text-align: right;\">\n",
              "      <th></th>\n",
              "      <th>Taxa de hospitais psiquiátricos</th>\n",
              "      <th>Taxa de unidades psiquiátricas em hospitais</th>\n",
              "      <th>Taxa de ambulatórios psiquiátricos</th>\n",
              "      <th>Taxa de tratamentos psiquiátricos diários</th>\n",
              "      <th>Taxa de instalações comunitárias</th>\n",
              "      <th>Taxa de suicídios (2016)</th>\n",
              "    </tr>\n",
              "  </thead>\n",
              "  <tbody>\n",
              "    <tr>\n",
              "      <th>count</th>\n",
              "      <td>26.000000</td>\n",
              "      <td>23.000000</td>\n",
              "      <td>25.000000</td>\n",
              "      <td>14.000000</td>\n",
              "      <td>13.000000</td>\n",
              "      <td>27.000000</td>\n",
              "    </tr>\n",
              "    <tr>\n",
              "      <th>mean</th>\n",
              "      <td>0.310692</td>\n",
              "      <td>0.304478</td>\n",
              "      <td>2.586200</td>\n",
              "      <td>2.932714</td>\n",
              "      <td>0.537231</td>\n",
              "      <td>7.340741</td>\n",
              "    </tr>\n",
              "    <tr>\n",
              "      <th>std</th>\n",
              "      <td>0.478103</td>\n",
              "      <td>0.461178</td>\n",
              "      <td>4.262167</td>\n",
              "      <td>9.442505</td>\n",
              "      <td>0.853109</td>\n",
              "      <td>7.530566</td>\n",
              "    </tr>\n",
              "    <tr>\n",
              "      <th>min</th>\n",
              "      <td>0.006000</td>\n",
              "      <td>0.006000</td>\n",
              "      <td>0.009000</td>\n",
              "      <td>0.015000</td>\n",
              "      <td>0.006000</td>\n",
              "      <td>0.500000</td>\n",
              "    </tr>\n",
              "    <tr>\n",
              "      <th>25%</th>\n",
              "      <td>0.026000</td>\n",
              "      <td>0.036000</td>\n",
              "      <td>0.292000</td>\n",
              "      <td>0.075250</td>\n",
              "      <td>0.033000</td>\n",
              "      <td>3.450000</td>\n",
              "    </tr>\n",
              "    <tr>\n",
              "      <th>50%</th>\n",
              "      <td>0.071500</td>\n",
              "      <td>0.148000</td>\n",
              "      <td>1.416000</td>\n",
              "      <td>0.216500</td>\n",
              "      <td>0.152000</td>\n",
              "      <td>5.700000</td>\n",
              "    </tr>\n",
              "    <tr>\n",
              "      <th>75%</th>\n",
              "      <td>0.344250</td>\n",
              "      <td>0.268000</td>\n",
              "      <td>2.696000</td>\n",
              "      <td>0.412500</td>\n",
              "      <td>0.704000</td>\n",
              "      <td>8.650000</td>\n",
              "    </tr>\n",
              "    <tr>\n",
              "      <th>max</th>\n",
              "      <td>1.988000</td>\n",
              "      <td>1.948000</td>\n",
              "      <td>19.751000</td>\n",
              "      <td>35.631000</td>\n",
              "      <td>2.994000</td>\n",
              "      <td>37.900000</td>\n",
              "    </tr>\n",
              "  </tbody>\n",
              "</table>\n",
              "</div>"
            ],
            "text/plain": [
              "       Taxa de hospitais psiquiátricos  ...  Taxa de suicídios (2016)\n",
              "count                        26.000000  ...                 27.000000\n",
              "mean                          0.310692  ...                  7.340741\n",
              "std                           0.478103  ...                  7.530566\n",
              "min                           0.006000  ...                  0.500000\n",
              "25%                           0.026000  ...                  3.450000\n",
              "50%                           0.071500  ...                  5.700000\n",
              "75%                           0.344250  ...                  8.650000\n",
              "max                           1.988000  ...                 37.900000\n",
              "\n",
              "[8 rows x 6 columns]"
            ]
          },
          "metadata": {
            "tags": []
          },
          "execution_count": 80
        }
      ]
    },
    {
      "cell_type": "code",
      "metadata": {
        "colab": {
          "base_uri": "https://localhost:8080/"
        },
        "id": "fwKsFsOf1neo",
        "outputId": "2f18a60b-e925-40a5-a3dc-7e83e6334393"
      },
      "source": [
        "#estatísticas básicas dos países ricos selecionados\n",
        "dfSM_PPC.describe()"
      ],
      "execution_count": null,
      "outputs": [
        {
          "output_type": "execute_result",
          "data": {
            "text/html": [
              "<div>\n",
              "<style scoped>\n",
              "    .dataframe tbody tr th:only-of-type {\n",
              "        vertical-align: middle;\n",
              "    }\n",
              "\n",
              "    .dataframe tbody tr th {\n",
              "        vertical-align: top;\n",
              "    }\n",
              "\n",
              "    .dataframe thead th {\n",
              "        text-align: right;\n",
              "    }\n",
              "</style>\n",
              "<table border=\"1\" class=\"dataframe\">\n",
              "  <thead>\n",
              "    <tr style=\"text-align: right;\">\n",
              "      <th></th>\n",
              "      <th>Taxa de hospitais psiquiátricos</th>\n",
              "      <th>Taxa de unidades psiquiátricas em hospitais</th>\n",
              "      <th>Taxa de ambulatórios psiquiátricos</th>\n",
              "      <th>Taxa de tratamentos psiquiátricos diários</th>\n",
              "      <th>Taxa de instalações comunitárias</th>\n",
              "      <th>Taxa de suicídios (2016)</th>\n",
              "    </tr>\n",
              "  </thead>\n",
              "  <tbody>\n",
              "    <tr>\n",
              "      <th>count</th>\n",
              "      <td>7.000000</td>\n",
              "      <td>7.000000</td>\n",
              "      <td>6.000000</td>\n",
              "      <td>3.000000</td>\n",
              "      <td>5.000000</td>\n",
              "      <td>7.000000</td>\n",
              "    </tr>\n",
              "    <tr>\n",
              "      <th>mean</th>\n",
              "      <td>1.433286</td>\n",
              "      <td>0.307143</td>\n",
              "      <td>1.620333</td>\n",
              "      <td>1.602333</td>\n",
              "      <td>0.902200</td>\n",
              "      <td>12.485714</td>\n",
              "    </tr>\n",
              "    <tr>\n",
              "      <th>std</th>\n",
              "      <td>3.043317</td>\n",
              "      <td>0.186234</td>\n",
              "      <td>2.778360</td>\n",
              "      <td>1.902296</td>\n",
              "      <td>1.086644</td>\n",
              "      <td>3.838154</td>\n",
              "    </tr>\n",
              "    <tr>\n",
              "      <th>min</th>\n",
              "      <td>0.011000</td>\n",
              "      <td>0.055000</td>\n",
              "      <td>0.077000</td>\n",
              "      <td>0.163000</td>\n",
              "      <td>0.033000</td>\n",
              "      <td>6.000000</td>\n",
              "    </tr>\n",
              "    <tr>\n",
              "      <th>25%</th>\n",
              "      <td>0.103500</td>\n",
              "      <td>0.162000</td>\n",
              "      <td>0.256000</td>\n",
              "      <td>0.524000</td>\n",
              "      <td>0.054000</td>\n",
              "      <td>10.850000</td>\n",
              "    </tr>\n",
              "    <tr>\n",
              "      <th>50%</th>\n",
              "      <td>0.335000</td>\n",
              "      <td>0.349000</td>\n",
              "      <td>0.448500</td>\n",
              "      <td>0.885000</td>\n",
              "      <td>0.366000</td>\n",
              "      <td>13.000000</td>\n",
              "    </tr>\n",
              "    <tr>\n",
              "      <th>75%</th>\n",
              "      <td>0.583000</td>\n",
              "      <td>0.465500</td>\n",
              "      <td>1.112000</td>\n",
              "      <td>2.322000</td>\n",
              "      <td>1.570000</td>\n",
              "      <td>14.600000</td>\n",
              "    </tr>\n",
              "    <tr>\n",
              "      <th>max</th>\n",
              "      <td>8.314000</td>\n",
              "      <td>0.491000</td>\n",
              "      <td>7.223000</td>\n",
              "      <td>3.759000</td>\n",
              "      <td>2.488000</td>\n",
              "      <td>17.500000</td>\n",
              "    </tr>\n",
              "  </tbody>\n",
              "</table>\n",
              "</div>"
            ],
            "text/plain": [
              "       Taxa de hospitais psiquiátricos  ...  Taxa de suicídios (2016)\n",
              "count                         7.000000  ...                  7.000000\n",
              "mean                          1.433286  ...                 12.485714\n",
              "std                           3.043317  ...                  3.838154\n",
              "min                           0.011000  ...                  6.000000\n",
              "25%                           0.103500  ...                 10.850000\n",
              "50%                           0.335000  ...                 13.000000\n",
              "75%                           0.583000  ...                 14.600000\n",
              "max                           8.314000  ...                 17.500000\n",
              "\n",
              "[8 rows x 6 columns]"
            ]
          },
          "metadata": {
            "tags": []
          },
          "execution_count": 81
        }
      ]
    },
    {
      "cell_type": "markdown",
      "metadata": {
        "id": "-QY8-0cbaGHf"
      },
      "source": [
        "De acordo com o resumo estatístico, pode-se observar que os países ricos possuem uma taxa média de hospitais psiquiátricos e instalações comunitárias maior que os países latinos, em contrapartida, a América Latina tem números maiores de unidades psiquiátricas em hospitais e atendimentos diários.\n",
        "Ainda há dúvida se tais taxas são capazes de nos fornecer informações capazes de determinar se maior quantidade de infraestrutura e atendimentos voltados a saúde mental reduz o índice de suicídios. O que se nota é que ambos os grupos tem variâncias de destaque em seus valores internos, fato que aponta para abordagens diferentes de país para país mesmo quando comparados a outros países de seu grupo."
      ]
    },
    {
      "cell_type": "code",
      "metadata": {
        "colab": {
          "base_uri": "https://localhost:8080/"
        },
        "id": "UWY54a2B1nuB",
        "outputId": "cdd4e77f-6832-4897-f0a5-825c6a59c3f1"
      },
      "source": [
        "#dados sobre o Brasil\n",
        "dfSM_BR"
      ],
      "execution_count": null,
      "outputs": [
        {
          "output_type": "execute_result",
          "data": {
            "text/html": [
              "<div>\n",
              "<style scoped>\n",
              "    .dataframe tbody tr th:only-of-type {\n",
              "        vertical-align: middle;\n",
              "    }\n",
              "\n",
              "    .dataframe tbody tr th {\n",
              "        vertical-align: top;\n",
              "    }\n",
              "\n",
              "    .dataframe thead th {\n",
              "        text-align: right;\n",
              "    }\n",
              "</style>\n",
              "<table border=\"1\" class=\"dataframe\">\n",
              "  <thead>\n",
              "    <tr style=\"text-align: right;\">\n",
              "      <th></th>\n",
              "      <th>País</th>\n",
              "      <th>Ano</th>\n",
              "      <th>Taxa de hospitais psiquiátricos</th>\n",
              "      <th>Taxa de unidades psiquiátricas em hospitais</th>\n",
              "      <th>Taxa de ambulatórios psiquiátricos</th>\n",
              "      <th>Taxa de tratamentos psiquiátricos diários</th>\n",
              "      <th>Taxa de instalações comunitárias</th>\n",
              "      <th>Taxa de suicídios (2016)</th>\n",
              "    </tr>\n",
              "  </thead>\n",
              "  <tbody>\n",
              "    <tr>\n",
              "      <th>21</th>\n",
              "      <td>Brazil</td>\n",
              "      <td>2016</td>\n",
              "      <td>0.069</td>\n",
              "      <td>0.115</td>\n",
              "      <td>1.491</td>\n",
              "      <td>NaN</td>\n",
              "      <td>0.267</td>\n",
              "      <td>6.0</td>\n",
              "    </tr>\n",
              "  </tbody>\n",
              "</table>\n",
              "</div>"
            ],
            "text/plain": [
              "      País   Ano  ...  Taxa de instalações comunitárias  Taxa de suicídios (2016)\n",
              "21  Brazil  2016  ...                             0.267                       6.0\n",
              "\n",
              "[1 rows x 8 columns]"
            ]
          },
          "metadata": {
            "tags": []
          },
          "execution_count": 82
        }
      ]
    },
    {
      "cell_type": "markdown",
      "metadata": {
        "id": "uU_aTSOlaRXQ"
      },
      "source": [
        "O Brasil, apresenta todos os indicadores abaixo da média de seus pares, o grupo dos países latinos. Isso pode representar uma deficiência em ofertar serviços públicos voltados à atender a saúde mental da população bem como pode ser resultado de uma taxa de suicídios baixa em comparação com demais países da América Latina, o que reflete no baixo investimento nesse tipo de serviço, uma vez que demanda por ele seria teoricamente menor que em outros países."
      ]
    },
    {
      "cell_type": "markdown",
      "metadata": {
        "id": "t9L9HxB2vp6D"
      },
      "source": [
        "###Utilização das bibliotecas Matplotlib e Seaborn para visualização de dados"
      ]
    },
    {
      "cell_type": "code",
      "metadata": {
        "id": "iwEFmI-d_HiF"
      },
      "source": [
        "# Importar bibliotecas necessárias para visualização dos dados\n",
        "import matplotlib.pyplot as plt\n",
        "import seaborn as sns"
      ],
      "execution_count": null,
      "outputs": []
    },
    {
      "cell_type": "code",
      "metadata": {
        "colab": {
          "base_uri": "https://localhost:8080/"
        },
        "id": "keyyCqmLIsyD",
        "outputId": "8736b823-72c5-4f4c-a13b-4ae6de5f4fbe"
      },
      "source": [
        "#exibição de um gráfico de correlação para os países da América Latina\n",
        "\n",
        "plt.figure (figsize = (6,5)) \n",
        "cor1 = dfSM_AL.corr () \n",
        "sns.heatmap (cor1, annot = True, cmap = plt.cm.Reds) \n",
        "plt.show ()"
      ],
      "execution_count": null,
      "outputs": [
        {
          "output_type": "display_data",
          "data": {
            "image/png": "[encoded data removed]",
            "text/plain": [
              "<Figure size 432x360 with 2 Axes>"
            ]
          },
          "metadata": {
            "tags": [],
            "needs_background": "light"
          }
        }
      ]
    },
    {
      "cell_type": "markdown",
      "metadata": {
        "id": "73Dg-_Ed4Tra"
      },
      "source": [
        "A partir dos dados para a América Latina, nota-se que todos as taxas apresentaram correlação negativa com a taxa de suicídios, ou seja, aparenta ser um indicativo de que onde há mais estruturas e atenção voltada ao tratamento da saúde mental, a taxa de suicídios tende a ser menor. Neste ponto é necessário destacar que muitas correlações tem pouca significância, sendo válido considerar a possibilidade de algumas serem indepentes a taxa de suicídios, ou seja, aumentar a quantidade de unidades psiquiátricas e as instalações comunitárias pode ter efeito praticamente independente com a taxa de suicídios (não correlacionado)."
      ]
    },
    {
      "cell_type": "code",
      "metadata": {
        "colab": {
          "base_uri": "https://localhost:8080/"
        },
        "id": "WrASJRoKE22j",
        "outputId": "1a987536-2514-4419-fa16-2846934873eb"
      },
      "source": [
        "# Exibindo a correlação das demais variáveis com a quantidade (taxa) de hospitais de saúde mental para a América Latina\n",
        "corr_taxaSuic = cor1['Taxa de suicídios (2016)']\n",
        "print(corr_taxaSuic)"
      ],
      "execution_count": null,
      "outputs": [
        {
          "output_type": "stream",
          "text": [
            "Taxa de hospitais psiquiátricos               -0.206506\n",
            "Taxa de unidades psiquiátricas em hospitais   -0.030735\n",
            "Taxa de ambulatórios psiquiátricos            -0.175358\n",
            "Taxa de tratamentos psiquiátricos diários     -0.325219\n",
            "Taxa de instalações comunitárias              -0.032776\n",
            "Taxa de suicídios (2016)                       1.000000\n",
            "Name: Taxa de suicídios (2016), dtype: float64\n"
          ],
          "name": "stdout"
        }
      ]
    },
    {
      "cell_type": "code",
      "metadata": {
        "colab": {
          "base_uri": "https://localhost:8080/"
        },
        "id": "b-uICcUBE3YD",
        "outputId": "68e78e8c-944f-4278-a3b8-b210972a496e"
      },
      "source": [
        "# Seleção das características altamente correlacionadas, com nível de correlação maior que 0,5\n",
        "alta_corr = corr_taxaSuic[(abs(corr_taxaSuic) > 0.5)] \n",
        "print(alta_corr)\n"
      ],
      "execution_count": null,
      "outputs": [
        {
          "output_type": "stream",
          "text": [
            "Taxa de suicídios (2016)    1.0\n",
            "Name: Taxa de suicídios (2016), dtype: float64\n"
          ],
          "name": "stdout"
        }
      ]
    },
    {
      "cell_type": "markdown",
      "metadata": {
        "id": "IMt35OiQH2pl"
      },
      "source": [
        "Ou seja, pelo resultado observado, não houve nenhuma outra variável altamente positivamente correlacionada com a taxa de quantiadade de suicídios nos países da América Latina."
      ]
    },
    {
      "cell_type": "code",
      "metadata": {
        "colab": {
          "base_uri": "https://localhost:8080/"
        },
        "id": "-C7kIN09_yOm",
        "outputId": "87d3f62c-4689-4ed2-8f34-89f40e318009"
      },
      "source": [
        "#exibição de um gráfico de correlação para os países ricos selecionados\n",
        "\n",
        "plt.figure (figsize = (6,5)) \n",
        "cor2 = dfSM_PPC.corr () \n",
        "sns.heatmap (cor2, annot = True, cmap = plt.cm.Reds) \n",
        "plt.show ()"
      ],
      "execution_count": null,
      "outputs": [
        {
          "output_type": "display_data",
          "data": {
            "image/png": "[encoded data removed]",
            "text/plain": [
              "<Figure size 432x360 with 2 Axes>"
            ]
          },
          "metadata": {
            "tags": [],
            "needs_background": "light"
          }
        }
      ]
    },
    {
      "cell_type": "code",
      "metadata": {
        "colab": {
          "base_uri": "https://localhost:8080/"
        },
        "id": "4BlpjhAjckn-",
        "outputId": "2e3f82c2-e98c-4d72-ca05-39aeb1d4fb7e"
      },
      "source": [
        "# Exibindo a correlação das demais variáveis com a quantidade (taxa) de hospitais de saúde mental para os países ricos selecionados\n",
        "corr_taxaSuic2 = cor2['Taxa de suicídios (2016)']\n",
        "print(corr_taxaSuic2)"
      ],
      "execution_count": null,
      "outputs": [
        {
          "output_type": "stream",
          "text": [
            "Taxa de hospitais psiquiátricos                0.616966\n",
            "Taxa de unidades psiquiátricas em hospitais    0.765397\n",
            "Taxa de ambulatórios psiquiátricos             0.624882\n",
            "Taxa de tratamentos psiquiátricos diários      0.972108\n",
            "Taxa de instalações comunitárias               0.448648\n",
            "Taxa de suicídios (2016)                       1.000000\n",
            "Name: Taxa de suicídios (2016), dtype: float64\n"
          ],
          "name": "stdout"
        }
      ]
    },
    {
      "cell_type": "code",
      "metadata": {
        "colab": {
          "base_uri": "https://localhost:8080/"
        },
        "id": "58VV18rjc-p6",
        "outputId": "7aa63222-0a25-47ae-fbbc-e8655adc1225"
      },
      "source": [
        "# Seleção das características altamente correlacionadas, com nível de correlação maior que 0,5\n",
        "alta_corr2 = corr_taxaSuic2[(abs(corr_taxaSuic2) > 0.5)] \n",
        "print(alta_corr2)"
      ],
      "execution_count": null,
      "outputs": [
        {
          "output_type": "stream",
          "text": [
            "Taxa de hospitais psiquiátricos                0.616966\n",
            "Taxa de unidades psiquiátricas em hospitais    0.765397\n",
            "Taxa de ambulatórios psiquiátricos             0.624882\n",
            "Taxa de tratamentos psiquiátricos diários      0.972108\n",
            "Taxa de suicídios (2016)                       1.000000\n",
            "Name: Taxa de suicídios (2016), dtype: float64\n"
          ],
          "name": "stdout"
        }
      ]
    },
    {
      "cell_type": "markdown",
      "metadata": {
        "id": "wlzF13LsDoaP"
      },
      "source": [
        "Pelo resultado observado, para os países ricos selecionados, as taxas de hospitais, unidades psiquiátricas, ambulatórios e tratamentos diários, tem uma alta correlação positiva com a taxa de suicídios para o ano de 2016. Ou seja, há indício de que os países ricos, por apresentarem elevadas taxas de suicídio ao longo dos anos, vem investindo em estruturas de tratamento e atendimento psicológico e psiquiátrico.\n",
        "\n",
        "Conforme observado no gráfico das taxas de suicídio para homens e mulheres ao longo dos anos de 2000, 2010 e 2019, o número de suicídios para os países ricos vem caindo."
      ]
    },
    {
      "cell_type": "markdown",
      "metadata": {
        "id": "jiodWhtk1N84"
      },
      "source": [
        "###Utilização da biblioteca Plotly para visualização de dados"
      ]
    },
    {
      "cell_type": "code",
      "metadata": {
        "id": "-c245GkB1FR8"
      },
      "source": [
        "#importando o pacote offline da biblioteca\n",
        "from plotly.offline import iplot\n",
        "import plotly.graph_objs as go\n",
        "\n",
        "#importando plotly express\n",
        "import plotly.express as px"
      ],
      "execution_count": null,
      "outputs": []
    },
    {
      "cell_type": "markdown",
      "metadata": {
        "id": "uexdojJD1zHj"
      },
      "source": [
        "- Gráfico de Dispersão"
      ]
    },
    {
      "cell_type": "code",
      "metadata": {
        "colab": {
          "base_uri": "https://localhost:8080/",
          "height": 542
        },
        "id": "U15SINfG-CWf",
        "outputId": "751595aa-ac9d-4dfe-a1ad-89fe54b4c4af"
      },
      "source": [
        "#gráfico de dispersão países América Latina\n",
        "graf8 = go.Scatter(x = dfSM_AL['Taxa de hospitais psiquiátricos'],\n",
        "                   y = dfSM_AL['Taxa de suicídios (2016)'],\n",
        "                   mode='markers',\n",
        "                   marker = dict(color= '#55D6BE')\n",
        "                   )\n",
        "#gráfico de dispersão países ricos\n",
        "graf9 = go.Scatter(x = dfSM_PPC['Taxa de hospitais psiquiátricos'],\n",
        "                   y = dfSM_PPC['Taxa de suicídios (2016)'],\n",
        "                   mode='markers',\n",
        "                   marker = dict(color= '#ED07CB')\n",
        "                   )\n",
        "\n",
        "datatotal = [graf8, graf9]\n",
        "\n",
        "conf_layout = go.Layout(title={\n",
        "                  'text': \"Taxas de suicídio para países da América Latina em 2019\",\n",
        "                  'y':0.9,\n",
        "                  'x':0.5,\n",
        "                  'xanchor': 'center',\n",
        "                  'yanchor': 'top'},\n",
        "                   xaxis={'title':'Taxa de hospitais psiquiátricos por 100 mil/hab'},\n",
        "                   yaxis={'title':'Taxa de suicídio por 100 mil/hab'},\n",
        "                   font={\n",
        "                  'family':\"Arial, monospace\",\n",
        "                  'size':12,\n",
        "                  'color':\"#525252\"}\n",
        "  )\n",
        "\n",
        "fig = go.Figure(data=datatotal, layout=conf_layout)\n",
        "\n",
        "iplot(fig)"
      ],
      "execution_count": null,
      "outputs": [
        {
          "output_type": "display_data",
          "data": {
            "text/html": [
              "<html>\n",
              "<head><meta charset=\"utf-8\" /></head>\n",
              "<body>\n",
              "    <div>\n",
              "            <script src=\"https://cdnjs.cloudflare.com/ajax/libs/mathjax/2.7.5/MathJax.js?config=TeX-AMS-MML_SVG\"></script><script type=\"text/javascript\">if (window.MathJax) {MathJax.Hub.Config({SVG: {font: \"STIX-Web\"}});}</script>\n",
              "                <script type=\"text/javascript\">window.PlotlyConfig = {MathJaxConfig: 'local'};</script>\n",
              "        <script src=\"https://cdn.plot.ly/plotly-latest.min.js\"></script>    \n",
              "            <div id=\"d4c08504-ced4-4066-8d7c-5c60b05c3716\" class=\"plotly-graph-div\" style=\"height:525px; width:100%;\"></div>\n",
              "            <script type=\"text/javascript\">\n",
              "                \n",
              "                    window.PLOTLYENV=window.PLOTLYENV || {};\n",
              "                    \n",
              "                if (document.getElementById(\"d4c08504-ced4-4066-8d7c-5c60b05c3716\")) {\n",
              "                    Plotly.newPlot(\n",
              "                        'd4c08504-ced4-4066-8d7c-5c60b05c3716',\n",
              "                        [{\"marker\": {\"color\": \"#55D6BE\"}, \"mode\": \"markers\", \"type\": \"scatter\", \"x\": [1.001, 0.937, 0.259, 0.35200000000000004, null, 0.075, 0.069, 0.023, 1.9880000000000002, 0.042, 0.166, 0.025, 0.032, 0.9359999999999999, 0.006, 0.13, 0.019, 0.035, 0.028999999999999998, 0.016, 0.025, 0.03, 0.01, 0.564, 0.914, 0.07400000000000001, 0.321], \"y\": [0.5, 8.3, 3.6, 0.6, 5.8, 6.6, 6.0, 10.0, 4.2, 7.7, 13.4, 9.0, 5.7, 1.0, 5.7, 37.9, 9.8, 2.2, 5.6, 4.4, 3.3, 5.3, 2.6, 7.4, 0.7, 9.8, 21.1]}, {\"marker\": {\"color\": \"#ED07CB\"}, \"mode\": \"markers\", \"type\": \"scatter\", \"x\": [0.335, 8.314, 0.5770000000000001, 0.018000000000000002, 0.589, 0.011000000000000001, 0.18899999999999997], \"y\": [13.0, 17.5, 12.6, 9.1, 14.1, 6.0, 15.1]}],\n",
              "                        {\"font\": {\"color\": \"#525252\", \"family\": \"Arial, monospace\", \"size\": 12}, \"template\": {\"data\": {\"bar\": [{\"error_x\": {\"color\": \"#2a3f5f\"}, \"error_y\": {\"color\": \"#2a3f5f\"}, \"marker\": {\"line\": {\"color\": \"#E5ECF6\", \"width\": 0.5}}, \"type\": \"bar\"}], \"barpolar\": [{\"marker\": {\"line\": {\"color\": \"#E5ECF6\", \"width\": 0.5}}, \"type\": \"barpolar\"}], \"carpet\": [{\"aaxis\": {\"endlinecolor\": \"#2a3f5f\", \"gridcolor\": \"white\", \"linecolor\": \"white\", \"minorgridcolor\": \"white\", \"startlinecolor\": \"#2a3f5f\"}, \"baxis\": {\"endlinecolor\": \"#2a3f5f\", \"gridcolor\": \"white\", \"linecolor\": \"white\", \"minorgridcolor\": \"white\", \"startlinecolor\": \"#2a3f5f\"}, \"type\": \"carpet\"}], \"choropleth\": [{\"colorbar\": {\"outlinewidth\": 0, \"ticks\": \"\"}, \"type\": \"choropleth\"}], \"contour\": [{\"colorbar\": {\"outlinewidth\": 0, \"ticks\": \"\"}, \"colorscale\": [[0.0, \"#0d0887\"], [0.1111111111111111, \"#46039f\"], [0.2222222222222222, \"#7201a8\"], [0.3333333333333333, \"#9c179e\"], [0.4444444444444444, \"#bd3786\"], [0.5555555555555556, \"#d8576b\"], [0.6666666666666666, \"#ed7953\"], [0.7777777777777778, \"#fb9f3a\"], [0.8888888888888888, \"#fdca26\"], [1.0, \"#f0f921\"]], \"type\": \"contour\"}], \"contourcarpet\": [{\"colorbar\": {\"outlinewidth\": 0, \"ticks\": \"\"}, \"type\": \"contourcarpet\"}], \"heatmap\": [{\"colorbar\": {\"outlinewidth\": 0, \"ticks\": \"\"}, \"colorscale\": [[0.0, \"#0d0887\"], [0.1111111111111111, \"#46039f\"], [0.2222222222222222, \"#7201a8\"], [0.3333333333333333, \"#9c179e\"], [0.4444444444444444, \"#bd3786\"], [0.5555555555555556, \"#d8576b\"], [0.6666666666666666, \"#ed7953\"], [0.7777777777777778, \"#fb9f3a\"], [0.8888888888888888, \"#fdca26\"], [1.0, \"#f0f921\"]], \"type\": \"heatmap\"}], \"heatmapgl\": [{\"colorbar\": {\"outlinewidth\": 0, \"ticks\": \"\"}, \"colorscale\": [[0.0, \"#0d0887\"], [0.1111111111111111, \"#46039f\"], [0.2222222222222222, \"#7201a8\"], [0.3333333333333333, \"#9c179e\"], [0.4444444444444444, \"#bd3786\"], [0.5555555555555556, \"#d8576b\"], [0.6666666666666666, \"#ed7953\"], [0.7777777777777778, \"#fb9f3a\"], [0.8888888888888888, \"#fdca26\"], [1.0, \"#f0f921\"]], \"type\": \"heatmapgl\"}], \"histogram\": [{\"marker\": {\"colorbar\": {\"outlinewidth\": 0, \"ticks\": \"\"}}, \"type\": \"histogram\"}], \"histogram2d\": [{\"colorbar\": {\"outlinewidth\": 0, \"ticks\": \"\"}, \"colorscale\": [[0.0, \"#0d0887\"], [0.1111111111111111, \"#46039f\"], [0.2222222222222222, \"#7201a8\"], [0.3333333333333333, \"#9c179e\"], [0.4444444444444444, \"#bd3786\"], [0.5555555555555556, \"#d8576b\"], [0.6666666666666666, \"#ed7953\"], [0.7777777777777778, \"#fb9f3a\"], [0.8888888888888888, \"#fdca26\"], [1.0, \"#f0f921\"]], \"type\": \"histogram2d\"}], \"histogram2dcontour\": [{\"colorbar\": {\"outlinewidth\": 0, \"ticks\": \"\"}, \"colorscale\": [[0.0, \"#0d0887\"], [0.1111111111111111, \"#46039f\"], [0.2222222222222222, \"#7201a8\"], [0.3333333333333333, \"#9c179e\"], [0.4444444444444444, \"#bd3786\"], [0.5555555555555556, \"#d8576b\"], [0.6666666666666666, \"#ed7953\"], [0.7777777777777778, \"#fb9f3a\"], [0.8888888888888888, \"#fdca26\"], [1.0, \"#f0f921\"]], \"type\": \"histogram2dcontour\"}], \"mesh3d\": [{\"colorbar\": {\"outlinewidth\": 0, \"ticks\": \"\"}, \"type\": \"mesh3d\"}], \"parcoords\": [{\"line\": {\"colorbar\": {\"outlinewidth\": 0, \"ticks\": \"\"}}, \"type\": \"parcoords\"}], \"pie\": [{\"automargin\": true, \"type\": \"pie\"}], \"scatter\": [{\"marker\": {\"colorbar\": {\"outlinewidth\": 0, \"ticks\": \"\"}}, \"type\": \"scatter\"}], \"scatter3d\": [{\"line\": {\"colorbar\": {\"outlinewidth\": 0, \"ticks\": \"\"}}, \"marker\": {\"colorbar\": {\"outlinewidth\": 0, \"ticks\": \"\"}}, \"type\": \"scatter3d\"}], \"scattercarpet\": [{\"marker\": {\"colorbar\": {\"outlinewidth\": 0, \"ticks\": \"\"}}, \"type\": \"scattercarpet\"}], \"scattergeo\": [{\"marker\": {\"colorbar\": {\"outlinewidth\": 0, \"ticks\": \"\"}}, \"type\": \"scattergeo\"}], \"scattergl\": [{\"marker\": {\"colorbar\": {\"outlinewidth\": 0, \"ticks\": \"\"}}, \"type\": \"scattergl\"}], \"scattermapbox\": [{\"marker\": {\"colorbar\": {\"outlinewidth\": 0, \"ticks\": \"\"}}, \"type\": \"scattermapbox\"}], \"scatterpolar\": [{\"marker\": {\"colorbar\": {\"outlinewidth\": 0, \"ticks\": \"\"}}, \"type\": \"scatterpolar\"}], \"scatterpolargl\": [{\"marker\": {\"colorbar\": {\"outlinewidth\": 0, \"ticks\": \"\"}}, \"type\": \"scatterpolargl\"}], \"scatterternary\": [{\"marker\": {\"colorbar\": {\"outlinewidth\": 0, \"ticks\": \"\"}}, \"type\": \"scatterternary\"}], \"surface\": [{\"colorbar\": {\"outlinewidth\": 0, \"ticks\": \"\"}, \"colorscale\": [[0.0, \"#0d0887\"], [0.1111111111111111, \"#46039f\"], [0.2222222222222222, \"#7201a8\"], [0.3333333333333333, \"#9c179e\"], [0.4444444444444444, \"#bd3786\"], [0.5555555555555556, \"#d8576b\"], [0.6666666666666666, \"#ed7953\"], [0.7777777777777778, \"#fb9f3a\"], [0.8888888888888888, \"#fdca26\"], [1.0, \"#f0f921\"]], \"type\": \"surface\"}], \"table\": [{\"cells\": {\"fill\": {\"color\": \"#EBF0F8\"}, \"line\": {\"color\": \"white\"}}, \"header\": {\"fill\": {\"color\": \"#C8D4E3\"}, \"line\": {\"color\": \"white\"}}, \"type\": \"table\"}]}, \"layout\": {\"annotationdefaults\": {\"arrowcolor\": \"#2a3f5f\", \"arrowhead\": 0, \"arrowwidth\": 1}, \"coloraxis\": {\"colorbar\": {\"outlinewidth\": 0, \"ticks\": \"\"}}, \"colorscale\": {\"diverging\": [[0, \"#8e0152\"], [0.1, \"#c51b7d\"], [0.2, \"#de77ae\"], [0.3, \"#f1b6da\"], [0.4, \"#fde0ef\"], [0.5, \"#f7f7f7\"], [0.6, \"#e6f5d0\"], [0.7, \"#b8e186\"], [0.8, \"#7fbc41\"], [0.9, \"#4d9221\"], [1, \"#276419\"]], \"sequential\": [[0.0, \"#0d0887\"], [0.1111111111111111, \"#46039f\"], [0.2222222222222222, \"#7201a8\"], [0.3333333333333333, \"#9c179e\"], [0.4444444444444444, \"#bd3786\"], [0.5555555555555556, \"#d8576b\"], [0.6666666666666666, \"#ed7953\"], [0.7777777777777778, \"#fb9f3a\"], [0.8888888888888888, \"#fdca26\"], [1.0, \"#f0f921\"]], \"sequentialminus\": [[0.0, \"#0d0887\"], [0.1111111111111111, \"#46039f\"], [0.2222222222222222, \"#7201a8\"], [0.3333333333333333, \"#9c179e\"], [0.4444444444444444, \"#bd3786\"], [0.5555555555555556, \"#d8576b\"], [0.6666666666666666, \"#ed7953\"], [0.7777777777777778, \"#fb9f3a\"], [0.8888888888888888, \"#fdca26\"], [1.0, \"#f0f921\"]]}, \"colorway\": [\"#636efa\", \"#EF553B\", \"#00cc96\", \"#ab63fa\", \"#FFA15A\", \"#19d3f3\", \"#FF6692\", \"#B6E880\", \"#FF97FF\", \"#FECB52\"], \"font\": {\"color\": \"#2a3f5f\"}, \"geo\": {\"bgcolor\": \"white\", \"lakecolor\": \"white\", \"landcolor\": \"#E5ECF6\", \"showlakes\": true, \"showland\": true, \"subunitcolor\": \"white\"}, \"hoverlabel\": {\"align\": \"left\"}, \"hovermode\": \"closest\", \"mapbox\": {\"style\": \"light\"}, \"paper_bgcolor\": \"white\", \"plot_bgcolor\": \"#E5ECF6\", \"polar\": {\"angularaxis\": {\"gridcolor\": \"white\", \"linecolor\": \"white\", \"ticks\": \"\"}, \"bgcolor\": \"#E5ECF6\", \"radialaxis\": {\"gridcolor\": \"white\", \"linecolor\": \"white\", \"ticks\": \"\"}}, \"scene\": {\"xaxis\": {\"backgroundcolor\": \"#E5ECF6\", \"gridcolor\": \"white\", \"gridwidth\": 2, \"linecolor\": \"white\", \"showbackground\": true, \"ticks\": \"\", \"zerolinecolor\": \"white\"}, \"yaxis\": {\"backgroundcolor\": \"#E5ECF6\", \"gridcolor\": \"white\", \"gridwidth\": 2, \"linecolor\": \"white\", \"showbackground\": true, \"ticks\": \"\", \"zerolinecolor\": \"white\"}, \"zaxis\": {\"backgroundcolor\": \"#E5ECF6\", \"gridcolor\": \"white\", \"gridwidth\": 2, \"linecolor\": \"white\", \"showbackground\": true, \"ticks\": \"\", \"zerolinecolor\": \"white\"}}, \"shapedefaults\": {\"line\": {\"color\": \"#2a3f5f\"}}, \"ternary\": {\"aaxis\": {\"gridcolor\": \"white\", \"linecolor\": \"white\", \"ticks\": \"\"}, \"baxis\": {\"gridcolor\": \"white\", \"linecolor\": \"white\", \"ticks\": \"\"}, \"bgcolor\": \"#E5ECF6\", \"caxis\": {\"gridcolor\": \"white\", \"linecolor\": \"white\", \"ticks\": \"\"}}, \"title\": {\"x\": 0.05}, \"xaxis\": {\"automargin\": true, \"gridcolor\": \"white\", \"linecolor\": \"white\", \"ticks\": \"\", \"title\": {\"standoff\": 15}, \"zerolinecolor\": \"white\", \"zerolinewidth\": 2}, \"yaxis\": {\"automargin\": true, \"gridcolor\": \"white\", \"linecolor\": \"white\", \"ticks\": \"\", \"title\": {\"standoff\": 15}, \"zerolinecolor\": \"white\", \"zerolinewidth\": 2}}}, \"title\": {\"text\": \"Taxas de suic\\u00eddio para pa\\u00edses da Am\\u00e9rica Latina em 2019\", \"x\": 0.5, \"xanchor\": \"center\", \"y\": 0.9, \"yanchor\": \"top\"}, \"xaxis\": {\"title\": {\"text\": \"Taxa de hospitais psiqui\\u00e1tricos por 100 mil/hab\"}}, \"yaxis\": {\"title\": {\"text\": \"Taxa de suic\\u00eddio por 100 mil/hab\"}}},\n",
              "                        {\"responsive\": true}\n",
              "                    ).then(function(){\n",
              "                            \n",
              "var gd = document.getElementById('d4c08504-ced4-4066-8d7c-5c60b05c3716');\n",
              "var x = new MutationObserver(function (mutations, observer) {{\n",
              "        var display = window.getComputedStyle(gd).display;\n",
              "        if (!display || display === 'none') {{\n",
              "            console.log([gd, 'removed!']);\n",
              "            Plotly.purge(gd);\n",
              "            observer.disconnect();\n",
              "        }}\n",
              "}});\n",
              "\n",
              "// Listen for the removal of the full notebook cells\n",
              "var notebookContainer = gd.closest('#notebook-container');\n",
              "if (notebookContainer) {{\n",
              "    x.observe(notebookContainer, {childList: true});\n",
              "}}\n",
              "\n",
              "// Listen for the clearing of the current output cell\n",
              "var outputEl = gd.closest('.output');\n",
              "if (outputEl) {{\n",
              "    x.observe(outputEl, {childList: true});\n",
              "}}\n",
              "\n",
              "                        })\n",
              "                };\n",
              "                \n",
              "            </script>\n",
              "        </div>\n",
              "</body>\n",
              "</html>"
            ]
          },
          "metadata": {
            "tags": []
          }
        }
      ]
    },
    {
      "cell_type": "code",
      "metadata": {
        "colab": {
          "base_uri": "https://localhost:8080/",
          "height": 542
        },
        "id": "CBISlgLi2YP_",
        "outputId": "03869bfc-8e80-4865-b24f-84fcf3ab8439"
      },
      "source": [
        "fig = px.scatter(dfSM_AL, x=\"Taxa de hospitais psiquiátricos\", y=\"Taxa de suicídios (2016)\", color=\"País\",\n",
        "                 size='Taxa de suicídios (2016)')\n",
        "fig.show()"
      ],
      "execution_count": null,
      "outputs": [
        {
          "output_type": "display_data",
          "data": {
            "text/html": [
              "<html>\n",
              "<head><meta charset=\"utf-8\" /></head>\n",
              "<body>\n",
              "    <div>\n",
              "            <script src=\"https://cdnjs.cloudflare.com/ajax/libs/mathjax/2.7.5/MathJax.js?config=TeX-AMS-MML_SVG\"></script><script type=\"text/javascript\">if (window.MathJax) {MathJax.Hub.Config({SVG: {font: \"STIX-Web\"}});}</script>\n",
              "                <script type=\"text/javascript\">window.PlotlyConfig = {MathJaxConfig: 'local'};</script>\n",
              "        <script src=\"https://cdn.plot.ly/plotly-latest.min.js\"></script>    \n",
              "            <div id=\"db2e4d1c-3e0a-4aa2-b982-929c2f0f6839\" class=\"plotly-graph-div\" style=\"height:525px; width:100%;\"></div>\n",
              "            <script type=\"text/javascript\">\n",
              "                \n",
              "                    window.PLOTLYENV=window.PLOTLYENV || {};\n",
              "                    \n",
              "                if (document.getElementById(\"db2e4d1c-3e0a-4aa2-b982-929c2f0f6839\")) {\n",
              "                    Plotly.newPlot(\n",
              "                        'db2e4d1c-3e0a-4aa2-b982-929c2f0f6839',\n",
              "                        [{\"hoverlabel\": {\"namelength\": 0}, \"hovertemplate\": \"Pa\\u00eds=Antigua and Barbuda<br>Taxa de hospitais psiqui\\u00e1tricos=%{x}<br>Taxa de suic\\u00eddios (2016)=%{marker.size}\", \"legendgroup\": \"Pa\\u00eds=Antigua and Barbuda\", \"marker\": {\"color\": \"#636efa\", \"size\": [0.5], \"sizemode\": \"area\", \"sizeref\": 0.09475, \"symbol\": \"circle\"}, \"mode\": \"markers\", \"name\": \"Pa\\u00eds=Antigua and Barbuda\", \"showlegend\": true, \"type\": \"scatter\", \"x\": [1.001], \"xaxis\": \"x\", \"y\": [0.5], \"yaxis\": \"y\"}, {\"hoverlabel\": {\"namelength\": 0}, \"hovertemplate\": \"Pa\\u00eds=Argentina<br>Taxa de hospitais psiqui\\u00e1tricos=%{x}<br>Taxa de suic\\u00eddios (2016)=%{marker.size}\", \"legendgroup\": \"Pa\\u00eds=Argentina\", \"marker\": {\"color\": \"#EF553B\", \"size\": [8.3], \"sizemode\": \"area\", \"sizeref\": 0.09475, \"symbol\": \"circle\"}, \"mode\": \"markers\", \"name\": \"Pa\\u00eds=Argentina\", \"showlegend\": true, \"type\": \"scatter\", \"x\": [0.937], \"xaxis\": \"x\", \"y\": [8.3], \"yaxis\": \"y\"}, {\"hoverlabel\": {\"namelength\": 0}, \"hovertemplate\": \"Pa\\u00eds=Bahamas<br>Taxa de hospitais psiqui\\u00e1tricos=%{x}<br>Taxa de suic\\u00eddios (2016)=%{marker.size}\", \"legendgroup\": \"Pa\\u00eds=Bahamas\", \"marker\": {\"color\": \"#00cc96\", \"size\": [3.6], \"sizemode\": \"area\", \"sizeref\": 0.09475, \"symbol\": \"circle\"}, \"mode\": \"markers\", \"name\": \"Pa\\u00eds=Bahamas\", \"showlegend\": true, \"type\": \"scatter\", \"x\": [0.259], \"xaxis\": \"x\", \"y\": [3.6], \"yaxis\": \"y\"}, {\"hoverlabel\": {\"namelength\": 0}, \"hovertemplate\": \"Pa\\u00eds=Barbados<br>Taxa de hospitais psiqui\\u00e1tricos=%{x}<br>Taxa de suic\\u00eddios (2016)=%{marker.size}\", \"legendgroup\": \"Pa\\u00eds=Barbados\", \"marker\": {\"color\": \"#ab63fa\", \"size\": [0.6], \"sizemode\": \"area\", \"sizeref\": 0.09475, \"symbol\": \"circle\"}, \"mode\": \"markers\", \"name\": \"Pa\\u00eds=Barbados\", \"showlegend\": true, \"type\": \"scatter\", \"x\": [0.35200000000000004], \"xaxis\": \"x\", \"y\": [0.6], \"yaxis\": \"y\"}, {\"hoverlabel\": {\"namelength\": 0}, \"hovertemplate\": \"Pa\\u00eds=Belize<br>Taxa de hospitais psiqui\\u00e1tricos=%{x}<br>Taxa de suic\\u00eddios (2016)=%{marker.size}\", \"legendgroup\": \"Pa\\u00eds=Belize\", \"marker\": {\"color\": \"#FFA15A\", \"size\": [5.8], \"sizemode\": \"area\", \"sizeref\": 0.09475, \"symbol\": \"circle\"}, \"mode\": \"markers\", \"name\": \"Pa\\u00eds=Belize\", \"showlegend\": true, \"type\": \"scatter\", \"x\": [null], \"xaxis\": \"x\", \"y\": [5.8], \"yaxis\": \"y\"}, {\"hoverlabel\": {\"namelength\": 0}, \"hovertemplate\": \"Pa\\u00eds=Bolivia (Plurinational State of)<br>Taxa de hospitais psiqui\\u00e1tricos=%{x}<br>Taxa de suic\\u00eddios (2016)=%{marker.size}\", \"legendgroup\": \"Pa\\u00eds=Bolivia (Plurinational State of)\", \"marker\": {\"color\": \"#19d3f3\", \"size\": [6.6], \"sizemode\": \"area\", \"sizeref\": 0.09475, \"symbol\": \"circle\"}, \"mode\": \"markers\", \"name\": \"Pa\\u00eds=Bolivia (Plurinational State of)\", \"showlegend\": true, \"type\": \"scatter\", \"x\": [0.075], \"xaxis\": \"x\", \"y\": [6.6], \"yaxis\": \"y\"}, {\"hoverlabel\": {\"namelength\": 0}, \"hovertemplate\": \"Pa\\u00eds=Brazil<br>Taxa de hospitais psiqui\\u00e1tricos=%{x}<br>Taxa de suic\\u00eddios (2016)=%{marker.size}\", \"legendgroup\": \"Pa\\u00eds=Brazil\", \"marker\": {\"color\": \"#FF6692\", \"size\": [6.0], \"sizemode\": \"area\", \"sizeref\": 0.09475, \"symbol\": \"circle\"}, \"mode\": \"markers\", \"name\": \"Pa\\u00eds=Brazil\", \"showlegend\": true, \"type\": \"scatter\", \"x\": [0.069], \"xaxis\": \"x\", \"y\": [6.0], \"yaxis\": \"y\"}, {\"hoverlabel\": {\"namelength\": 0}, \"hovertemplate\": \"Pa\\u00eds=Chile<br>Taxa de hospitais psiqui\\u00e1tricos=%{x}<br>Taxa de suic\\u00eddios (2016)=%{marker.size}\", \"legendgroup\": \"Pa\\u00eds=Chile\", \"marker\": {\"color\": \"#B6E880\", \"size\": [10.0], \"sizemode\": \"area\", \"sizeref\": 0.09475, \"symbol\": \"circle\"}, \"mode\": \"markers\", \"name\": \"Pa\\u00eds=Chile\", \"showlegend\": true, \"type\": \"scatter\", \"x\": [0.023], \"xaxis\": \"x\", \"y\": [10.0], \"yaxis\": \"y\"}, {\"hoverlabel\": {\"namelength\": 0}, \"hovertemplate\": \"Pa\\u00eds=Colombia<br>Taxa de hospitais psiqui\\u00e1tricos=%{x}<br>Taxa de suic\\u00eddios (2016)=%{marker.size}\", \"legendgroup\": \"Pa\\u00eds=Colombia\", \"marker\": {\"color\": \"#FF97FF\", \"size\": [4.2], \"sizemode\": \"area\", \"sizeref\": 0.09475, \"symbol\": \"circle\"}, \"mode\": \"markers\", \"name\": \"Pa\\u00eds=Colombia\", \"showlegend\": true, \"type\": \"scatter\", \"x\": [1.9880000000000002], \"xaxis\": \"x\", \"y\": [4.2], \"yaxis\": \"y\"}, {\"hoverlabel\": {\"namelength\": 0}, \"hovertemplate\": \"Pa\\u00eds=Costa Rica<br>Taxa de hospitais psiqui\\u00e1tricos=%{x}<br>Taxa de suic\\u00eddios (2016)=%{marker.size}\", \"legendgroup\": \"Pa\\u00eds=Costa Rica\", \"marker\": {\"color\": \"#FECB52\", \"size\": [7.7], \"sizemode\": \"area\", \"sizeref\": 0.09475, \"symbol\": \"circle\"}, \"mode\": \"markers\", \"name\": \"Pa\\u00eds=Costa Rica\", \"showlegend\": true, \"type\": \"scatter\", \"x\": [0.042], \"xaxis\": \"x\", \"y\": [7.7], \"yaxis\": \"y\"}, {\"hoverlabel\": {\"namelength\": 0}, \"hovertemplate\": \"Pa\\u00eds=Cuba<br>Taxa de hospitais psiqui\\u00e1tricos=%{x}<br>Taxa de suic\\u00eddios (2016)=%{marker.size}\", \"legendgroup\": \"Pa\\u00eds=Cuba\", \"marker\": {\"color\": \"#636efa\", \"size\": [13.4], \"sizemode\": \"area\", \"sizeref\": 0.09475, \"symbol\": \"circle\"}, \"mode\": \"markers\", \"name\": \"Pa\\u00eds=Cuba\", \"showlegend\": true, \"type\": \"scatter\", \"x\": [0.166], \"xaxis\": \"x\", \"y\": [13.4], \"yaxis\": \"y\"}, {\"hoverlabel\": {\"namelength\": 0}, \"hovertemplate\": \"Pa\\u00eds=Ecuador<br>Taxa de hospitais psiqui\\u00e1tricos=%{x}<br>Taxa de suic\\u00eddios (2016)=%{marker.size}\", \"legendgroup\": \"Pa\\u00eds=Ecuador\", \"marker\": {\"color\": \"#EF553B\", \"size\": [9.0], \"sizemode\": \"area\", \"sizeref\": 0.09475, \"symbol\": \"circle\"}, \"mode\": \"markers\", \"name\": \"Pa\\u00eds=Ecuador\", \"showlegend\": true, \"type\": \"scatter\", \"x\": [0.025], \"xaxis\": \"x\", \"y\": [9.0], \"yaxis\": \"y\"}, {\"hoverlabel\": {\"namelength\": 0}, \"hovertemplate\": \"Pa\\u00eds=El Salvador<br>Taxa de hospitais psiqui\\u00e1tricos=%{x}<br>Taxa de suic\\u00eddios (2016)=%{marker.size}\", \"legendgroup\": \"Pa\\u00eds=El Salvador\", \"marker\": {\"color\": \"#00cc96\", \"size\": [5.7], \"sizemode\": \"area\", \"sizeref\": 0.09475, \"symbol\": \"circle\"}, \"mode\": \"markers\", \"name\": \"Pa\\u00eds=El Salvador\", \"showlegend\": true, \"type\": \"scatter\", \"x\": [0.032], \"xaxis\": \"x\", \"y\": [5.7], \"yaxis\": \"y\"}, {\"hoverlabel\": {\"namelength\": 0}, \"hovertemplate\": \"Pa\\u00eds=Grenada<br>Taxa de hospitais psiqui\\u00e1tricos=%{x}<br>Taxa de suic\\u00eddios (2016)=%{marker.size}\", \"legendgroup\": \"Pa\\u00eds=Grenada\", \"marker\": {\"color\": \"#ab63fa\", \"size\": [1.0], \"sizemode\": \"area\", \"sizeref\": 0.09475, \"symbol\": \"circle\"}, \"mode\": \"markers\", \"name\": \"Pa\\u00eds=Grenada\", \"showlegend\": true, \"type\": \"scatter\", \"x\": [0.9359999999999999], \"xaxis\": \"x\", \"y\": [1.0], \"yaxis\": \"y\"}, {\"hoverlabel\": {\"namelength\": 0}, \"hovertemplate\": \"Pa\\u00eds=Guatemala<br>Taxa de hospitais psiqui\\u00e1tricos=%{x}<br>Taxa de suic\\u00eddios (2016)=%{marker.size}\", \"legendgroup\": \"Pa\\u00eds=Guatemala\", \"marker\": {\"color\": \"#FFA15A\", \"size\": [5.7], \"sizemode\": \"area\", \"sizeref\": 0.09475, \"symbol\": \"circle\"}, \"mode\": \"markers\", \"name\": \"Pa\\u00eds=Guatemala\", \"showlegend\": true, \"type\": \"scatter\", \"x\": [0.006], \"xaxis\": \"x\", \"y\": [5.7], \"yaxis\": \"y\"}, {\"hoverlabel\": {\"namelength\": 0}, \"hovertemplate\": \"Pa\\u00eds=Guyana<br>Taxa de hospitais psiqui\\u00e1tricos=%{x}<br>Taxa de suic\\u00eddios (2016)=%{marker.size}\", \"legendgroup\": \"Pa\\u00eds=Guyana\", \"marker\": {\"color\": \"#19d3f3\", \"size\": [37.9], \"sizemode\": \"area\", \"sizeref\": 0.09475, \"symbol\": \"circle\"}, \"mode\": \"markers\", \"name\": \"Pa\\u00eds=Guyana\", \"showlegend\": true, \"type\": \"scatter\", \"x\": [0.13], \"xaxis\": \"x\", \"y\": [37.9], \"yaxis\": \"y\"}, {\"hoverlabel\": {\"namelength\": 0}, \"hovertemplate\": \"Pa\\u00eds=Haiti<br>Taxa de hospitais psiqui\\u00e1tricos=%{x}<br>Taxa de suic\\u00eddios (2016)=%{marker.size}\", \"legendgroup\": \"Pa\\u00eds=Haiti\", \"marker\": {\"color\": \"#FF6692\", \"size\": [9.8], \"sizemode\": \"area\", \"sizeref\": 0.09475, \"symbol\": \"circle\"}, \"mode\": \"markers\", \"name\": \"Pa\\u00eds=Haiti\", \"showlegend\": true, \"type\": \"scatter\", \"x\": [0.019], \"xaxis\": \"x\", \"y\": [9.8], \"yaxis\": \"y\"}, {\"hoverlabel\": {\"namelength\": 0}, \"hovertemplate\": \"Pa\\u00eds=Jamaica<br>Taxa de hospitais psiqui\\u00e1tricos=%{x}<br>Taxa de suic\\u00eddios (2016)=%{marker.size}\", \"legendgroup\": \"Pa\\u00eds=Jamaica\", \"marker\": {\"color\": \"#B6E880\", \"size\": [2.2], \"sizemode\": \"area\", \"sizeref\": 0.09475, \"symbol\": \"circle\"}, \"mode\": \"markers\", \"name\": \"Pa\\u00eds=Jamaica\", \"showlegend\": true, \"type\": \"scatter\", \"x\": [0.035], \"xaxis\": \"x\", \"y\": [2.2], \"yaxis\": \"y\"}, {\"hoverlabel\": {\"namelength\": 0}, \"hovertemplate\": \"Pa\\u00eds=Mexico<br>Taxa de hospitais psiqui\\u00e1tricos=%{x}<br>Taxa de suic\\u00eddios (2016)=%{marker.size}\", \"legendgroup\": \"Pa\\u00eds=Mexico\", \"marker\": {\"color\": \"#FF97FF\", \"size\": [5.6], \"sizemode\": \"area\", \"sizeref\": 0.09475, \"symbol\": \"circle\"}, \"mode\": \"markers\", \"name\": \"Pa\\u00eds=Mexico\", \"showlegend\": true, \"type\": \"scatter\", \"x\": [0.028999999999999998], \"xaxis\": \"x\", \"y\": [5.6], \"yaxis\": \"y\"}, {\"hoverlabel\": {\"namelength\": 0}, \"hovertemplate\": \"Pa\\u00eds=Nicaragua<br>Taxa de hospitais psiqui\\u00e1tricos=%{x}<br>Taxa de suic\\u00eddios (2016)=%{marker.size}\", \"legendgroup\": \"Pa\\u00eds=Nicaragua\", \"marker\": {\"color\": \"#FECB52\", \"size\": [4.4], \"sizemode\": \"area\", \"sizeref\": 0.09475, \"symbol\": \"circle\"}, \"mode\": \"markers\", \"name\": \"Pa\\u00eds=Nicaragua\", \"showlegend\": true, \"type\": \"scatter\", \"x\": [0.016], \"xaxis\": \"x\", \"y\": [4.4], \"yaxis\": \"y\"}, {\"hoverlabel\": {\"namelength\": 0}, \"hovertemplate\": \"Pa\\u00eds=Panama<br>Taxa de hospitais psiqui\\u00e1tricos=%{x}<br>Taxa de suic\\u00eddios (2016)=%{marker.size}\", \"legendgroup\": \"Pa\\u00eds=Panama\", \"marker\": {\"color\": \"#636efa\", \"size\": [3.3], \"sizemode\": \"area\", \"sizeref\": 0.09475, \"symbol\": \"circle\"}, \"mode\": \"markers\", \"name\": \"Pa\\u00eds=Panama\", \"showlegend\": true, \"type\": \"scatter\", \"x\": [0.025], \"xaxis\": \"x\", \"y\": [3.3], \"yaxis\": \"y\"}, {\"hoverlabel\": {\"namelength\": 0}, \"hovertemplate\": \"Pa\\u00eds=Paraguay<br>Taxa de hospitais psiqui\\u00e1tricos=%{x}<br>Taxa de suic\\u00eddios (2016)=%{marker.size}\", \"legendgroup\": \"Pa\\u00eds=Paraguay\", \"marker\": {\"color\": \"#EF553B\", \"size\": [5.3], \"sizemode\": \"area\", \"sizeref\": 0.09475, \"symbol\": \"circle\"}, \"mode\": \"markers\", \"name\": \"Pa\\u00eds=Paraguay\", \"showlegend\": true, \"type\": \"scatter\", \"x\": [0.03], \"xaxis\": \"x\", \"y\": [5.3], \"yaxis\": \"y\"}, {\"hoverlabel\": {\"namelength\": 0}, \"hovertemplate\": \"Pa\\u00eds=Peru<br>Taxa de hospitais psiqui\\u00e1tricos=%{x}<br>Taxa de suic\\u00eddios (2016)=%{marker.size}\", \"legendgroup\": \"Pa\\u00eds=Peru\", \"marker\": {\"color\": \"#00cc96\", \"size\": [2.6], \"sizemode\": \"area\", \"sizeref\": 0.09475, \"symbol\": \"circle\"}, \"mode\": \"markers\", \"name\": \"Pa\\u00eds=Peru\", \"showlegend\": true, \"type\": \"scatter\", \"x\": [0.01], \"xaxis\": \"x\", \"y\": [2.6], \"yaxis\": \"y\"}, {\"hoverlabel\": {\"namelength\": 0}, \"hovertemplate\": \"Pa\\u00eds=Saint Lucia<br>Taxa de hospitais psiqui\\u00e1tricos=%{x}<br>Taxa de suic\\u00eddios (2016)=%{marker.size}\", \"legendgroup\": \"Pa\\u00eds=Saint Lucia\", \"marker\": {\"color\": \"#ab63fa\", \"size\": [7.4], \"sizemode\": \"area\", \"sizeref\": 0.09475, \"symbol\": \"circle\"}, \"mode\": \"markers\", \"name\": \"Pa\\u00eds=Saint Lucia\", \"showlegend\": true, \"type\": \"scatter\", \"x\": [0.564], \"xaxis\": \"x\", \"y\": [7.4], \"yaxis\": \"y\"}, {\"hoverlabel\": {\"namelength\": 0}, \"hovertemplate\": \"Pa\\u00eds=Saint Vincent and the Grenadines<br>Taxa de hospitais psiqui\\u00e1tricos=%{x}<br>Taxa de suic\\u00eddios (2016)=%{marker.size}\", \"legendgroup\": \"Pa\\u00eds=Saint Vincent and the Grenadines\", \"marker\": {\"color\": \"#FFA15A\", \"size\": [0.7], \"sizemode\": \"area\", \"sizeref\": 0.09475, \"symbol\": \"circle\"}, \"mode\": \"markers\", \"name\": \"Pa\\u00eds=Saint Vincent and the Grenadines\", \"showlegend\": true, \"type\": \"scatter\", \"x\": [0.914], \"xaxis\": \"x\", \"y\": [0.7], \"yaxis\": \"y\"}, {\"hoverlabel\": {\"namelength\": 0}, \"hovertemplate\": \"Pa\\u00eds=Trinidad and Tobago<br>Taxa de hospitais psiqui\\u00e1tricos=%{x}<br>Taxa de suic\\u00eddios (2016)=%{marker.size}\", \"legendgroup\": \"Pa\\u00eds=Trinidad and Tobago\", \"marker\": {\"color\": \"#19d3f3\", \"size\": [9.8], \"sizemode\": \"area\", \"sizeref\": 0.09475, \"symbol\": \"circle\"}, \"mode\": \"markers\", \"name\": \"Pa\\u00eds=Trinidad and Tobago\", \"showlegend\": true, \"type\": \"scatter\", \"x\": [0.07400000000000001], \"xaxis\": \"x\", \"y\": [9.8], \"yaxis\": \"y\"}, {\"hoverlabel\": {\"namelength\": 0}, \"hovertemplate\": \"Pa\\u00eds=Uruguay<br>Taxa de hospitais psiqui\\u00e1tricos=%{x}<br>Taxa de suic\\u00eddios (2016)=%{marker.size}\", \"legendgroup\": \"Pa\\u00eds=Uruguay\", \"marker\": {\"color\": \"#FF6692\", \"size\": [21.1], \"sizemode\": \"area\", \"sizeref\": 0.09475, \"symbol\": \"circle\"}, \"mode\": \"markers\", \"name\": \"Pa\\u00eds=Uruguay\", \"showlegend\": true, \"type\": \"scatter\", \"x\": [0.321], \"xaxis\": \"x\", \"y\": [21.1], \"yaxis\": \"y\"}],\n",
              "                        {\"legend\": {\"itemsizing\": \"constant\", \"tracegroupgap\": 0}, \"margin\": {\"t\": 60}, \"template\": {\"data\": {\"bar\": [{\"error_x\": {\"color\": \"#2a3f5f\"}, \"error_y\": {\"color\": \"#2a3f5f\"}, \"marker\": {\"line\": {\"color\": \"#E5ECF6\", \"width\": 0.5}}, \"type\": \"bar\"}], \"barpolar\": [{\"marker\": {\"line\": {\"color\": \"#E5ECF6\", \"width\": 0.5}}, \"type\": \"barpolar\"}], \"carpet\": [{\"aaxis\": {\"endlinecolor\": \"#2a3f5f\", \"gridcolor\": \"white\", \"linecolor\": \"white\", \"minorgridcolor\": \"white\", \"startlinecolor\": \"#2a3f5f\"}, \"baxis\": {\"endlinecolor\": \"#2a3f5f\", \"gridcolor\": \"white\", \"linecolor\": \"white\", \"minorgridcolor\": \"white\", \"startlinecolor\": \"#2a3f5f\"}, \"type\": \"carpet\"}], \"choropleth\": [{\"colorbar\": {\"outlinewidth\": 0, \"ticks\": \"\"}, \"type\": \"choropleth\"}], \"contour\": [{\"colorbar\": {\"outlinewidth\": 0, \"ticks\": \"\"}, \"colorscale\": [[0.0, \"#0d0887\"], [0.1111111111111111, \"#46039f\"], [0.2222222222222222, \"#7201a8\"], [0.3333333333333333, \"#9c179e\"], [0.4444444444444444, \"#bd3786\"], [0.5555555555555556, \"#d8576b\"], [0.6666666666666666, \"#ed7953\"], [0.7777777777777778, \"#fb9f3a\"], [0.8888888888888888, \"#fdca26\"], [1.0, \"#f0f921\"]], \"type\": \"contour\"}], \"contourcarpet\": [{\"colorbar\": {\"outlinewidth\": 0, \"ticks\": \"\"}, \"type\": \"contourcarpet\"}], \"heatmap\": [{\"colorbar\": {\"outlinewidth\": 0, \"ticks\": \"\"}, \"colorscale\": [[0.0, \"#0d0887\"], [0.1111111111111111, \"#46039f\"], [0.2222222222222222, \"#7201a8\"], [0.3333333333333333, \"#9c179e\"], [0.4444444444444444, \"#bd3786\"], [0.5555555555555556, \"#d8576b\"], [0.6666666666666666, \"#ed7953\"], [0.7777777777777778, \"#fb9f3a\"], [0.8888888888888888, \"#fdca26\"], [1.0, \"#f0f921\"]], \"type\": \"heatmap\"}], \"heatmapgl\": [{\"colorbar\": {\"outlinewidth\": 0, \"ticks\": \"\"}, \"colorscale\": [[0.0, \"#0d0887\"], [0.1111111111111111, \"#46039f\"], [0.2222222222222222, \"#7201a8\"], [0.3333333333333333, \"#9c179e\"], [0.4444444444444444, \"#bd3786\"], [0.5555555555555556, \"#d8576b\"], [0.6666666666666666, \"#ed7953\"], [0.7777777777777778, \"#fb9f3a\"], [0.8888888888888888, \"#fdca26\"], [1.0, \"#f0f921\"]], \"type\": \"heatmapgl\"}], \"histogram\": [{\"marker\": {\"colorbar\": {\"outlinewidth\": 0, \"ticks\": \"\"}}, \"type\": \"histogram\"}], \"histogram2d\": [{\"colorbar\": {\"outlinewidth\": 0, \"ticks\": \"\"}, \"colorscale\": [[0.0, \"#0d0887\"], [0.1111111111111111, \"#46039f\"], [0.2222222222222222, \"#7201a8\"], [0.3333333333333333, \"#9c179e\"], [0.4444444444444444, \"#bd3786\"], [0.5555555555555556, \"#d8576b\"], [0.6666666666666666, \"#ed7953\"], [0.7777777777777778, \"#fb9f3a\"], [0.8888888888888888, \"#fdca26\"], [1.0, \"#f0f921\"]], \"type\": \"histogram2d\"}], \"histogram2dcontour\": [{\"colorbar\": {\"outlinewidth\": 0, \"ticks\": \"\"}, \"colorscale\": [[0.0, \"#0d0887\"], [0.1111111111111111, \"#46039f\"], [0.2222222222222222, \"#7201a8\"], [0.3333333333333333, \"#9c179e\"], [0.4444444444444444, \"#bd3786\"], [0.5555555555555556, \"#d8576b\"], [0.6666666666666666, \"#ed7953\"], [0.7777777777777778, \"#fb9f3a\"], [0.8888888888888888, \"#fdca26\"], [1.0, \"#f0f921\"]], \"type\": \"histogram2dcontour\"}], \"mesh3d\": [{\"colorbar\": {\"outlinewidth\": 0, \"ticks\": \"\"}, \"type\": \"mesh3d\"}], \"parcoords\": [{\"line\": {\"colorbar\": {\"outlinewidth\": 0, \"ticks\": \"\"}}, \"type\": \"parcoords\"}], \"pie\": [{\"automargin\": true, \"type\": \"pie\"}], \"scatter\": [{\"marker\": {\"colorbar\": {\"outlinewidth\": 0, \"ticks\": \"\"}}, \"type\": \"scatter\"}], \"scatter3d\": [{\"line\": {\"colorbar\": {\"outlinewidth\": 0, \"ticks\": \"\"}}, \"marker\": {\"colorbar\": {\"outlinewidth\": 0, \"ticks\": \"\"}}, \"type\": \"scatter3d\"}], \"scattercarpet\": [{\"marker\": {\"colorbar\": {\"outlinewidth\": 0, \"ticks\": \"\"}}, \"type\": \"scattercarpet\"}], \"scattergeo\": [{\"marker\": {\"colorbar\": {\"outlinewidth\": 0, \"ticks\": \"\"}}, \"type\": \"scattergeo\"}], \"scattergl\": [{\"marker\": {\"colorbar\": {\"outlinewidth\": 0, \"ticks\": \"\"}}, \"type\": \"scattergl\"}], \"scattermapbox\": [{\"marker\": {\"colorbar\": {\"outlinewidth\": 0, \"ticks\": \"\"}}, \"type\": \"scattermapbox\"}], \"scatterpolar\": [{\"marker\": {\"colorbar\": {\"outlinewidth\": 0, \"ticks\": \"\"}}, \"type\": \"scatterpolar\"}], \"scatterpolargl\": [{\"marker\": {\"colorbar\": {\"outlinewidth\": 0, \"ticks\": \"\"}}, \"type\": \"scatterpolargl\"}], \"scatterternary\": [{\"marker\": {\"colorbar\": {\"outlinewidth\": 0, \"ticks\": \"\"}}, \"type\": \"scatterternary\"}], \"surface\": [{\"colorbar\": {\"outlinewidth\": 0, \"ticks\": \"\"}, \"colorscale\": [[0.0, \"#0d0887\"], [0.1111111111111111, \"#46039f\"], [0.2222222222222222, \"#7201a8\"], [0.3333333333333333, \"#9c179e\"], [0.4444444444444444, \"#bd3786\"], [0.5555555555555556, \"#d8576b\"], [0.6666666666666666, \"#ed7953\"], [0.7777777777777778, \"#fb9f3a\"], [0.8888888888888888, \"#fdca26\"], [1.0, \"#f0f921\"]], \"type\": \"surface\"}], \"table\": [{\"cells\": {\"fill\": {\"color\": \"#EBF0F8\"}, \"line\": {\"color\": \"white\"}}, \"header\": {\"fill\": {\"color\": \"#C8D4E3\"}, \"line\": {\"color\": \"white\"}}, \"type\": \"table\"}]}, \"layout\": {\"annotationdefaults\": {\"arrowcolor\": \"#2a3f5f\", \"arrowhead\": 0, \"arrowwidth\": 1}, \"coloraxis\": {\"colorbar\": {\"outlinewidth\": 0, \"ticks\": \"\"}}, \"colorscale\": {\"diverging\": [[0, \"#8e0152\"], [0.1, \"#c51b7d\"], [0.2, \"#de77ae\"], [0.3, \"#f1b6da\"], [0.4, \"#fde0ef\"], [0.5, \"#f7f7f7\"], [0.6, \"#e6f5d0\"], [0.7, \"#b8e186\"], [0.8, \"#7fbc41\"], [0.9, \"#4d9221\"], [1, \"#276419\"]], \"sequential\": [[0.0, \"#0d0887\"], [0.1111111111111111, \"#46039f\"], [0.2222222222222222, \"#7201a8\"], [0.3333333333333333, \"#9c179e\"], [0.4444444444444444, \"#bd3786\"], [0.5555555555555556, \"#d8576b\"], [0.6666666666666666, \"#ed7953\"], [0.7777777777777778, \"#fb9f3a\"], [0.8888888888888888, \"#fdca26\"], [1.0, \"#f0f921\"]], \"sequentialminus\": [[0.0, \"#0d0887\"], [0.1111111111111111, \"#46039f\"], [0.2222222222222222, \"#7201a8\"], [0.3333333333333333, \"#9c179e\"], [0.4444444444444444, \"#bd3786\"], [0.5555555555555556, \"#d8576b\"], [0.6666666666666666, \"#ed7953\"], [0.7777777777777778, \"#fb9f3a\"], [0.8888888888888888, \"#fdca26\"], [1.0, \"#f0f921\"]]}, \"colorway\": [\"#636efa\", \"#EF553B\", \"#00cc96\", \"#ab63fa\", \"#FFA15A\", \"#19d3f3\", \"#FF6692\", \"#B6E880\", \"#FF97FF\", \"#FECB52\"], \"font\": {\"color\": \"#2a3f5f\"}, \"geo\": {\"bgcolor\": \"white\", \"lakecolor\": \"white\", \"landcolor\": \"#E5ECF6\", \"showlakes\": true, \"showland\": true, \"subunitcolor\": \"white\"}, \"hoverlabel\": {\"align\": \"left\"}, \"hovermode\": \"closest\", \"mapbox\": {\"style\": \"light\"}, \"paper_bgcolor\": \"white\", \"plot_bgcolor\": \"#E5ECF6\", \"polar\": {\"angularaxis\": {\"gridcolor\": \"white\", \"linecolor\": \"white\", \"ticks\": \"\"}, \"bgcolor\": \"#E5ECF6\", \"radialaxis\": {\"gridcolor\": \"white\", \"linecolor\": \"white\", \"ticks\": \"\"}}, \"scene\": {\"xaxis\": {\"backgroundcolor\": \"#E5ECF6\", \"gridcolor\": \"white\", \"gridwidth\": 2, \"linecolor\": \"white\", \"showbackground\": true, \"ticks\": \"\", \"zerolinecolor\": \"white\"}, \"yaxis\": {\"backgroundcolor\": \"#E5ECF6\", \"gridcolor\": \"white\", \"gridwidth\": 2, \"linecolor\": \"white\", \"showbackground\": true, \"ticks\": \"\", \"zerolinecolor\": \"white\"}, \"zaxis\": {\"backgroundcolor\": \"#E5ECF6\", \"gridcolor\": \"white\", \"gridwidth\": 2, \"linecolor\": \"white\", \"showbackground\": true, \"ticks\": \"\", \"zerolinecolor\": \"white\"}}, \"shapedefaults\": {\"line\": {\"color\": \"#2a3f5f\"}}, \"ternary\": {\"aaxis\": {\"gridcolor\": \"white\", \"linecolor\": \"white\", \"ticks\": \"\"}, \"baxis\": {\"gridcolor\": \"white\", \"linecolor\": \"white\", \"ticks\": \"\"}, \"bgcolor\": \"#E5ECF6\", \"caxis\": {\"gridcolor\": \"white\", \"linecolor\": \"white\", \"ticks\": \"\"}}, \"title\": {\"x\": 0.05}, \"xaxis\": {\"automargin\": true, \"gridcolor\": \"white\", \"linecolor\": \"white\", \"ticks\": \"\", \"title\": {\"standoff\": 15}, \"zerolinecolor\": \"white\", \"zerolinewidth\": 2}, \"yaxis\": {\"automargin\": true, \"gridcolor\": \"white\", \"linecolor\": \"white\", \"ticks\": \"\", \"title\": {\"standoff\": 15}, \"zerolinecolor\": \"white\", \"zerolinewidth\": 2}}}, \"xaxis\": {\"anchor\": \"y\", \"domain\": [0.0, 1.0], \"title\": {\"text\": \"Taxa de hospitais psiqui\\u00e1tricos\"}}, \"yaxis\": {\"anchor\": \"x\", \"domain\": [0.0, 1.0], \"title\": {\"text\": \"Taxa de suic\\u00eddios (2016)\"}}},\n",
              "                        {\"responsive\": true}\n",
              "                    ).then(function(){\n",
              "                            \n",
              "var gd = document.getElementById('db2e4d1c-3e0a-4aa2-b982-929c2f0f6839');\n",
              "var x = new MutationObserver(function (mutations, observer) {{\n",
              "        var display = window.getComputedStyle(gd).display;\n",
              "        if (!display || display === 'none') {{\n",
              "            console.log([gd, 'removed!']);\n",
              "            Plotly.purge(gd);\n",
              "            observer.disconnect();\n",
              "        }}\n",
              "}});\n",
              "\n",
              "// Listen for the removal of the full notebook cells\n",
              "var notebookContainer = gd.closest('#notebook-container');\n",
              "if (notebookContainer) {{\n",
              "    x.observe(notebookContainer, {childList: true});\n",
              "}}\n",
              "\n",
              "// Listen for the clearing of the current output cell\n",
              "var outputEl = gd.closest('.output');\n",
              "if (outputEl) {{\n",
              "    x.observe(outputEl, {childList: true});\n",
              "}}\n",
              "\n",
              "                        })\n",
              "                };\n",
              "                \n",
              "            </script>\n",
              "        </div>\n",
              "</body>\n",
              "</html>"
            ]
          },
          "metadata": {
            "tags": []
          }
        }
      ]
    },
    {
      "cell_type": "markdown",
      "metadata": {
        "id": "MID9q-9SSpJm"
      },
      "source": [
        "###Utilização de gráficos Plotly e envio em nuvem para edição no Chart Studio"
      ]
    },
    {
      "cell_type": "code",
      "metadata": {
        "id": "Kt2hH6aZTc_8"
      },
      "source": [
        "#importando o módulo do chart studio para exportar gráficos para nuvem\n",
        "import chart_studio\n",
        "import chart_studio.plotly as pyo\n",
        "import plotly.graph_objs as go"
      ],
      "execution_count": null,
      "outputs": []
    },
    {
      "cell_type": "markdown",
      "metadata": {
        "id": "uc_GLWfiGl0Y"
      },
      "source": [
        "A princípio, não serão enviados gráficos desta base de dados para o Chart Studio."
      ]
    }
  ]
}