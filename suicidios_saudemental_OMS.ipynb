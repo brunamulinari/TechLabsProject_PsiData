{
  "nbformat": 4,
  "nbformat_minor": 0,
  "metadata": {
    "colab": {
      "name": "suicidios_saudemental_OMS.ipynb",
      "provenance": [],
      "collapsed_sections": [],
      "authorship_tag": "ABX9TyMakzwsVKVCWY8j/KS/DunV",
      "include_colab_link": true
    },
    "kernelspec": {
      "name": "python3",
      "display_name": "Python 3"
    },
    "language_info": {
      "name": "python"
    }
  },
  "cells": [
    {
      "cell_type": "markdown",
      "metadata": {
        "id": "view-in-github",
        "colab_type": "text"
      },
      "source": [
        "<a href=\"https://colab.research.google.com/github/brunamulinari/TechLabsProject_PsiData/blob/main/suicidios_saudemental_OMS.ipynb\" target=\"_parent\"><img src=\"https://colab.research.google.com/assets/colab-badge.svg\" alt=\"Open In Colab\"/></a>"
      ]
    },
    {
      "cell_type": "markdown",
      "metadata": {
        "id": "EikBSQoFa_q4"
      },
      "source": [
        "**Dados da OMS sobre suicídio por países - de 2000 a 2020**"
      ]
    },
    {
      "cell_type": "markdown",
      "metadata": {
        "id": "oCpLddAgBo-H"
      },
      "source": [
        "# Seleção de dados da OMS sobre suicídio por países da América Latina, para comparação com países ricos (EUA, Alemanha e Japão) - de 2017 a 2019\n"
      ]
    },
    {
      "cell_type": "markdown",
      "metadata": {
        "id": "bmsxYWJxx4v6"
      },
      "source": [
        "A base original tem dados desde os anos 2000 até 2019, no entanto a intenção é utilizar apenas dos anos 2017 até 2019."
      ]
    },
    {
      "cell_type": "markdown",
      "metadata": {
        "id": "IZZI_TerBs7Z"
      },
      "source": [
        "A base também possui dados sobre todos os países, porém a intenção é capturar dados apenas dos países da América Latina e comparar com os dados de alguns outros países de primeiro mundo."
      ]
    },
    {
      "cell_type": "code",
      "metadata": {
        "id": "UWksBV0hbXd8"
      },
      "source": [
        "#Bibliotecas utilizadas\n",
        "import pandas as pd\n",
        "import numpy as np"
      ],
      "execution_count": 25,
      "outputs": []
    },
    {
      "cell_type": "code",
      "metadata": {
        "id": "VN3T06J0cl_B"
      },
      "source": [
        "#Importando base de dados .csv da OMS sobre a taxa de suicídios dos países do ano 2000 até 2020 \n",
        "\n",
        "#até aprender a usar a API:\n",
        "  #1 - subir os arquivos na lateral esquerda do google Colab\n",
        "  #2 - ou buscar outra forma de puxar os arquivos, através de um link do google drive\n",
        "\n",
        "suic00_20 = pd.read_csv('OMS-taxas-suicidio-paises-2000_2020.csv', header=1)\n",
        "#dica: df = pd.read_csv('dados.csv', sep=';', names=['nome_completo', 'idade'], header=0)\n"
      ],
      "execution_count": 26,
      "outputs": []
    },
    {
      "cell_type": "code",
      "metadata": {
        "colab": {
          "base_uri": "https://localhost:8080/",
          "height": 394
        },
        "id": "yOhi8RTSgHcW",
        "outputId": "a2e3ce5e-34d3-455e-f4ec-e66d56527caa"
      },
      "source": [
        "#Exibindo as 5 primeiras linhas\n",
        "\n",
        "suic00_20.head()"
      ],
      "execution_count": 27,
      "outputs": [
        {
          "output_type": "execute_result",
          "data": {
            "text/html": [
              "<div>\n",
              "<style scoped>\n",
              "    .dataframe tbody tr th:only-of-type {\n",
              "        vertical-align: middle;\n",
              "    }\n",
              "\n",
              "    .dataframe tbody tr th {\n",
              "        vertical-align: top;\n",
              "    }\n",
              "\n",
              "    .dataframe thead th {\n",
              "        text-align: right;\n",
              "    }\n",
              "</style>\n",
              "<table border=\"1\" class=\"dataframe\">\n",
              "  <thead>\n",
              "    <tr style=\"text-align: right;\">\n",
              "      <th></th>\n",
              "      <th>Country</th>\n",
              "      <th>Sex</th>\n",
              "      <th>2019</th>\n",
              "      <th>2018</th>\n",
              "      <th>2017</th>\n",
              "      <th>2016</th>\n",
              "      <th>2015</th>\n",
              "      <th>2014</th>\n",
              "      <th>2013</th>\n",
              "      <th>2012</th>\n",
              "      <th>2011</th>\n",
              "      <th>2010</th>\n",
              "      <th>2009</th>\n",
              "      <th>2008</th>\n",
              "      <th>2007</th>\n",
              "      <th>2006</th>\n",
              "      <th>2005</th>\n",
              "      <th>2004</th>\n",
              "      <th>2003</th>\n",
              "      <th>2002</th>\n",
              "      <th>2001</th>\n",
              "      <th>2000</th>\n",
              "    </tr>\n",
              "  </thead>\n",
              "  <tbody>\n",
              "    <tr>\n",
              "      <th>0</th>\n",
              "      <td>Afghanistan</td>\n",
              "      <td>Both sexes</td>\n",
              "      <td>4.1 [2.3-7.0]</td>\n",
              "      <td>4.1 [2.3-6.8]</td>\n",
              "      <td>4.1 [2.3-6.8]</td>\n",
              "      <td>4.0 [2.3-6.7]</td>\n",
              "      <td>4.0 [2.3-6.6]</td>\n",
              "      <td>3.9 [2.3-6.6]</td>\n",
              "      <td>4.0 [2.3-6.7]</td>\n",
              "      <td>4.0 [2.3-6.6]</td>\n",
              "      <td>4.1 [2.4-6.8]</td>\n",
              "      <td>4.3 [2.5-7.0]</td>\n",
              "      <td>4.4 [2.6-7.2]</td>\n",
              "      <td>4.6 [2.7-7.6]</td>\n",
              "      <td>4.8 [2.8-7.9]</td>\n",
              "      <td>4.9 [2.8-8.0]</td>\n",
              "      <td>5.0 [2.9-8.1]</td>\n",
              "      <td>5.0 [2.9-8.2]</td>\n",
              "      <td>5.0 [2.8-8.1]</td>\n",
              "      <td>5.0 [2.9-8.2]</td>\n",
              "      <td>5.0 [2.9-8.2]</td>\n",
              "      <td>4.9 [2.8-8.0]</td>\n",
              "    </tr>\n",
              "    <tr>\n",
              "      <th>1</th>\n",
              "      <td>Afghanistan</td>\n",
              "      <td>Male</td>\n",
              "      <td>4.6 [2.6-7.9]</td>\n",
              "      <td>4.6 [2.6-7.8]</td>\n",
              "      <td>4.6 [2.7-7.9]</td>\n",
              "      <td>4.4 [2.6-7.4]</td>\n",
              "      <td>4.3 [2.5-7.3]</td>\n",
              "      <td>4.2 [2.5-7.2]</td>\n",
              "      <td>4.3 [2.5-7.4]</td>\n",
              "      <td>4.3 [2.5-7.3]</td>\n",
              "      <td>4.5 [2.6-7.5]</td>\n",
              "      <td>4.6 [2.7-7.7]</td>\n",
              "      <td>4.8 [2.8-8.0]</td>\n",
              "      <td>5.1 [2.9-8.4]</td>\n",
              "      <td>5.3 [3.0-8.8]</td>\n",
              "      <td>5.4 [3.1-8.8]</td>\n",
              "      <td>5.4 [3.1-8.9]</td>\n",
              "      <td>5.4 [3.1-8.9]</td>\n",
              "      <td>5.3 [3.0-8.7]</td>\n",
              "      <td>5.4 [3.0-8.9]</td>\n",
              "      <td>5.2 [2.9-8.7]</td>\n",
              "      <td>5.0 [2.8-8.3]</td>\n",
              "    </tr>\n",
              "    <tr>\n",
              "      <th>2</th>\n",
              "      <td>Afghanistan</td>\n",
              "      <td>Female</td>\n",
              "      <td>3.6 [2.0-5.9]</td>\n",
              "      <td>3.5 [2.0-5.8]</td>\n",
              "      <td>3.4 [2.0-5.7]</td>\n",
              "      <td>3.6 [2.1-5.9]</td>\n",
              "      <td>3.6 [2.0-5.9]</td>\n",
              "      <td>3.6 [2.1-5.9]</td>\n",
              "      <td>3.7 [2.1-6.0]</td>\n",
              "      <td>3.7 [2.2-6.0]</td>\n",
              "      <td>3.8 [2.2-6.1]</td>\n",
              "      <td>3.9 [2.3-6.2]</td>\n",
              "      <td>4.0 [2.3-6.4]</td>\n",
              "      <td>4.2 [2.4-6.7]</td>\n",
              "      <td>4.3 [2.5-6.9]</td>\n",
              "      <td>4.4 [2.6-7.1]</td>\n",
              "      <td>4.5 [2.6-7.3]</td>\n",
              "      <td>4.6 [2.7-7.5]</td>\n",
              "      <td>4.6 [2.7-7.4]</td>\n",
              "      <td>4.6 [2.7-7.5]</td>\n",
              "      <td>4.8 [2.8-7.8]</td>\n",
              "      <td>4.8 [2.8-7.7]</td>\n",
              "    </tr>\n",
              "    <tr>\n",
              "      <th>3</th>\n",
              "      <td>Albania</td>\n",
              "      <td>Both sexes</td>\n",
              "      <td>4.3 [2.4-6.7]</td>\n",
              "      <td>4.5 [2.5-6.9]</td>\n",
              "      <td>4.7 [2.6-7.1]</td>\n",
              "      <td>4.7 [2.6-7.1]</td>\n",
              "      <td>4.8 [2.6-7.2]</td>\n",
              "      <td>5.0 [2.7-7.4]</td>\n",
              "      <td>5.3 [3.0-7.7]</td>\n",
              "      <td>5.2 [2.9-7.5]</td>\n",
              "      <td>7.9 [4.8-11.1]</td>\n",
              "      <td>7.8 [4.7-10.8]</td>\n",
              "      <td>8.1 [4.9-11.0]</td>\n",
              "      <td>8.2 [5.0-10.9]</td>\n",
              "      <td>8.1 [5.0-10.7]</td>\n",
              "      <td>7.8 [4.9-10.2]</td>\n",
              "      <td>7.5 [4.8-9.7]</td>\n",
              "      <td>4.8 [3.1-6.3]</td>\n",
              "      <td>4.8 [3.2-6.3]</td>\n",
              "      <td>4.6 [3.1-6.0]</td>\n",
              "      <td>4.5 [3.1-5.9]</td>\n",
              "      <td>4.9 [3.4-6.4]</td>\n",
              "    </tr>\n",
              "    <tr>\n",
              "      <th>4</th>\n",
              "      <td>Albania</td>\n",
              "      <td>Male</td>\n",
              "      <td>5.9 [3.1-9.3]</td>\n",
              "      <td>6.2 [3.2-9.6]</td>\n",
              "      <td>6.3 [3.3-9.9]</td>\n",
              "      <td>6.3 [3.2-9.7]</td>\n",
              "      <td>6.3 [3.2-9.6]</td>\n",
              "      <td>6.6 [3.4-10.0]</td>\n",
              "      <td>6.9 [3.5-10.3]</td>\n",
              "      <td>6.9 [3.5-10.1]</td>\n",
              "      <td>7.5 [3.9-10.7]</td>\n",
              "      <td>9.5 [5.0-13.4]</td>\n",
              "      <td>10.2 [5.3-14.0]</td>\n",
              "      <td>10.3 [5.5-14.0]</td>\n",
              "      <td>10.3 [5.6-13.9]</td>\n",
              "      <td>9.8 [5.4-13.0]</td>\n",
              "      <td>9.7 [5.5-12.8]</td>\n",
              "      <td>6.5 [3.8-8.5]</td>\n",
              "      <td>6.4 [3.8-8.3]</td>\n",
              "      <td>6.2 [3.9-8.1]</td>\n",
              "      <td>6.1 [3.9-8.0]</td>\n",
              "      <td>7.0 [4.6-9.2]</td>\n",
              "    </tr>\n",
              "  </tbody>\n",
              "</table>\n",
              "</div>"
            ],
            "text/plain": [
              "       Country         Sex  ...           2001           2000\n",
              "0  Afghanistan  Both sexes  ...  5.0 [2.9-8.2]  4.9 [2.8-8.0]\n",
              "1  Afghanistan        Male  ...  5.2 [2.9-8.7]  5.0 [2.8-8.3]\n",
              "2  Afghanistan      Female  ...  4.8 [2.8-7.8]  4.8 [2.8-7.7]\n",
              "3      Albania  Both sexes  ...  4.5 [3.1-5.9]  4.9 [3.4-6.4]\n",
              "4      Albania        Male  ...  6.1 [3.9-8.0]  7.0 [4.6-9.2]\n",
              "\n",
              "[5 rows x 22 columns]"
            ]
          },
          "metadata": {
            "tags": []
          },
          "execution_count": 27
        }
      ]
    },
    {
      "cell_type": "code",
      "metadata": {
        "colab": {
          "base_uri": "https://localhost:8080/",
          "height": 204
        },
        "id": "8szCjA-JzVT4",
        "outputId": "b3a400d0-c79e-4370-c128-ce545f5202a7"
      },
      "source": [
        "#excluir as colunas dos anos menores que 2017\n",
        "\n",
        "suic00_20 = suic00_20.drop(columns=['2016', '2015', '2014', '2013', '2012', '2011', '2010', '2009', '2008', \n",
        "                                    '2007', '2006', '2005', '2004', '2003', '2002', '2001', '2000'])\n",
        "suic00_20.head()"
      ],
      "execution_count": 28,
      "outputs": [
        {
          "output_type": "execute_result",
          "data": {
            "text/html": [
              "<div>\n",
              "<style scoped>\n",
              "    .dataframe tbody tr th:only-of-type {\n",
              "        vertical-align: middle;\n",
              "    }\n",
              "\n",
              "    .dataframe tbody tr th {\n",
              "        vertical-align: top;\n",
              "    }\n",
              "\n",
              "    .dataframe thead th {\n",
              "        text-align: right;\n",
              "    }\n",
              "</style>\n",
              "<table border=\"1\" class=\"dataframe\">\n",
              "  <thead>\n",
              "    <tr style=\"text-align: right;\">\n",
              "      <th></th>\n",
              "      <th>Country</th>\n",
              "      <th>Sex</th>\n",
              "      <th>2019</th>\n",
              "      <th>2018</th>\n",
              "      <th>2017</th>\n",
              "    </tr>\n",
              "  </thead>\n",
              "  <tbody>\n",
              "    <tr>\n",
              "      <th>0</th>\n",
              "      <td>Afghanistan</td>\n",
              "      <td>Both sexes</td>\n",
              "      <td>4.1 [2.3-7.0]</td>\n",
              "      <td>4.1 [2.3-6.8]</td>\n",
              "      <td>4.1 [2.3-6.8]</td>\n",
              "    </tr>\n",
              "    <tr>\n",
              "      <th>1</th>\n",
              "      <td>Afghanistan</td>\n",
              "      <td>Male</td>\n",
              "      <td>4.6 [2.6-7.9]</td>\n",
              "      <td>4.6 [2.6-7.8]</td>\n",
              "      <td>4.6 [2.7-7.9]</td>\n",
              "    </tr>\n",
              "    <tr>\n",
              "      <th>2</th>\n",
              "      <td>Afghanistan</td>\n",
              "      <td>Female</td>\n",
              "      <td>3.6 [2.0-5.9]</td>\n",
              "      <td>3.5 [2.0-5.8]</td>\n",
              "      <td>3.4 [2.0-5.7]</td>\n",
              "    </tr>\n",
              "    <tr>\n",
              "      <th>3</th>\n",
              "      <td>Albania</td>\n",
              "      <td>Both sexes</td>\n",
              "      <td>4.3 [2.4-6.7]</td>\n",
              "      <td>4.5 [2.5-6.9]</td>\n",
              "      <td>4.7 [2.6-7.1]</td>\n",
              "    </tr>\n",
              "    <tr>\n",
              "      <th>4</th>\n",
              "      <td>Albania</td>\n",
              "      <td>Male</td>\n",
              "      <td>5.9 [3.1-9.3]</td>\n",
              "      <td>6.2 [3.2-9.6]</td>\n",
              "      <td>6.3 [3.3-9.9]</td>\n",
              "    </tr>\n",
              "  </tbody>\n",
              "</table>\n",
              "</div>"
            ],
            "text/plain": [
              "       Country         Sex           2019           2018           2017\n",
              "0  Afghanistan  Both sexes  4.1 [2.3-7.0]  4.1 [2.3-6.8]  4.1 [2.3-6.8]\n",
              "1  Afghanistan        Male  4.6 [2.6-7.9]  4.6 [2.6-7.8]  4.6 [2.7-7.9]\n",
              "2  Afghanistan      Female  3.6 [2.0-5.9]  3.5 [2.0-5.8]  3.4 [2.0-5.7]\n",
              "3      Albania  Both sexes  4.3 [2.4-6.7]  4.5 [2.5-6.9]  4.7 [2.6-7.1]\n",
              "4      Albania        Male  5.9 [3.1-9.3]  6.2 [3.2-9.6]  6.3 [3.3-9.9]"
            ]
          },
          "metadata": {
            "tags": []
          },
          "execution_count": 28
        }
      ]
    },
    {
      "cell_type": "code",
      "metadata": {
        "id": "zARhJvHX6-t0"
      },
      "source": [
        "#seleção dos países da América Latina + 3 países ricos (EUA, Alemanha e Japão)\n",
        "\n",
        "lista = list(['Brazil', 'Antigua and Barbuda', 'Argentina', 'Bahamas', 'Barbados', 'Belize',\n",
        "              'Bolivia (Plurinational State of)', 'Chile', 'Colombia', 'Costa Rica', 'Cuba', 'Ecuador',\n",
        "              'El Salvador', 'Grenada', 'Guatemala', 'Guyana', 'Haiti', 'Jamaica', 'Mexico', 'Nicaragua', \n",
        "              'Panama', 'Paraguay', 'Peru', 'Saint Vincent and the Grenadines', 'Saint Lucia',\n",
        "              'Trinidad and Tobago', 'Uruguay', 'Venezuela (Bolivarian Republic of)', 'United States of America', 'Germany', 'Japan'])\n",
        "\n",
        "suic00_20 = suic00_20.loc[suic00_20['Country'].isin(lista)]"
      ],
      "execution_count": null,
      "outputs": []
    },
    {
      "cell_type": "code",
      "metadata": {
        "id": "1rRk2YjHevfK"
      },
      "source": [
        "#renomear os nomes das colunas 'Country' e 'Sex'\n",
        "\n",
        "suic00_20.rename(columns={'Country': 'País'}, inplace = True)\n",
        "suic00_20.rename(columns={'Sex': 'Sexo'}, inplace = True)"
      ],
      "execution_count": 35,
      "outputs": []
    },
    {
      "cell_type": "code",
      "metadata": {
        "colab": {
          "base_uri": "https://localhost:8080/",
          "height": 359
        },
        "id": "7pU5svvbZ15K",
        "outputId": "6170d9ea-fc18-43a1-a450-23430eca1de0"
      },
      "source": [
        "#exibir as mudanças com a seleção específica de dados\n",
        "\n",
        "suic00_20.head(10)"
      ],
      "execution_count": 36,
      "outputs": [
        {
          "output_type": "execute_result",
          "data": {
            "text/html": [
              "<div>\n",
              "<style scoped>\n",
              "    .dataframe tbody tr th:only-of-type {\n",
              "        vertical-align: middle;\n",
              "    }\n",
              "\n",
              "    .dataframe tbody tr th {\n",
              "        vertical-align: top;\n",
              "    }\n",
              "\n",
              "    .dataframe thead th {\n",
              "        text-align: right;\n",
              "    }\n",
              "</style>\n",
              "<table border=\"1\" class=\"dataframe\">\n",
              "  <thead>\n",
              "    <tr style=\"text-align: right;\">\n",
              "      <th></th>\n",
              "      <th>País</th>\n",
              "      <th>Sexo</th>\n",
              "      <th>2019</th>\n",
              "      <th>2018</th>\n",
              "      <th>2017</th>\n",
              "    </tr>\n",
              "  </thead>\n",
              "  <tbody>\n",
              "    <tr>\n",
              "      <th>12</th>\n",
              "      <td>Antigua and Barbuda</td>\n",
              "      <td>Both sexes</td>\n",
              "      <td>0.4 [0.3-0.6]</td>\n",
              "      <td>0.4 [0.3-0.5]</td>\n",
              "      <td>0.0 [0.0-0.0]</td>\n",
              "    </tr>\n",
              "    <tr>\n",
              "      <th>13</th>\n",
              "      <td>Antigua and Barbuda</td>\n",
              "      <td>Male</td>\n",
              "      <td>0.0 [0.0-0.0]</td>\n",
              "      <td>0.0 [0.0-0.0]</td>\n",
              "      <td>0.0 [0.0-0.0]</td>\n",
              "    </tr>\n",
              "    <tr>\n",
              "      <th>14</th>\n",
              "      <td>Antigua and Barbuda</td>\n",
              "      <td>Female</td>\n",
              "      <td>0.8 [0.5-1.1]</td>\n",
              "      <td>0.7 [0.5-1.0]</td>\n",
              "      <td>0.0 [0.0-0.0]</td>\n",
              "    </tr>\n",
              "    <tr>\n",
              "      <th>15</th>\n",
              "      <td>Argentina</td>\n",
              "      <td>Both sexes</td>\n",
              "      <td>8.4 [6.7-10.3]</td>\n",
              "      <td>9.2 [7.4-11.2]</td>\n",
              "      <td>8.9 [7.3-10.7]</td>\n",
              "    </tr>\n",
              "    <tr>\n",
              "      <th>16</th>\n",
              "      <td>Argentina</td>\n",
              "      <td>Male</td>\n",
              "      <td>13.7 [10.9-16.8]</td>\n",
              "      <td>15.1 [12.2-18.3]</td>\n",
              "      <td>14.5 [11.9-17.3]</td>\n",
              "    </tr>\n",
              "    <tr>\n",
              "      <th>17</th>\n",
              "      <td>Argentina</td>\n",
              "      <td>Female</td>\n",
              "      <td>3.3 [2.6-4.2]</td>\n",
              "      <td>3.6 [2.8-4.4]</td>\n",
              "      <td>3.5 [2.8-4.3]</td>\n",
              "    </tr>\n",
              "    <tr>\n",
              "      <th>30</th>\n",
              "      <td>Bahamas</td>\n",
              "      <td>Both sexes</td>\n",
              "      <td>3.5 [2.4-5.0]</td>\n",
              "      <td>3.5 [2.4-5.0]</td>\n",
              "      <td>3.4 [2.4-4.7]</td>\n",
              "    </tr>\n",
              "    <tr>\n",
              "      <th>31</th>\n",
              "      <td>Bahamas</td>\n",
              "      <td>Male</td>\n",
              "      <td>5.9 [4.1-8.4]</td>\n",
              "      <td>6.0 [4.2-8.4]</td>\n",
              "      <td>5.9 [4.1-8.1]</td>\n",
              "    </tr>\n",
              "    <tr>\n",
              "      <th>32</th>\n",
              "      <td>Bahamas</td>\n",
              "      <td>Female</td>\n",
              "      <td>1.3 [0.8-1.9]</td>\n",
              "      <td>1.2 [0.8-1.8]</td>\n",
              "      <td>1.1 [0.7-1.5]</td>\n",
              "    </tr>\n",
              "    <tr>\n",
              "      <th>39</th>\n",
              "      <td>Barbados</td>\n",
              "      <td>Both sexes</td>\n",
              "      <td>0.6 [0.4-0.8]</td>\n",
              "      <td>0.6 [0.4-0.8]</td>\n",
              "      <td>0.6 [0.4-0.8]</td>\n",
              "    </tr>\n",
              "  </tbody>\n",
              "</table>\n",
              "</div>"
            ],
            "text/plain": [
              "                   País        Sexo  ...              2018              2017\n",
              "12  Antigua and Barbuda  Both sexes  ...     0.4 [0.3-0.5]     0.0 [0.0-0.0]\n",
              "13  Antigua and Barbuda        Male  ...     0.0 [0.0-0.0]     0.0 [0.0-0.0]\n",
              "14  Antigua and Barbuda      Female  ...     0.7 [0.5-1.0]     0.0 [0.0-0.0]\n",
              "15            Argentina  Both sexes  ...    9.2 [7.4-11.2]    8.9 [7.3-10.7]\n",
              "16            Argentina        Male  ...  15.1 [12.2-18.3]  14.5 [11.9-17.3]\n",
              "17            Argentina      Female  ...     3.6 [2.8-4.4]     3.5 [2.8-4.3]\n",
              "30              Bahamas  Both sexes  ...     3.5 [2.4-5.0]     3.4 [2.4-4.7]\n",
              "31              Bahamas        Male  ...     6.0 [4.2-8.4]     5.9 [4.1-8.1]\n",
              "32              Bahamas      Female  ...     1.2 [0.8-1.8]     1.1 [0.7-1.5]\n",
              "39             Barbados  Both sexes  ...     0.6 [0.4-0.8]     0.6 [0.4-0.8]\n",
              "\n",
              "[10 rows x 5 columns]"
            ]
          },
          "metadata": {
            "tags": []
          },
          "execution_count": 36
        }
      ]
    },
    {
      "cell_type": "code",
      "metadata": {
        "colab": {
          "base_uri": "https://localhost:8080/"
        },
        "id": "8MN3NVaEb70y",
        "outputId": "f1d5fbd9-58f1-48aa-b3d7-084e64607e38"
      },
      "source": [
        "## Visualizando novo tamanho total do banco de dados\n",
        "\n",
        "suic00_20.shape"
      ],
      "execution_count": 32,
      "outputs": [
        {
          "output_type": "execute_result",
          "data": {
            "text/plain": [
              "(93, 5)"
            ]
          },
          "metadata": {
            "tags": []
          },
          "execution_count": 32
        }
      ]
    },
    {
      "cell_type": "markdown",
      "metadata": {
        "id": "aamdI77qf8Xv"
      },
      "source": [
        "Como mostra o resultado, agora a base de dados tem 93 linhas e 5 colunas"
      ]
    },
    {
      "cell_type": "code",
      "metadata": {
        "colab": {
          "base_uri": "https://localhost:8080/"
        },
        "id": "TFvYwj1PhwRY",
        "outputId": "e058e916-5799-40c5-af7b-f4493ba1577c"
      },
      "source": [
        "#Quantidade de dados em cada coluna, tipo de variável\n",
        "\n",
        "suic00_20.info()"
      ],
      "execution_count": 33,
      "outputs": [
        {
          "output_type": "stream",
          "text": [
            "<class 'pandas.core.frame.DataFrame'>\n",
            "Int64Index: 93 entries, 12 to 536\n",
            "Data columns (total 5 columns):\n",
            " #   Column   Non-Null Count  Dtype \n",
            "---  ------   --------------  ----- \n",
            " 0   Country  93 non-null     object\n",
            " 1   Sex      93 non-null     object\n",
            " 2   2019     93 non-null     object\n",
            " 3   2018     93 non-null     object\n",
            " 4   2017     93 non-null     object\n",
            "dtypes: object(5)\n",
            "memory usage: 4.4+ KB\n"
          ],
          "name": "stdout"
        }
      ]
    },
    {
      "cell_type": "markdown",
      "metadata": {
        "id": "SxXOHytjbT_5"
      },
      "source": [
        "Conforme observado, todas as variáveis são do tipo 'string' (object), no entanto, apenas as variáveis da coluna 'Country' precisam ser strings, pois são nomes de países. Agora as variáveis das colunas 'Sex' podem ser alteradas para 'int' uma vez que são categóricas. Nas colunas de anos podem ainda ter outro formato, de preferência numérico, e o melhor nesse caso seria para variáveis do tipo 'float' que comportam número decimais, uma vez que a taxa de homicídios por ano, é um número decimal."
      ]
    },
    {
      "cell_type": "code",
      "metadata": {
        "colab": {
          "base_uri": "https://localhost:8080/",
          "height": 135
        },
        "id": "28zoWpnM2d_9",
        "outputId": "44bb5a11-b12a-49a2-d221-7948b2b086f4"
      },
      "source": [
        "#tentativa de excluir os dados entre colchetes '[]' das variáveis\n",
        "\n",
        "#result = string.rstrip('/')\n",
        "suic00_20 = 2019.rstrip('[')\n",
        "suic00_20.head()"
      ],
      "execution_count": null,
      "outputs": [
        {
          "output_type": "error",
          "ename": "SyntaxError",
          "evalue": "ignored",
          "traceback": [
            "\u001b[0;36m  File \u001b[0;32m\"<ipython-input-22-6554a65eb723>\"\u001b[0;36m, line \u001b[0;32m4\u001b[0m\n\u001b[0;31m    suic00_20 = 2019.rstrip('[')\u001b[0m\n\u001b[0m                          ^\u001b[0m\n\u001b[0;31mSyntaxError\u001b[0m\u001b[0;31m:\u001b[0m invalid syntax\n"
          ]
        }
      ]
    },
    {
      "cell_type": "code",
      "metadata": {
        "id": "tOfx39S_kA9P"
      },
      "source": [
        "#tentativa de transformar as variáveis 'string' em 'inteiras' e 'float'"
      ],
      "execution_count": null,
      "outputs": []
    },
    {
      "cell_type": "code",
      "metadata": {
        "colab": {
          "base_uri": "https://localhost:8080/",
          "height": 173
        },
        "id": "97I0aS21kDrK",
        "outputId": "613be886-cbb0-4f79-b859-fe677de663f8"
      },
      "source": [
        "#estatísticas básicas sobre a base de dados\n",
        "\n",
        "suic00_20.describe(include=['object'])"
      ],
      "execution_count": 34,
      "outputs": [
        {
          "output_type": "execute_result",
          "data": {
            "text/html": [
              "<div>\n",
              "<style scoped>\n",
              "    .dataframe tbody tr th:only-of-type {\n",
              "        vertical-align: middle;\n",
              "    }\n",
              "\n",
              "    .dataframe tbody tr th {\n",
              "        vertical-align: top;\n",
              "    }\n",
              "\n",
              "    .dataframe thead th {\n",
              "        text-align: right;\n",
              "    }\n",
              "</style>\n",
              "<table border=\"1\" class=\"dataframe\">\n",
              "  <thead>\n",
              "    <tr style=\"text-align: right;\">\n",
              "      <th></th>\n",
              "      <th>Country</th>\n",
              "      <th>Sex</th>\n",
              "      <th>2019</th>\n",
              "      <th>2018</th>\n",
              "      <th>2017</th>\n",
              "    </tr>\n",
              "  </thead>\n",
              "  <tbody>\n",
              "    <tr>\n",
              "      <th>count</th>\n",
              "      <td>93</td>\n",
              "      <td>93</td>\n",
              "      <td>93</td>\n",
              "      <td>93</td>\n",
              "      <td>93</td>\n",
              "    </tr>\n",
              "    <tr>\n",
              "      <th>unique</th>\n",
              "      <td>31</td>\n",
              "      <td>3</td>\n",
              "      <td>92</td>\n",
              "      <td>87</td>\n",
              "      <td>88</td>\n",
              "    </tr>\n",
              "    <tr>\n",
              "      <th>top</th>\n",
              "      <td>Trinidad and Tobago</td>\n",
              "      <td>Female</td>\n",
              "      <td>0.6 [0.4-0.8]</td>\n",
              "      <td>0.0 [0.0-0.0]</td>\n",
              "      <td>0.0 [0.0-0.0]</td>\n",
              "    </tr>\n",
              "    <tr>\n",
              "      <th>freq</th>\n",
              "      <td>3</td>\n",
              "      <td>31</td>\n",
              "      <td>2</td>\n",
              "      <td>2</td>\n",
              "      <td>6</td>\n",
              "    </tr>\n",
              "  </tbody>\n",
              "</table>\n",
              "</div>"
            ],
            "text/plain": [
              "                    Country     Sex  ...           2018           2017\n",
              "count                    93      93  ...             93             93\n",
              "unique                   31       3  ...             87             88\n",
              "top     Trinidad and Tobago  Female  ...  0.0 [0.0-0.0]  0.0 [0.0-0.0]\n",
              "freq                      3      31  ...              2              6\n",
              "\n",
              "[4 rows x 5 columns]"
            ]
          },
          "metadata": {
            "tags": []
          },
          "execution_count": 34
        }
      ]
    },
    {
      "cell_type": "markdown",
      "metadata": {
        "id": "GNvZLP_i2Ykr"
      },
      "source": [
        "Breve descrição das estatísticas\n",
        "// **ainda precisa preencher**"
      ]
    },
    {
      "cell_type": "markdown",
      "metadata": {
        "id": "0fOuk09qzc4M"
      },
      "source": [
        "//aqui é necessário continuar a analisar a base de dados com outros comandos"
      ]
    },
    {
      "cell_type": "markdown",
      "metadata": {
        "id": "9d-uny9rB_e-"
      },
      "source": [
        "# Dados da OMS sobre estrutura de atendimento para saúde mental nos países do ano de 2016"
      ]
    },
    {
      "cell_type": "markdown",
      "metadata": {
        "id": "dVSOTTb5y-8-"
      },
      "source": [
        "Iniciando 2ª base de dados - dados da OMS sobre estrutura de atendimento para saúde mental nos países do ano de 2016"
      ]
    },
    {
      "cell_type": "code",
      "metadata": {
        "colab": {
          "base_uri": "https://localhost:8080/"
        },
        "id": "x25u28Ak4Rgs",
        "outputId": "1da41a4d-9f6f-4f5a-fea9-deb70da9d531"
      },
      "source": [
        "from google.colab import drive\n",
        "drive.mount('/content/gdrive')"
      ],
      "execution_count": 37,
      "outputs": [
        {
          "output_type": "stream",
          "text": [
            "Mounted at /content/gdrive\n"
          ],
          "name": "stdout"
        }
      ]
    },
    {
      "cell_type": "code",
      "metadata": {
        "colab": {
          "base_uri": "https://localhost:8080/"
        },
        "id": "N6yHzEg85eGu",
        "outputId": "ea2cbdf8-09c9-46c5-fa1c-994e5ef4a745"
      },
      "source": [
        "%cd /content/gdrive/My Drive/"
      ],
      "execution_count": 38,
      "outputs": [
        {
          "output_type": "stream",
          "text": [
            "/content/gdrive/My Drive\n"
          ],
          "name": "stdout"
        }
      ]
    },
    {
      "cell_type": "code",
      "metadata": {
        "id": "xoEIddxEzZKU"
      },
      "source": [
        "\n",
        "\n",
        "df_saudeM2016 = pd.read_csv(\"OMS-estruturas-de-saude-mental-paises_2016.csv\")"
      ],
      "execution_count": 39,
      "outputs": []
    },
    {
      "cell_type": "code",
      "metadata": {
        "colab": {
          "base_uri": "https://localhost:8080/",
          "height": 306
        },
        "id": "Qj4r4FWK35wT",
        "outputId": "75a1f1e0-7d82-4a8e-fcc7-b7b52b23fc0f"
      },
      "source": [
        "#Exibindo as 5 primeiras linhas \n",
        "df_saudeM2016.head()"
      ],
      "execution_count": 40,
      "outputs": [
        {
          "output_type": "execute_result",
          "data": {
            "text/html": [
              "<div>\n",
              "<style scoped>\n",
              "    .dataframe tbody tr th:only-of-type {\n",
              "        vertical-align: middle;\n",
              "    }\n",
              "\n",
              "    .dataframe tbody tr th {\n",
              "        vertical-align: top;\n",
              "    }\n",
              "\n",
              "    .dataframe thead th {\n",
              "        text-align: right;\n",
              "    }\n",
              "</style>\n",
              "<table border=\"1\" class=\"dataframe\">\n",
              "  <thead>\n",
              "    <tr style=\"text-align: right;\">\n",
              "      <th></th>\n",
              "      <th>Country</th>\n",
              "      <th>Year</th>\n",
              "      <th>Mental hospitals (per 100 000 population)</th>\n",
              "      <th>Mental health units in general hospitals (per 100 000 population)</th>\n",
              "      <th>Mental health outpatient facilities (per 100 000 population)</th>\n",
              "      <th>Mental health day treatment facilities (per 100 000 population)</th>\n",
              "      <th>Community residential facilities (per 100 000 population)</th>\n",
              "    </tr>\n",
              "  </thead>\n",
              "  <tbody>\n",
              "    <tr>\n",
              "      <th>0</th>\n",
              "      <td>Afghanistan</td>\n",
              "      <td>2016</td>\n",
              "      <td>0.003</td>\n",
              "      <td>0.012</td>\n",
              "      <td>0.006</td>\n",
              "      <td>NaN</td>\n",
              "      <td>NaN</td>\n",
              "    </tr>\n",
              "    <tr>\n",
              "      <th>1</th>\n",
              "      <td>Albania</td>\n",
              "      <td>2016</td>\n",
              "      <td>0.068</td>\n",
              "      <td>0.068</td>\n",
              "      <td>0.410</td>\n",
              "      <td>NaN</td>\n",
              "      <td>0.445</td>\n",
              "    </tr>\n",
              "    <tr>\n",
              "      <th>2</th>\n",
              "      <td>Algeria</td>\n",
              "      <td>2016</td>\n",
              "      <td>0.048</td>\n",
              "      <td>0.068</td>\n",
              "      <td>0.048</td>\n",
              "      <td>NaN</td>\n",
              "      <td>NaN</td>\n",
              "    </tr>\n",
              "    <tr>\n",
              "      <th>3</th>\n",
              "      <td>Angola</td>\n",
              "      <td>2016</td>\n",
              "      <td>0.011</td>\n",
              "      <td>NaN</td>\n",
              "      <td>NaN</td>\n",
              "      <td>NaN</td>\n",
              "      <td>0.014</td>\n",
              "    </tr>\n",
              "    <tr>\n",
              "      <th>4</th>\n",
              "      <td>Antigua and Barbuda</td>\n",
              "      <td>2016</td>\n",
              "      <td>1.001</td>\n",
              "      <td>NaN</td>\n",
              "      <td>NaN</td>\n",
              "      <td>NaN</td>\n",
              "      <td>NaN</td>\n",
              "    </tr>\n",
              "  </tbody>\n",
              "</table>\n",
              "</div>"
            ],
            "text/plain": [
              "               Country  ...  Community residential facilities (per 100 000 population)\n",
              "0          Afghanistan  ...                                                NaN        \n",
              "1              Albania  ...                                              0.445        \n",
              "2              Algeria  ...                                                NaN        \n",
              "3               Angola  ...                                              0.014        \n",
              "4  Antigua and Barbuda  ...                                                NaN        \n",
              "\n",
              "[5 rows x 7 columns]"
            ]
          },
          "metadata": {
            "tags": []
          },
          "execution_count": 40
        }
      ]
    },
    {
      "cell_type": "code",
      "metadata": {
        "id": "ngrvvXvRlDhS"
      },
      "source": [
        "#Alterar os nomes de colunas\n",
        "\n",
        "df_saudeM2016.rename(columns={'Country': 'País'}, inplace = True)\n",
        "df_saudeM2016.rename(columns={'Year': 'Ano'}, inplace = True)\n",
        "\n",
        "df_saudeM2016.rename(columns={'Mental hospitals (per 100 000 population)': 'Taxa de hospitais psiquiátricos'}, inplace = True)\n",
        "df_saudeM2016.rename(columns={'Mental health units in general hospitals (per 100 000 population)': 'Taxa de unidades psiquiátricas em hospitais'}, inplace = True)\n",
        "df_saudeM2016.rename(columns={'Mental health outpatient facilities (per 100 000 population)': 'Taxa de ambulatórios psiquiátricos'}, inplace = True)\n",
        "df_saudeM2016.rename(columns={'Mental health day treatment facilities (per 100 000 population)': 'Taxa de tratamentos psiquiátricos diários'}, inplace = True)\n",
        "df_saudeM2016.rename(columns={'Community residential facilities (per 100 000 population)': 'Taxa de instalações comunitárias'}, inplace = True)"
      ],
      "execution_count": 42,
      "outputs": []
    },
    {
      "cell_type": "code",
      "metadata": {
        "colab": {
          "base_uri": "https://localhost:8080/",
          "height": 83
        },
        "id": "Y2EeFomrqA9O",
        "outputId": "ebdcf7ad-34f5-403b-8e88-755a22bdfa8b"
      },
      "source": [
        "#visualizar mudanças nos nomes das colunas\n",
        "df_saudeM2016.head(0)"
      ],
      "execution_count": 45,
      "outputs": [
        {
          "output_type": "execute_result",
          "data": {
            "text/html": [
              "<div>\n",
              "<style scoped>\n",
              "    .dataframe tbody tr th:only-of-type {\n",
              "        vertical-align: middle;\n",
              "    }\n",
              "\n",
              "    .dataframe tbody tr th {\n",
              "        vertical-align: top;\n",
              "    }\n",
              "\n",
              "    .dataframe thead th {\n",
              "        text-align: right;\n",
              "    }\n",
              "</style>\n",
              "<table border=\"1\" class=\"dataframe\">\n",
              "  <thead>\n",
              "    <tr style=\"text-align: right;\">\n",
              "      <th></th>\n",
              "      <th>País</th>\n",
              "      <th>Ano</th>\n",
              "      <th>Taxa de hospitais psiquiátricos</th>\n",
              "      <th>Taxa de unidades psiquiátricas em hospitais</th>\n",
              "      <th>Taxa de ambulatórios psiquiátricos</th>\n",
              "      <th>Taxa de tratamentos psiquiátricos diários</th>\n",
              "      <th>Taxa de instalações comunitárias</th>\n",
              "    </tr>\n",
              "  </thead>\n",
              "  <tbody>\n",
              "  </tbody>\n",
              "</table>\n",
              "</div>"
            ],
            "text/plain": [
              "Empty DataFrame\n",
              "Columns: [País, Ano, Taxa de hospitais psiquiátricos, Taxa de unidades psiquiátricas em hospitais, Taxa de ambulatórios psiquiátricos, Taxa de tratamentos psiquiátricos diários, Taxa de instalações comunitárias]\n",
              "Index: []"
            ]
          },
          "metadata": {
            "tags": []
          },
          "execution_count": 45
        }
      ]
    },
    {
      "cell_type": "markdown",
      "metadata": {
        "id": "56NH0AXTqSlP"
      },
      "source": [
        "**Todas as taxas são relativas a quantidade por 100 mil habitantes.**"
      ]
    },
    {
      "cell_type": "code",
      "metadata": {
        "colab": {
          "base_uri": "https://localhost:8080/"
        },
        "id": "4eM2UskXABp7",
        "outputId": "b539f542-831d-4666-9d19-b756c865c58b"
      },
      "source": [
        "# Visualizando tamanho total do banco \n",
        "df_saudeM2016.shape"
      ],
      "execution_count": 46,
      "outputs": [
        {
          "output_type": "execute_result",
          "data": {
            "text/plain": [
              "(163, 7)"
            ]
          },
          "metadata": {
            "tags": []
          },
          "execution_count": 46
        }
      ]
    },
    {
      "cell_type": "markdown",
      "metadata": {
        "id": "SPlwo25qAl0R"
      },
      "source": [
        "De acordo com o comando executado o banco de dados tem 163 linhas e 7 colunas"
      ]
    },
    {
      "cell_type": "code",
      "metadata": {
        "id": "gj7-bcvuq2Ur"
      },
      "source": [
        "#seleção dos países da América Latina + 3 países ricos (EUA, Alemanha e Japão)\n",
        "\n",
        "lista2 = list(['Brazil', 'Antigua and Barbuda', 'Argentina', 'Bahamas', 'Barbados', 'Belize',\n",
        "              'Bolivia (Plurinational State of)', 'Chile', 'Colombia', 'Costa Rica', 'Cuba', 'Ecuador',\n",
        "              'El Salvador', 'Grenada', 'Guatemala', 'Guyana', 'Haiti', 'Jamaica', 'Mexico', 'Nicaragua', \n",
        "              'Panama', 'Paraguay', 'Peru', 'Saint Vincent and the Grenadines', 'Saint Lucia',\n",
        "              'Trinidad and Tobago', 'Uruguay', 'Venezuela (Bolivarian Republic of)', 'United States of America', 'Germany', 'Japan'])\n",
        "\n",
        "df_saudeM2016 = df_saudeM2016.loc[df_saudeM2016['País'].isin(lista2)]"
      ],
      "execution_count": 47,
      "outputs": []
    },
    {
      "cell_type": "code",
      "metadata": {
        "colab": {
          "base_uri": "https://localhost:8080/",
          "height": 444
        },
        "id": "Dp6XhwGEtIc4",
        "outputId": "dc61f6a5-e7b0-4bc0-8773-887375dba985"
      },
      "source": [
        "#visualizar mudanças a partir da seleção específica de países\n",
        "df_saudeM2016.head(10)"
      ],
      "execution_count": 48,
      "outputs": [
        {
          "output_type": "execute_result",
          "data": {
            "text/html": [
              "<div>\n",
              "<style scoped>\n",
              "    .dataframe tbody tr th:only-of-type {\n",
              "        vertical-align: middle;\n",
              "    }\n",
              "\n",
              "    .dataframe tbody tr th {\n",
              "        vertical-align: top;\n",
              "    }\n",
              "\n",
              "    .dataframe thead th {\n",
              "        text-align: right;\n",
              "    }\n",
              "</style>\n",
              "<table border=\"1\" class=\"dataframe\">\n",
              "  <thead>\n",
              "    <tr style=\"text-align: right;\">\n",
              "      <th></th>\n",
              "      <th>País</th>\n",
              "      <th>Ano</th>\n",
              "      <th>Taxa de hospitais psiquiátricos</th>\n",
              "      <th>Taxa de unidades psiquiátricas em hospitais</th>\n",
              "      <th>Taxa de ambulatórios psiquiátricos</th>\n",
              "      <th>Taxa de tratamentos psiquiátricos diários</th>\n",
              "      <th>Taxa de instalações comunitárias</th>\n",
              "    </tr>\n",
              "  </thead>\n",
              "  <tbody>\n",
              "    <tr>\n",
              "      <th>4</th>\n",
              "      <td>Antigua and Barbuda</td>\n",
              "      <td>2016</td>\n",
              "      <td>1.001</td>\n",
              "      <td>NaN</td>\n",
              "      <td>NaN</td>\n",
              "      <td>NaN</td>\n",
              "      <td>NaN</td>\n",
              "    </tr>\n",
              "    <tr>\n",
              "      <th>5</th>\n",
              "      <td>Argentina</td>\n",
              "      <td>2016</td>\n",
              "      <td>0.937</td>\n",
              "      <td>1.071</td>\n",
              "      <td>1.720</td>\n",
              "      <td>NaN</td>\n",
              "      <td>0.152</td>\n",
              "    </tr>\n",
              "    <tr>\n",
              "      <th>10</th>\n",
              "      <td>Bahamas</td>\n",
              "      <td>2015</td>\n",
              "      <td>0.259</td>\n",
              "      <td>0.259</td>\n",
              "      <td>0.517</td>\n",
              "      <td>0.259</td>\n",
              "      <td>NaN</td>\n",
              "    </tr>\n",
              "    <tr>\n",
              "      <th>13</th>\n",
              "      <td>Barbados</td>\n",
              "      <td>2015</td>\n",
              "      <td>0.352</td>\n",
              "      <td>0.352</td>\n",
              "      <td>4.574</td>\n",
              "      <td>NaN</td>\n",
              "      <td>0.704</td>\n",
              "    </tr>\n",
              "    <tr>\n",
              "      <th>16</th>\n",
              "      <td>Belize</td>\n",
              "      <td>2016</td>\n",
              "      <td>NaN</td>\n",
              "      <td>1.948</td>\n",
              "      <td>2.227</td>\n",
              "      <td>0.278</td>\n",
              "      <td>0.278</td>\n",
              "    </tr>\n",
              "    <tr>\n",
              "      <th>18</th>\n",
              "      <td>Bolivia (Plurinational State of)</td>\n",
              "      <td>2016</td>\n",
              "      <td>0.075</td>\n",
              "      <td>0.009</td>\n",
              "      <td>0.009</td>\n",
              "      <td>NaN</td>\n",
              "      <td>NaN</td>\n",
              "    </tr>\n",
              "    <tr>\n",
              "      <th>21</th>\n",
              "      <td>Brazil</td>\n",
              "      <td>2016</td>\n",
              "      <td>0.069</td>\n",
              "      <td>0.115</td>\n",
              "      <td>1.491</td>\n",
              "      <td>NaN</td>\n",
              "      <td>0.267</td>\n",
              "    </tr>\n",
              "    <tr>\n",
              "      <th>31</th>\n",
              "      <td>Chile</td>\n",
              "      <td>2016</td>\n",
              "      <td>0.023</td>\n",
              "      <td>0.175</td>\n",
              "      <td>0.839</td>\n",
              "      <td>0.315</td>\n",
              "      <td>1.171</td>\n",
              "    </tr>\n",
              "    <tr>\n",
              "      <th>33</th>\n",
              "      <td>Colombia</td>\n",
              "      <td>2016</td>\n",
              "      <td>1.988</td>\n",
              "      <td>0.222</td>\n",
              "      <td>0.292</td>\n",
              "      <td>NaN</td>\n",
              "      <td>NaN</td>\n",
              "    </tr>\n",
              "    <tr>\n",
              "      <th>37</th>\n",
              "      <td>Costa Rica</td>\n",
              "      <td>2016</td>\n",
              "      <td>0.042</td>\n",
              "      <td>0.042</td>\n",
              "      <td>1.706</td>\n",
              "      <td>0.125</td>\n",
              "      <td>0.042</td>\n",
              "    </tr>\n",
              "  </tbody>\n",
              "</table>\n",
              "</div>"
            ],
            "text/plain": [
              "                                País  ...  Taxa de instalações comunitárias\n",
              "4                Antigua and Barbuda  ...                               NaN\n",
              "5                          Argentina  ...                             0.152\n",
              "10                           Bahamas  ...                               NaN\n",
              "13                          Barbados  ...                             0.704\n",
              "16                            Belize  ...                             0.278\n",
              "18  Bolivia (Plurinational State of)  ...                               NaN\n",
              "21                            Brazil  ...                             0.267\n",
              "31                             Chile  ...                             1.171\n",
              "33                          Colombia  ...                               NaN\n",
              "37                        Costa Rica  ...                             0.042\n",
              "\n",
              "[10 rows x 7 columns]"
            ]
          },
          "metadata": {
            "tags": []
          },
          "execution_count": 48
        }
      ]
    },
    {
      "cell_type": "code",
      "metadata": {
        "colab": {
          "base_uri": "https://localhost:8080/"
        },
        "id": "GZU6RmjdtVXU",
        "outputId": "1fa4917f-1cef-433e-9efd-2025b3bf4aed"
      },
      "source": [
        "# Visualizando mudanças no tamanho total do banco \n",
        "df_saudeM2016.shape"
      ],
      "execution_count": 55,
      "outputs": [
        {
          "output_type": "execute_result",
          "data": {
            "text/plain": [
              "(30, 7)"
            ]
          },
          "metadata": {
            "tags": []
          },
          "execution_count": 55
        }
      ]
    },
    {
      "cell_type": "markdown",
      "metadata": {
        "id": "Qr2dTSaNtbSh"
      },
      "source": [
        "Conforme se observa, após a seleção específica de países da América Latina e de três países ricos (EUA, Alemanha e Japão), o número de linhas diminuiu para 30."
      ]
    },
    {
      "cell_type": "code",
      "metadata": {
        "id": "o_W-_L9eC7O1"
      },
      "source": [
        "#Transformar as variáveis da coluna 'Ano' que são do tipo inteiro para o \n",
        "#tipo string. Assim evita-se criar estatísticas a partir do numeral do ano\n",
        "\n",
        "df_saudeM2016['Ano'] = df_saudeM2016['Ano'].astype(str)"
      ],
      "execution_count": 63,
      "outputs": []
    },
    {
      "cell_type": "code",
      "metadata": {
        "colab": {
          "base_uri": "https://localhost:8080/"
        },
        "id": "0746XuAq89kA",
        "outputId": "282baf30-e91f-4bdc-cf98-cbd970cf7e6e"
      },
      "source": [
        "#Quantidade de dados em cada coluna, tipo de variável\n",
        "\n",
        "df_saudeM2016.info()"
      ],
      "execution_count": 64,
      "outputs": [
        {
          "output_type": "stream",
          "text": [
            "<class 'pandas.core.frame.DataFrame'>\n",
            "Int64Index: 30 entries, 4 to 156\n",
            "Data columns (total 7 columns):\n",
            " #   Column                                       Non-Null Count  Dtype  \n",
            "---  ------                                       --------------  -----  \n",
            " 0   País                                         30 non-null     object \n",
            " 1   Ano                                          30 non-null     object \n",
            " 2   Taxa de hospitais psiquiátricos              29 non-null     float64\n",
            " 3   Taxa de unidades psiquiátricas em hospitais  26 non-null     float64\n",
            " 4   Taxa de ambulatórios psiquiátricos           28 non-null     float64\n",
            " 5   Taxa de tratamentos psiquiátricos diários    15 non-null     float64\n",
            " 6   Taxa de instalações comunitárias             15 non-null     float64\n",
            "dtypes: float64(5), object(2)\n",
            "memory usage: 1.9+ KB\n"
          ],
          "name": "stdout"
        }
      ]
    },
    {
      "cell_type": "code",
      "metadata": {
        "colab": {
          "base_uri": "https://localhost:8080/",
          "height": 331
        },
        "id": "Gjh0eIIb9cyL",
        "outputId": "a9ab64da-dc48-4b61-dd30-f760b112d46b"
      },
      "source": [
        "#estatísticas básicas sobre a base de dados\n",
        "\n",
        "df_saudeM2016.describe()"
      ],
      "execution_count": 74,
      "outputs": [
        {
          "output_type": "execute_result",
          "data": {
            "text/html": [
              "<div>\n",
              "<style scoped>\n",
              "    .dataframe tbody tr th:only-of-type {\n",
              "        vertical-align: middle;\n",
              "    }\n",
              "\n",
              "    .dataframe tbody tr th {\n",
              "        vertical-align: top;\n",
              "    }\n",
              "\n",
              "    .dataframe thead th {\n",
              "        text-align: right;\n",
              "    }\n",
              "</style>\n",
              "<table border=\"1\" class=\"dataframe\">\n",
              "  <thead>\n",
              "    <tr style=\"text-align: right;\">\n",
              "      <th></th>\n",
              "      <th>Taxa de hospitais psiquiátricos</th>\n",
              "      <th>Taxa de unidades psiquiátricas em hospitais</th>\n",
              "      <th>Taxa de ambulatórios psiquiátricos</th>\n",
              "      <th>Taxa de tratamentos psiquiátricos diários</th>\n",
              "      <th>Taxa de instalações comunitárias</th>\n",
              "    </tr>\n",
              "  </thead>\n",
              "  <tbody>\n",
              "    <tr>\n",
              "      <th>count</th>\n",
              "      <td>29.000000</td>\n",
              "      <td>26.000000</td>\n",
              "      <td>28.000000</td>\n",
              "      <td>15.000000</td>\n",
              "      <td>15.000000</td>\n",
              "    </tr>\n",
              "    <tr>\n",
              "      <th>mean</th>\n",
              "      <td>0.583310</td>\n",
              "      <td>0.318962</td>\n",
              "      <td>2.583143</td>\n",
              "      <td>2.987800</td>\n",
              "      <td>0.594667</td>\n",
              "    </tr>\n",
              "    <tr>\n",
              "      <th>std</th>\n",
              "      <td>1.554114</td>\n",
              "      <td>0.435043</td>\n",
              "      <td>4.166354</td>\n",
              "      <td>9.101527</td>\n",
              "      <td>0.835805</td>\n",
              "    </tr>\n",
              "    <tr>\n",
              "      <th>min</th>\n",
              "      <td>0.006000</td>\n",
              "      <td>0.006000</td>\n",
              "      <td>0.009000</td>\n",
              "      <td>0.015000</td>\n",
              "      <td>0.006000</td>\n",
              "    </tr>\n",
              "    <tr>\n",
              "      <th>25%</th>\n",
              "      <td>0.029000</td>\n",
              "      <td>0.045750</td>\n",
              "      <td>0.284000</td>\n",
              "      <td>0.076500</td>\n",
              "      <td>0.037500</td>\n",
              "    </tr>\n",
              "    <tr>\n",
              "      <th>50%</th>\n",
              "      <td>0.075000</td>\n",
              "      <td>0.174000</td>\n",
              "      <td>1.127500</td>\n",
              "      <td>0.259000</td>\n",
              "      <td>0.267000</td>\n",
              "    </tr>\n",
              "    <tr>\n",
              "      <th>75%</th>\n",
              "      <td>0.352000</td>\n",
              "      <td>0.351250</td>\n",
              "      <td>2.755000</td>\n",
              "      <td>0.528500</td>\n",
              "      <td>0.937500</td>\n",
              "    </tr>\n",
              "    <tr>\n",
              "      <th>max</th>\n",
              "      <td>8.314000</td>\n",
              "      <td>1.948000</td>\n",
              "      <td>19.751000</td>\n",
              "      <td>35.631000</td>\n",
              "      <td>2.994000</td>\n",
              "    </tr>\n",
              "  </tbody>\n",
              "</table>\n",
              "</div>"
            ],
            "text/plain": [
              "       Taxa de hospitais psiquiátricos  ...  Taxa de instalações comunitárias\n",
              "count                        29.000000  ...                         15.000000\n",
              "mean                          0.583310  ...                          0.594667\n",
              "std                           1.554114  ...                          0.835805\n",
              "min                           0.006000  ...                          0.006000\n",
              "25%                           0.029000  ...                          0.037500\n",
              "50%                           0.075000  ...                          0.267000\n",
              "75%                           0.352000  ...                          0.937500\n",
              "max                           8.314000  ...                          2.994000\n",
              "\n",
              "[8 rows x 5 columns]"
            ]
          },
          "metadata": {
            "tags": []
          },
          "execution_count": 74
        }
      ]
    },
    {
      "cell_type": "markdown",
      "metadata": {
        "id": "6bVsOYKaBJ94"
      },
      "source": [
        "//escrever aqui breve análise observada a partir dos dados"
      ]
    },
    {
      "cell_type": "code",
      "metadata": {
        "colab": {
          "base_uri": "https://localhost:8080/",
          "height": 561
        },
        "id": "y7rVrGq1Hg6j",
        "outputId": "f130a886-00f6-4478-83aa-928cc5666621"
      },
      "source": [
        "#exibindo resultados para EUA, Alemanha e Japão, afim de comparar diferenças\n",
        "print(df_saudeM2016['Japan'])"
      ],
      "execution_count": 82,
      "outputs": [
        {
          "output_type": "error",
          "ename": "KeyError",
          "evalue": "ignored",
          "traceback": [
            "\u001b[0;31m---------------------------------------------------------------------------\u001b[0m",
            "\u001b[0;31mKeyError\u001b[0m                                  Traceback (most recent call last)",
            "\u001b[0;32m/usr/local/lib/python3.7/dist-packages/pandas/core/indexes/base.py\u001b[0m in \u001b[0;36mget_loc\u001b[0;34m(self, key, method, tolerance)\u001b[0m\n\u001b[1;32m   2897\u001b[0m             \u001b[0;32mtry\u001b[0m\u001b[0;34m:\u001b[0m\u001b[0;34m\u001b[0m\u001b[0;34m\u001b[0m\u001b[0m\n\u001b[0;32m-> 2898\u001b[0;31m                 \u001b[0;32mreturn\u001b[0m \u001b[0mself\u001b[0m\u001b[0;34m.\u001b[0m\u001b[0m_engine\u001b[0m\u001b[0;34m.\u001b[0m\u001b[0mget_loc\u001b[0m\u001b[0;34m(\u001b[0m\u001b[0mcasted_key\u001b[0m\u001b[0;34m)\u001b[0m\u001b[0;34m\u001b[0m\u001b[0;34m\u001b[0m\u001b[0m\n\u001b[0m\u001b[1;32m   2899\u001b[0m             \u001b[0;32mexcept\u001b[0m \u001b[0mKeyError\u001b[0m \u001b[0;32mas\u001b[0m \u001b[0merr\u001b[0m\u001b[0;34m:\u001b[0m\u001b[0;34m\u001b[0m\u001b[0;34m\u001b[0m\u001b[0m\n",
            "\u001b[0;32mpandas/_libs/index.pyx\u001b[0m in \u001b[0;36mpandas._libs.index.IndexEngine.get_loc\u001b[0;34m()\u001b[0m\n",
            "\u001b[0;32mpandas/_libs/index.pyx\u001b[0m in \u001b[0;36mpandas._libs.index.IndexEngine.get_loc\u001b[0;34m()\u001b[0m\n",
            "\u001b[0;32mpandas/_libs/hashtable_class_helper.pxi\u001b[0m in \u001b[0;36mpandas._libs.hashtable.PyObjectHashTable.get_item\u001b[0;34m()\u001b[0m\n",
            "\u001b[0;32mpandas/_libs/hashtable_class_helper.pxi\u001b[0m in \u001b[0;36mpandas._libs.hashtable.PyObjectHashTable.get_item\u001b[0;34m()\u001b[0m\n",
            "\u001b[0;31mKeyError\u001b[0m: 'Japan'",
            "\nThe above exception was the direct cause of the following exception:\n",
            "\u001b[0;31mKeyError\u001b[0m                                  Traceback (most recent call last)",
            "\u001b[0;32m<ipython-input-82-cb9c8b3d732d>\u001b[0m in \u001b[0;36m<module>\u001b[0;34m()\u001b[0m\n\u001b[1;32m      1\u001b[0m \u001b[0;31m#exibindo resultados para EUA, Alemanha e Japão, afim de comparar diferenças\u001b[0m\u001b[0;34m\u001b[0m\u001b[0;34m\u001b[0m\u001b[0;34m\u001b[0m\u001b[0m\n\u001b[0;32m----> 2\u001b[0;31m \u001b[0mprint\u001b[0m\u001b[0;34m(\u001b[0m\u001b[0mdf_saudeM2016\u001b[0m\u001b[0;34m[\u001b[0m\u001b[0;34m'Japan'\u001b[0m\u001b[0;34m]\u001b[0m\u001b[0;34m)\u001b[0m\u001b[0;34m\u001b[0m\u001b[0;34m\u001b[0m\u001b[0m\n\u001b[0m",
            "\u001b[0;32m/usr/local/lib/python3.7/dist-packages/pandas/core/frame.py\u001b[0m in \u001b[0;36m__getitem__\u001b[0;34m(self, key)\u001b[0m\n\u001b[1;32m   2904\u001b[0m             \u001b[0;32mif\u001b[0m \u001b[0mself\u001b[0m\u001b[0;34m.\u001b[0m\u001b[0mcolumns\u001b[0m\u001b[0;34m.\u001b[0m\u001b[0mnlevels\u001b[0m \u001b[0;34m>\u001b[0m \u001b[0;36m1\u001b[0m\u001b[0;34m:\u001b[0m\u001b[0;34m\u001b[0m\u001b[0;34m\u001b[0m\u001b[0m\n\u001b[1;32m   2905\u001b[0m                 \u001b[0;32mreturn\u001b[0m \u001b[0mself\u001b[0m\u001b[0;34m.\u001b[0m\u001b[0m_getitem_multilevel\u001b[0m\u001b[0;34m(\u001b[0m\u001b[0mkey\u001b[0m\u001b[0;34m)\u001b[0m\u001b[0;34m\u001b[0m\u001b[0;34m\u001b[0m\u001b[0m\n\u001b[0;32m-> 2906\u001b[0;31m             \u001b[0mindexer\u001b[0m \u001b[0;34m=\u001b[0m \u001b[0mself\u001b[0m\u001b[0;34m.\u001b[0m\u001b[0mcolumns\u001b[0m\u001b[0;34m.\u001b[0m\u001b[0mget_loc\u001b[0m\u001b[0;34m(\u001b[0m\u001b[0mkey\u001b[0m\u001b[0;34m)\u001b[0m\u001b[0;34m\u001b[0m\u001b[0;34m\u001b[0m\u001b[0m\n\u001b[0m\u001b[1;32m   2907\u001b[0m             \u001b[0;32mif\u001b[0m \u001b[0mis_integer\u001b[0m\u001b[0;34m(\u001b[0m\u001b[0mindexer\u001b[0m\u001b[0;34m)\u001b[0m\u001b[0;34m:\u001b[0m\u001b[0;34m\u001b[0m\u001b[0;34m\u001b[0m\u001b[0m\n\u001b[1;32m   2908\u001b[0m                 \u001b[0mindexer\u001b[0m \u001b[0;34m=\u001b[0m \u001b[0;34m[\u001b[0m\u001b[0mindexer\u001b[0m\u001b[0;34m]\u001b[0m\u001b[0;34m\u001b[0m\u001b[0;34m\u001b[0m\u001b[0m\n",
            "\u001b[0;32m/usr/local/lib/python3.7/dist-packages/pandas/core/indexes/base.py\u001b[0m in \u001b[0;36mget_loc\u001b[0;34m(self, key, method, tolerance)\u001b[0m\n\u001b[1;32m   2898\u001b[0m                 \u001b[0;32mreturn\u001b[0m \u001b[0mself\u001b[0m\u001b[0;34m.\u001b[0m\u001b[0m_engine\u001b[0m\u001b[0;34m.\u001b[0m\u001b[0mget_loc\u001b[0m\u001b[0;34m(\u001b[0m\u001b[0mcasted_key\u001b[0m\u001b[0;34m)\u001b[0m\u001b[0;34m\u001b[0m\u001b[0;34m\u001b[0m\u001b[0m\n\u001b[1;32m   2899\u001b[0m             \u001b[0;32mexcept\u001b[0m \u001b[0mKeyError\u001b[0m \u001b[0;32mas\u001b[0m \u001b[0merr\u001b[0m\u001b[0;34m:\u001b[0m\u001b[0;34m\u001b[0m\u001b[0;34m\u001b[0m\u001b[0m\n\u001b[0;32m-> 2900\u001b[0;31m                 \u001b[0;32mraise\u001b[0m \u001b[0mKeyError\u001b[0m\u001b[0;34m(\u001b[0m\u001b[0mkey\u001b[0m\u001b[0;34m)\u001b[0m \u001b[0;32mfrom\u001b[0m \u001b[0merr\u001b[0m\u001b[0;34m\u001b[0m\u001b[0;34m\u001b[0m\u001b[0m\n\u001b[0m\u001b[1;32m   2901\u001b[0m \u001b[0;34m\u001b[0m\u001b[0m\n\u001b[1;32m   2902\u001b[0m         \u001b[0;32mif\u001b[0m \u001b[0mtolerance\u001b[0m \u001b[0;32mis\u001b[0m \u001b[0;32mnot\u001b[0m \u001b[0;32mNone\u001b[0m\u001b[0;34m:\u001b[0m\u001b[0;34m\u001b[0m\u001b[0;34m\u001b[0m\u001b[0m\n",
            "\u001b[0;31mKeyError\u001b[0m: 'Japan'"
          ]
        }
      ]
    },
    {
      "cell_type": "code",
      "metadata": {
        "id": "iwEFmI-d_HiF"
      },
      "source": [
        "# Importar bibliotecas necessárias para visualização dos dados\n",
        "import matplotlib.pyplot as plt\n",
        "import seaborn as sns"
      ],
      "execution_count": 53,
      "outputs": []
    },
    {
      "cell_type": "code",
      "metadata": {
        "id": "keyyCqmLIsyD"
      },
      "source": [
        ""
      ],
      "execution_count": null,
      "outputs": []
    },
    {
      "cell_type": "code",
      "metadata": {
        "colab": {
          "base_uri": "https://localhost:8080/",
          "height": 535
        },
        "id": "-C7kIN09_yOm",
        "outputId": "7ce788d3-4383-4789-eb9d-d3534056873a"
      },
      "source": [
        "#exibição de um gráfico de correlação entre variáveis\n",
        "\n",
        "plt.figure (figsize = (6,5)) \n",
        "cor = df_saudeM2016.corr () \n",
        "sns.heatmap (cor, annot = True, cmap = plt.cm.Reds) \n",
        "plt.show ()"
      ],
      "execution_count": 66,
      "outputs": [
        {
          "output_type": "display_data",
          "data": {
            "image/png": "[encoded data removed]",
            "text/plain": [
              "<Figure size 432x360 with 2 Axes>"
            ]
          },
          "metadata": {
            "tags": [],
            "needs_background": "light"
          }
        }
      ]
    },
    {
      "cell_type": "markdown",
      "metadata": {
        "id": "wlzF13LsDoaP"
      },
      "source": [
        "// fazer breve análise acerca dos níveis de correlação observados"
      ]
    },
    {
      "cell_type": "code",
      "metadata": {
        "colab": {
          "base_uri": "https://localhost:8080/"
        },
        "id": "WrASJRoKE22j",
        "outputId": "e07997d2-7064-420e-8973-b9bbecfa475c"
      },
      "source": [
        "# Exibindo a correlação das demais variáveis com a quantidade (taxa) de hospitais de saúde mental \n",
        "corr_taxaHospSM = cor['Taxa de hospitais psiquiátricos']\n",
        "print(corr_taxaHospSM)"
      ],
      "execution_count": 68,
      "outputs": [
        {
          "output_type": "stream",
          "text": [
            "Taxa de hospitais psiquiátricos                1.000000\n",
            "Taxa de unidades psiquiátricas em hospitais    0.273249\n",
            "Taxa de ambulatórios psiquiátricos             0.274971\n",
            "Taxa de tratamentos psiquiátricos diários      0.117629\n",
            "Taxa de instalações comunitárias              -0.084582\n",
            "Name: Taxa de hospitais psiquiátricos, dtype: float64\n"
          ],
          "name": "stdout"
        }
      ]
    },
    {
      "cell_type": "code",
      "metadata": {
        "colab": {
          "base_uri": "https://localhost:8080/"
        },
        "id": "b-uICcUBE3YD",
        "outputId": "d53d2a68-b85f-4734-a4c6-af9434f7db58"
      },
      "source": [
        "# Seleção das características altamente correlacionadas, com nível de correlação maior que 0,5\n",
        "alta_corr = corr_taxaHospSM[(abs(corr_taxaHospSM) > 0.5)] \n",
        "print(alta_corr)\n"
      ],
      "execution_count": 70,
      "outputs": [
        {
          "output_type": "stream",
          "text": [
            "Taxa de hospitais psiquiátricos    1.0\n",
            "Name: Taxa de hospitais psiquiátricos, dtype: float64\n"
          ],
          "name": "stdout"
        }
      ]
    },
    {
      "cell_type": "markdown",
      "metadata": {
        "id": "IMt35OiQH2pl"
      },
      "source": [
        "--> Ou seja, pelo resultado observado, não houve nenhuma outra variável altamente correlacionada com a taxa de quantiadade de hospitais de saúde mental"
      ]
    },
    {
      "cell_type": "code",
      "metadata": {
        "id": "_9kGS_opIML5"
      },
      "source": [
        "#quantidades de valores de algumas colunas\n",
        "df_cwb['Sexo'].value_counts()"
      ],
      "execution_count": null,
      "outputs": []
    }
  ]
}